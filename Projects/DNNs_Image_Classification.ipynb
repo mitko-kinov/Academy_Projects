{
 "cells": [
  {
   "cell_type": "markdown",
   "metadata": {
    "id": "2L01Vq-imdJ4"
   },
   "source": [
    "# Tuning DNNs (image classification example)"
   ]
  },
  {
   "cell_type": "markdown",
   "metadata": {
    "id": "E3L_oWQUmley"
   },
   "source": [
    "## Libraries"
   ]
  },
  {
   "cell_type": "markdown",
   "metadata": {
    "id": "Hdrh63ZvTxlb"
   },
   "source": [
    "### Import all libraries here:"
   ]
  },
  {
   "cell_type": "code",
   "execution_count": 1,
   "metadata": {
    "executionInfo": {
     "elapsed": 2907,
     "status": "ok",
     "timestamp": 1613732301934,
     "user": {
      "displayName": "Mitko Kinov",
      "photoUrl": "https://lh3.googleusercontent.com/a-/AOh14GiYmVyCY-PFJKi45xg27D3IlWDsvA8ClOubUfca=s64",
      "userId": "08333186424171762674"
     },
     "user_tz": -60
    },
    "id": "HW-u4kWpeVQu"
   },
   "outputs": [],
   "source": [
    "# Initializing libraries:\n",
    "\n",
    "import numpy as np\n",
    "import pandas as pd\n",
    "import matplotlib.pyplot as plt\n",
    "from sklearn.metrics import confusion_matrix\n",
    "from sklearn.metrics import classification_report\n",
    "from keras.models import Sequential\n",
    "from keras.layers import Dense, Activation, Input, Dropout, BatchNormalization\n",
    "from keras.models import Model\n",
    "from keras.callbacks import ModelCheckpoint, EarlyStopping\n",
    "from keras import backend as K"
   ]
  },
  {
   "cell_type": "markdown",
   "metadata": {
    "id": "lG2XN4Kqmnuq"
   },
   "source": [
    "## Data"
   ]
  },
  {
   "cell_type": "markdown",
   "metadata": {
    "id": "Vf3DoOrET5gM"
   },
   "source": [
    "### Load the dataset:\n",
    "Use:\n",
    "\n",
    "1. from keras.datasets import fashion_mnist\n",
    "2. (X_train, y_train), (X_test, y_test) = fashion_mnist.load_data()\n",
    "2. label_names = ['T-shirt/top','Trouser','Pullover' 'Dress','Coat','Sandal','Shirt','Sneaker' ,'Bag','Ankle boot']"
   ]
  },
  {
   "cell_type": "code",
   "execution_count": 2,
   "metadata": {
    "executionInfo": {
     "elapsed": 3314,
     "status": "ok",
     "timestamp": 1613732302376,
     "user": {
      "displayName": "Mitko Kinov",
      "photoUrl": "https://lh3.googleusercontent.com/a-/AOh14GiYmVyCY-PFJKi45xg27D3IlWDsvA8ClOubUfca=s64",
      "userId": "08333186424171762674"
     },
     "user_tz": -60
    },
    "id": "oIhBxZ0bC2RJ"
   },
   "outputs": [],
   "source": [
    "# Loading keras dataset fashion_mnist:\n",
    "\n",
    "from keras.datasets import fashion_mnist\n",
    "(X_train, y_train), (X_test, y_test) = fashion_mnist.load_data()\n",
    "label_names = ['T-shirt/top', 'Trouser', 'Pullover', 'Dress', 'Coat', 'Sandal', 'Shirt', 'Sneaker', 'Bag', 'Ankle boot']"
   ]
  },
  {
   "cell_type": "code",
   "execution_count": 3,
   "metadata": {
    "colab": {
     "base_uri": "https://localhost:8080/"
    },
    "executionInfo": {
     "elapsed": 3301,
     "status": "ok",
     "timestamp": 1613732302382,
     "user": {
      "displayName": "Mitko Kinov",
      "photoUrl": "https://lh3.googleusercontent.com/a-/AOh14GiYmVyCY-PFJKi45xg27D3IlWDsvA8ClOubUfca=s64",
      "userId": "08333186424171762674"
     },
     "user_tz": -60
    },
    "id": "Y3ZHgU04n2DZ",
    "outputId": "6495aafa-69f0-41ec-a71b-c93d350139c8"
   },
   "outputs": [
    {
     "data": {
      "text/plain": [
       "array(['T-shirt/top', 'Trouser', 'Pullover', 'Dress', 'Coat', 'Sandal',\n",
       "       'Shirt', 'Sneaker', 'Bag', 'Ankle boot'], dtype='<U11')"
      ]
     },
     "execution_count": 3,
     "metadata": {
      "tags": []
     },
     "output_type": "execute_result"
    }
   ],
   "source": [
    "# Check the labels:\n",
    "label_names =  np.array(['T-shirt/top', 'Trouser', 'Pullover', 'Dress', 'Coat', 'Sandal', 'Shirt', 'Sneaker', 'Bag', 'Ankle boot'])\n",
    "\n",
    "label_names"
   ]
  },
  {
   "cell_type": "code",
   "execution_count": 4,
   "metadata": {
    "colab": {
     "base_uri": "https://localhost:8080/",
     "height": 35
    },
    "executionInfo": {
     "elapsed": 3280,
     "status": "ok",
     "timestamp": 1613732302390,
     "user": {
      "displayName": "Mitko Kinov",
      "photoUrl": "https://lh3.googleusercontent.com/a-/AOh14GiYmVyCY-PFJKi45xg27D3IlWDsvA8ClOubUfca=s64",
      "userId": "08333186424171762674"
     },
     "user_tz": -60
    },
    "id": "3Nb5DaykoBs9",
    "outputId": "c30504cb-d700-4df3-c03a-3ce07a352d2f"
   },
   "outputs": [
    {
     "data": {
      "application/vnd.google.colaboratory.intrinsic+json": {
       "type": "string"
      },
      "text/plain": [
       "'Trouser'"
      ]
     },
     "execution_count": 4,
     "metadata": {
      "tags": []
     },
     "output_type": "execute_result"
    }
   ],
   "source": [
    "# Matching the labels:\n",
    "\n",
    "label_names[y_test[15]]"
   ]
  },
  {
   "cell_type": "code",
   "execution_count": 5,
   "metadata": {
    "colab": {
     "base_uri": "https://localhost:8080/"
    },
    "executionInfo": {
     "elapsed": 3693,
     "status": "ok",
     "timestamp": 1613732302825,
     "user": {
      "displayName": "Mitko Kinov",
      "photoUrl": "https://lh3.googleusercontent.com/a-/AOh14GiYmVyCY-PFJKi45xg27D3IlWDsvA8ClOubUfca=s64",
      "userId": "08333186424171762674"
     },
     "user_tz": -60
    },
    "id": "Pd0s2FyDoLxo",
    "outputId": "893da7a9-8e39-49f0-a849-2d5c31515711"
   },
   "outputs": [
    {
     "data": {
      "text/plain": [
       "array(['Ankle boot', 'Pullover', 'Trouser', ..., 'Bag', 'Trouser',\n",
       "       'Sandal'], dtype='<U11')"
      ]
     },
     "execution_count": 5,
     "metadata": {
      "tags": []
     },
     "output_type": "execute_result"
    }
   ],
   "source": [
    "# Check the complete labels on y_test:\n",
    "\n",
    "label_names[y_test]"
   ]
  },
  {
   "cell_type": "code",
   "execution_count": 6,
   "metadata": {
    "colab": {
     "base_uri": "https://localhost:8080/"
    },
    "executionInfo": {
     "elapsed": 3680,
     "status": "ok",
     "timestamp": 1613732302831,
     "user": {
      "displayName": "Mitko Kinov",
      "photoUrl": "https://lh3.googleusercontent.com/a-/AOh14GiYmVyCY-PFJKi45xg27D3IlWDsvA8ClOubUfca=s64",
      "userId": "08333186424171762674"
     },
     "user_tz": -60
    },
    "id": "4gnVMdVbpG29",
    "outputId": "a8938c9d-a647-4328-8a52-e7170c762abd"
   },
   "outputs": [
    {
     "name": "stdout",
     "output_type": "stream",
     "text": [
      "train T-shirt/top (6000,)\n",
      "test T-shirt/top (1000,)\n",
      "\n",
      "train Trouser (6000,)\n",
      "test Trouser (1000,)\n",
      "\n",
      "train Pullover (6000,)\n",
      "test Pullover (1000,)\n",
      "\n",
      "train Dress (6000,)\n",
      "test Dress (1000,)\n",
      "\n",
      "train Coat (6000,)\n",
      "test Coat (1000,)\n",
      "\n",
      "train Sandal (6000,)\n",
      "test Sandal (1000,)\n",
      "\n",
      "train Shirt (6000,)\n",
      "test Shirt (1000,)\n",
      "\n",
      "train Sneaker (6000,)\n",
      "test Sneaker (1000,)\n",
      "\n",
      "train Bag (6000,)\n",
      "test Bag (1000,)\n",
      "\n",
      "train Ankle boot (6000,)\n",
      "test Ankle boot (1000,)\n",
      "\n"
     ]
    }
   ],
   "source": [
    "# Check the ratio between train and test labels:\n",
    "\n",
    "y_test_names = label_names[y_test]\n",
    "y_train_names = label_names[y_train]\n",
    "\n",
    "for name in label_names:\n",
    "  print('train',name,y_train_names[y_train_names==name].shape)\n",
    "  print('test',name,y_test_names[y_test_names==name].shape)\n",
    "  print()"
   ]
  },
  {
   "cell_type": "markdown",
   "metadata": {
    "id": "fH120Xe5UQ2S"
   },
   "source": [
    "### Check the dataset:"
   ]
  },
  {
   "cell_type": "code",
   "execution_count": 7,
   "metadata": {
    "colab": {
     "base_uri": "https://localhost:8080/"
    },
    "executionInfo": {
     "elapsed": 3658,
     "status": "ok",
     "timestamp": 1613732302833,
     "user": {
      "displayName": "Mitko Kinov",
      "photoUrl": "https://lh3.googleusercontent.com/a-/AOh14GiYmVyCY-PFJKi45xg27D3IlWDsvA8ClOubUfca=s64",
      "userId": "08333186424171762674"
     },
     "user_tz": -60
    },
    "id": "C3J7ycK7F2uL",
    "outputId": "47154c58-c7f8-4066-acad-37a92ca380a6"
   },
   "outputs": [
    {
     "data": {
      "text/plain": [
       "((60000, 28, 28), (10000, 28, 28))"
      ]
     },
     "execution_count": 7,
     "metadata": {
      "tags": []
     },
     "output_type": "execute_result"
    }
   ],
   "source": [
    "# Print the shape of the train and test:\n",
    "\n",
    "X_train.shape, X_test.shape"
   ]
  },
  {
   "cell_type": "code",
   "execution_count": 8,
   "metadata": {
    "colab": {
     "base_uri": "https://localhost:8080/",
     "height": 282
    },
    "executionInfo": {
     "elapsed": 3643,
     "status": "ok",
     "timestamp": 1613732302840,
     "user": {
      "displayName": "Mitko Kinov",
      "photoUrl": "https://lh3.googleusercontent.com/a-/AOh14GiYmVyCY-PFJKi45xg27D3IlWDsvA8ClOubUfca=s64",
      "userId": "08333186424171762674"
     },
     "user_tz": -60
    },
    "id": "exvF17IcheyG",
    "outputId": "22d777e2-14dc-4a7b-d3ad-643059c00ec7"
   },
   "outputs": [
    {
     "data": {
      "text/plain": [
       "<matplotlib.image.AxesImage at 0x7f3e1204d7b8>"
      ]
     },
     "execution_count": 8,
     "metadata": {
      "tags": []
     },
     "output_type": "execute_result"
    },
    {
     "data": {
      "image/png": "[encoded data removed]",
      "text/plain": [
       "<Figure size 432x288 with 1 Axes>"
      ]
     },
     "metadata": {
      "needs_background": "light",
      "tags": []
     },
     "output_type": "display_data"
    }
   ],
   "source": [
    "# Plot one image:\n",
    "\n",
    "plt.imshow(X_train[10])"
   ]
  },
  {
   "cell_type": "markdown",
   "metadata": {
    "id": "hPf-QIhtUZxl"
   },
   "source": [
    "### Reshape the dataset:"
   ]
  },
  {
   "cell_type": "code",
   "execution_count": 9,
   "metadata": {
    "colab": {
     "base_uri": "https://localhost:8080/"
    },
    "executionInfo": {
     "elapsed": 3628,
     "status": "ok",
     "timestamp": 1613732302843,
     "user": {
      "displayName": "Mitko Kinov",
      "photoUrl": "https://lh3.googleusercontent.com/a-/AOh14GiYmVyCY-PFJKi45xg27D3IlWDsvA8ClOubUfca=s64",
      "userId": "08333186424171762674"
     },
     "user_tz": -60
    },
    "id": "LwZbNqjBIs-X",
    "outputId": "32a6206c-8654-41b6-d8cf-21e5f704674c"
   },
   "outputs": [
    {
     "data": {
      "text/plain": [
       "(60000, 28, 28)"
      ]
     },
     "execution_count": 9,
     "metadata": {
      "tags": []
     },
     "output_type": "execute_result"
    }
   ],
   "source": [
    "# Reshape the dataset to a one dimensional representation:\n",
    "\n",
    "n_instances = X_train.shape[0]\n",
    "n_row = X_train.shape[1]\n",
    "n_col = X_train.shape[2]\n",
    "\n",
    "n_instances, n_row, n_col\n"
   ]
  },
  {
   "cell_type": "code",
   "execution_count": 10,
   "metadata": {
    "executionInfo": {
     "elapsed": 3617,
     "status": "ok",
     "timestamp": 1613732302846,
     "user": {
      "displayName": "Mitko Kinov",
      "photoUrl": "https://lh3.googleusercontent.com/a-/AOh14GiYmVyCY-PFJKi45xg27D3IlWDsvA8ClOubUfca=s64",
      "userId": "08333186424171762674"
     },
     "user_tz": -60
    },
    "id": "m8pfJj0nhWqd"
   },
   "outputs": [],
   "source": [
    "# Reshape the dataset:\n",
    "\n",
    "X_train = X_train.reshape(n_instances, -1)\n",
    "n_instances = X_test.shape[0]\n",
    "X_test = X_test.reshape(n_instances, -1)"
   ]
  },
  {
   "cell_type": "code",
   "execution_count": 11,
   "metadata": {
    "colab": {
     "base_uri": "https://localhost:8080/"
    },
    "executionInfo": {
     "elapsed": 3605,
     "status": "ok",
     "timestamp": 1613732302848,
     "user": {
      "displayName": "Mitko Kinov",
      "photoUrl": "https://lh3.googleusercontent.com/a-/AOh14GiYmVyCY-PFJKi45xg27D3IlWDsvA8ClOubUfca=s64",
      "userId": "08333186424171762674"
     },
     "user_tz": -60
    },
    "id": "pxpai4nVis3Y",
    "outputId": "8ae2963f-09e2-49a6-e465-8752da9119df"
   },
   "outputs": [
    {
     "data": {
      "text/plain": [
       "((60000, 784), (10000, 784), (60000,), (10000,))"
      ]
     },
     "execution_count": 11,
     "metadata": {
      "tags": []
     },
     "output_type": "execute_result"
    }
   ],
   "source": [
    "# Print the new shape:\n",
    "\n",
    "X_train.shape, X_test.shape, y_train.shape, y_test.shape"
   ]
  },
  {
   "cell_type": "code",
   "execution_count": 12,
   "metadata": {
    "colab": {
     "base_uri": "https://localhost:8080/",
     "height": 282
    },
    "executionInfo": {
     "elapsed": 4236,
     "status": "ok",
     "timestamp": 1613732303501,
     "user": {
      "displayName": "Mitko Kinov",
      "photoUrl": "https://lh3.googleusercontent.com/a-/AOh14GiYmVyCY-PFJKi45xg27D3IlWDsvA8ClOubUfca=s64",
      "userId": "08333186424171762674"
     },
     "user_tz": -60
    },
    "id": "rVHccWjJdviD",
    "outputId": "573a355e-1912-41d7-ea26-124620e99706"
   },
   "outputs": [
    {
     "data": {
      "text/plain": [
       "[<matplotlib.lines.Line2D at 0x7f3e4413d128>]"
      ]
     },
     "execution_count": 12,
     "metadata": {
      "tags": []
     },
     "output_type": "execute_result"
    },
    {
     "data": {
      "image/png": "[encoded data removed]",
      "text/plain": [
       "<Figure size 432x288 with 1 Axes>"
      ]
     },
     "metadata": {
      "needs_background": "light",
      "tags": []
     },
     "output_type": "display_data"
    }
   ],
   "source": [
    "# Plot one instance of the 1-D representation:\n",
    "\n",
    "plt.plot(X_train[10])"
   ]
  },
  {
   "cell_type": "markdown",
   "metadata": {
    "id": "6rZAPEFSUjSO"
   },
   "source": [
    "### Plot histograms of the train and test labels:"
   ]
  },
  {
   "cell_type": "code",
   "execution_count": 13,
   "metadata": {
    "colab": {
     "base_uri": "https://localhost:8080/",
     "height": 337
    },
    "executionInfo": {
     "elapsed": 4217,
     "status": "ok",
     "timestamp": 1613732303504,
     "user": {
      "displayName": "Mitko Kinov",
      "photoUrl": "https://lh3.googleusercontent.com/a-/AOh14GiYmVyCY-PFJKi45xg27D3IlWDsvA8ClOubUfca=s64",
      "userId": "08333186424171762674"
     },
     "user_tz": -60
    },
    "id": "N0ivBbDnmSbZ",
    "outputId": "d8f294e1-f6a1-40aa-c0b9-207c5ead3086"
   },
   "outputs": [
    {
     "data": {
      "text/plain": [
       "<function matplotlib.pyplot.show>"
      ]
     },
     "execution_count": 13,
     "metadata": {
      "tags": []
     },
     "output_type": "execute_result"
    },
    {
     "data": {
      "image/png": "[encoded data removed]",
      "text/plain": [
       "<Figure size 720x360 with 1 Axes>"
      ]
     },
     "metadata": {
      "needs_background": "light",
      "tags": []
     },
     "output_type": "display_data"
    }
   ],
   "source": [
    "# Histogram representation of y_train:\n",
    "\n",
    "fig = plt.figure(figsize = (10, 5))\n",
    "plt.hist(y_train_names, bins = 20)\n",
    "plt.show"
   ]
  },
  {
   "cell_type": "code",
   "execution_count": 14,
   "metadata": {
    "colab": {
     "base_uri": "https://localhost:8080/",
     "height": 337
    },
    "executionInfo": {
     "elapsed": 4524,
     "status": "ok",
     "timestamp": 1613732303837,
     "user": {
      "displayName": "Mitko Kinov",
      "photoUrl": "https://lh3.googleusercontent.com/a-/AOh14GiYmVyCY-PFJKi45xg27D3IlWDsvA8ClOubUfca=s64",
      "userId": "08333186424171762674"
     },
     "user_tz": -60
    },
    "id": "NgXDez2anWUK",
    "outputId": "869c6cb0-1bbc-4eea-9f6e-e3c9bb6939e8"
   },
   "outputs": [
    {
     "data": {
      "text/plain": [
       "<function matplotlib.pyplot.show>"
      ]
     },
     "execution_count": 14,
     "metadata": {
      "tags": []
     },
     "output_type": "execute_result"
    },
    {
     "data": {
      "image/png": "[encoded data removed]",
      "text/plain": [
       "<Figure size 720x360 with 1 Axes>"
      ]
     },
     "metadata": {
      "needs_background": "light",
      "tags": []
     },
     "output_type": "display_data"
    }
   ],
   "source": [
    "# Histogram representation of y_test:\n",
    "\n",
    "fig = plt.figure(figsize = (10, 5))\n",
    "plt.hist(y_test_names, bins = 20)\n",
    "plt.show"
   ]
  },
  {
   "cell_type": "markdown",
   "metadata": {
    "id": "Dn-m5LZLUti8"
   },
   "source": [
    "### Perform min-max scaling on the data:"
   ]
  },
  {
   "cell_type": "code",
   "execution_count": 15,
   "metadata": {
    "colab": {
     "base_uri": "https://localhost:8080/"
    },
    "executionInfo": {
     "elapsed": 4509,
     "status": "ok",
     "timestamp": 1613732303839,
     "user": {
      "displayName": "Mitko Kinov",
      "photoUrl": "https://lh3.googleusercontent.com/a-/AOh14GiYmVyCY-PFJKi45xg27D3IlWDsvA8ClOubUfca=s64",
      "userId": "08333186424171762674"
     },
     "user_tz": -60
    },
    "id": "K6qDK26WARPR",
    "outputId": "18992566-4173-4e1d-c44c-69eab874d873"
   },
   "outputs": [
    {
     "name": "stdout",
     "output_type": "stream",
     "text": [
      "0 255\n",
      "after scaling\n",
      "0.0 1.0\n"
     ]
    }
   ],
   "source": [
    "# Perform min max scaling on the data:\n",
    "\n",
    "# Min-max scaling:\n",
    "data_min = X_train.min()\n",
    "data_max = X_train.max()\n",
    "print(data_min,data_max)\n",
    "X_train = (X_train - data_min)/(data_max-data_min)\n",
    "X_test = (X_test - data_min)/(data_max-data_min)\n",
    "print('after scaling')\n",
    "data_min = X_train.min()\n",
    "data_max = X_train.max()\n",
    "print(data_min,data_max)\n"
   ]
  },
  {
   "cell_type": "markdown",
   "metadata": {
    "id": "AXOSSpcTmrnH"
   },
   "source": [
    "## Baseline models"
   ]
  },
  {
   "cell_type": "markdown",
   "metadata": {
    "id": "iQag4F5rU4wq"
   },
   "source": [
    "### Create 2 baselines models (LogisticRegression and RandomForestClassifier):\n"
   ]
  },
  {
   "cell_type": "code",
   "execution_count": 16,
   "metadata": {
    "executionInfo": {
     "elapsed": 4495,
     "status": "ok",
     "timestamp": 1613732303841,
     "user": {
      "displayName": "Mitko Kinov",
      "photoUrl": "https://lh3.googleusercontent.com/a-/AOh14GiYmVyCY-PFJKi45xg27D3IlWDsvA8ClOubUfca=s64",
      "userId": "08333186424171762674"
     },
     "user_tz": -60
    },
    "id": "bHOTR9l5M-XI"
   },
   "outputs": [],
   "source": [
    "# Create 2 baselines models (LogisticRegression and RandomForestClassifier)\n",
    "\n",
    "from sklearn.linear_model import LogisticRegression\n",
    "from sklearn.ensemble import RandomForestClassifier\n",
    "\n",
    "# Creating Logistic Regression model:\n",
    "log_reg = LogisticRegression(random_state=42)\n",
    "\n",
    "# Creating Random Forest model:\n",
    "rf = RandomForestClassifier(n_jobs = -1)"
   ]
  },
  {
   "cell_type": "markdown",
   "metadata": {
    "id": "3LEDaLUXU9LQ"
   },
   "source": [
    "### Train the baseline models:"
   ]
  },
  {
   "cell_type": "code",
   "execution_count": 17,
   "metadata": {
    "colab": {
     "base_uri": "https://localhost:8080/"
    },
    "executionInfo": {
     "elapsed": 103791,
     "status": "ok",
     "timestamp": 1613732403152,
     "user": {
      "displayName": "Mitko Kinov",
      "photoUrl": "https://lh3.googleusercontent.com/a-/AOh14GiYmVyCY-PFJKi45xg27D3IlWDsvA8ClOubUfca=s64",
      "userId": "08333186424171762674"
     },
     "user_tz": -60
    },
    "id": "xcZ1gU-bwEuL",
    "outputId": "e1939f4b-a21a-4eeb-f9a2-c9947ba118ea"
   },
   "outputs": [
    {
     "name": "stdout",
     "output_type": "stream",
     "text": [
      "Training LogReg\n"
     ]
    },
    {
     "name": "stderr",
     "output_type": "stream",
     "text": [
      "/usr/local/lib/python3.6/dist-packages/sklearn/linear_model/_logistic.py:940: ConvergenceWarning: lbfgs failed to converge (status=1):\n",
      "STOP: TOTAL NO. of ITERATIONS REACHED LIMIT.\n",
      "\n",
      "Increase the number of iterations (max_iter) or scale the data as shown in:\n",
      "    https://scikit-learn.org/stable/modules/preprocessing.html\n",
      "Please also refer to the documentation for alternative solver options:\n",
      "    https://scikit-learn.org/stable/modules/linear_model.html#logistic-regression\n",
      "  extra_warning_msg=_LOGISTIC_SOLVER_CONVERGENCE_MSG)\n"
     ]
    },
    {
     "name": "stdout",
     "output_type": "stream",
     "text": [
      "Training RF\n"
     ]
    },
    {
     "data": {
      "text/plain": [
       "RandomForestClassifier(bootstrap=True, ccp_alpha=0.0, class_weight=None,\n",
       "                       criterion='gini', max_depth=None, max_features='auto',\n",
       "                       max_leaf_nodes=None, max_samples=None,\n",
       "                       min_impurity_decrease=0.0, min_impurity_split=None,\n",
       "                       min_samples_leaf=1, min_samples_split=2,\n",
       "                       min_weight_fraction_leaf=0.0, n_estimators=100,\n",
       "                       n_jobs=-1, oob_score=False, random_state=None, verbose=0,\n",
       "                       warm_start=False)"
      ]
     },
     "execution_count": 17,
     "metadata": {
      "tags": []
     },
     "output_type": "execute_result"
    }
   ],
   "source": [
    "# Training the two baseline models:\n",
    "\n",
    "# Training Logistic Regression model:\n",
    "print(\"Training LogReg\")\n",
    "log_reg.fit(X_train,y_train)\n",
    "\n",
    "# Training Random Forest model:\n",
    "print(\"Training RF\")\n",
    "rf.fit(X_train,y_train)"
   ]
  },
  {
   "cell_type": "markdown",
   "metadata": {
    "id": "KZP3QK5pVFpj"
   },
   "source": [
    "### Apply the baseline models on the test data:"
   ]
  },
  {
   "cell_type": "code",
   "execution_count": 18,
   "metadata": {
    "executionInfo": {
     "elapsed": 104065,
     "status": "ok",
     "timestamp": 1613732403443,
     "user": {
      "displayName": "Mitko Kinov",
      "photoUrl": "https://lh3.googleusercontent.com/a-/AOh14GiYmVyCY-PFJKi45xg27D3IlWDsvA8ClOubUfca=s64",
      "userId": "08333186424171762674"
     },
     "user_tz": -60
    },
    "id": "wQxjzsLBqean"
   },
   "outputs": [],
   "source": [
    "# Making prediction with the test set:\n",
    "\n",
    "# Predicting Logistic Regression model:\n",
    "pred_lr = log_reg.predict(X_test)\n",
    "\n",
    "# Predicting Random Forest model:\n",
    "pred_rf = rf.predict(X_test)"
   ]
  },
  {
   "cell_type": "markdown",
   "metadata": {
    "id": "LPgalexCVNUQ"
   },
   "source": [
    "### For each baseline model print a confusion matrix and a classification report:"
   ]
  },
  {
   "cell_type": "code",
   "execution_count": 19,
   "metadata": {
    "executionInfo": {
     "elapsed": 104059,
     "status": "ok",
     "timestamp": 1613732403445,
     "user": {
      "displayName": "Mitko Kinov",
      "photoUrl": "https://lh3.googleusercontent.com/a-/AOh14GiYmVyCY-PFJKi45xg27D3IlWDsvA8ClOubUfca=s64",
      "userId": "08333186424171762674"
     },
     "user_tz": -60
    },
    "id": "ZZMzqQkeY1Je"
   },
   "outputs": [],
   "source": [
    "# Defining function for Confusion Martix and Classification Report:\n",
    "\n",
    "def print_classification_report(true_y, pred_y, lab_names):\n",
    "  cm = confusion_matrix(true_y, pred_y)\n",
    "  print('Confusion matrix')\n",
    "  print(cm)\n",
    "  cr = classification_report(true_y, pred_y, target_names = lab_names)\n",
    "  print()\n",
    "  print(cr)"
   ]
  },
  {
   "cell_type": "code",
   "execution_count": 20,
   "metadata": {
    "colab": {
     "base_uri": "https://localhost:8080/"
    },
    "executionInfo": {
     "elapsed": 104389,
     "status": "ok",
     "timestamp": 1613732403791,
     "user": {
      "displayName": "Mitko Kinov",
      "photoUrl": "https://lh3.googleusercontent.com/a-/AOh14GiYmVyCY-PFJKi45xg27D3IlWDsvA8ClOubUfca=s64",
      "userId": "08333186424171762674"
     },
     "user_tz": -60
    },
    "id": "8RYuWvfkztAg",
    "outputId": "26a3378e-5271-4570-b3b2-80dbbdb3bdd2"
   },
   "outputs": [
    {
     "name": "stdout",
     "output_type": "stream",
     "text": [
      "=====Evaluation LogReg=====\n",
      "Confusion matrix\n",
      "[[807   4  17  48   5   2 108   0   9   0]\n",
      " [  2 961   1  25   5   0   4   0   2   0]\n",
      " [ 19   6 735  12 131   1  86   0  10   0]\n",
      " [ 30  12  12 869  29   0  44   0   4   0]\n",
      " [  0   2 108  38 756   1  87   0   8   0]\n",
      " [  0   0   0   1   0 925   0  51   3  20]\n",
      " [129   2 129  40 106   1 568   0  25   0]\n",
      " [  0   0   0   0   0  33   0 938   0  29]\n",
      " [  7   1   6  10   3   5  21   5 942   0]\n",
      " [  0   0   0   0   0  13   0  47   2 938]]\n",
      "\n",
      "              precision    recall  f1-score   support\n",
      "\n",
      " T-shirt/top       0.81      0.81      0.81      1000\n",
      "     Trouser       0.97      0.96      0.97      1000\n",
      "    Pullover       0.73      0.73      0.73      1000\n",
      "       Dress       0.83      0.87      0.85      1000\n",
      "        Coat       0.73      0.76      0.74      1000\n",
      "      Sandal       0.94      0.93      0.93      1000\n",
      "       Shirt       0.62      0.57      0.59      1000\n",
      "     Sneaker       0.90      0.94      0.92      1000\n",
      "         Bag       0.94      0.94      0.94      1000\n",
      "  Ankle boot       0.95      0.94      0.94      1000\n",
      "\n",
      "    accuracy                           0.84     10000\n",
      "   macro avg       0.84      0.84      0.84     10000\n",
      "weighted avg       0.84      0.84      0.84     10000\n",
      "\n"
     ]
    }
   ],
   "source": [
    "# Evaluating Logistic Regression model:\n",
    "\n",
    "print('=====Evaluation LogReg=====')\n",
    "print_classification_report(y_test, pred_lr, label_names)"
   ]
  },
  {
   "cell_type": "code",
   "execution_count": 21,
   "metadata": {
    "colab": {
     "base_uri": "https://localhost:8080/"
    },
    "executionInfo": {
     "elapsed": 104361,
     "status": "ok",
     "timestamp": 1613732403792,
     "user": {
      "displayName": "Mitko Kinov",
      "photoUrl": "https://lh3.googleusercontent.com/a-/AOh14GiYmVyCY-PFJKi45xg27D3IlWDsvA8ClOubUfca=s64",
      "userId": "08333186424171762674"
     },
     "user_tz": -60
    },
    "id": "87ORV0PJ0Ojd",
    "outputId": "75539ddc-928c-4a95-93b0-bf99018d5b1d"
   },
   "outputs": [
    {
     "name": "stdout",
     "output_type": "stream",
     "text": [
      "=====Evaluation RF=====\n",
      "Confusion matrix\n",
      "[[862   1   9  29   5   1  84   0   9   0]\n",
      " [  3 962   5  21   2   0   6   0   1   0]\n",
      " [ 14   0 815   9 104   0  54   0   4   0]\n",
      " [ 18   2  14 906  31   0  27   0   2   0]\n",
      " [  1   1  94  37 819   0  46   0   2   0]\n",
      " [  0   0   0   1   0 956   0  32   1  10]\n",
      " [153   1 122  31  90   0 586   0  17   0]\n",
      " [  0   0   0   0   0  10   0 953   0  37]\n",
      " [  0   2   4   2   6   1   5   5 975   0]\n",
      " [  0   0   0   0   0   7   0  46   3 944]]\n",
      "\n",
      "              precision    recall  f1-score   support\n",
      "\n",
      " T-shirt/top       0.82      0.86      0.84      1000\n",
      "     Trouser       0.99      0.96      0.98      1000\n",
      "    Pullover       0.77      0.81      0.79      1000\n",
      "       Dress       0.87      0.91      0.89      1000\n",
      "        Coat       0.77      0.82      0.80      1000\n",
      "      Sandal       0.98      0.96      0.97      1000\n",
      "       Shirt       0.73      0.59      0.65      1000\n",
      "     Sneaker       0.92      0.95      0.94      1000\n",
      "         Bag       0.96      0.97      0.97      1000\n",
      "  Ankle boot       0.95      0.94      0.95      1000\n",
      "\n",
      "    accuracy                           0.88     10000\n",
      "   macro avg       0.88      0.88      0.88     10000\n",
      "weighted avg       0.88      0.88      0.88     10000\n",
      "\n"
     ]
    }
   ],
   "source": [
    "# Evaluating Random Forest model:\n",
    "\n",
    "print('=====Evaluation RF=====')\n",
    "print_classification_report(y_test, pred_rf, label_names)"
   ]
  },
  {
   "cell_type": "markdown",
   "metadata": {
    "id": "Ryq9BXrym1P2"
   },
   "source": [
    "## DNN model"
   ]
  },
  {
   "cell_type": "markdown",
   "metadata": {
    "id": "NVGlZNNNVUl5"
   },
   "source": [
    "### Create a baseline-FC model with:\n",
    "1. three hidden layers (1024,512 and 256 neurons)\n",
    "2. loss - sparse_categorical_crossentropy\n",
    "3.  adam optimizer\n"
   ]
  },
  {
   "cell_type": "code",
   "execution_count": 22,
   "metadata": {
    "colab": {
     "base_uri": "https://localhost:8080/"
    },
    "executionInfo": {
     "elapsed": 104335,
     "status": "ok",
     "timestamp": 1613732403793,
     "user": {
      "displayName": "Mitko Kinov",
      "photoUrl": "https://lh3.googleusercontent.com/a-/AOh14GiYmVyCY-PFJKi45xg27D3IlWDsvA8ClOubUfca=s64",
      "userId": "08333186424171762674"
     },
     "user_tz": -60
    },
    "id": "T-kwUJ7BI2f-",
    "outputId": "b18fd9ae-1831-4bfb-fee9-8da8b1f67ba6"
   },
   "outputs": [
    {
     "name": "stdout",
     "output_type": "stream",
     "text": [
      "Model: \"model\"\n",
      "_________________________________________________________________\n",
      "Layer (type)                 Output Shape              Param #   \n",
      "=================================================================\n",
      "input_1 (InputLayer)         [(None, 784)]             0         \n",
      "_________________________________________________________________\n",
      "dense (Dense)                (None, 1024)              803840    \n",
      "_________________________________________________________________\n",
      "dense_1 (Dense)              (None, 512)               524800    \n",
      "_________________________________________________________________\n",
      "dense_2 (Dense)              (None, 256)               131328    \n",
      "_________________________________________________________________\n",
      "dense_3 (Dense)              (None, 10)                2570      \n",
      "=================================================================\n",
      "Total params: 1,462,538\n",
      "Trainable params: 1,462,538\n",
      "Non-trainable params: 0\n",
      "_________________________________________________________________\n"
     ]
    }
   ],
   "source": [
    "# Creating FC model object:\n",
    "\n",
    "def create_FC_model(input_shape, num_cells, output_shape):\n",
    "  \n",
    "  _input = Input(shape = input_shape)\n",
    "  \n",
    "  layer =  Dense(num_cells, activation = 'relu')(_input)\n",
    "  layer =  Dense(num_cells//2, activation = 'relu')(layer)\n",
    "  layer =  Dense(num_cells//4, activation = 'relu')(layer)\n",
    "  _output = Dense(output_shape, activation = 'sigmoid')(layer)\n",
    "\n",
    "  my_model = Model(inputs = [_input], outputs = [_output])\n",
    "  my_model.compile(loss = 'sparse_categorical_crossentropy', optimizer = 'adam', metrics = ['accuracy'])\n",
    "\n",
    "  return my_model\n",
    "\n",
    "input_shape  = (n_row*n_col)\n",
    "num_cells = 1024\n",
    "output_shape = len(np.unique(y_test))\n",
    "model = create_FC_model(input_shape, num_cells, output_shape)\n",
    "model.summary()"
   ]
  },
  {
   "cell_type": "markdown",
   "metadata": {
    "id": "rv_jQkDMVhxR"
   },
   "source": [
    "### Train the baseline-FC model:\n",
    "1. (epochs=50, batch_size=1000)\n",
    "2.  save the train history\n",
    "3. use ModelCheckpoint that monitors val_accuracy on X_test\n",
    "4. save the best model as best_model_base.pt\n",
    "5. use EarlyStopping with patience=10"
   ]
  },
  {
   "cell_type": "code",
   "execution_count": 23,
   "metadata": {
    "executionInfo": {
     "elapsed": 104326,
     "status": "ok",
     "timestamp": 1613732403794,
     "user": {
      "displayName": "Mitko Kinov",
      "photoUrl": "https://lh3.googleusercontent.com/a-/AOh14GiYmVyCY-PFJKi45xg27D3IlWDsvA8ClOubUfca=s64",
      "userId": "08333186424171762674"
     },
     "user_tz": -60
    },
    "id": "HWrTYa2nLmfW"
   },
   "outputs": [],
   "source": [
    "# Setting the model:\n",
    "\n",
    "path = 'best_model_base.pt'\n",
    "\n",
    "# ModelCheckpoint monitoring:\n",
    "callback_1 = ModelCheckpoint(path, monitor = 'val_accuracy', save_best_only = True, mode = 'max', verbose = 1)\n",
    "\n",
    "# Earlystopping monitoring:\n",
    "callback_2 = EarlyStopping(patience = 10)\n",
    "\n",
    "# Connecting both:\n",
    "callback_list = [callback_1, callback_2]\n"
   ]
  },
  {
   "cell_type": "code",
   "execution_count": 24,
   "metadata": {
    "colab": {
     "base_uri": "https://localhost:8080/"
    },
    "executionInfo": {
     "elapsed": 289373,
     "status": "ok",
     "timestamp": 1613732588852,
     "user": {
      "displayName": "Mitko Kinov",
      "photoUrl": "https://lh3.googleusercontent.com/a-/AOh14GiYmVyCY-PFJKi45xg27D3IlWDsvA8ClOubUfca=s64",
      "userId": "08333186424171762674"
     },
     "user_tz": -60
    },
    "id": "V6JZmvN84n-W",
    "outputId": "e09ba360-4194-4975-aacb-f6b6afa776a2"
   },
   "outputs": [
    {
     "name": "stdout",
     "output_type": "stream",
     "text": [
      "Epoch 1/50\n",
      "60/60 [==============================] - 9s 138ms/step - loss: 0.9480 - accuracy: 0.6647 - val_loss: 0.4572 - val_accuracy: 0.8348\n",
      "\n",
      "Epoch 00001: val_accuracy improved from -inf to 0.83480, saving model to best_model_base.pt\n",
      "INFO:tensorflow:Assets written to: best_model_base.pt/assets\n",
      "Epoch 2/50\n",
      "60/60 [==============================] - 8s 134ms/step - loss: 0.4068 - accuracy: 0.8550 - val_loss: 0.3909 - val_accuracy: 0.8596\n",
      "\n",
      "Epoch 00002: val_accuracy improved from 0.83480 to 0.85960, saving model to best_model_base.pt\n",
      "INFO:tensorflow:Assets written to: best_model_base.pt/assets\n",
      "Epoch 3/50\n",
      "60/60 [==============================] - 8s 135ms/step - loss: 0.3442 - accuracy: 0.8752 - val_loss: 0.3701 - val_accuracy: 0.8674\n",
      "\n",
      "Epoch 00003: val_accuracy improved from 0.85960 to 0.86740, saving model to best_model_base.pt\n",
      "INFO:tensorflow:Assets written to: best_model_base.pt/assets\n",
      "Epoch 4/50\n",
      "60/60 [==============================] - 8s 133ms/step - loss: 0.3065 - accuracy: 0.8862 - val_loss: 0.3618 - val_accuracy: 0.8698\n",
      "\n",
      "Epoch 00004: val_accuracy improved from 0.86740 to 0.86980, saving model to best_model_base.pt\n",
      "INFO:tensorflow:Assets written to: best_model_base.pt/assets\n",
      "Epoch 5/50\n",
      "60/60 [==============================] - 8s 133ms/step - loss: 0.2924 - accuracy: 0.8936 - val_loss: 0.3829 - val_accuracy: 0.8606\n",
      "\n",
      "Epoch 00005: val_accuracy did not improve from 0.86980\n",
      "Epoch 6/50\n",
      "60/60 [==============================] - 8s 134ms/step - loss: 0.2730 - accuracy: 0.8984 - val_loss: 0.3253 - val_accuracy: 0.8827\n",
      "\n",
      "Epoch 00006: val_accuracy improved from 0.86980 to 0.88270, saving model to best_model_base.pt\n",
      "INFO:tensorflow:Assets written to: best_model_base.pt/assets\n",
      "Epoch 7/50\n",
      "60/60 [==============================] - 8s 128ms/step - loss: 0.2466 - accuracy: 0.9085 - val_loss: 0.3381 - val_accuracy: 0.8813\n",
      "\n",
      "Epoch 00007: val_accuracy did not improve from 0.88270\n",
      "Epoch 8/50\n",
      "60/60 [==============================] - 8s 133ms/step - loss: 0.2386 - accuracy: 0.9105 - val_loss: 0.3244 - val_accuracy: 0.8848\n",
      "\n",
      "Epoch 00008: val_accuracy improved from 0.88270 to 0.88480, saving model to best_model_base.pt\n",
      "INFO:tensorflow:Assets written to: best_model_base.pt/assets\n",
      "Epoch 9/50\n",
      "60/60 [==============================] - 8s 134ms/step - loss: 0.2247 - accuracy: 0.9165 - val_loss: 0.3250 - val_accuracy: 0.8864\n",
      "\n",
      "Epoch 00009: val_accuracy improved from 0.88480 to 0.88640, saving model to best_model_base.pt\n",
      "INFO:tensorflow:Assets written to: best_model_base.pt/assets\n",
      "Epoch 10/50\n",
      "60/60 [==============================] - 8s 133ms/step - loss: 0.2156 - accuracy: 0.9200 - val_loss: 0.3234 - val_accuracy: 0.8872\n",
      "\n",
      "Epoch 00010: val_accuracy improved from 0.88640 to 0.88720, saving model to best_model_base.pt\n",
      "INFO:tensorflow:Assets written to: best_model_base.pt/assets\n",
      "Epoch 11/50\n",
      "60/60 [==============================] - 8s 132ms/step - loss: 0.2034 - accuracy: 0.9248 - val_loss: 0.3322 - val_accuracy: 0.8851\n",
      "\n",
      "Epoch 00011: val_accuracy did not improve from 0.88720\n",
      "Epoch 12/50\n",
      "60/60 [==============================] - 8s 136ms/step - loss: 0.2000 - accuracy: 0.9246 - val_loss: 0.3117 - val_accuracy: 0.8918\n",
      "\n",
      "Epoch 00012: val_accuracy improved from 0.88720 to 0.89180, saving model to best_model_base.pt\n",
      "INFO:tensorflow:Assets written to: best_model_base.pt/assets\n",
      "Epoch 13/50\n",
      "60/60 [==============================] - 8s 133ms/step - loss: 0.1884 - accuracy: 0.9307 - val_loss: 0.3220 - val_accuracy: 0.8893\n",
      "\n",
      "Epoch 00013: val_accuracy did not improve from 0.89180\n",
      "Epoch 14/50\n",
      "60/60 [==============================] - 8s 135ms/step - loss: 0.1834 - accuracy: 0.9313 - val_loss: 0.3189 - val_accuracy: 0.8929\n",
      "\n",
      "Epoch 00014: val_accuracy improved from 0.89180 to 0.89290, saving model to best_model_base.pt\n",
      "INFO:tensorflow:Assets written to: best_model_base.pt/assets\n",
      "Epoch 15/50\n",
      "60/60 [==============================] - 8s 133ms/step - loss: 0.1812 - accuracy: 0.9318 - val_loss: 0.3312 - val_accuracy: 0.8878\n",
      "\n",
      "Epoch 00015: val_accuracy did not improve from 0.89290\n",
      "Epoch 16/50\n",
      "60/60 [==============================] - 8s 136ms/step - loss: 0.1688 - accuracy: 0.9364 - val_loss: 0.3316 - val_accuracy: 0.8945\n",
      "\n",
      "Epoch 00016: val_accuracy improved from 0.89290 to 0.89450, saving model to best_model_base.pt\n",
      "INFO:tensorflow:Assets written to: best_model_base.pt/assets\n",
      "Epoch 17/50\n",
      "60/60 [==============================] - 8s 135ms/step - loss: 0.1572 - accuracy: 0.9407 - val_loss: 0.3258 - val_accuracy: 0.8899\n",
      "\n",
      "Epoch 00017: val_accuracy did not improve from 0.89450\n",
      "Epoch 18/50\n",
      "60/60 [==============================] - 8s 132ms/step - loss: 0.1520 - accuracy: 0.9436 - val_loss: 0.3483 - val_accuracy: 0.8865\n",
      "\n",
      "Epoch 00018: val_accuracy did not improve from 0.89450\n",
      "Epoch 19/50\n",
      "60/60 [==============================] - 8s 135ms/step - loss: 0.1492 - accuracy: 0.9436 - val_loss: 0.3465 - val_accuracy: 0.8935\n",
      "\n",
      "Epoch 00019: val_accuracy did not improve from 0.89450\n",
      "Epoch 20/50\n",
      "60/60 [==============================] - 8s 134ms/step - loss: 0.1369 - accuracy: 0.9484 - val_loss: 0.3255 - val_accuracy: 0.8976\n",
      "\n",
      "Epoch 00020: val_accuracy improved from 0.89450 to 0.89760, saving model to best_model_base.pt\n",
      "INFO:tensorflow:Assets written to: best_model_base.pt/assets\n",
      "Epoch 21/50\n",
      "60/60 [==============================] - 8s 133ms/step - loss: 0.1251 - accuracy: 0.9551 - val_loss: 0.3809 - val_accuracy: 0.8910\n",
      "\n",
      "Epoch 00021: val_accuracy did not improve from 0.89760\n",
      "Epoch 22/50\n",
      "60/60 [==============================] - 8s 134ms/step - loss: 0.1401 - accuracy: 0.9487 - val_loss: 0.3409 - val_accuracy: 0.8959\n",
      "\n",
      "Epoch 00022: val_accuracy did not improve from 0.89760\n",
      "Training Finished\n"
     ]
    }
   ],
   "source": [
    "# Training the model:\n",
    "\n",
    "val_data = (X_test, y_test)\n",
    "\n",
    "train_history = model.fit(X_train, \n",
    "                          y_train, \n",
    "                          validation_data = val_data, \n",
    "                          epochs = 50, \n",
    "                          batch_size = 1000, \n",
    "                          callbacks = callback_list)\n",
    "\n",
    "print('Training Finished')"
   ]
  },
  {
   "cell_type": "markdown",
   "metadata": {
    "id": "Zn2OHWMnVt_9"
   },
   "source": [
    "### Load best_model_base.pt:"
   ]
  },
  {
   "cell_type": "code",
   "execution_count": 25,
   "metadata": {
    "executionInfo": {
     "elapsed": 290004,
     "status": "ok",
     "timestamp": 1613732589493,
     "user": {
      "displayName": "Mitko Kinov",
      "photoUrl": "https://lh3.googleusercontent.com/a-/AOh14GiYmVyCY-PFJKi45xg27D3IlWDsvA8ClOubUfca=s64",
      "userId": "08333186424171762674"
     },
     "user_tz": -60
    },
    "id": "tynHjq4DD6Az"
   },
   "outputs": [],
   "source": [
    "# Load best_model_base.pt and use it on the test data:\n",
    "\n",
    "from keras.models import load_model\n",
    "\n",
    "# Loading the best model:\n",
    "best_m1 = load_model('/content/best_model_base.pt')"
   ]
  },
  {
   "cell_type": "code",
   "execution_count": 26,
   "metadata": {
    "executionInfo": {
     "elapsed": 291278,
     "status": "ok",
     "timestamp": 1613732590774,
     "user": {
      "displayName": "Mitko Kinov",
      "photoUrl": "https://lh3.googleusercontent.com/a-/AOh14GiYmVyCY-PFJKi45xg27D3IlWDsvA8ClOubUfca=s64",
      "userId": "08333186424171762674"
     },
     "user_tz": -60
    },
    "id": "wmwTF1Qx659X"
   },
   "outputs": [],
   "source": [
    "# Predicting with the best model:\n",
    "\n",
    "best_pred_1 = best_m1.predict(X_test)\n",
    "best_pred_1 = np.argmax(best_pred_1, axis=1)"
   ]
  },
  {
   "cell_type": "markdown",
   "metadata": {
    "id": "F2Mb1jJ8VzfG"
   },
   "source": [
    "### Print a confusion matrix and classification report for best_model_base:"
   ]
  },
  {
   "cell_type": "code",
   "execution_count": 27,
   "metadata": {
    "colab": {
     "base_uri": "https://localhost:8080/"
    },
    "executionInfo": {
     "elapsed": 291270,
     "status": "ok",
     "timestamp": 1613732590776,
     "user": {
      "displayName": "Mitko Kinov",
      "photoUrl": "https://lh3.googleusercontent.com/a-/AOh14GiYmVyCY-PFJKi45xg27D3IlWDsvA8ClOubUfca=s64",
      "userId": "08333186424171762674"
     },
     "user_tz": -60
    },
    "id": "S4kY6TTTXtvf",
    "outputId": "a25ee260-ec56-4a87-897c-a1c06cc18e56"
   },
   "outputs": [
    {
     "name": "stdout",
     "output_type": "stream",
     "text": [
      "=====Evaluation DNN Data=====\n",
      "Confusion matrix\n",
      "[[856   0  12  19   5   1 103   0   4   0]\n",
      " [  0 981   1  10   5   0   2   0   1   0]\n",
      " [ 25   0 804  10  89   0  72   0   0   0]\n",
      " [ 17   7   9 914  32   0  17   0   4   0]\n",
      " [  1   1  78  27 827   0  63   0   3   0]\n",
      " [  0   0   0   1   0 955   0  31   1  12]\n",
      " [112   0  61  30  61   0 731   0   5   0]\n",
      " [  0   0   0   0   0   5   0 981   0  14]\n",
      " [  4   0   2   4   2   0   3   3 982   0]\n",
      " [  0   0   0   0   0   7   1  46   0 946]]\n",
      "\n",
      "              precision    recall  f1-score   support\n",
      "\n",
      " T-shirt/top       0.84      0.86      0.85      1000\n",
      "     Trouser       0.99      0.98      0.99      1000\n",
      "    Pullover       0.83      0.80      0.82      1000\n",
      "       Dress       0.90      0.91      0.91      1000\n",
      "        Coat       0.81      0.83      0.82      1000\n",
      "      Sandal       0.99      0.95      0.97      1000\n",
      "       Shirt       0.74      0.73      0.73      1000\n",
      "     Sneaker       0.92      0.98      0.95      1000\n",
      "         Bag       0.98      0.98      0.98      1000\n",
      "  Ankle boot       0.97      0.95      0.96      1000\n",
      "\n",
      "    accuracy                           0.90     10000\n",
      "   macro avg       0.90      0.90      0.90     10000\n",
      "weighted avg       0.90      0.90      0.90     10000\n",
      "\n"
     ]
    }
   ],
   "source": [
    "# Evaluating DNN model:\n",
    "\n",
    "print('=====Evaluation DNN Data=====')\n",
    "print_classification_report(y_test, best_pred_1, label_names)"
   ]
  },
  {
   "cell_type": "markdown",
   "metadata": {
    "id": "GQH4AdPynC2U"
   },
   "source": [
    "## DNN model with scaled data, dropout and batchnormalization"
   ]
  },
  {
   "cell_type": "markdown",
   "metadata": {
    "id": "O_zB4PbyV50Q"
   },
   "source": [
    "### Create a dropout-FC model with:\n",
    "1.  three hidden layers (1024,512 and 256 neurons)\n",
    "2. a dropout layer after each hidden layer \n",
    "3. use same loss and optimizer as for the baseline-FC model\n"
   ]
  },
  {
   "cell_type": "code",
   "execution_count": 28,
   "metadata": {
    "colab": {
     "base_uri": "https://localhost:8080/"
    },
    "executionInfo": {
     "elapsed": 291254,
     "status": "ok",
     "timestamp": 1613732590777,
     "user": {
      "displayName": "Mitko Kinov",
      "photoUrl": "https://lh3.googleusercontent.com/a-/AOh14GiYmVyCY-PFJKi45xg27D3IlWDsvA8ClOubUfca=s64",
      "userId": "08333186424171762674"
     },
     "user_tz": -60
    },
    "id": "UxhRkocXZIYa",
    "outputId": "9c75aaa3-69b6-4d1d-fc7f-c0c0d0b37c60"
   },
   "outputs": [
    {
     "name": "stdout",
     "output_type": "stream",
     "text": [
      "Model: \"model_1\"\n",
      "_________________________________________________________________\n",
      "Layer (type)                 Output Shape              Param #   \n",
      "=================================================================\n",
      "input_2 (InputLayer)         [(None, 784)]             0         \n",
      "_________________________________________________________________\n",
      "batch_normalization (BatchNo (None, 784)               3136      \n",
      "_________________________________________________________________\n",
      "dense_4 (Dense)              (None, 1024)              803840    \n",
      "_________________________________________________________________\n",
      "batch_normalization_1 (Batch (None, 1024)              4096      \n",
      "_________________________________________________________________\n",
      "dropout (Dropout)            (None, 1024)              0         \n",
      "_________________________________________________________________\n",
      "dense_5 (Dense)              (None, 512)               524800    \n",
      "_________________________________________________________________\n",
      "batch_normalization_2 (Batch (None, 512)               2048      \n",
      "_________________________________________________________________\n",
      "dropout_1 (Dropout)          (None, 512)               0         \n",
      "_________________________________________________________________\n",
      "dense_6 (Dense)              (None, 256)               131328    \n",
      "_________________________________________________________________\n",
      "batch_normalization_3 (Batch (None, 256)               1024      \n",
      "_________________________________________________________________\n",
      "dropout_2 (Dropout)          (None, 256)               0         \n",
      "_________________________________________________________________\n",
      "dense_7 (Dense)              (None, 10)                2570      \n",
      "=================================================================\n",
      "Total params: 1,472,842\n",
      "Trainable params: 1,467,690\n",
      "Non-trainable params: 5,152\n",
      "_________________________________________________________________\n"
     ]
    }
   ],
   "source": [
    "# Creating FC with Dropout and BatchNormalization model object:\n",
    "\n",
    "def create_FC_Drop_Batch_model(input_shape, num_cells, output_shape):\n",
    "  drop_rate = 0.3\n",
    "\n",
    "  _input = Input(input_shape)\n",
    "\n",
    "  layer = BatchNormalization()(_input)\n",
    "\n",
    "  layer = Dense(num_cells, activation = 'relu')(layer)\n",
    "  layer = BatchNormalization()(layer)\n",
    "  layer = Dropout(drop_rate)(layer)\n",
    "\n",
    "  layer = Dense(num_cells//2, activation = 'relu')(layer)\n",
    "  layer = BatchNormalization()(layer)\n",
    "  layer = Dropout(drop_rate)(layer)\n",
    "\n",
    "  layer = Dense(num_cells//4, activation = 'relu')(layer)\n",
    "  layer = BatchNormalization()(layer)\n",
    "  layer = Dropout(drop_rate)(layer)\n",
    "\n",
    "  _output = Dense(output_shape, activation = 'sigmoid')(layer)\n",
    "  my_model = Model(inputs = [_input], outputs = [_output])\n",
    "  my_model.compile(loss = 'sparse_categorical_crossentropy', optimizer = 'adam', metrics = ['accuracy'])\n",
    "\n",
    "  return my_model\n",
    "\n",
    "input_shape  = (n_row*n_col)\n",
    "num_cells = 1024\n",
    "output_shape = len(np.unique(y_test))\n",
    "model_drop_bn = create_FC_Drop_Batch_model(input_shape, num_cells, output_shape)\n",
    "model_drop_bn.summary()"
   ]
  },
  {
   "cell_type": "markdown",
   "metadata": {
    "id": "idvv6ntbWECE"
   },
   "source": [
    "### Train the dropout-FC model using:\n",
    "1. the same training parameters as for the base-FC model (epochs=50, batch_size=1000)\n",
    "2. save the train history\n",
    "3. use the same callbacks and save the model as model as best-dropout-FC.pt"
   ]
  },
  {
   "cell_type": "code",
   "execution_count": 29,
   "metadata": {
    "executionInfo": {
     "elapsed": 291246,
     "status": "ok",
     "timestamp": 1613732590779,
     "user": {
      "displayName": "Mitko Kinov",
      "photoUrl": "https://lh3.googleusercontent.com/a-/AOh14GiYmVyCY-PFJKi45xg27D3IlWDsvA8ClOubUfca=s64",
      "userId": "08333186424171762674"
     },
     "user_tz": -60
    },
    "id": "1WaYS3yeWXmU"
   },
   "outputs": [],
   "source": [
    "# Setting the model:\n",
    "\n",
    "path = 'best_dropout_FC.pt'\n",
    "\n",
    "# ModelCheckpoint monitoring:\n",
    "callback_1 = ModelCheckpoint(path, monitor = 'val_accuracy', save_best_only = True, mode = 'max', verbose = 1)\n",
    "\n",
    "# Earlystopping monitoring:\n",
    "callback_2 = EarlyStopping(patience = 10)\n",
    "\n",
    "# Connecting both:\n",
    "callback_list = [callback_1, callback_2]"
   ]
  },
  {
   "cell_type": "code",
   "execution_count": 30,
   "metadata": {
    "colab": {
     "base_uri": "https://localhost:8080/"
    },
    "executionInfo": {
     "elapsed": 555618,
     "status": "ok",
     "timestamp": 1613732855160,
     "user": {
      "displayName": "Mitko Kinov",
      "photoUrl": "https://lh3.googleusercontent.com/a-/AOh14GiYmVyCY-PFJKi45xg27D3IlWDsvA8ClOubUfca=s64",
      "userId": "08333186424171762674"
     },
     "user_tz": -60
    },
    "id": "CFiPPINv9hp_",
    "outputId": "492e5dce-c551-4976-e86d-60328bb31022"
   },
   "outputs": [
    {
     "name": "stdout",
     "output_type": "stream",
     "text": [
      "Epoch 1/50\n",
      "60/60 [==============================] - 13s 193ms/step - loss: 0.9019 - accuracy: 0.7105 - val_loss: 0.8585 - val_accuracy: 0.7319\n",
      "\n",
      "Epoch 00001: val_accuracy improved from -inf to 0.73190, saving model to best_dropout_FC.pt\n",
      "INFO:tensorflow:Assets written to: best_dropout_FC.pt/assets\n",
      "Epoch 2/50\n",
      "60/60 [==============================] - 11s 192ms/step - loss: 0.4095 - accuracy: 0.8500 - val_loss: 0.6475 - val_accuracy: 0.7807\n",
      "\n",
      "Epoch 00002: val_accuracy improved from 0.73190 to 0.78070, saving model to best_dropout_FC.pt\n",
      "INFO:tensorflow:Assets written to: best_dropout_FC.pt/assets\n",
      "Epoch 3/50\n",
      "60/60 [==============================] - 11s 191ms/step - loss: 0.3573 - accuracy: 0.8715 - val_loss: 0.5255 - val_accuracy: 0.8153\n",
      "\n",
      "Epoch 00003: val_accuracy improved from 0.78070 to 0.81530, saving model to best_dropout_FC.pt\n",
      "INFO:tensorflow:Assets written to: best_dropout_FC.pt/assets\n",
      "Epoch 4/50\n",
      "60/60 [==============================] - 11s 187ms/step - loss: 0.3223 - accuracy: 0.8814 - val_loss: 0.4175 - val_accuracy: 0.8467\n",
      "\n",
      "Epoch 00004: val_accuracy improved from 0.81530 to 0.84670, saving model to best_dropout_FC.pt\n",
      "INFO:tensorflow:Assets written to: best_dropout_FC.pt/assets\n",
      "Epoch 5/50\n",
      "60/60 [==============================] - 11s 189ms/step - loss: 0.3070 - accuracy: 0.8872 - val_loss: 0.3541 - val_accuracy: 0.8688\n",
      "\n",
      "Epoch 00005: val_accuracy improved from 0.84670 to 0.86880, saving model to best_dropout_FC.pt\n",
      "INFO:tensorflow:Assets written to: best_dropout_FC.pt/assets\n",
      "Epoch 6/50\n",
      "60/60 [==============================] - 11s 190ms/step - loss: 0.2829 - accuracy: 0.8943 - val_loss: 0.3634 - val_accuracy: 0.8678\n",
      "\n",
      "Epoch 00006: val_accuracy did not improve from 0.86880\n",
      "Epoch 7/50\n",
      "60/60 [==============================] - 11s 188ms/step - loss: 0.2695 - accuracy: 0.8997 - val_loss: 0.3355 - val_accuracy: 0.8805\n",
      "\n",
      "Epoch 00007: val_accuracy improved from 0.86880 to 0.88050, saving model to best_dropout_FC.pt\n",
      "INFO:tensorflow:Assets written to: best_dropout_FC.pt/assets\n",
      "Epoch 8/50\n",
      "60/60 [==============================] - 11s 186ms/step - loss: 0.2474 - accuracy: 0.9063 - val_loss: 0.3178 - val_accuracy: 0.8866\n",
      "\n",
      "Epoch 00008: val_accuracy improved from 0.88050 to 0.88660, saving model to best_dropout_FC.pt\n",
      "INFO:tensorflow:Assets written to: best_dropout_FC.pt/assets\n",
      "Epoch 9/50\n",
      "60/60 [==============================] - 11s 189ms/step - loss: 0.2448 - accuracy: 0.9088 - val_loss: 0.3323 - val_accuracy: 0.8817\n",
      "\n",
      "Epoch 00009: val_accuracy did not improve from 0.88660\n",
      "Epoch 10/50\n",
      "60/60 [==============================] - 12s 192ms/step - loss: 0.2335 - accuracy: 0.9126 - val_loss: 0.3126 - val_accuracy: 0.8903\n",
      "\n",
      "Epoch 00010: val_accuracy improved from 0.88660 to 0.89030, saving model to best_dropout_FC.pt\n",
      "INFO:tensorflow:Assets written to: best_dropout_FC.pt/assets\n",
      "Epoch 11/50\n",
      "60/60 [==============================] - 11s 191ms/step - loss: 0.2234 - accuracy: 0.9172 - val_loss: 0.3116 - val_accuracy: 0.8933\n",
      "\n",
      "Epoch 00011: val_accuracy improved from 0.89030 to 0.89330, saving model to best_dropout_FC.pt\n",
      "INFO:tensorflow:Assets written to: best_dropout_FC.pt/assets\n",
      "Epoch 12/50\n",
      "60/60 [==============================] - 12s 194ms/step - loss: 0.2191 - accuracy: 0.9174 - val_loss: 0.3145 - val_accuracy: 0.8917\n",
      "\n",
      "Epoch 00012: val_accuracy did not improve from 0.89330\n",
      "Epoch 13/50\n",
      "60/60 [==============================] - 12s 193ms/step - loss: 0.2003 - accuracy: 0.9231 - val_loss: 0.3221 - val_accuracy: 0.8895\n",
      "\n",
      "Epoch 00013: val_accuracy did not improve from 0.89330\n",
      "Epoch 14/50\n",
      "60/60 [==============================] - 11s 190ms/step - loss: 0.1996 - accuracy: 0.9259 - val_loss: 0.3362 - val_accuracy: 0.8891\n",
      "\n",
      "Epoch 00014: val_accuracy did not improve from 0.89330\n",
      "Epoch 15/50\n",
      "60/60 [==============================] - 11s 189ms/step - loss: 0.1878 - accuracy: 0.9294 - val_loss: 0.3282 - val_accuracy: 0.8873\n",
      "\n",
      "Epoch 00015: val_accuracy did not improve from 0.89330\n",
      "Epoch 16/50\n",
      "60/60 [==============================] - 11s 189ms/step - loss: 0.1795 - accuracy: 0.9323 - val_loss: 0.3144 - val_accuracy: 0.8974\n",
      "\n",
      "Epoch 00016: val_accuracy improved from 0.89330 to 0.89740, saving model to best_dropout_FC.pt\n",
      "INFO:tensorflow:Assets written to: best_dropout_FC.pt/assets\n",
      "Epoch 17/50\n",
      "60/60 [==============================] - 11s 191ms/step - loss: 0.1693 - accuracy: 0.9355 - val_loss: 0.3166 - val_accuracy: 0.8971\n",
      "\n",
      "Epoch 00017: val_accuracy did not improve from 0.89740\n",
      "Epoch 18/50\n",
      "60/60 [==============================] - 11s 189ms/step - loss: 0.1684 - accuracy: 0.9366 - val_loss: 0.3212 - val_accuracy: 0.8962\n",
      "\n",
      "Epoch 00018: val_accuracy did not improve from 0.89740\n",
      "Epoch 19/50\n",
      "60/60 [==============================] - 11s 190ms/step - loss: 0.1616 - accuracy: 0.9388 - val_loss: 0.3172 - val_accuracy: 0.8971\n",
      "\n",
      "Epoch 00019: val_accuracy did not improve from 0.89740\n",
      "Epoch 20/50\n",
      "60/60 [==============================] - 11s 188ms/step - loss: 0.1550 - accuracy: 0.9411 - val_loss: 0.3292 - val_accuracy: 0.8958\n",
      "\n",
      "Epoch 00020: val_accuracy did not improve from 0.89740\n",
      "Epoch 21/50\n",
      "60/60 [==============================] - 12s 194ms/step - loss: 0.1530 - accuracy: 0.9416 - val_loss: 0.3285 - val_accuracy: 0.8961\n",
      "\n",
      "Epoch 00021: val_accuracy did not improve from 0.89740\n",
      "Training Finished\n"
     ]
    }
   ],
   "source": [
    "# Training the model:\n",
    "\n",
    "val_data = (X_test, y_test)\n",
    "\n",
    "train_history_2 = model_drop_bn.fit(X_train, \n",
    "                                    y_train, \n",
    "                                    validation_data = val_data, \n",
    "                                    epochs = 50, \n",
    "                                    batch_size = 1000, \n",
    "                                    callbacks = callback_list) \n",
    "\n",
    "print('Training Finished')"
   ]
  },
  {
   "cell_type": "markdown",
   "metadata": {
    "id": "QcQQNMTVWZCS"
   },
   "source": [
    "### Load best-dropout-FC.pt and use it on the test data:"
   ]
  },
  {
   "cell_type": "code",
   "execution_count": 31,
   "metadata": {
    "executionInfo": {
     "elapsed": 556627,
     "status": "ok",
     "timestamp": 1613732856179,
     "user": {
      "displayName": "Mitko Kinov",
      "photoUrl": "https://lh3.googleusercontent.com/a-/AOh14GiYmVyCY-PFJKi45xg27D3IlWDsvA8ClOubUfca=s64",
      "userId": "08333186424171762674"
     },
     "user_tz": -60
    },
    "id": "xrBqOW2hF7J2"
   },
   "outputs": [],
   "source": [
    "# Load best_dropout_FC.pt and use it on the test data:\n",
    "\n",
    "from keras.models import load_model\n",
    "\n",
    "# Loading the best model:\n",
    "best_m2 = load_model('/content/best_dropout_FC.pt')"
   ]
  },
  {
   "cell_type": "code",
   "execution_count": 32,
   "metadata": {
    "executionInfo": {
     "elapsed": 557818,
     "status": "ok",
     "timestamp": 1613732857377,
     "user": {
      "displayName": "Mitko Kinov",
      "photoUrl": "https://lh3.googleusercontent.com/a-/AOh14GiYmVyCY-PFJKi45xg27D3IlWDsvA8ClOubUfca=s64",
      "userId": "08333186424171762674"
     },
     "user_tz": -60
    },
    "id": "07lTb3Jl-KDD"
   },
   "outputs": [],
   "source": [
    "# Predicting with the best model:\n",
    "\n",
    "best_pred_2 = best_m2.predict(X_test)\n",
    "best_pred_2 = np.argmax(best_pred_2, axis=1)"
   ]
  },
  {
   "cell_type": "markdown",
   "metadata": {
    "id": "H2YFDhJdWiT_"
   },
   "source": [
    "### Print a confusion matrix and classification report for best-dropout-FC.pt:"
   ]
  },
  {
   "cell_type": "code",
   "execution_count": 33,
   "metadata": {
    "colab": {
     "base_uri": "https://localhost:8080/"
    },
    "executionInfo": {
     "elapsed": 557810,
     "status": "ok",
     "timestamp": 1613732857378,
     "user": {
      "displayName": "Mitko Kinov",
      "photoUrl": "https://lh3.googleusercontent.com/a-/AOh14GiYmVyCY-PFJKi45xg27D3IlWDsvA8ClOubUfca=s64",
      "userId": "08333186424171762674"
     },
     "user_tz": -60
    },
    "id": "Qht9mh-VGaje",
    "outputId": "4eaec207-d3e4-4fc7-b01d-a676fdbf8989"
   },
   "outputs": [
    {
     "name": "stdout",
     "output_type": "stream",
     "text": [
      "=====Evaluation DNN Drop and BN Data=====\n",
      "Confusion matrix\n",
      "[[868   1  14  12   2   2  97   0   4   0]\n",
      " [  4 972   3  12   4   0   5   0   0   0]\n",
      " [ 20   1 851  11  63   2  52   0   0   0]\n",
      " [ 34   5  13 884  34   0  26   0   4   0]\n",
      " [  0   0  87  24 822   0  67   0   0   0]\n",
      " [  0   0   0   0   0 953   0  27   1  19]\n",
      " [123   0  75  25  48   0 721   0   8   0]\n",
      " [  0   0   0   0   0   7   0 968   0  25]\n",
      " [  4   0   3   8   3   1   3   5 972   1]\n",
      " [  0   0   0   0   0   6   1  30   0 963]]\n",
      "\n",
      "              precision    recall  f1-score   support\n",
      "\n",
      " T-shirt/top       0.82      0.87      0.85      1000\n",
      "     Trouser       0.99      0.97      0.98      1000\n",
      "    Pullover       0.81      0.85      0.83      1000\n",
      "       Dress       0.91      0.88      0.89      1000\n",
      "        Coat       0.84      0.82      0.83      1000\n",
      "      Sandal       0.98      0.95      0.97      1000\n",
      "       Shirt       0.74      0.72      0.73      1000\n",
      "     Sneaker       0.94      0.97      0.95      1000\n",
      "         Bag       0.98      0.97      0.98      1000\n",
      "  Ankle boot       0.96      0.96      0.96      1000\n",
      "\n",
      "    accuracy                           0.90     10000\n",
      "   macro avg       0.90      0.90      0.90     10000\n",
      "weighted avg       0.90      0.90      0.90     10000\n",
      "\n"
     ]
    }
   ],
   "source": [
    "# Evaluating DNN with Dropout and BatchNormalization model:\n",
    "\n",
    "print('=====Evaluation DNN Drop and BN Data=====')\n",
    "print_classification_report(y_test, best_pred_2, label_names)"
   ]
  },
  {
   "cell_type": "markdown",
   "metadata": {
    "id": "61Vc5tNQWt1t"
   },
   "source": [
    "### Compare the learning curves of best_model_base and best-dropout-FC model\n",
    "1. Write a few sentences about your interpretation of the learning curves "
   ]
  },
  {
   "cell_type": "code",
   "execution_count": 34,
   "metadata": {
    "colab": {
     "base_uri": "https://localhost:8080/",
     "height": 805
    },
    "executionInfo": {
     "elapsed": 558872,
     "status": "ok",
     "timestamp": 1613732858462,
     "user": {
      "displayName": "Mitko Kinov",
      "photoUrl": "https://lh3.googleusercontent.com/a-/AOh14GiYmVyCY-PFJKi45xg27D3IlWDsvA8ClOubUfca=s64",
      "userId": "08333186424171762674"
     },
     "user_tz": -60
    },
    "id": "_gHcU6cGGOEU",
    "outputId": "5196654b-8c48-4514-d9d0-54b227bd5500"
   },
   "outputs": [
    {
     "data": {
      "image/png": "[encoded data removed]",
      "text/plain": [
       "<Figure size 432x288 with 1 Axes>"
      ]
     },
     "metadata": {
      "needs_background": "light",
      "tags": []
     },
     "output_type": "display_data"
    },
    {
     "data": {
      "image/png": "[encoded data removed]",
      "text/plain": [
       "<Figure size 432x288 with 1 Axes>"
      ]
     },
     "metadata": {
      "needs_background": "light",
      "tags": []
     },
     "output_type": "display_data"
    },
    {
     "data": {
      "image/png": "[encoded data removed]",
      "text/plain": [
       "<Figure size 432x288 with 1 Axes>"
      ]
     },
     "metadata": {
      "needs_background": "light",
      "tags": []
     },
     "output_type": "display_data"
    }
   ],
   "source": [
    "# Visualizing the learning curves on both models:\n",
    "\n",
    "plt.plot(train_history.history['accuracy'], label = 'best_model_base train')\n",
    "plt.plot(train_history.history['val_accuracy'], label = 'best_model_base validation')\n",
    "\n",
    "plt.legend()\n",
    "plt.grid()\n",
    "plt.ylabel('accuracy')\n",
    "plt.xlabel('epoch')\n",
    "plt.show()\n",
    "\n",
    "plt.plot(train_history_2.history['accuracy'], label = 'best_dropout_FC train')\n",
    "plt.plot(train_history_2.history['val_accuracy'], label = 'best_dropout_FC validation')\n",
    "\n",
    "plt.legend()\n",
    "plt.grid()\n",
    "plt.ylabel('accuracy')\n",
    "plt.xlabel('epoch')\n",
    "plt.show()\n",
    "\n",
    "plt.plot(train_history.history['val_accuracy'], label = 'best_model_base validation')\n",
    "plt.plot(train_history_2.history['val_accuracy'], label = 'best_dropout_FC validation')\n",
    "\n",
    "plt.legend()\n",
    "plt.grid()\n",
    "plt.ylabel('accuracy')\n",
    "plt.xlabel('epoch')\n",
    "plt.show()"
   ]
  },
  {
   "cell_type": "markdown",
   "metadata": {
    "id": "znfTN6YL5AM7"
   },
   "source": [
    "### Comment:\n",
    "- We can clearly see that application of the dropout on the second model prevents it from overfitting, which is not the case with the first one. \n",
    "\n",
    "- Especially, good to noticed with the first model is that after 11th epoch model looks stacked, is not learning anything more, everything after that point is overfitting, only the model becomes more complicated, is training to fit the training dataset but validation stays the same.  \n",
    "\n",
    "- Finally, there is very small inprovement in accuracy between the two models wich is less that 1%. "
   ]
  },
  {
   "cell_type": "markdown",
   "metadata": {
    "id": "dIZIfarBXR6K"
   },
   "source": [
    "### Prediciton confidence:\n",
    "\n",
    "For each instance, the best DNN model outputs class-probabilities \n",
    "1. remove the test instances for which the highest class-probability is lower than .99\n",
    "2. we can say that those are instances for wich the model is not confindet \n",
    "3. how many test instances are left?\n",
    "4. print a confusion matrix and classification report only for the instances for which the model is confident"
   ]
  },
  {
   "cell_type": "markdown",
   "metadata": {
    "id": "NtUFCEAV1Tfw"
   },
   "source": [
    "1) best_model_base:"
   ]
  },
  {
   "cell_type": "code",
   "execution_count": 35,
   "metadata": {
    "executionInfo": {
     "elapsed": 560121,
     "status": "ok",
     "timestamp": 1613732859724,
     "user": {
      "displayName": "Mitko Kinov",
      "photoUrl": "https://lh3.googleusercontent.com/a-/AOh14GiYmVyCY-PFJKi45xg27D3IlWDsvA8ClOubUfca=s64",
      "userId": "08333186424171762674"
     },
     "user_tz": -60
    },
    "id": "KVUmiflIX8qT"
   },
   "outputs": [],
   "source": [
    "# Prediciton confidence for the best_model_base:\n",
    "\n",
    "pc_m1 = load_model('/content/best_model_base.pt')\n",
    "\n",
    "predictions = pc_m1.predict(X_test)"
   ]
  },
  {
   "cell_type": "code",
   "execution_count": 36,
   "metadata": {
    "colab": {
     "base_uri": "https://localhost:8080/"
    },
    "executionInfo": {
     "elapsed": 560116,
     "status": "ok",
     "timestamp": 1613732859730,
     "user": {
      "displayName": "Mitko Kinov",
      "photoUrl": "https://lh3.googleusercontent.com/a-/AOh14GiYmVyCY-PFJKi45xg27D3IlWDsvA8ClOubUfca=s64",
      "userId": "08333186424171762674"
     },
     "user_tz": -60
    },
    "id": "bkZnl2S9zxbJ",
    "outputId": "1f08bf51-d3fe-4dd2-8c99-41f6086b2ad7"
   },
   "outputs": [
    {
     "data": {
      "text/plain": [
       "(10000, 10)"
      ]
     },
     "execution_count": 36,
     "metadata": {
      "tags": []
     },
     "output_type": "execute_result"
    }
   ],
   "source": [
    "# Check the shape of predictions:\n",
    "\n",
    "predictions.shape"
   ]
  },
  {
   "cell_type": "code",
   "execution_count": 37,
   "metadata": {
    "executionInfo": {
     "elapsed": 560103,
     "status": "ok",
     "timestamp": 1613732859731,
     "user": {
      "displayName": "Mitko Kinov",
      "photoUrl": "https://lh3.googleusercontent.com/a-/AOh14GiYmVyCY-PFJKi45xg27D3IlWDsvA8ClOubUfca=s64",
      "userId": "08333186424171762674"
     },
     "user_tz": -60
    },
    "id": "gwI4HSX2tJTR"
   },
   "outputs": [],
   "source": [
    "# Choosing best 99% of the predictions:\n",
    "\n",
    "best_99 = predictions[np.max(predictions, axis = 1) > 0.99]\n",
    "y_test_99 = y_test[np.max(predictions, axis = 1) > 0.99]"
   ]
  },
  {
   "cell_type": "code",
   "execution_count": 38,
   "metadata": {
    "colab": {
     "base_uri": "https://localhost:8080/"
    },
    "executionInfo": {
     "elapsed": 560095,
     "status": "ok",
     "timestamp": 1613732859733,
     "user": {
      "displayName": "Mitko Kinov",
      "photoUrl": "https://lh3.googleusercontent.com/a-/AOh14GiYmVyCY-PFJKi45xg27D3IlWDsvA8ClOubUfca=s64",
      "userId": "08333186424171762674"
     },
     "user_tz": -60
    },
    "id": "2S9TtXlfuC5N",
    "outputId": "be6c7c8f-7344-4731-f6ef-12b061c6da69"
   },
   "outputs": [
    {
     "data": {
      "text/plain": [
       "((9477, 10), (9477,))"
      ]
     },
     "execution_count": 38,
     "metadata": {
      "tags": []
     },
     "output_type": "execute_result"
    }
   ],
   "source": [
    "# Check the shape of the best_99 and test_99:\n",
    "\n",
    "best_99.shape, y_test_99.shape"
   ]
  },
  {
   "cell_type": "code",
   "execution_count": 39,
   "metadata": {
    "colab": {
     "base_uri": "https://localhost:8080/"
    },
    "executionInfo": {
     "elapsed": 560081,
     "status": "ok",
     "timestamp": 1613732859734,
     "user": {
      "displayName": "Mitko Kinov",
      "photoUrl": "https://lh3.googleusercontent.com/a-/AOh14GiYmVyCY-PFJKi45xg27D3IlWDsvA8ClOubUfca=s64",
      "userId": "08333186424171762674"
     },
     "user_tz": -60
    },
    "id": "rnpyP9_rucyt",
    "outputId": "ee245e97-591d-4845-9fdd-9c0b503df4af"
   },
   "outputs": [
    {
     "name": "stdout",
     "output_type": "stream",
     "text": [
      "=====Evaluation Prediction Confidence data=====\n",
      "Confusion matrix\n",
      "[[801   0   7  11   2   0  76   0   4   0]\n",
      " [  0 970   0   7   2   0   0   0   1   0]\n",
      " [ 14   0 767   5  78   0  52   0   0   0]\n",
      " [  5   5   3 844  24   0   6   0   4   0]\n",
      " [  0   1  68  25 802   0  53   0   3   0]\n",
      " [  0   0   0   1   0 951   0  30   1  12]\n",
      " [ 77   0  51  14  50   0 667   0   5   0]\n",
      " [  0   0   0   0   0   5   0 981   0  14]\n",
      " [  2   0   0   0   0   0   3   2 974   0]\n",
      " [  0   0   0   0   0   6   1  45   0 945]]\n",
      "\n",
      "              precision    recall  f1-score   support\n",
      "\n",
      " T-shirt/top       0.89      0.89      0.89       901\n",
      "     Trouser       0.99      0.99      0.99       980\n",
      "    Pullover       0.86      0.84      0.85       916\n",
      "       Dress       0.93      0.95      0.94       891\n",
      "        Coat       0.84      0.84      0.84       952\n",
      "      Sandal       0.99      0.96      0.97       995\n",
      "       Shirt       0.78      0.77      0.77       864\n",
      "     Sneaker       0.93      0.98      0.95      1000\n",
      "         Bag       0.98      0.99      0.99       981\n",
      "  Ankle boot       0.97      0.95      0.96       997\n",
      "\n",
      "    accuracy                           0.92      9477\n",
      "   macro avg       0.92      0.92      0.92      9477\n",
      "weighted avg       0.92      0.92      0.92      9477\n",
      "\n"
     ]
    }
   ],
   "source": [
    "# Evaluating Prediction Confidence best_model_base:\n",
    "\n",
    "print('=====Evaluation Prediction Confidence data=====')\n",
    "print_classification_report(y_test_99, np.argmax(best_99, axis = 1), label_names)"
   ]
  },
  {
   "cell_type": "markdown",
   "metadata": {
    "id": "CgqxpUgb1aqk"
   },
   "source": [
    "2) best_dropout_FC:"
   ]
  },
  {
   "cell_type": "code",
   "execution_count": 40,
   "metadata": {
    "executionInfo": {
     "elapsed": 562651,
     "status": "ok",
     "timestamp": 1613732862319,
     "user": {
      "displayName": "Mitko Kinov",
      "photoUrl": "https://lh3.googleusercontent.com/a-/AOh14GiYmVyCY-PFJKi45xg27D3IlWDsvA8ClOubUfca=s64",
      "userId": "08333186424171762674"
     },
     "user_tz": -60
    },
    "id": "ZjyddmfZxQAg"
   },
   "outputs": [],
   "source": [
    "# Prediciton confidence for the best_dropout_FC:\n",
    "\n",
    "pc_m2 = load_model('/content/best_dropout_FC.pt')\n",
    "\n",
    "predictions2 = pc_m2.predict(X_test)"
   ]
  },
  {
   "cell_type": "code",
   "execution_count": 41,
   "metadata": {
    "colab": {
     "base_uri": "https://localhost:8080/"
    },
    "executionInfo": {
     "elapsed": 562647,
     "status": "ok",
     "timestamp": 1613732862325,
     "user": {
      "displayName": "Mitko Kinov",
      "photoUrl": "https://lh3.googleusercontent.com/a-/AOh14GiYmVyCY-PFJKi45xg27D3IlWDsvA8ClOubUfca=s64",
      "userId": "08333186424171762674"
     },
     "user_tz": -60
    },
    "id": "7iZ7FwmixlOL",
    "outputId": "f5647ad3-9157-425f-92ac-7088a52470d5"
   },
   "outputs": [
    {
     "data": {
      "text/plain": [
       "(10000, 10)"
      ]
     },
     "execution_count": 41,
     "metadata": {
      "tags": []
     },
     "output_type": "execute_result"
    }
   ],
   "source": [
    "# Check the shape of predictions:\n",
    "\n",
    "predictions2.shape"
   ]
  },
  {
   "cell_type": "code",
   "execution_count": 42,
   "metadata": {
    "executionInfo": {
     "elapsed": 562635,
     "status": "ok",
     "timestamp": 1613732862325,
     "user": {
      "displayName": "Mitko Kinov",
      "photoUrl": "https://lh3.googleusercontent.com/a-/AOh14GiYmVyCY-PFJKi45xg27D3IlWDsvA8ClOubUfca=s64",
      "userId": "08333186424171762674"
     },
     "user_tz": -60
    },
    "id": "m27Pn9kwxsiR"
   },
   "outputs": [],
   "source": [
    "# Choosing best 99% of the predictions:\n",
    "\n",
    "best_99_2 = predictions2[np.max(predictions2, axis = 1) > 0.99]\n",
    "y_test_99_2 = y_test[np.max(predictions2, axis = 1) > 0.99]"
   ]
  },
  {
   "cell_type": "code",
   "execution_count": 43,
   "metadata": {
    "colab": {
     "base_uri": "https://localhost:8080/"
    },
    "executionInfo": {
     "elapsed": 562625,
     "status": "ok",
     "timestamp": 1613732862326,
     "user": {
      "displayName": "Mitko Kinov",
      "photoUrl": "https://lh3.googleusercontent.com/a-/AOh14GiYmVyCY-PFJKi45xg27D3IlWDsvA8ClOubUfca=s64",
      "userId": "08333186424171762674"
     },
     "user_tz": -60
    },
    "id": "9u4CBPZAxzfE",
    "outputId": "0eb12b26-f61d-4dac-a29c-8058a43fb44c"
   },
   "outputs": [
    {
     "data": {
      "text/plain": [
       "((9852, 10), (9852,))"
      ]
     },
     "execution_count": 43,
     "metadata": {
      "tags": []
     },
     "output_type": "execute_result"
    }
   ],
   "source": [
    "# Check the shape of the best_99 and test_99:\n",
    "\n",
    "best_99_2.shape, y_test_99_2.shape"
   ]
  },
  {
   "cell_type": "code",
   "execution_count": 44,
   "metadata": {
    "colab": {
     "base_uri": "https://localhost:8080/"
    },
    "executionInfo": {
     "elapsed": 562612,
     "status": "ok",
     "timestamp": 1613732862327,
     "user": {
      "displayName": "Mitko Kinov",
      "photoUrl": "https://lh3.googleusercontent.com/a-/AOh14GiYmVyCY-PFJKi45xg27D3IlWDsvA8ClOubUfca=s64",
      "userId": "08333186424171762674"
     },
     "user_tz": -60
    },
    "id": "Z7EeJykgyIuz",
    "outputId": "882f294a-ff5d-4c6b-9387-fbbcb105667d"
   },
   "outputs": [
    {
     "name": "stdout",
     "output_type": "stream",
     "text": [
      "=====Evaluation Prediction Confidence data=====\n",
      "Confusion matrix\n",
      "[[862   1  11   9   2   1  84   0   4   0]\n",
      " [  3 969   0   9   3   0   1   0   0   0]\n",
      " [ 19   1 841  10  63   0  45   0   0   0]\n",
      " [ 31   5  11 873  33   0  20   0   2   0]\n",
      " [  0   0  83  20 821   0  65   0   0   0]\n",
      " [  0   0   0   0   0 952   0  26   1  19]\n",
      " [117   0  70  21  46   0 705   0   7   0]\n",
      " [  0   0   0   0   0   7   0 968   0  25]\n",
      " [  4   0   1   6   1   1   3   5 966   0]\n",
      " [  0   0   0   0   0   5   1  30   0 963]]\n",
      "\n",
      "              precision    recall  f1-score   support\n",
      "\n",
      " T-shirt/top       0.83      0.89      0.86       974\n",
      "     Trouser       0.99      0.98      0.99       985\n",
      "    Pullover       0.83      0.86      0.84       979\n",
      "       Dress       0.92      0.90      0.91       975\n",
      "        Coat       0.85      0.83      0.84       989\n",
      "      Sandal       0.99      0.95      0.97       998\n",
      "       Shirt       0.76      0.73      0.75       966\n",
      "     Sneaker       0.94      0.97      0.95      1000\n",
      "         Bag       0.99      0.98      0.98       987\n",
      "  Ankle boot       0.96      0.96      0.96       999\n",
      "\n",
      "    accuracy                           0.91      9852\n",
      "   macro avg       0.91      0.90      0.90      9852\n",
      "weighted avg       0.91      0.91      0.91      9852\n",
      "\n"
     ]
    }
   ],
   "source": [
    "# Evaluating Prediction Confidence best_dropout_FC:\n",
    "\n",
    "print('=====Evaluation Prediction Confidence data=====')\n",
    "print_classification_report(y_test_99_2, np.argmax(best_99_2, axis = 1), label_names)"
   ]
  },
  {
   "cell_type": "markdown",
   "metadata": {
    "id": "yyQ53cq0W-rD"
   },
   "source": [
    "## Best model\n",
    "\n",
    "Try to create improved  model by changing some of the parameters ofyour best model\n",
    "1. e.g., add batchnormzalization\n",
    "2. increase/decrease dropout\n",
    "3. change learning rate\n",
    "4. change the optimizer"
   ]
  },
  {
   "cell_type": "markdown",
   "metadata": {
    "id": "09dLVcwm6Qo5"
   },
   "source": [
    "Best DNN model:\n"
   ]
  },
  {
   "cell_type": "code",
   "execution_count": 45,
   "metadata": {
    "colab": {
     "base_uri": "https://localhost:8080/"
    },
    "executionInfo": {
     "elapsed": 562595,
     "status": "ok",
     "timestamp": 1613732862327,
     "user": {
      "displayName": "Mitko Kinov",
      "photoUrl": "https://lh3.googleusercontent.com/a-/AOh14GiYmVyCY-PFJKi45xg27D3IlWDsvA8ClOubUfca=s64",
      "userId": "08333186424171762674"
     },
     "user_tz": -60
    },
    "id": "56hqfFjtHASu",
    "outputId": "23543db7-81e6-4e8a-a1ab-1a43eea6e4d4"
   },
   "outputs": [
    {
     "name": "stdout",
     "output_type": "stream",
     "text": [
      "Model: \"model_2\"\n",
      "_________________________________________________________________\n",
      "Layer (type)                 Output Shape              Param #   \n",
      "=================================================================\n",
      "input_3 (InputLayer)         [(None, 784)]             0         \n",
      "_________________________________________________________________\n",
      "batch_normalization_4 (Batch (None, 784)               3136      \n",
      "_________________________________________________________________\n",
      "dense_8 (Dense)              (None, 1024)              803840    \n",
      "_________________________________________________________________\n",
      "batch_normalization_5 (Batch (None, 1024)              4096      \n",
      "_________________________________________________________________\n",
      "dropout_3 (Dropout)          (None, 1024)              0         \n",
      "_________________________________________________________________\n",
      "dense_9 (Dense)              (None, 512)               524800    \n",
      "_________________________________________________________________\n",
      "batch_normalization_6 (Batch (None, 512)               2048      \n",
      "_________________________________________________________________\n",
      "dropout_4 (Dropout)          (None, 512)               0         \n",
      "_________________________________________________________________\n",
      "dense_10 (Dense)             (None, 256)               131328    \n",
      "_________________________________________________________________\n",
      "batch_normalization_7 (Batch (None, 256)               1024      \n",
      "_________________________________________________________________\n",
      "dropout_5 (Dropout)          (None, 256)               0         \n",
      "_________________________________________________________________\n",
      "dense_11 (Dense)             (None, 10)                2570      \n",
      "=================================================================\n",
      "Total params: 1,472,842\n",
      "Trainable params: 1,467,690\n",
      "Non-trainable params: 5,152\n",
      "_________________________________________________________________\n"
     ]
    }
   ],
   "source": [
    "# Creating Best DNN model object:\n",
    "\n",
    "def create_Best_DNN_model(input_shape, num_cells, output_shape):\n",
    "  # drop_rate = 0.5\n",
    "\n",
    "  _input = Input(input_shape)\n",
    "\n",
    "  layer = BatchNormalization()(_input)\n",
    "\n",
    "  layer = Dense(num_cells, activation = 'relu')(layer)\n",
    "  layer = BatchNormalization()(layer)\n",
    "  layer = Dropout(0.2)(layer)\n",
    "\n",
    "  layer = Dense(num_cells//2, activation = 'relu')(layer)\n",
    "  layer = BatchNormalization()(layer)\n",
    "  layer = Dropout(0.5)(layer)\n",
    "\n",
    "  layer = Dense(num_cells//4, activation = 'relu')(layer)\n",
    "  layer = BatchNormalization()(layer)\n",
    "  layer = Dropout(0.3)(layer)\n",
    "\n",
    "  _output = Dense(output_shape, activation = 'sigmoid')(layer)\n",
    "  my_model = Model(inputs = [_input], outputs = [_output])\n",
    "  my_model.compile(loss = 'sparse_categorical_crossentropy', optimizer = 'adam', metrics = ['accuracy'])\n",
    "\n",
    "  return my_model\n",
    "\n",
    "input_shape  = (n_row*n_col)\n",
    "num_cells = 1024\n",
    "output_shape = len(np.unique(y_test))\n",
    "model_best = create_Best_DNN_model(input_shape, num_cells, output_shape)\n",
    "model_best.summary()"
   ]
  },
  {
   "cell_type": "code",
   "execution_count": 46,
   "metadata": {
    "executionInfo": {
     "elapsed": 562899,
     "status": "ok",
     "timestamp": 1613732862660,
     "user": {
      "displayName": "Mitko Kinov",
      "photoUrl": "https://lh3.googleusercontent.com/a-/AOh14GiYmVyCY-PFJKi45xg27D3IlWDsvA8ClOubUfca=s64",
      "userId": "08333186424171762674"
     },
     "user_tz": -60
    },
    "id": "B35DgKmo7A2J"
   },
   "outputs": [],
   "source": [
    "# Setting the model:\n",
    "\n",
    "path = 'best_dnn_model.pt'\n",
    "\n",
    "# ModelCheckpoint monitoring:\n",
    "callback_1 = ModelCheckpoint(path, monitor = 'val_accuracy', save_best_only = True, mode = 'max', verbose = 1)\n",
    "\n",
    "# Earlystopping monitoring:\n",
    "callback_2 = EarlyStopping(patience = 10)\n",
    "\n",
    "# Connecting both:\n",
    "callback_list = [callback_1, callback_2]"
   ]
  },
  {
   "cell_type": "code",
   "execution_count": 47,
   "metadata": {
    "colab": {
     "base_uri": "https://localhost:8080/"
    },
    "executionInfo": {
     "elapsed": 800800,
     "status": "ok",
     "timestamp": 1613733100584,
     "user": {
      "displayName": "Mitko Kinov",
      "photoUrl": "https://lh3.googleusercontent.com/a-/AOh14GiYmVyCY-PFJKi45xg27D3IlWDsvA8ClOubUfca=s64",
      "userId": "08333186424171762674"
     },
     "user_tz": -60
    },
    "id": "ky2RSHYJ7QzK",
    "outputId": "db538b81-4cbd-4bc6-e198-d2095390fddc"
   },
   "outputs": [
    {
     "name": "stdout",
     "output_type": "stream",
     "text": [
      "Epoch 1/50\n",
      "60/60 [==============================] - 13s 197ms/step - loss: 0.9446 - accuracy: 0.6961 - val_loss: 0.8322 - val_accuracy: 0.7605\n",
      "\n",
      "Epoch 00001: val_accuracy improved from -inf to 0.76050, saving model to best_dnn_model.pt\n",
      "INFO:tensorflow:Assets written to: best_dnn_model.pt/assets\n",
      "Epoch 2/50\n",
      "60/60 [==============================] - 12s 193ms/step - loss: 0.4161 - accuracy: 0.8504 - val_loss: 0.6618 - val_accuracy: 0.7916\n",
      "\n",
      "Epoch 00002: val_accuracy improved from 0.76050 to 0.79160, saving model to best_dnn_model.pt\n",
      "INFO:tensorflow:Assets written to: best_dnn_model.pt/assets\n",
      "Epoch 3/50\n",
      "60/60 [==============================] - 12s 193ms/step - loss: 0.3692 - accuracy: 0.8653 - val_loss: 0.4742 - val_accuracy: 0.8414\n",
      "\n",
      "Epoch 00003: val_accuracy improved from 0.79160 to 0.84140, saving model to best_dnn_model.pt\n",
      "INFO:tensorflow:Assets written to: best_dnn_model.pt/assets\n",
      "Epoch 4/50\n",
      "60/60 [==============================] - 11s 191ms/step - loss: 0.3367 - accuracy: 0.8739 - val_loss: 0.3902 - val_accuracy: 0.8611\n",
      "\n",
      "Epoch 00004: val_accuracy improved from 0.84140 to 0.86110, saving model to best_dnn_model.pt\n",
      "INFO:tensorflow:Assets written to: best_dnn_model.pt/assets\n",
      "Epoch 5/50\n",
      "60/60 [==============================] - 11s 192ms/step - loss: 0.3189 - accuracy: 0.8829 - val_loss: 0.3507 - val_accuracy: 0.8730\n",
      "\n",
      "Epoch 00005: val_accuracy improved from 0.86110 to 0.87300, saving model to best_dnn_model.pt\n",
      "INFO:tensorflow:Assets written to: best_dnn_model.pt/assets\n",
      "Epoch 6/50\n",
      "60/60 [==============================] - 12s 194ms/step - loss: 0.2875 - accuracy: 0.8918 - val_loss: 0.3312 - val_accuracy: 0.8811\n",
      "\n",
      "Epoch 00006: val_accuracy improved from 0.87300 to 0.88110, saving model to best_dnn_model.pt\n",
      "INFO:tensorflow:Assets written to: best_dnn_model.pt/assets\n",
      "Epoch 7/50\n",
      "60/60 [==============================] - 12s 192ms/step - loss: 0.2723 - accuracy: 0.8987 - val_loss: 0.3294 - val_accuracy: 0.8784\n",
      "\n",
      "Epoch 00007: val_accuracy did not improve from 0.88110\n",
      "Epoch 8/50\n",
      "60/60 [==============================] - 12s 193ms/step - loss: 0.2627 - accuracy: 0.9016 - val_loss: 0.3156 - val_accuracy: 0.8854\n",
      "\n",
      "Epoch 00008: val_accuracy improved from 0.88110 to 0.88540, saving model to best_dnn_model.pt\n",
      "INFO:tensorflow:Assets written to: best_dnn_model.pt/assets\n",
      "Epoch 9/50\n",
      "60/60 [==============================] - 12s 194ms/step - loss: 0.2518 - accuracy: 0.9048 - val_loss: 0.3181 - val_accuracy: 0.8860\n",
      "\n",
      "Epoch 00009: val_accuracy improved from 0.88540 to 0.88600, saving model to best_dnn_model.pt\n",
      "INFO:tensorflow:Assets written to: best_dnn_model.pt/assets\n",
      "Epoch 10/50\n",
      "60/60 [==============================] - 11s 191ms/step - loss: 0.2360 - accuracy: 0.9118 - val_loss: 0.3219 - val_accuracy: 0.8874\n",
      "\n",
      "Epoch 00010: val_accuracy improved from 0.88600 to 0.88740, saving model to best_dnn_model.pt\n",
      "INFO:tensorflow:Assets written to: best_dnn_model.pt/assets\n",
      "Epoch 11/50\n",
      "60/60 [==============================] - 12s 195ms/step - loss: 0.2245 - accuracy: 0.9152 - val_loss: 0.3260 - val_accuracy: 0.8896\n",
      "\n",
      "Epoch 00011: val_accuracy improved from 0.88740 to 0.88960, saving model to best_dnn_model.pt\n",
      "INFO:tensorflow:Assets written to: best_dnn_model.pt/assets\n",
      "Epoch 12/50\n",
      "60/60 [==============================] - 12s 195ms/step - loss: 0.2087 - accuracy: 0.9208 - val_loss: 0.3193 - val_accuracy: 0.8887\n",
      "\n",
      "Epoch 00012: val_accuracy did not improve from 0.88960\n",
      "Epoch 13/50\n",
      "60/60 [==============================] - 12s 192ms/step - loss: 0.2052 - accuracy: 0.9227 - val_loss: 0.3173 - val_accuracy: 0.8945\n",
      "\n",
      "Epoch 00013: val_accuracy improved from 0.88960 to 0.89450, saving model to best_dnn_model.pt\n",
      "INFO:tensorflow:Assets written to: best_dnn_model.pt/assets\n",
      "Epoch 14/50\n",
      "60/60 [==============================] - 12s 194ms/step - loss: 0.2014 - accuracy: 0.9241 - val_loss: 0.3316 - val_accuracy: 0.8904\n",
      "\n",
      "Epoch 00014: val_accuracy did not improve from 0.89450\n",
      "Epoch 15/50\n",
      "60/60 [==============================] - 12s 196ms/step - loss: 0.1890 - accuracy: 0.9277 - val_loss: 0.3272 - val_accuracy: 0.8909\n",
      "\n",
      "Epoch 00015: val_accuracy did not improve from 0.89450\n",
      "Epoch 16/50\n",
      "60/60 [==============================] - 12s 194ms/step - loss: 0.1747 - accuracy: 0.9342 - val_loss: 0.3319 - val_accuracy: 0.8899\n",
      "\n",
      "Epoch 00016: val_accuracy did not improve from 0.89450\n",
      "Epoch 17/50\n",
      "60/60 [==============================] - 12s 194ms/step - loss: 0.1729 - accuracy: 0.9351 - val_loss: 0.3275 - val_accuracy: 0.8924\n",
      "\n",
      "Epoch 00017: val_accuracy did not improve from 0.89450\n",
      "Epoch 18/50\n",
      "60/60 [==============================] - 12s 194ms/step - loss: 0.1657 - accuracy: 0.9373 - val_loss: 0.3218 - val_accuracy: 0.8979\n",
      "\n",
      "Epoch 00018: val_accuracy improved from 0.89450 to 0.89790, saving model to best_dnn_model.pt\n",
      "INFO:tensorflow:Assets written to: best_dnn_model.pt/assets\n",
      "Training Finished\n"
     ]
    }
   ],
   "source": [
    "# Training the model:\n",
    "\n",
    "val_data = (X_test, y_test)\n",
    "\n",
    "train_history_3 = model_best.fit(X_train, \n",
    "                                 y_train, \n",
    "                                 validation_data = val_data, \n",
    "                                 epochs = 50, \n",
    "                                 batch_size = 1000, \n",
    "                                 callbacks = callback_list) \n",
    "\n",
    "print('Training Finished')"
   ]
  },
  {
   "cell_type": "code",
   "execution_count": 48,
   "metadata": {
    "executionInfo": {
     "elapsed": 802052,
     "status": "ok",
     "timestamp": 1613733101866,
     "user": {
      "displayName": "Mitko Kinov",
      "photoUrl": "https://lh3.googleusercontent.com/a-/AOh14GiYmVyCY-PFJKi45xg27D3IlWDsvA8ClOubUfca=s64",
      "userId": "08333186424171762674"
     },
     "user_tz": -60
    },
    "id": "2RCyS9f97pio"
   },
   "outputs": [],
   "source": [
    "# Load best_dnn_model.pt and use it on the test data:\n",
    "\n",
    "from keras.models import load_model\n",
    "\n",
    "# Loading the best model:\n",
    "best_m3 = load_model('/content/best_dnn_model.pt')"
   ]
  },
  {
   "cell_type": "code",
   "execution_count": 49,
   "metadata": {
    "executionInfo": {
     "elapsed": 803483,
     "status": "ok",
     "timestamp": 1613733103309,
     "user": {
      "displayName": "Mitko Kinov",
      "photoUrl": "https://lh3.googleusercontent.com/a-/AOh14GiYmVyCY-PFJKi45xg27D3IlWDsvA8ClOubUfca=s64",
      "userId": "08333186424171762674"
     },
     "user_tz": -60
    },
    "id": "7PpEixTA7-gd"
   },
   "outputs": [],
   "source": [
    "# Predicting with the best model:\n",
    "\n",
    "best_pred_3 = best_m3.predict(X_test)\n",
    "best_pred_3 = np.argmax(best_pred_3, axis=1)"
   ]
  },
  {
   "cell_type": "code",
   "execution_count": 50,
   "metadata": {
    "colab": {
     "base_uri": "https://localhost:8080/"
    },
    "executionInfo": {
     "elapsed": 803477,
     "status": "ok",
     "timestamp": 1613733103318,
     "user": {
      "displayName": "Mitko Kinov",
      "photoUrl": "https://lh3.googleusercontent.com/a-/AOh14GiYmVyCY-PFJKi45xg27D3IlWDsvA8ClOubUfca=s64",
      "userId": "08333186424171762674"
     },
     "user_tz": -60
    },
    "id": "sX18Ijoi8Hw0",
    "outputId": "9f3655e3-26da-459d-9737-c2650c5237cb"
   },
   "outputs": [
    {
     "name": "stdout",
     "output_type": "stream",
     "text": [
      "=====Evaluation Best DNN Model Data=====\n",
      "Confusion matrix\n",
      "[[850   2  15  40   7   2  78   0   6   0]\n",
      " [  4 976   1  13   2   0   3   0   1   0]\n",
      " [ 17   1 820  17  95   1  47   1   1   0]\n",
      " [ 14   3   6 940  20   0  13   0   4   0]\n",
      " [  1   0  79  40 841   0  39   0   0   0]\n",
      " [  0   0   0   1   0 974   0  14   0  11]\n",
      " [108   0  78  46  68   0 690   0  10   0]\n",
      " [  0   0   0   0   0  22   0 946   0  32]\n",
      " [  2   0   4   8   1   3   3   3 976   0]\n",
      " [  0   0   0   0   0   8   1  24   0 967]]\n",
      "\n",
      "              precision    recall  f1-score   support\n",
      "\n",
      " T-shirt/top       0.85      0.85      0.85      1000\n",
      "     Trouser       0.99      0.98      0.98      1000\n",
      "    Pullover       0.82      0.82      0.82      1000\n",
      "       Dress       0.85      0.94      0.89      1000\n",
      "        Coat       0.81      0.84      0.83      1000\n",
      "      Sandal       0.96      0.97      0.97      1000\n",
      "       Shirt       0.79      0.69      0.74      1000\n",
      "     Sneaker       0.96      0.95      0.95      1000\n",
      "         Bag       0.98      0.98      0.98      1000\n",
      "  Ankle boot       0.96      0.97      0.96      1000\n",
      "\n",
      "    accuracy                           0.90     10000\n",
      "   macro avg       0.90      0.90      0.90     10000\n",
      "weighted avg       0.90      0.90      0.90     10000\n",
      "\n"
     ]
    }
   ],
   "source": [
    "# Evaluating DNN with Dropout and BatchNormalization model:\n",
    "\n",
    "print('=====Evaluation Best DNN Model Data=====')\n",
    "print_classification_report(y_test, best_pred_3, label_names)"
   ]
  },
  {
   "cell_type": "code",
   "execution_count": 51,
   "metadata": {
    "colab": {
     "base_uri": "https://localhost:8080/",
     "height": 279
    },
    "executionInfo": {
     "elapsed": 803824,
     "status": "ok",
     "timestamp": 1613733103685,
     "user": {
      "displayName": "Mitko Kinov",
      "photoUrl": "https://lh3.googleusercontent.com/a-/AOh14GiYmVyCY-PFJKi45xg27D3IlWDsvA8ClOubUfca=s64",
      "userId": "08333186424171762674"
     },
     "user_tz": -60
    },
    "id": "X_P1A9YX8UXr",
    "outputId": "c32c2ef2-b66e-49d8-8c47-eb7c3b3ab6e1"
   },
   "outputs": [
    {
     "data": {
      "image/png": "[encoded data removed]",
      "text/plain": [
       "<Figure size 432x288 with 1 Axes>"
      ]
     },
     "metadata": {
      "needs_background": "light",
      "tags": []
     },
     "output_type": "display_data"
    }
   ],
   "source": [
    "# Visualizing the learning curves on both models:\n",
    "\n",
    "plt.plot(train_history_3.history['accuracy'], label = 'best_dnn_model train')\n",
    "plt.plot(train_history_3.history['val_accuracy'], label = 'best_dnn_model validation')\n",
    "\n",
    "plt.legend()\n",
    "plt.grid()\n",
    "plt.ylabel('accuracy')\n",
    "plt.xlabel('epoch')\n",
    "plt.show()"
   ]
  },
  {
   "cell_type": "markdown",
   "metadata": {
    "id": "wZvQ59aXy1r7"
   },
   "source": [
    "## Summary on Best Model:\n",
    "\n",
    "- During the process of building the best DNN model were tried different approachest and settings in the designated space (batchnormzalization, dropout, learning rate and optimizer) however the accuracy of the model was not improved (0.90 was never overpassed), on the contrary, on most of the cases we received lower accuracy than 0.90 and on rest of it we just confirm already reached highest accuracy of 0.90.\n",
    "\n",
    "Now, going step by step:\n",
    "\n",
    "1) add batchnormzalization - was already applied and contributed in small improvement in the model accuracy.\n",
    "\n",
    "2) increase/decrease dropout - different setting we tried with the dropout approach however once again improvement in accuracy was not achieved. But, dropout give un inside that with proper setting we can avoid overfitting of the model. \n",
    "\n",
    "3) change learning rate - now the learning rate also did not help in increasing accuracy but show sign that affects different areas of the model such as epochs and batch size. For example, with some learing rates we needed to increase the numbers of epochs in order to help model to converge (however this is not in our task requrement).\n",
    "\n",
    "4) change the optimizer - here a lot of optimizers were applied such as: \n",
    "\n",
    "- SGD\n",
    "- RMSprop\n",
    "- Adam\n",
    "- Adadelta\n",
    "- Adagrad\n",
    "- Adamax\n",
    "- Nadam\n",
    "- Ftrl\n",
    "\n",
    "Also, we tried more deeper setting of the optimizers, here are some of the examples:\n",
    "\n",
    "#### Setting for building best model: SGD approach\n",
    "- from keras.optimizers import SGD\n",
    "- epochs = 50\n",
    "- lrate = 0.01\n",
    "- decay = lrate/epochs\n",
    "- sgd = SGD(lr = lrate, momentum = 0.9, decay = decay)\n",
    "\n",
    "#### Setting for building best model: Adam approach\n",
    "- import tensorflow as tf\n",
    "- adam = tf.keras.optimizers.Adam(learning_rate = 0.1, beta_1 = 0.9, beta_2 = 0.999, epsilon = 1e-07, amsgrad = False)\n",
    "\n",
    "Overall, the accuracy of 0.90 was not improved, however there are still options that can be explored."
   ]
  }
 ],
 "metadata": {
  "colab": {
   "collapsed_sections": [],
   "name": "Copy of ML_Workshop8_Mitko_Final.ipynb",
   "provenance": [
    {
     "file_id": "1pqBkCb6hOMFMo1GmlmCs6M7PQoL3Kv_P",
     "timestamp": 1613733916077
    },
    {
     "file_id": "1388-DYC5yrGgy9sVMdNyfSYxajQN6NpR",
     "timestamp": 1613204509611
    },
    {
     "file_id": "1YTDMHt-2znq88q7NqeN4IAFZDgyE0W-i",
     "timestamp": 1613201560224
    },
    {
     "file_id": "1p2EmYWeJTqUOrOeCBa_M1evr1sRtoAOY",
     "timestamp": 1613162080414
    }
   ]
  },
  "kernelspec": {
   "display_name": "Python 3",
   "language": "python",
   "name": "python3"
  },
  "language_info": {
   "codemirror_mode": {
    "name": "ipython",
    "version": 3
   },
   "file_extension": ".py",
   "mimetype": "text/x-python",
   "name": "python",
   "nbconvert_exporter": "python",
   "pygments_lexer": "ipython3",
   "version": "3.7.10"
  }
 },
 "nbformat": 4,
 "nbformat_minor": 1
}
