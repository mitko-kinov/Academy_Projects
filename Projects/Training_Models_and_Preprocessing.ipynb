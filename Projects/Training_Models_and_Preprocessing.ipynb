{
 "cells": [
  {
   "cell_type": "markdown",
   "metadata": {
    "id": "Mwdjskw6r4Tu"
   },
   "source": [
    "# Workshop Task - Training models and preprocessing\n"
   ]
  },
  {
   "cell_type": "markdown",
   "metadata": {
    "id": "w7LRTcrGr4Tu"
   },
   "source": [
    "We have classification problem where we have to predict whether a credit would be approved or not for a client.\n",
    "\n",
    "\n",
    "|Field Name|\tOrder|\tType (Format)|Description|\n",
    "| -------| -------|-----------|---------|\n",
    "|checking_status|\t1|\tstring (default)|Status of existing checking account, in Deutsche Mark.|\t\n",
    "|duration\t|2|\tnumber (default)\t|Duration in months|\n",
    "|credit_history\t|3|\tstring (default)\t|Credit history (credits taken, paid back duly, delays, critical accounts)|\n",
    "|purpose\t|4|\tstring (default)\t|Purpose of the credit (car, television,…)|\n",
    "|credit_amount\t|5|\tnumber (default)\t|Credit amount|\n",
    "|savings_status\t|6|\tstring (default)\t|Status of savings account/bonds, in Deutsche Mark.|\n",
    "|employment\t|7|\tstring (default)\t|Present employment, in number of years.|\n",
    "|installment_commitment\t|8|\tnumber (default)|Installment rate in percentage of disposable income|\t\n",
    "|personal_status\t|9|\tstring (default)|Personal status (married, single,…) and sex|\n",
    "|other_parties\t|10|\tstring (default)|Other debtors / guarantors|\t\n",
    "|residence_since\t|11|\tnumber (default)|Present residence since X years|\t\n",
    "|property_magnitude\t|12|\tstring (default)|Property (e.g. real estate)|\t\n",
    "|age\t|13|\tnumber (default)\t|Age in years|\n",
    "|other_payment_plans\t|14|\tstring (default)|Other installment plans (banks, stores)|\n",
    "|housing\t|15|\tstring (default)\t|Housing (rent, own,…)|\n",
    "|existing_credits\t|16|\tnumber (default)|Number of existing credits at this bank|\t\n",
    "|job\t|17|\tstring (default)\t|Job|\n",
    "|num_dependents\t|18|\tnumber (default)|Number of people being liable to provide maintenance for|\t\n",
    "|own_telephone\t|19|\tstring (default)|Telephone (yes,no)|\t\n",
    "|foreign_worker\t|20|\tstring (default)|Foreign worker (yes,no)|\t\n",
    "accepted\t|21|\tstring (default)\t|Class|\n",
    "\n",
    "\n",
    "Your task is to : \n",
    "  1. Use some EDA techniques we learned this week   \n",
    "  2. Using Univariate variable analysis, detect what is wrong with the following features : \n",
    "      - change_purpose\n",
    "      - change_duration\n",
    "      - checking_status\n",
    "      - personal_status  \n",
    "    Hint : use dataframe['feature'].unique()\n",
    "  3. Fix the problems on the features above \n",
    "      - hint : Use df.replace from pandas, and df.apply\n",
    "  4. Detect skewed distribution on a numeric variable :\n",
    "      - Use log/sqrt transformation on at least one variable with skewed distribution\n",
    "      - hint : use np.log() or np.sqrt()\n",
    "  5. Detect missing values and handle them\n",
    "      * Warning : there are 2 missing type of values\n",
    "      * hint : dataset = dataset.replace('missing_value', np.nan)\n",
    "\n",
    "  6. Use Catboost Encoding (Count Encoding, Target Encoding) and compare the performance with One-Hot Encoding\n",
    "  \n",
    "  7. Scale the numeric data (some of them)\n",
    "  \n",
    "  8. Make train/test split : with train(70%), test(30%) with random_state = 0\n",
    "\n",
    "  9. Train the model\n",
    "  \n",
    "  10. Evaluate the model\n",
    "  \n",
    "  11. Achieve accuracy on test set >=0.90\n",
    "  \n",
    "  12. For reproducibility please use random_state on train_test_split and model initialization\n",
    "  \n",
    "  13. Write a summary :\n",
    "    - Which model gives the best result?\n",
    "    - What can we improve in the future?\n",
    "    - Which encoding give better performance on this dataset (CatBoost or One-Hot)?\n",
    "    \n",
    "Bonus points : \n",
    "* Add precision/recall evaluation\n",
    "\n",
    "* Hint : use:  from sklearn.metrics import classification_report\n",
    "\n",
    "----------------------------\n",
    "General Support : \n",
    "For converting feature to numeric value use :\n",
    "pd.to_numeric(dataset[feature], errors='coerce')\n",
    "\n"
   ]
  },
  {
   "cell_type": "code",
   "execution_count": 1,
   "metadata": {
    "id": "djzPjm_Cr4Tv"
   },
   "outputs": [],
   "source": [
    "import pandas as pd\n",
    "import numpy as np"
   ]
  },
  {
   "cell_type": "code",
   "execution_count": 2,
   "metadata": {},
   "outputs": [],
   "source": [
    "import seaborn as sns\n",
    "import matplotlib.pyplot as plt"
   ]
  },
  {
   "cell_type": "code",
   "execution_count": 3,
   "metadata": {
    "id": "41aXpvV_r4Ty"
   },
   "outputs": [],
   "source": [
    "dataset = pd.read_csv('dataset-workshop.csv')"
   ]
  },
  {
   "cell_type": "code",
   "execution_count": 4,
   "metadata": {
    "id": "dnQ40iIZr4T0",
    "outputId": "c16adb57-d66c-43b5-cf7c-2d944d898d8c",
    "scrolled": true
   },
   "outputs": [
    {
     "data": {
      "text/html": [
       "<div>\n",
       "<style scoped>\n",
       "    .dataframe tbody tr th:only-of-type {\n",
       "        vertical-align: middle;\n",
       "    }\n",
       "\n",
       "    .dataframe tbody tr th {\n",
       "        vertical-align: top;\n",
       "    }\n",
       "\n",
       "    .dataframe thead th {\n",
       "        text-align: right;\n",
       "    }\n",
       "</style>\n",
       "<table border=\"1\" class=\"dataframe\">\n",
       "  <thead>\n",
       "    <tr style=\"text-align: right;\">\n",
       "      <th></th>\n",
       "      <th>Unnamed: 0</th>\n",
       "      <th>checking_status</th>\n",
       "      <th>duration</th>\n",
       "      <th>credit_history</th>\n",
       "      <th>purpose</th>\n",
       "      <th>credit_amount</th>\n",
       "      <th>savings_status</th>\n",
       "      <th>employment</th>\n",
       "      <th>installment_commitment</th>\n",
       "      <th>personal_status</th>\n",
       "      <th>...</th>\n",
       "      <th>property_magnitude</th>\n",
       "      <th>age</th>\n",
       "      <th>other_payment_plans</th>\n",
       "      <th>housing</th>\n",
       "      <th>existing_credits</th>\n",
       "      <th>job</th>\n",
       "      <th>num_dependents</th>\n",
       "      <th>own_telephone</th>\n",
       "      <th>foreign_worker</th>\n",
       "      <th>accepted</th>\n",
       "    </tr>\n",
       "  </thead>\n",
       "  <tbody>\n",
       "    <tr>\n",
       "      <th>0</th>\n",
       "      <td>0</td>\n",
       "      <td>0_checking</td>\n",
       "      <td>6</td>\n",
       "      <td>Critical_acct_other_credits_existing</td>\n",
       "      <td>radio/television</td>\n",
       "      <td>3380.000000</td>\n",
       "      <td>Unknown_or_no_savings_acct</td>\n",
       "      <td>&gt;7yrs</td>\n",
       "      <td>4</td>\n",
       "      <td>male_single</td>\n",
       "      <td>...</td>\n",
       "      <td>real_estate</td>\n",
       "      <td>NaN</td>\n",
       "      <td>none</td>\n",
       "      <td>own</td>\n",
       "      <td>2</td>\n",
       "      <td>skilled_employee/official</td>\n",
       "      <td>1</td>\n",
       "      <td>yes</td>\n",
       "      <td>yes</td>\n",
       "      <td>0</td>\n",
       "    </tr>\n",
       "    <tr>\n",
       "      <th>1</th>\n",
       "      <td>1</td>\n",
       "      <td>from_0_to_200</td>\n",
       "      <td>48</td>\n",
       "      <td>Existing_credits_paid_till_now</td>\n",
       "      <td>radio/television</td>\n",
       "      <td>6940.208336</td>\n",
       "      <td>&lt;100DM</td>\n",
       "      <td>1_to_4yrs</td>\n",
       "      <td>2</td>\n",
       "      <td>female_divorced/separated/married</td>\n",
       "      <td>...</td>\n",
       "      <td>real_estate</td>\n",
       "      <td>22.0</td>\n",
       "      <td>none</td>\n",
       "      <td>own</td>\n",
       "      <td>1</td>\n",
       "      <td>skilled_employee/official</td>\n",
       "      <td>1</td>\n",
       "      <td>none</td>\n",
       "      <td>yes</td>\n",
       "      <td>1</td>\n",
       "    </tr>\n",
       "    <tr>\n",
       "      <th>2</th>\n",
       "      <td>2</td>\n",
       "      <td>None</td>\n",
       "      <td>12</td>\n",
       "      <td>Critical_acct_other_credits_existing</td>\n",
       "      <td>education</td>\n",
       "      <td>1902.370483</td>\n",
       "      <td>&lt;100DM</td>\n",
       "      <td>4_to_7yrs</td>\n",
       "      <td>2</td>\n",
       "      <td>male_single</td>\n",
       "      <td>...</td>\n",
       "      <td>real_estate</td>\n",
       "      <td>49.0</td>\n",
       "      <td>none</td>\n",
       "      <td>own</td>\n",
       "      <td>1</td>\n",
       "      <td>unskilled_resident</td>\n",
       "      <td>2</td>\n",
       "      <td>none</td>\n",
       "      <td>yes</td>\n",
       "      <td>0</td>\n",
       "    </tr>\n",
       "    <tr>\n",
       "      <th>3</th>\n",
       "      <td>3</td>\n",
       "      <td>0_checking</td>\n",
       "      <td>42</td>\n",
       "      <td>Existing_credits_paid_till_now</td>\n",
       "      <td>furniture/equipment</td>\n",
       "      <td>1097.000000</td>\n",
       "      <td>&lt;100DM</td>\n",
       "      <td>4_to_7yrs</td>\n",
       "      <td>2</td>\n",
       "      <td>male_single</td>\n",
       "      <td>...</td>\n",
       "      <td>building_society_savings_agreement/life_insurance</td>\n",
       "      <td>45.0</td>\n",
       "      <td>none</td>\n",
       "      <td>for_free</td>\n",
       "      <td>1</td>\n",
       "      <td>skilled_employee/official</td>\n",
       "      <td>2</td>\n",
       "      <td>none</td>\n",
       "      <td>yes</td>\n",
       "      <td>0</td>\n",
       "    </tr>\n",
       "    <tr>\n",
       "      <th>4</th>\n",
       "      <td>4</td>\n",
       "      <td>0_checking</td>\n",
       "      <td>24</td>\n",
       "      <td>Delay_in_past</td>\n",
       "      <td>new_car</td>\n",
       "      <td>9021.266894</td>\n",
       "      <td>&lt;100DM</td>\n",
       "      <td>1_to_4yrs</td>\n",
       "      <td>3</td>\n",
       "      <td>male_single</td>\n",
       "      <td>...</td>\n",
       "      <td>unknown/no_property</td>\n",
       "      <td>53.0</td>\n",
       "      <td>none</td>\n",
       "      <td>for_free</td>\n",
       "      <td>2</td>\n",
       "      <td>skilled_employee/official</td>\n",
       "      <td>2</td>\n",
       "      <td>none</td>\n",
       "      <td>yes</td>\n",
       "      <td>1</td>\n",
       "    </tr>\n",
       "    <tr>\n",
       "      <th>5</th>\n",
       "      <td>5</td>\n",
       "      <td>None</td>\n",
       "      <td>36</td>\n",
       "      <td>Existing_credits_paid_till_now</td>\n",
       "      <td>education</td>\n",
       "      <td>1227.203916</td>\n",
       "      <td>Unknown_or_no_savings_acct</td>\n",
       "      <td>1_to_4yrs</td>\n",
       "      <td>2</td>\n",
       "      <td>male_single</td>\n",
       "      <td>...</td>\n",
       "      <td>unknown/no_property</td>\n",
       "      <td>35.0</td>\n",
       "      <td>none</td>\n",
       "      <td>for_free</td>\n",
       "      <td>1</td>\n",
       "      <td>unskilled_resident</td>\n",
       "      <td>2</td>\n",
       "      <td>yes</td>\n",
       "      <td>yes</td>\n",
       "      <td>0</td>\n",
       "    </tr>\n",
       "    <tr>\n",
       "      <th>6</th>\n",
       "      <td>6</td>\n",
       "      <td>None</td>\n",
       "      <td>24</td>\n",
       "      <td>Existing_credits_paid_till_now</td>\n",
       "      <td>furniture/equipment</td>\n",
       "      <td>1985.000000</td>\n",
       "      <td>500_to_1000DM</td>\n",
       "      <td>&gt;7yrs</td>\n",
       "      <td>3</td>\n",
       "      <td>male_single</td>\n",
       "      <td>...</td>\n",
       "      <td>building_society_savings_agreement/life_insurance</td>\n",
       "      <td>53.0</td>\n",
       "      <td>none</td>\n",
       "      <td>own</td>\n",
       "      <td>1</td>\n",
       "      <td>skilled_employee/official</td>\n",
       "      <td>1</td>\n",
       "      <td>none</td>\n",
       "      <td>yes</td>\n",
       "      <td>0</td>\n",
       "    </tr>\n",
       "    <tr>\n",
       "      <th>7</th>\n",
       "      <td>7</td>\n",
       "      <td>from_0_to_200</td>\n",
       "      <td>36</td>\n",
       "      <td>None</td>\n",
       "      <td>used_car</td>\n",
       "      <td>2809.000000</td>\n",
       "      <td>&lt;100DM</td>\n",
       "      <td>1_to_4yrs</td>\n",
       "      <td>2</td>\n",
       "      <td>male_single</td>\n",
       "      <td>...</td>\n",
       "      <td>car_or_other_nonsavings</td>\n",
       "      <td>35.0</td>\n",
       "      <td>none</td>\n",
       "      <td>rent</td>\n",
       "      <td>1</td>\n",
       "      <td>management_self-employed_highly_qualified/officer</td>\n",
       "      <td>1</td>\n",
       "      <td>yes</td>\n",
       "      <td>yes</td>\n",
       "      <td>0</td>\n",
       "    </tr>\n",
       "    <tr>\n",
       "      <th>8</th>\n",
       "      <td>8</td>\n",
       "      <td>None</td>\n",
       "      <td>12</td>\n",
       "      <td>Existing_credits_paid_till_now</td>\n",
       "      <td>radio/television</td>\n",
       "      <td>2484.663607</td>\n",
       "      <td>&gt;1000DM</td>\n",
       "      <td>4_to_7yrs</td>\n",
       "      <td>2</td>\n",
       "      <td>male_divorced/separated</td>\n",
       "      <td>...</td>\n",
       "      <td>real_estate</td>\n",
       "      <td>61.0</td>\n",
       "      <td>none</td>\n",
       "      <td>own</td>\n",
       "      <td>1</td>\n",
       "      <td>unskilled_resident</td>\n",
       "      <td>1</td>\n",
       "      <td>none</td>\n",
       "      <td>yes</td>\n",
       "      <td>0</td>\n",
       "    </tr>\n",
       "    <tr>\n",
       "      <th>9</th>\n",
       "      <td>9</td>\n",
       "      <td>from_0_to_200</td>\n",
       "      <td>30</td>\n",
       "      <td>Critical_acct_other_credits_existing</td>\n",
       "      <td>new_car</td>\n",
       "      <td>16324.000000</td>\n",
       "      <td>&lt;100DM</td>\n",
       "      <td>unemployed</td>\n",
       "      <td>4</td>\n",
       "      <td>male_married/widowed</td>\n",
       "      <td>...</td>\n",
       "      <td>car_or_other_nonsavings</td>\n",
       "      <td>28.0</td>\n",
       "      <td>none</td>\n",
       "      <td>own</td>\n",
       "      <td>2</td>\n",
       "      <td>management_self-employed_highly_qualified/officer</td>\n",
       "      <td>1</td>\n",
       "      <td>none</td>\n",
       "      <td>yes</td>\n",
       "      <td>1</td>\n",
       "    </tr>\n",
       "  </tbody>\n",
       "</table>\n",
       "<p>10 rows × 22 columns</p>\n",
       "</div>"
      ],
      "text/plain": [
       "   Unnamed: 0 checking_status duration                        credit_history  \\\n",
       "0           0      0_checking        6  Critical_acct_other_credits_existing   \n",
       "1           1   from_0_to_200       48        Existing_credits_paid_till_now   \n",
       "2           2            None       12  Critical_acct_other_credits_existing   \n",
       "3           3      0_checking       42        Existing_credits_paid_till_now   \n",
       "4           4      0_checking       24                         Delay_in_past   \n",
       "5           5            None       36        Existing_credits_paid_till_now   \n",
       "6           6            None       24        Existing_credits_paid_till_now   \n",
       "7           7   from_0_to_200       36                                  None   \n",
       "8           8            None       12        Existing_credits_paid_till_now   \n",
       "9           9   from_0_to_200       30  Critical_acct_other_credits_existing   \n",
       "\n",
       "               purpose  credit_amount              savings_status  employment  \\\n",
       "0     radio/television    3380.000000  Unknown_or_no_savings_acct       >7yrs   \n",
       "1     radio/television    6940.208336                      <100DM   1_to_4yrs   \n",
       "2            education    1902.370483                      <100DM   4_to_7yrs   \n",
       "3  furniture/equipment    1097.000000                      <100DM   4_to_7yrs   \n",
       "4              new_car    9021.266894                      <100DM   1_to_4yrs   \n",
       "5            education    1227.203916  Unknown_or_no_savings_acct   1_to_4yrs   \n",
       "6  furniture/equipment    1985.000000               500_to_1000DM       >7yrs   \n",
       "7             used_car    2809.000000                      <100DM   1_to_4yrs   \n",
       "8     radio/television    2484.663607                     >1000DM   4_to_7yrs   \n",
       "9              new_car   16324.000000                      <100DM  unemployed   \n",
       "\n",
       "   installment_commitment                    personal_status  ...  \\\n",
       "0                       4                        male_single  ...   \n",
       "1                       2  female_divorced/separated/married  ...   \n",
       "2                       2                        male_single  ...   \n",
       "3                       2                        male_single  ...   \n",
       "4                       3                        male_single  ...   \n",
       "5                       2                        male_single  ...   \n",
       "6                       3                        male_single  ...   \n",
       "7                       2                        male_single  ...   \n",
       "8                       2            male_divorced/separated  ...   \n",
       "9                       4               male_married/widowed  ...   \n",
       "\n",
       "                                  property_magnitude   age  \\\n",
       "0                                        real_estate   NaN   \n",
       "1                                        real_estate  22.0   \n",
       "2                                        real_estate  49.0   \n",
       "3  building_society_savings_agreement/life_insurance  45.0   \n",
       "4                                unknown/no_property  53.0   \n",
       "5                                unknown/no_property  35.0   \n",
       "6  building_society_savings_agreement/life_insurance  53.0   \n",
       "7                            car_or_other_nonsavings  35.0   \n",
       "8                                        real_estate  61.0   \n",
       "9                            car_or_other_nonsavings  28.0   \n",
       "\n",
       "  other_payment_plans   housing existing_credits  \\\n",
       "0                none       own                2   \n",
       "1                none       own                1   \n",
       "2                none       own                1   \n",
       "3                none  for_free                1   \n",
       "4                none  for_free                2   \n",
       "5                none  for_free                1   \n",
       "6                none       own                1   \n",
       "7                none      rent                1   \n",
       "8                none       own                1   \n",
       "9                none       own                2   \n",
       "\n",
       "                                                 job  num_dependents  \\\n",
       "0                          skilled_employee/official               1   \n",
       "1                          skilled_employee/official               1   \n",
       "2                                 unskilled_resident               2   \n",
       "3                          skilled_employee/official               2   \n",
       "4                          skilled_employee/official               2   \n",
       "5                                 unskilled_resident               2   \n",
       "6                          skilled_employee/official               1   \n",
       "7  management_self-employed_highly_qualified/officer               1   \n",
       "8                                 unskilled_resident               1   \n",
       "9  management_self-employed_highly_qualified/officer               1   \n",
       "\n",
       "  own_telephone  foreign_worker accepted  \n",
       "0           yes             yes        0  \n",
       "1          none             yes        1  \n",
       "2          none             yes        0  \n",
       "3          none             yes        0  \n",
       "4          none             yes        1  \n",
       "5           yes             yes        0  \n",
       "6          none             yes        0  \n",
       "7           yes             yes        0  \n",
       "8          none             yes        0  \n",
       "9          none             yes        1  \n",
       "\n",
       "[10 rows x 22 columns]"
      ]
     },
     "execution_count": 4,
     "metadata": {},
     "output_type": "execute_result"
    }
   ],
   "source": [
    "dataset.head(10)"
   ]
  },
  {
   "cell_type": "markdown",
   "metadata": {},
   "source": [
    "### 1) Use some EDA techniques we learned this week:"
   ]
  },
  {
   "cell_type": "code",
   "execution_count": 5,
   "metadata": {},
   "outputs": [
    {
     "name": "stdout",
     "output_type": "stream",
     "text": [
      "<class 'pandas.core.frame.DataFrame'>\n",
      "RangeIndex: 1003 entries, 0 to 1002\n",
      "Data columns (total 22 columns):\n",
      " #   Column                  Non-Null Count  Dtype  \n",
      "---  ------                  --------------  -----  \n",
      " 0   Unnamed: 0              1003 non-null   int64  \n",
      " 1   checking_status         1003 non-null   object \n",
      " 2   duration                1003 non-null   object \n",
      " 3   credit_history          1003 non-null   object \n",
      " 4   purpose                 1003 non-null   object \n",
      " 5   credit_amount           1003 non-null   float64\n",
      " 6   savings_status          1003 non-null   object \n",
      " 7   employment              1003 non-null   object \n",
      " 8   installment_commitment  1003 non-null   int64  \n",
      " 9   personal_status         1003 non-null   object \n",
      " 10  other_parties           1003 non-null   object \n",
      " 11  residence_since         1003 non-null   int64  \n",
      " 12  property_magnitude      1003 non-null   object \n",
      " 13  age                     953 non-null    float64\n",
      " 14  other_payment_plans     1003 non-null   object \n",
      " 15  housing                 1003 non-null   object \n",
      " 16  existing_credits        1003 non-null   int64  \n",
      " 17  job                     1003 non-null   object \n",
      " 18  num_dependents          1003 non-null   int64  \n",
      " 19  own_telephone           1003 non-null   object \n",
      " 20  foreign_worker          1003 non-null   object \n",
      " 21  accepted                1003 non-null   int64  \n",
      "dtypes: float64(2), int64(6), object(14)\n",
      "memory usage: 172.5+ KB\n"
     ]
    }
   ],
   "source": [
    "dataset.info()"
   ]
  },
  {
   "cell_type": "markdown",
   "metadata": {},
   "source": [
    "#### Note: \n",
    "\n",
    "From these information we can already see that in our dataset only 'age' has missing values which we will fill it later.\n",
    "\n",
    "However, we still need to explore the dataset to see if there is 'None', 'Unknown', or other incorrect values that give us no information.\n",
    "\n",
    "Here, we will remove the column 'Unnamed: 0' since its indentification column and has no value in our analysis.\n",
    "\n",
    "Also, the column 'duration' is marked as object instead being constructed as numeric value. Thus, we will convert this feature to numeric.\n"
   ]
  },
  {
   "cell_type": "markdown",
   "metadata": {},
   "source": [
    "#### a) Removing of 'Unnamed: 0' column:"
   ]
  },
  {
   "cell_type": "code",
   "execution_count": 6,
   "metadata": {},
   "outputs": [],
   "source": [
    "dataset.drop(columns = ['Unnamed: 0'], inplace = True)"
   ]
  },
  {
   "cell_type": "code",
   "execution_count": 7,
   "metadata": {},
   "outputs": [
    {
     "data": {
      "text/html": [
       "<div>\n",
       "<style scoped>\n",
       "    .dataframe tbody tr th:only-of-type {\n",
       "        vertical-align: middle;\n",
       "    }\n",
       "\n",
       "    .dataframe tbody tr th {\n",
       "        vertical-align: top;\n",
       "    }\n",
       "\n",
       "    .dataframe thead th {\n",
       "        text-align: right;\n",
       "    }\n",
       "</style>\n",
       "<table border=\"1\" class=\"dataframe\">\n",
       "  <thead>\n",
       "    <tr style=\"text-align: right;\">\n",
       "      <th></th>\n",
       "      <th>checking_status</th>\n",
       "      <th>duration</th>\n",
       "      <th>credit_history</th>\n",
       "      <th>purpose</th>\n",
       "      <th>credit_amount</th>\n",
       "      <th>savings_status</th>\n",
       "      <th>employment</th>\n",
       "      <th>installment_commitment</th>\n",
       "      <th>personal_status</th>\n",
       "      <th>other_parties</th>\n",
       "      <th>...</th>\n",
       "      <th>property_magnitude</th>\n",
       "      <th>age</th>\n",
       "      <th>other_payment_plans</th>\n",
       "      <th>housing</th>\n",
       "      <th>existing_credits</th>\n",
       "      <th>job</th>\n",
       "      <th>num_dependents</th>\n",
       "      <th>own_telephone</th>\n",
       "      <th>foreign_worker</th>\n",
       "      <th>accepted</th>\n",
       "    </tr>\n",
       "  </thead>\n",
       "  <tbody>\n",
       "    <tr>\n",
       "      <th>0</th>\n",
       "      <td>0_checking</td>\n",
       "      <td>6</td>\n",
       "      <td>Critical_acct_other_credits_existing</td>\n",
       "      <td>radio/television</td>\n",
       "      <td>3380.000000</td>\n",
       "      <td>Unknown_or_no_savings_acct</td>\n",
       "      <td>&gt;7yrs</td>\n",
       "      <td>4</td>\n",
       "      <td>male_single</td>\n",
       "      <td>None</td>\n",
       "      <td>...</td>\n",
       "      <td>real_estate</td>\n",
       "      <td>NaN</td>\n",
       "      <td>none</td>\n",
       "      <td>own</td>\n",
       "      <td>2</td>\n",
       "      <td>skilled_employee/official</td>\n",
       "      <td>1</td>\n",
       "      <td>yes</td>\n",
       "      <td>yes</td>\n",
       "      <td>0</td>\n",
       "    </tr>\n",
       "    <tr>\n",
       "      <th>1</th>\n",
       "      <td>from_0_to_200</td>\n",
       "      <td>48</td>\n",
       "      <td>Existing_credits_paid_till_now</td>\n",
       "      <td>radio/television</td>\n",
       "      <td>6940.208336</td>\n",
       "      <td>&lt;100DM</td>\n",
       "      <td>1_to_4yrs</td>\n",
       "      <td>2</td>\n",
       "      <td>female_divorced/separated/married</td>\n",
       "      <td>None</td>\n",
       "      <td>...</td>\n",
       "      <td>real_estate</td>\n",
       "      <td>22.0</td>\n",
       "      <td>none</td>\n",
       "      <td>own</td>\n",
       "      <td>1</td>\n",
       "      <td>skilled_employee/official</td>\n",
       "      <td>1</td>\n",
       "      <td>none</td>\n",
       "      <td>yes</td>\n",
       "      <td>1</td>\n",
       "    </tr>\n",
       "    <tr>\n",
       "      <th>2</th>\n",
       "      <td>None</td>\n",
       "      <td>12</td>\n",
       "      <td>Critical_acct_other_credits_existing</td>\n",
       "      <td>education</td>\n",
       "      <td>1902.370483</td>\n",
       "      <td>&lt;100DM</td>\n",
       "      <td>4_to_7yrs</td>\n",
       "      <td>2</td>\n",
       "      <td>male_single</td>\n",
       "      <td>None</td>\n",
       "      <td>...</td>\n",
       "      <td>real_estate</td>\n",
       "      <td>49.0</td>\n",
       "      <td>none</td>\n",
       "      <td>own</td>\n",
       "      <td>1</td>\n",
       "      <td>unskilled_resident</td>\n",
       "      <td>2</td>\n",
       "      <td>none</td>\n",
       "      <td>yes</td>\n",
       "      <td>0</td>\n",
       "    </tr>\n",
       "    <tr>\n",
       "      <th>3</th>\n",
       "      <td>0_checking</td>\n",
       "      <td>42</td>\n",
       "      <td>Existing_credits_paid_till_now</td>\n",
       "      <td>furniture/equipment</td>\n",
       "      <td>1097.000000</td>\n",
       "      <td>&lt;100DM</td>\n",
       "      <td>4_to_7yrs</td>\n",
       "      <td>2</td>\n",
       "      <td>male_single</td>\n",
       "      <td>guarantor</td>\n",
       "      <td>...</td>\n",
       "      <td>building_society_savings_agreement/life_insurance</td>\n",
       "      <td>45.0</td>\n",
       "      <td>none</td>\n",
       "      <td>for_free</td>\n",
       "      <td>1</td>\n",
       "      <td>skilled_employee/official</td>\n",
       "      <td>2</td>\n",
       "      <td>none</td>\n",
       "      <td>yes</td>\n",
       "      <td>0</td>\n",
       "    </tr>\n",
       "    <tr>\n",
       "      <th>4</th>\n",
       "      <td>0_checking</td>\n",
       "      <td>24</td>\n",
       "      <td>Delay_in_past</td>\n",
       "      <td>new_car</td>\n",
       "      <td>9021.266894</td>\n",
       "      <td>&lt;100DM</td>\n",
       "      <td>1_to_4yrs</td>\n",
       "      <td>3</td>\n",
       "      <td>male_single</td>\n",
       "      <td>None</td>\n",
       "      <td>...</td>\n",
       "      <td>unknown/no_property</td>\n",
       "      <td>53.0</td>\n",
       "      <td>none</td>\n",
       "      <td>for_free</td>\n",
       "      <td>2</td>\n",
       "      <td>skilled_employee/official</td>\n",
       "      <td>2</td>\n",
       "      <td>none</td>\n",
       "      <td>yes</td>\n",
       "      <td>1</td>\n",
       "    </tr>\n",
       "  </tbody>\n",
       "</table>\n",
       "<p>5 rows × 21 columns</p>\n",
       "</div>"
      ],
      "text/plain": [
       "  checking_status duration                        credit_history  \\\n",
       "0      0_checking        6  Critical_acct_other_credits_existing   \n",
       "1   from_0_to_200       48        Existing_credits_paid_till_now   \n",
       "2            None       12  Critical_acct_other_credits_existing   \n",
       "3      0_checking       42        Existing_credits_paid_till_now   \n",
       "4      0_checking       24                         Delay_in_past   \n",
       "\n",
       "               purpose  credit_amount              savings_status employment  \\\n",
       "0     radio/television    3380.000000  Unknown_or_no_savings_acct      >7yrs   \n",
       "1     radio/television    6940.208336                      <100DM  1_to_4yrs   \n",
       "2            education    1902.370483                      <100DM  4_to_7yrs   \n",
       "3  furniture/equipment    1097.000000                      <100DM  4_to_7yrs   \n",
       "4              new_car    9021.266894                      <100DM  1_to_4yrs   \n",
       "\n",
       "   installment_commitment                    personal_status other_parties  \\\n",
       "0                       4                        male_single          None   \n",
       "1                       2  female_divorced/separated/married          None   \n",
       "2                       2                        male_single          None   \n",
       "3                       2                        male_single     guarantor   \n",
       "4                       3                        male_single          None   \n",
       "\n",
       "   ...                                 property_magnitude   age  \\\n",
       "0  ...                                        real_estate   NaN   \n",
       "1  ...                                        real_estate  22.0   \n",
       "2  ...                                        real_estate  49.0   \n",
       "3  ...  building_society_savings_agreement/life_insurance  45.0   \n",
       "4  ...                                unknown/no_property  53.0   \n",
       "\n",
       "   other_payment_plans   housing existing_credits                        job  \\\n",
       "0                 none       own                2  skilled_employee/official   \n",
       "1                 none       own                1  skilled_employee/official   \n",
       "2                 none       own                1         unskilled_resident   \n",
       "3                 none  for_free                1  skilled_employee/official   \n",
       "4                 none  for_free                2  skilled_employee/official   \n",
       "\n",
       "  num_dependents  own_telephone foreign_worker accepted  \n",
       "0              1            yes            yes        0  \n",
       "1              1           none            yes        1  \n",
       "2              2           none            yes        0  \n",
       "3              2           none            yes        0  \n",
       "4              2           none            yes        1  \n",
       "\n",
       "[5 rows x 21 columns]"
      ]
     },
     "execution_count": 7,
     "metadata": {},
     "output_type": "execute_result"
    }
   ],
   "source": [
    "dataset.head(5)"
   ]
  },
  {
   "cell_type": "markdown",
   "metadata": {},
   "source": [
    "#### b) Visualizing the 'accepted' column (Target):"
   ]
  },
  {
   "cell_type": "code",
   "execution_count": 8,
   "metadata": {},
   "outputs": [
    {
     "data": {
      "text/plain": [
       "0    703\n",
       "1    300\n",
       "Name: accepted, dtype: int64"
      ]
     },
     "execution_count": 8,
     "metadata": {},
     "output_type": "execute_result"
    }
   ],
   "source": [
    "dataset['accepted'].value_counts()"
   ]
  },
  {
   "cell_type": "code",
   "execution_count": 9,
   "metadata": {},
   "outputs": [
    {
     "data": {
      "text/plain": [
       "0    0.700897\n",
       "1    0.299103\n",
       "Name: accepted, dtype: float64"
      ]
     },
     "execution_count": 9,
     "metadata": {},
     "output_type": "execute_result"
    }
   ],
   "source": [
    "dataset['accepted'].value_counts(normalize = True)"
   ]
  },
  {
   "cell_type": "code",
   "execution_count": 10,
   "metadata": {},
   "outputs": [
    {
     "data": {
      "text/plain": [
       "<matplotlib.axes._subplots.AxesSubplot at 0x1da21de9648>"
      ]
     },
     "execution_count": 10,
     "metadata": {},
     "output_type": "execute_result"
    },
    {
     "data": {
      "image/png": "[encoded data removed]",
      "text/plain": [
       "<Figure size 432x288 with 1 Axes>"
      ]
     },
     "metadata": {
      "needs_background": "light"
     },
     "output_type": "display_data"
    }
   ],
   "source": [
    "sns.countplot(dataset['accepted'])"
   ]
  },
  {
   "cell_type": "markdown",
   "metadata": {},
   "source": [
    "#### Note: \n",
    "\n",
    "As expected is highly unbalanced, but due to the nature of the request is considered normal."
   ]
  },
  {
   "cell_type": "markdown",
   "metadata": {},
   "source": [
    "#### c) Visualizing the numeric data distribution: "
   ]
  },
  {
   "cell_type": "code",
   "execution_count": 11,
   "metadata": {},
   "outputs": [
    {
     "data": {
      "text/plain": [
       "[dtype('O'), dtype('int64'), dtype('float64')]"
      ]
     },
     "execution_count": 11,
     "metadata": {},
     "output_type": "execute_result"
    }
   ],
   "source": [
    "list(set(dataset.dtypes.tolist()))"
   ]
  },
  {
   "cell_type": "code",
   "execution_count": 12,
   "metadata": {},
   "outputs": [
    {
     "data": {
      "text/html": [
       "<div>\n",
       "<style scoped>\n",
       "    .dataframe tbody tr th:only-of-type {\n",
       "        vertical-align: middle;\n",
       "    }\n",
       "\n",
       "    .dataframe tbody tr th {\n",
       "        vertical-align: top;\n",
       "    }\n",
       "\n",
       "    .dataframe thead th {\n",
       "        text-align: right;\n",
       "    }\n",
       "</style>\n",
       "<table border=\"1\" class=\"dataframe\">\n",
       "  <thead>\n",
       "    <tr style=\"text-align: right;\">\n",
       "      <th></th>\n",
       "      <th>credit_amount</th>\n",
       "      <th>installment_commitment</th>\n",
       "      <th>residence_since</th>\n",
       "      <th>age</th>\n",
       "      <th>existing_credits</th>\n",
       "      <th>num_dependents</th>\n",
       "      <th>accepted</th>\n",
       "    </tr>\n",
       "  </thead>\n",
       "  <tbody>\n",
       "    <tr>\n",
       "      <th>0</th>\n",
       "      <td>3380.000000</td>\n",
       "      <td>4</td>\n",
       "      <td>4</td>\n",
       "      <td>NaN</td>\n",
       "      <td>2</td>\n",
       "      <td>1</td>\n",
       "      <td>0</td>\n",
       "    </tr>\n",
       "    <tr>\n",
       "      <th>1</th>\n",
       "      <td>6940.208336</td>\n",
       "      <td>2</td>\n",
       "      <td>2</td>\n",
       "      <td>22.0</td>\n",
       "      <td>1</td>\n",
       "      <td>1</td>\n",
       "      <td>1</td>\n",
       "    </tr>\n",
       "    <tr>\n",
       "      <th>2</th>\n",
       "      <td>1902.370483</td>\n",
       "      <td>2</td>\n",
       "      <td>3</td>\n",
       "      <td>49.0</td>\n",
       "      <td>1</td>\n",
       "      <td>2</td>\n",
       "      <td>0</td>\n",
       "    </tr>\n",
       "    <tr>\n",
       "      <th>3</th>\n",
       "      <td>1097.000000</td>\n",
       "      <td>2</td>\n",
       "      <td>4</td>\n",
       "      <td>45.0</td>\n",
       "      <td>1</td>\n",
       "      <td>2</td>\n",
       "      <td>0</td>\n",
       "    </tr>\n",
       "    <tr>\n",
       "      <th>4</th>\n",
       "      <td>9021.266894</td>\n",
       "      <td>3</td>\n",
       "      <td>4</td>\n",
       "      <td>53.0</td>\n",
       "      <td>2</td>\n",
       "      <td>2</td>\n",
       "      <td>1</td>\n",
       "    </tr>\n",
       "  </tbody>\n",
       "</table>\n",
       "</div>"
      ],
      "text/plain": [
       "   credit_amount  installment_commitment  residence_since   age  \\\n",
       "0    3380.000000                       4                4   NaN   \n",
       "1    6940.208336                       2                2  22.0   \n",
       "2    1902.370483                       2                3  49.0   \n",
       "3    1097.000000                       2                4  45.0   \n",
       "4    9021.266894                       3                4  53.0   \n",
       "\n",
       "   existing_credits  num_dependents  accepted  \n",
       "0                 2               1         0  \n",
       "1                 1               1         1  \n",
       "2                 1               2         0  \n",
       "3                 1               2         0  \n",
       "4                 2               2         1  "
      ]
     },
     "execution_count": 12,
     "metadata": {},
     "output_type": "execute_result"
    }
   ],
   "source": [
    "dataset_num = dataset.select_dtypes(include = ['float64', 'int64'])\n",
    "dataset_num.head()"
   ]
  },
  {
   "cell_type": "code",
   "execution_count": 13,
   "metadata": {},
   "outputs": [
    {
     "data": {
      "text/plain": [
       "array([[<matplotlib.axes._subplots.AxesSubplot object at 0x000001DA21ECB308>,\n",
       "        <matplotlib.axes._subplots.AxesSubplot object at 0x000001DA21F47488>,\n",
       "        <matplotlib.axes._subplots.AxesSubplot object at 0x000001DA21F81088>],\n",
       "       [<matplotlib.axes._subplots.AxesSubplot object at 0x000001DA21FBB188>,\n",
       "        <matplotlib.axes._subplots.AxesSubplot object at 0x000001DA21FF3288>,\n",
       "        <matplotlib.axes._subplots.AxesSubplot object at 0x000001DA2202A388>],\n",
       "       [<matplotlib.axes._subplots.AxesSubplot object at 0x000001DA22064488>,\n",
       "        <matplotlib.axes._subplots.AxesSubplot object at 0x000001DA2209D588>,\n",
       "        <matplotlib.axes._subplots.AxesSubplot object at 0x000001DA220A9188>]],\n",
       "      dtype=object)"
      ]
     },
     "execution_count": 13,
     "metadata": {},
     "output_type": "execute_result"
    },
    {
     "data": {
      "image/png": "[encoded data removed]",
      "text/plain": [
       "<Figure size 1152x1440 with 9 Axes>"
      ]
     },
     "metadata": {
      "needs_background": "light"
     },
     "output_type": "display_data"
    }
   ],
   "source": [
    "dataset_num.hist(figsize=(16, 20), bins = 50, xlabelsize = 8, ylabelsize = 8)"
   ]
  },
  {
   "cell_type": "markdown",
   "metadata": {},
   "source": [
    "#### Note:\n",
    "\n",
    "Features such as 'age' and 'credit amount' are skewed to the right, which is expected since people between 25 - 40 years are most interested for credits.\n",
    "\n",
    "Also, the credit amount between 1000 to 5000 deutsche mark are most wanted generally among population.\n",
    "\n",
    "Moreover, 'duration' which is months of payment is more concentrated below 3 years confirming the interest for lower credits."
   ]
  },
  {
   "cell_type": "markdown",
   "metadata": {},
   "source": [
    "#### d) Searching for correlation:"
   ]
  },
  {
   "cell_type": "markdown",
   "metadata": {},
   "source": [
    "Now we will try to find which features are strongly correlated with 'accepted'. \n",
    "\n",
    "We will store them in a variable called important_features. "
   ]
  },
  {
   "cell_type": "code",
   "execution_count": 14,
   "metadata": {},
   "outputs": [
    {
     "name": "stdout",
     "output_type": "stream",
     "text": [
      "There is 1 strongly correlated values with accepted:\n",
      "credit_amount    0.687055\n",
      "Name: accepted, dtype: float64\n"
     ]
    }
   ],
   "source": [
    "dataset_num_corr = dataset_num.corr()['accepted'][:-1] # -1 because the lastest row is 'accepted'\n",
    "\n",
    "important_features = dataset_num_corr[abs(dataset_num_corr) > 0.5].sort_values(ascending = False)\n",
    "\n",
    "print('There is {} strongly correlated values with accepted:\\n{}'.format(len(important_features), important_features))"
   ]
  },
  {
   "cell_type": "markdown",
   "metadata": {},
   "source": [
    "#### Note: \n",
    "\n",
    "There is only one strongly correlated value, however we know that correlation is affected by outliers, thus we need to take it in cosideration.\n",
    "\n",
    "Correlation by itself does not always explain the relationship between data so ploting them could even lead us to new insights."
   ]
  },
  {
   "cell_type": "code",
   "execution_count": 15,
   "metadata": {},
   "outputs": [
    {
     "data": {
      "image/png": "[encoded data removed]",
      "text/plain": [
       "<Figure size 900x180 with 5 Axes>"
      ]
     },
     "metadata": {
      "needs_background": "light"
     },
     "output_type": "display_data"
    },
    {
     "data": {
      "image/png": "[encoded data removed]",
      "text/plain": [
       "<Figure size 360x180 with 2 Axes>"
      ]
     },
     "metadata": {
      "needs_background": "light"
     },
     "output_type": "display_data"
    }
   ],
   "source": [
    "for i in range(0, len(dataset_num.columns), 5):\n",
    "    sns.pairplot(data = dataset_num,\n",
    "                x_vars = dataset_num.columns[i:i+5],\n",
    "                y_vars = ['accepted'])"
   ]
  },
  {
   "cell_type": "markdown",
   "metadata": {},
   "source": [
    "#### e) Feature to feature relationship:"
   ]
  },
  {
   "cell_type": "markdown",
   "metadata": {},
   "source": [
    "We can try to see if some variables are linked between each other and then explain their relation with common sense."
   ]
  },
  {
   "cell_type": "code",
   "execution_count": 16,
   "metadata": {},
   "outputs": [
    {
     "data": {
      "text/plain": [
       "<matplotlib.axes._subplots.AxesSubplot at 0x1da227fadc8>"
      ]
     },
     "execution_count": 16,
     "metadata": {},
     "output_type": "execute_result"
    },
    {
     "data": {
      "image/png": "[encoded data removed]",
      "text/plain": [
       "<Figure size 864x720 with 2 Axes>"
      ]
     },
     "metadata": {
      "needs_background": "light"
     },
     "output_type": "display_data"
    }
   ],
   "source": [
    "corr = dataset_num.drop('accepted', axis=1).corr() # We already examined 'accepted' correlations\n",
    "plt.figure(figsize=(12, 10))\n",
    "\n",
    "sns.heatmap(corr[(corr >= 0.5) | (corr <= -0.4)], \n",
    "            cmap='viridis', vmax=1.0, vmin=-1.0, linewidths=0.1,\n",
    "            annot=True, annot_kws={\"size\": 8}, square=True)"
   ]
  },
  {
   "cell_type": "markdown",
   "metadata": {},
   "source": [
    "#### Note:\n",
    "\n",
    "There seems to be 'no' connection between the numerical fatures in our dataset."
   ]
  },
  {
   "cell_type": "markdown",
   "metadata": {},
   "source": [
    "### 2) Using Univariate variable analysis, detect what is wrong with the following features:\n",
    "\n",
    "- change_purpose\n",
    "- change_duration\n",
    "- checking_status\n",
    "- personal_status\n",
    "\n",
    "Hint : use dataframe['feature'].unique()\n",
    "    \n",
    "### 3) Fix the problems on the features above:"
   ]
  },
  {
   "cell_type": "markdown",
   "metadata": {},
   "source": [
    "#### Correction to 'purpose':"
   ]
  },
  {
   "cell_type": "code",
   "execution_count": 17,
   "metadata": {},
   "outputs": [
    {
     "data": {
      "text/plain": [
       "array(['radio/television', 'education', 'furniture/equipment', 'new_car',\n",
       "       'used_car', 'newcar', 'business', 'usedcar', 'domestic_appliances',\n",
       "       'repairs', 'other', 'retraining'], dtype=object)"
      ]
     },
     "execution_count": 17,
     "metadata": {},
     "output_type": "execute_result"
    }
   ],
   "source": [
    "dataset['purpose'].unique()"
   ]
  },
  {
   "cell_type": "code",
   "execution_count": 18,
   "metadata": {},
   "outputs": [],
   "source": [
    "dataset['purpose'] = dataset['purpose'].replace(['newcar', 'usedcar'], ['new_car', 'used_car'])"
   ]
  },
  {
   "cell_type": "code",
   "execution_count": 19,
   "metadata": {},
   "outputs": [
    {
     "data": {
      "text/plain": [
       "array(['radio/television', 'education', 'furniture/equipment', 'new_car',\n",
       "       'used_car', 'business', 'domestic_appliances', 'repairs', 'other',\n",
       "       'retraining'], dtype=object)"
      ]
     },
     "execution_count": 19,
     "metadata": {},
     "output_type": "execute_result"
    }
   ],
   "source": [
    "dataset['purpose'].unique()"
   ]
  },
  {
   "cell_type": "markdown",
   "metadata": {},
   "source": [
    "#### Correction to 'duration':"
   ]
  },
  {
   "cell_type": "code",
   "execution_count": 20,
   "metadata": {},
   "outputs": [
    {
     "data": {
      "text/plain": [
       "array(['6', '48', '12', '42', '24', '36', '30', 'None', '15', '9', '10',\n",
       "       '7', '60', '18`', '45', '11', '27', '8', '54', '20', '14', '33',\n",
       "       '21', '16', '4', '47', '13', '22', '28', '5', '39', '26', '72',\n",
       "       '40'], dtype=object)"
      ]
     },
     "execution_count": 20,
     "metadata": {},
     "output_type": "execute_result"
    }
   ],
   "source": [
    "dataset['duration'].unique()"
   ]
  },
  {
   "cell_type": "code",
   "execution_count": 21,
   "metadata": {},
   "outputs": [],
   "source": [
    "dataset['duration'].replace(to_replace = 'None', value = np.nan, inplace = True)\n",
    "dataset['duration'].replace(to_replace = '18`', value = '18', inplace = True)"
   ]
  },
  {
   "cell_type": "markdown",
   "metadata": {},
   "source": [
    "#### Converting 'duration' to numeric value:"
   ]
  },
  {
   "cell_type": "code",
   "execution_count": 22,
   "metadata": {},
   "outputs": [],
   "source": [
    "dataset['duration'] = pd.to_numeric(dataset['duration'], errors = 'coerce')"
   ]
  },
  {
   "cell_type": "code",
   "execution_count": 23,
   "metadata": {},
   "outputs": [
    {
     "data": {
      "text/plain": [
       "array([ 6., 48., 12., 42., 24., 36., 30., nan, 15.,  9., 10.,  7., 60.,\n",
       "       18., 45., 11., 27.,  8., 54., 20., 14., 33., 21., 16.,  4., 47.,\n",
       "       13., 22., 28.,  5., 39., 26., 72., 40.])"
      ]
     },
     "execution_count": 23,
     "metadata": {},
     "output_type": "execute_result"
    }
   ],
   "source": [
    "dataset['duration'].unique()"
   ]
  },
  {
   "cell_type": "markdown",
   "metadata": {},
   "source": [
    "#### Correction to 'checking_status':"
   ]
  },
  {
   "cell_type": "code",
   "execution_count": 24,
   "metadata": {},
   "outputs": [
    {
     "data": {
      "text/plain": [
       "array(['0_checking', 'from_0_to_200', 'None', 'zero_checking',\n",
       "       'more_than_200', 'from_zero_to_200', 'more_then_200'], dtype=object)"
      ]
     },
     "execution_count": 24,
     "metadata": {},
     "output_type": "execute_result"
    }
   ],
   "source": [
    "dataset['checking_status'].unique()"
   ]
  },
  {
   "cell_type": "code",
   "execution_count": 25,
   "metadata": {},
   "outputs": [],
   "source": [
    "dataset['checking_status'] = dataset['checking_status'].replace(['zero_checking', 'from_zero_to_200', 'more_then_200'],\n",
    "                                                          ['0_checking', 'from_0_to_200', 'more_than_200'])\n",
    "dataset['checking_status'].replace(to_replace = 'None', value = np.nan, inplace = True)"
   ]
  },
  {
   "cell_type": "code",
   "execution_count": 26,
   "metadata": {},
   "outputs": [
    {
     "data": {
      "text/plain": [
       "array(['0_checking', 'from_0_to_200', nan, 'more_than_200'], dtype=object)"
      ]
     },
     "execution_count": 26,
     "metadata": {},
     "output_type": "execute_result"
    }
   ],
   "source": [
    "dataset['checking_status'].unique()"
   ]
  },
  {
   "cell_type": "markdown",
   "metadata": {},
   "source": [
    "#### Correction to 'personal_status':"
   ]
  },
  {
   "cell_type": "code",
   "execution_count": 27,
   "metadata": {},
   "outputs": [
    {
     "data": {
      "text/plain": [
       "array(['male_single', 'female_divorced/separated/married',\n",
       "       'male_divorced/separated', 'male_married/widowed',\n",
       "       'feemale_divorced/separated/married'], dtype=object)"
      ]
     },
     "execution_count": 27,
     "metadata": {},
     "output_type": "execute_result"
    }
   ],
   "source": [
    "dataset['personal_status'].unique()"
   ]
  },
  {
   "cell_type": "code",
   "execution_count": 28,
   "metadata": {},
   "outputs": [],
   "source": [
    "dataset['personal_status'] = dataset['personal_status'].replace(['feemale_divorced/separated/married', 'female_divorced/separated/married'],\n",
    "                                                          ['female_devorced/separated', 'female_married/widowed'])"
   ]
  },
  {
   "cell_type": "code",
   "execution_count": 29,
   "metadata": {},
   "outputs": [
    {
     "data": {
      "text/plain": [
       "array(['male_single', 'female_married/widowed', 'male_divorced/separated',\n",
       "       'male_married/widowed', 'female_devorced/separated'], dtype=object)"
      ]
     },
     "execution_count": 29,
     "metadata": {},
     "output_type": "execute_result"
    }
   ],
   "source": [
    "dataset['personal_status'].unique()"
   ]
  },
  {
   "cell_type": "markdown",
   "metadata": {},
   "source": [
    "### 4) Detect skewed distribution on a numeric variable:"
   ]
  },
  {
   "cell_type": "markdown",
   "metadata": {},
   "source": [
    "#### Transformation on 'age' right skewed:"
   ]
  },
  {
   "cell_type": "code",
   "execution_count": 30,
   "metadata": {},
   "outputs": [
    {
     "data": {
      "text/plain": [
       "<matplotlib.axes._subplots.AxesSubplot at 0x1da228ea388>"
      ]
     },
     "execution_count": 30,
     "metadata": {},
     "output_type": "execute_result"
    },
    {
     "data": {
      "image/png": "[encoded data removed]",
      "text/plain": [
       "<Figure size 1440x360 with 2 Axes>"
      ]
     },
     "metadata": {
      "needs_background": "light"
     },
     "output_type": "display_data"
    }
   ],
   "source": [
    "plt.figure(figsize = (20, 5))\n",
    "\n",
    "plt.subplot(121)\n",
    "sns.distplot(dataset['age'], label = 'Age')\n",
    "\n",
    "plt.subplot(122)\n",
    "dataset['age'].plot(kind = 'box', label = 'Exploring distribution of Age')"
   ]
  },
  {
   "cell_type": "code",
   "execution_count": 31,
   "metadata": {},
   "outputs": [],
   "source": [
    "dataset['age'].fillna(dataset['age'].mean(), inplace = True)"
   ]
  },
  {
   "cell_type": "code",
   "execution_count": 32,
   "metadata": {},
   "outputs": [],
   "source": [
    "dataset = dataset.assign(age_norm = np.log(dataset['age'] + 0.1))"
   ]
  },
  {
   "cell_type": "code",
   "execution_count": 33,
   "metadata": {},
   "outputs": [
    {
     "data": {
      "text/plain": [
       "<matplotlib.axes._subplots.AxesSubplot at 0x1da22bba288>"
      ]
     },
     "execution_count": 33,
     "metadata": {},
     "output_type": "execute_result"
    },
    {
     "data": {
      "image/png": "[encoded data removed]",
      "text/plain": [
       "<Figure size 1440x360 with 2 Axes>"
      ]
     },
     "metadata": {
      "needs_background": "light"
     },
     "output_type": "display_data"
    }
   ],
   "source": [
    "plt.figure(figsize = (20, 5))\n",
    "\n",
    "plt.subplot(121)\n",
    "sns.distplot(dataset['age_norm'], label = 'age_normalized')\n",
    "\n",
    "plt.subplot(122)\n",
    "dataset['age_norm'].plot(kind = 'box', label = 'Exploring distribution of Age_Normalized')"
   ]
  },
  {
   "cell_type": "markdown",
   "metadata": {},
   "source": [
    "#### Transformation on 'credit_amount' right skewed:"
   ]
  },
  {
   "cell_type": "code",
   "execution_count": 34,
   "metadata": {},
   "outputs": [
    {
     "data": {
      "text/plain": [
       "<matplotlib.axes._subplots.AxesSubplot at 0x1da233db148>"
      ]
     },
     "execution_count": 34,
     "metadata": {},
     "output_type": "execute_result"
    },
    {
     "data": {
      "image/png": "[encoded data removed]",
      "text/plain": [
       "<Figure size 1440x360 with 2 Axes>"
      ]
     },
     "metadata": {
      "needs_background": "light"
     },
     "output_type": "display_data"
    }
   ],
   "source": [
    "plt.figure(figsize = (20, 5))\n",
    "\n",
    "plt.subplot(121)\n",
    "sns.distplot(dataset['credit_amount'], label = 'credit_amount')\n",
    "\n",
    "plt.subplot(122)\n",
    "dataset['credit_amount'].plot(kind = 'box', label = 'Exploring distribution of Credit_Amount')"
   ]
  },
  {
   "cell_type": "code",
   "execution_count": 35,
   "metadata": {},
   "outputs": [],
   "source": [
    "dataset = dataset.assign(credit_amount_norm = np.log(dataset['credit_amount'] + 0.1))"
   ]
  },
  {
   "cell_type": "code",
   "execution_count": 36,
   "metadata": {},
   "outputs": [
    {
     "data": {
      "text/plain": [
       "<matplotlib.axes._subplots.AxesSubplot at 0x1da227904c8>"
      ]
     },
     "execution_count": 36,
     "metadata": {},
     "output_type": "execute_result"
    },
    {
     "data": {
      "image/png": "[encoded data removed]",
      "text/plain": [
       "<Figure size 1440x360 with 2 Axes>"
      ]
     },
     "metadata": {
      "needs_background": "light"
     },
     "output_type": "display_data"
    }
   ],
   "source": [
    "plt.figure(figsize = (20, 5))\n",
    "\n",
    "plt.subplot(121)\n",
    "sns.distplot(dataset['credit_amount_norm'], label = 'credit_amount_norm')\n",
    "\n",
    "plt.subplot(122)\n",
    "dataset['credit_amount_norm'].plot(kind = 'box', label = 'Exploring distribution of Credit_Amount_Normalized')"
   ]
  },
  {
   "cell_type": "markdown",
   "metadata": {},
   "source": [
    "#### Transformation on 'duration':"
   ]
  },
  {
   "cell_type": "code",
   "execution_count": 37,
   "metadata": {},
   "outputs": [
    {
     "data": {
      "text/plain": [
       "<matplotlib.axes._subplots.AxesSubplot at 0x1da221b8408>"
      ]
     },
     "execution_count": 37,
     "metadata": {},
     "output_type": "execute_result"
    },
    {
     "data": {
      "image/png": "[encoded data removed]",
      "text/plain": [
       "<Figure size 1440x360 with 2 Axes>"
      ]
     },
     "metadata": {
      "needs_background": "light"
     },
     "output_type": "display_data"
    }
   ],
   "source": [
    "plt.figure(figsize = (20, 5))\n",
    "\n",
    "plt.subplot(121)\n",
    "sns.distplot(dataset['duration'], label = 'duration')\n",
    "\n",
    "plt.subplot(122)\n",
    "dataset['duration'].plot(kind = 'box', label = 'Exploring distribution of Duration')"
   ]
  },
  {
   "cell_type": "code",
   "execution_count": 38,
   "metadata": {},
   "outputs": [],
   "source": [
    "dataset['duration'].fillna(dataset['duration'].mean(), inplace = True)"
   ]
  },
  {
   "cell_type": "code",
   "execution_count": 39,
   "metadata": {},
   "outputs": [],
   "source": [
    "dataset = dataset.assign(duration_norm = np.log(dataset['duration'] + 0.1))"
   ]
  },
  {
   "cell_type": "code",
   "execution_count": 40,
   "metadata": {},
   "outputs": [
    {
     "data": {
      "text/plain": [
       "<matplotlib.axes._subplots.AxesSubplot at 0x1da2275ca88>"
      ]
     },
     "execution_count": 40,
     "metadata": {},
     "output_type": "execute_result"
    },
    {
     "data": {
      "image/png": "[encoded data removed]",
      "text/plain": [
       "<Figure size 1440x360 with 2 Axes>"
      ]
     },
     "metadata": {
      "needs_background": "light"
     },
     "output_type": "display_data"
    }
   ],
   "source": [
    "plt.figure(figsize = (20, 5))\n",
    "\n",
    "plt.subplot(121)\n",
    "sns.distplot(dataset['duration_norm'], label = 'duration_normalized')\n",
    "\n",
    "plt.subplot(122)\n",
    "dataset['duration_norm'].plot(kind = 'box', label = 'Exploring distribution of Duration_Normalized')"
   ]
  },
  {
   "cell_type": "markdown",
   "metadata": {},
   "source": [
    "### 5) Detect missing values and handle them:"
   ]
  },
  {
   "cell_type": "markdown",
   "metadata": {},
   "source": [
    "#### a) Check for Numeric and Category columns:"
   ]
  },
  {
   "cell_type": "code",
   "execution_count": 41,
   "metadata": {},
   "outputs": [
    {
     "name": "stdout",
     "output_type": "stream",
     "text": [
      "Numeric Columns are: \n",
      "\n",
      "duration\n",
      "credit_amount\n",
      "installment_commitment\n",
      "residence_since\n",
      "age\n",
      "existing_credits\n",
      "num_dependents\n",
      "accepted\n",
      "age_norm\n",
      "credit_amount_norm\n",
      "duration_norm\n",
      "\n",
      "______________________________\n",
      "\n",
      "Category Columns are: \n",
      "\n",
      "checking_status\n",
      "credit_history\n",
      "purpose\n",
      "savings_status\n",
      "employment\n",
      "personal_status\n",
      "other_parties\n",
      "property_magnitude\n",
      "other_payment_plans\n",
      "housing\n",
      "job\n",
      "own_telephone\n",
      "foreign_worker\n"
     ]
    }
   ],
   "source": [
    "from pandas.api.types import is_string_dtype\n",
    "from pandas.api.types import is_numeric_dtype\n",
    "\n",
    "print('Numeric Columns are: ')\n",
    "print()\n",
    "for column in dataset.columns:\n",
    "    if is_numeric_dtype(dataset[column]):\n",
    "        print(column)\n",
    "print()\n",
    "print('______________________________')\n",
    "print()\n",
    "print('Category Columns are: ')\n",
    "print()\n",
    "for column in dataset.columns:\n",
    "    if is_string_dtype(dataset[column]):\n",
    "        print(column)"
   ]
  },
  {
   "cell_type": "markdown",
   "metadata": {},
   "source": [
    "#### b) Searching for null:"
   ]
  },
  {
   "cell_type": "code",
   "execution_count": 42,
   "metadata": {},
   "outputs": [
    {
     "name": "stdout",
     "output_type": "stream",
     "text": [
      "checking_status\n"
     ]
    }
   ],
   "source": [
    "for column in dataset.columns:\n",
    "    if dataset[column].isnull().values.any():\n",
    "        print(column)"
   ]
  },
  {
   "cell_type": "markdown",
   "metadata": {},
   "source": [
    "#### c) Serching for none-like values in the rest of the dataset (Categorical columns):"
   ]
  },
  {
   "cell_type": "markdown",
   "metadata": {},
   "source": [
    "#### - Column 'credit_history':"
   ]
  },
  {
   "cell_type": "code",
   "execution_count": 43,
   "metadata": {},
   "outputs": [
    {
     "data": {
      "text/plain": [
       "array(['Critical_acct_other_credits_existing',\n",
       "       'Existing_credits_paid_till_now', 'Delay_in_past', 'None',\n",
       "       'No_credits_taken_or_all_paid', 'All_credits_paid_duly'],\n",
       "      dtype=object)"
      ]
     },
     "execution_count": 43,
     "metadata": {},
     "output_type": "execute_result"
    }
   ],
   "source": [
    "dataset['credit_history'].unique()"
   ]
  },
  {
   "cell_type": "code",
   "execution_count": 44,
   "metadata": {},
   "outputs": [],
   "source": [
    "dataset['credit_history'].replace(to_replace = 'None', value = np.nan, inplace = True)"
   ]
  },
  {
   "cell_type": "code",
   "execution_count": 45,
   "metadata": {},
   "outputs": [
    {
     "data": {
      "text/plain": [
       "array(['Critical_acct_other_credits_existing',\n",
       "       'Existing_credits_paid_till_now', 'Delay_in_past', nan,\n",
       "       'No_credits_taken_or_all_paid', 'All_credits_paid_duly'],\n",
       "      dtype=object)"
      ]
     },
     "execution_count": 45,
     "metadata": {},
     "output_type": "execute_result"
    }
   ],
   "source": [
    "dataset['credit_history'].unique()"
   ]
  },
  {
   "cell_type": "markdown",
   "metadata": {},
   "source": [
    "#### - Column 'purpose':"
   ]
  },
  {
   "cell_type": "code",
   "execution_count": 46,
   "metadata": {},
   "outputs": [
    {
     "data": {
      "text/plain": [
       "array(['radio/television', 'education', 'furniture/equipment', 'new_car',\n",
       "       'used_car', 'business', 'domestic_appliances', 'repairs', 'other',\n",
       "       'retraining'], dtype=object)"
      ]
     },
     "execution_count": 46,
     "metadata": {},
     "output_type": "execute_result"
    }
   ],
   "source": [
    "dataset['purpose'].unique()"
   ]
  },
  {
   "cell_type": "markdown",
   "metadata": {},
   "source": [
    "#### - Column 'savings_status':"
   ]
  },
  {
   "cell_type": "code",
   "execution_count": 47,
   "metadata": {},
   "outputs": [
    {
     "data": {
      "text/plain": [
       "array(['Unknown_or_no_savings_acct', '<100DM', '500_to_1000DM', '>1000DM',\n",
       "       '100_to_500DM'], dtype=object)"
      ]
     },
     "execution_count": 47,
     "metadata": {},
     "output_type": "execute_result"
    }
   ],
   "source": [
    "dataset['savings_status'].unique()"
   ]
  },
  {
   "cell_type": "markdown",
   "metadata": {},
   "source": [
    "#### - Column 'employment': "
   ]
  },
  {
   "cell_type": "code",
   "execution_count": 48,
   "metadata": {},
   "outputs": [
    {
     "data": {
      "text/plain": [
       "array(['>7yrs', '1_to_4yrs', '4_to_7yrs', 'unemployed', '<1yr'],\n",
       "      dtype=object)"
      ]
     },
     "execution_count": 48,
     "metadata": {},
     "output_type": "execute_result"
    }
   ],
   "source": [
    "dataset['employment'].unique()"
   ]
  },
  {
   "cell_type": "markdown",
   "metadata": {},
   "source": [
    "#### - Column 'other_parties':"
   ]
  },
  {
   "cell_type": "code",
   "execution_count": 49,
   "metadata": {},
   "outputs": [
    {
     "data": {
      "text/plain": [
       "array(['None', 'guarantor', 'co-applicant'], dtype=object)"
      ]
     },
     "execution_count": 49,
     "metadata": {},
     "output_type": "execute_result"
    }
   ],
   "source": [
    "dataset['other_parties'].unique()"
   ]
  },
  {
   "cell_type": "code",
   "execution_count": 50,
   "metadata": {},
   "outputs": [],
   "source": [
    "dataset['other_parties'].replace(to_replace = 'None', value = np.nan, inplace = True)"
   ]
  },
  {
   "cell_type": "code",
   "execution_count": 51,
   "metadata": {},
   "outputs": [
    {
     "data": {
      "text/plain": [
       "array([nan, 'guarantor', 'co-applicant'], dtype=object)"
      ]
     },
     "execution_count": 51,
     "metadata": {},
     "output_type": "execute_result"
    }
   ],
   "source": [
    "dataset['other_parties'].unique()"
   ]
  },
  {
   "cell_type": "markdown",
   "metadata": {},
   "source": [
    "#### - Column 'property_magnitude':"
   ]
  },
  {
   "cell_type": "code",
   "execution_count": 52,
   "metadata": {},
   "outputs": [
    {
     "data": {
      "text/plain": [
       "array(['real_estate', 'building_society_savings_agreement/life_insurance',\n",
       "       'unknown/no_property', 'car_or_other_nonsavings'], dtype=object)"
      ]
     },
     "execution_count": 52,
     "metadata": {},
     "output_type": "execute_result"
    }
   ],
   "source": [
    "dataset['property_magnitude'].unique()"
   ]
  },
  {
   "cell_type": "code",
   "execution_count": 53,
   "metadata": {},
   "outputs": [],
   "source": [
    "dataset['property_magnitude'].replace(to_replace = 'unknown/no_property', value = np.nan, inplace = True)"
   ]
  },
  {
   "cell_type": "code",
   "execution_count": 54,
   "metadata": {},
   "outputs": [
    {
     "data": {
      "text/plain": [
       "array(['real_estate', 'building_society_savings_agreement/life_insurance',\n",
       "       nan, 'car_or_other_nonsavings'], dtype=object)"
      ]
     },
     "execution_count": 54,
     "metadata": {},
     "output_type": "execute_result"
    }
   ],
   "source": [
    "dataset['property_magnitude'].unique()"
   ]
  },
  {
   "cell_type": "markdown",
   "metadata": {},
   "source": [
    "#### - Column 'other_payment_plans':"
   ]
  },
  {
   "cell_type": "code",
   "execution_count": 55,
   "metadata": {},
   "outputs": [
    {
     "data": {
      "text/plain": [
       "array(['none', 'bank', 'stores'], dtype=object)"
      ]
     },
     "execution_count": 55,
     "metadata": {},
     "output_type": "execute_result"
    }
   ],
   "source": [
    "dataset['other_payment_plans'].unique()"
   ]
  },
  {
   "cell_type": "code",
   "execution_count": 56,
   "metadata": {},
   "outputs": [],
   "source": [
    "dataset['other_payment_plans'].replace(to_replace = 'none', value = np.nan, inplace = True)"
   ]
  },
  {
   "cell_type": "code",
   "execution_count": 57,
   "metadata": {},
   "outputs": [
    {
     "data": {
      "text/plain": [
       "array([nan, 'bank', 'stores'], dtype=object)"
      ]
     },
     "execution_count": 57,
     "metadata": {},
     "output_type": "execute_result"
    }
   ],
   "source": [
    "dataset['other_payment_plans'].unique()"
   ]
  },
  {
   "cell_type": "markdown",
   "metadata": {},
   "source": [
    "#### - Column 'housing':"
   ]
  },
  {
   "cell_type": "code",
   "execution_count": 58,
   "metadata": {},
   "outputs": [
    {
     "data": {
      "text/plain": [
       "array(['own', 'for_free', 'rent'], dtype=object)"
      ]
     },
     "execution_count": 58,
     "metadata": {},
     "output_type": "execute_result"
    }
   ],
   "source": [
    "dataset['housing'].unique()"
   ]
  },
  {
   "cell_type": "markdown",
   "metadata": {},
   "source": [
    "#### - Column 'job':"
   ]
  },
  {
   "cell_type": "code",
   "execution_count": 59,
   "metadata": {},
   "outputs": [
    {
     "data": {
      "text/plain": [
       "array(['skilled_employee/official', 'unskilled_resident',\n",
       "       'management_self-employed_highly_qualified/officer',\n",
       "       'unemployed/unskilled_nonresident'], dtype=object)"
      ]
     },
     "execution_count": 59,
     "metadata": {},
     "output_type": "execute_result"
    }
   ],
   "source": [
    "dataset['job'].unique()"
   ]
  },
  {
   "cell_type": "markdown",
   "metadata": {},
   "source": [
    "#### - Column 'own_telephone':"
   ]
  },
  {
   "cell_type": "code",
   "execution_count": 60,
   "metadata": {},
   "outputs": [
    {
     "data": {
      "text/plain": [
       "array(['yes', 'none'], dtype=object)"
      ]
     },
     "execution_count": 60,
     "metadata": {},
     "output_type": "execute_result"
    }
   ],
   "source": [
    "dataset['own_telephone'].unique()"
   ]
  },
  {
   "cell_type": "code",
   "execution_count": 61,
   "metadata": {},
   "outputs": [],
   "source": [
    "dataset['own_telephone'].replace(to_replace = 'none', value = np.nan, inplace = True)"
   ]
  },
  {
   "cell_type": "code",
   "execution_count": 62,
   "metadata": {},
   "outputs": [
    {
     "data": {
      "text/plain": [
       "array(['yes', nan], dtype=object)"
      ]
     },
     "execution_count": 62,
     "metadata": {},
     "output_type": "execute_result"
    }
   ],
   "source": [
    "dataset['own_telephone'].unique()"
   ]
  },
  {
   "cell_type": "markdown",
   "metadata": {},
   "source": [
    "#### - Column 'foreign_worker':"
   ]
  },
  {
   "cell_type": "code",
   "execution_count": 63,
   "metadata": {},
   "outputs": [
    {
     "data": {
      "text/plain": [
       "array(['yes', 'no'], dtype=object)"
      ]
     },
     "execution_count": 63,
     "metadata": {},
     "output_type": "execute_result"
    }
   ],
   "source": [
    "dataset['foreign_worker'].unique()"
   ]
  },
  {
   "cell_type": "markdown",
   "metadata": {},
   "source": [
    "#### d) Serching for none-like values in the rest of dataset (Numerical columns):"
   ]
  },
  {
   "cell_type": "markdown",
   "metadata": {},
   "source": [
    "#### - Column ' installment_commitment':"
   ]
  },
  {
   "cell_type": "code",
   "execution_count": 64,
   "metadata": {},
   "outputs": [
    {
     "data": {
      "text/plain": [
       "array([4, 2, 3, 1], dtype=int64)"
      ]
     },
     "execution_count": 64,
     "metadata": {},
     "output_type": "execute_result"
    }
   ],
   "source": [
    "dataset['installment_commitment'].unique()"
   ]
  },
  {
   "cell_type": "markdown",
   "metadata": {},
   "source": [
    "#### - Column 'residence_since':"
   ]
  },
  {
   "cell_type": "code",
   "execution_count": 65,
   "metadata": {},
   "outputs": [
    {
     "data": {
      "text/plain": [
       "array([4, 2, 3, 1], dtype=int64)"
      ]
     },
     "execution_count": 65,
     "metadata": {},
     "output_type": "execute_result"
    }
   ],
   "source": [
    "dataset['residence_since'].unique()"
   ]
  },
  {
   "cell_type": "markdown",
   "metadata": {},
   "source": [
    "#### - Column 'existing_credits':"
   ]
  },
  {
   "cell_type": "code",
   "execution_count": 66,
   "metadata": {},
   "outputs": [
    {
     "data": {
      "text/plain": [
       "array([2, 1, 3, 4], dtype=int64)"
      ]
     },
     "execution_count": 66,
     "metadata": {},
     "output_type": "execute_result"
    }
   ],
   "source": [
    "dataset['existing_credits'].unique()"
   ]
  },
  {
   "cell_type": "markdown",
   "metadata": {},
   "source": [
    "#### - Column 'num_dependents':"
   ]
  },
  {
   "cell_type": "code",
   "execution_count": 67,
   "metadata": {},
   "outputs": [
    {
     "data": {
      "text/plain": [
       "array([1, 2], dtype=int64)"
      ]
     },
     "execution_count": 67,
     "metadata": {},
     "output_type": "execute_result"
    }
   ],
   "source": [
    "dataset['num_dependents'].unique()"
   ]
  },
  {
   "cell_type": "markdown",
   "metadata": {},
   "source": [
    "#### e) Checking again for Null values:"
   ]
  },
  {
   "cell_type": "code",
   "execution_count": 68,
   "metadata": {},
   "outputs": [
    {
     "name": "stdout",
     "output_type": "stream",
     "text": [
      "checking_status\n",
      "credit_history\n",
      "other_parties\n",
      "property_magnitude\n",
      "other_payment_plans\n",
      "own_telephone\n"
     ]
    }
   ],
   "source": [
    "for column in dataset.columns:\n",
    "    if dataset[column].isnull().values.any():\n",
    "        print(column)"
   ]
  },
  {
   "cell_type": "code",
   "execution_count": 69,
   "metadata": {},
   "outputs": [
    {
     "data": {
      "text/plain": [
       "checking_status           394\n",
       "duration                    0\n",
       "credit_history             50\n",
       "purpose                     0\n",
       "credit_amount               0\n",
       "savings_status              0\n",
       "employment                  0\n",
       "installment_commitment      0\n",
       "personal_status             0\n",
       "other_parties             910\n",
       "residence_since             0\n",
       "property_magnitude        154\n",
       "age                         0\n",
       "other_payment_plans       817\n",
       "housing                     0\n",
       "existing_credits            0\n",
       "job                         0\n",
       "num_dependents              0\n",
       "own_telephone             598\n",
       "foreign_worker              0\n",
       "accepted                    0\n",
       "age_norm                    0\n",
       "credit_amount_norm          0\n",
       "duration_norm               0\n",
       "dtype: int64"
      ]
     },
     "execution_count": 69,
     "metadata": {},
     "output_type": "execute_result"
    }
   ],
   "source": [
    "dataset.isna().sum()"
   ]
  },
  {
   "cell_type": "markdown",
   "metadata": {},
   "source": [
    "#### f) Filling missing values:"
   ]
  },
  {
   "cell_type": "code",
   "execution_count": 70,
   "metadata": {},
   "outputs": [
    {
     "data": {
      "text/plain": [
       "array([ 0.,  1., nan,  2.])"
      ]
     },
     "execution_count": 70,
     "metadata": {},
     "output_type": "execute_result"
    }
   ],
   "source": [
    "mapper = {'0_checking': 0, 'from_0_to_200': 1,'more_than_200': 2,}\n",
    "dataset = dataset.assign(checking_status_add = dataset['checking_status'].replace(mapper))\n",
    "\n",
    "dataset['checking_status_add'].unique()"
   ]
  },
  {
   "cell_type": "code",
   "execution_count": 71,
   "metadata": {},
   "outputs": [
    {
     "data": {
      "text/plain": [
       "array([ 0.,  1.,  2., nan,  3.,  4.])"
      ]
     },
     "execution_count": 71,
     "metadata": {},
     "output_type": "execute_result"
    }
   ],
   "source": [
    "mapper = {'Critical_acct_other_credits_existing': 0, 'Existing_credits_paid_till_now': 1,\n",
    "          'Delay_in_past': 2,'No_credits_taken_or_all_paid' : 3, 'All_credits_paid_duly' :4}\n",
    "dataset = dataset.assign(credit_history_add = dataset['credit_history'].replace(mapper))\n",
    "\n",
    "dataset['credit_history_add'].unique()"
   ]
  },
  {
   "cell_type": "code",
   "execution_count": 72,
   "metadata": {},
   "outputs": [
    {
     "data": {
      "text/plain": [
       "array([nan,  0.,  1.])"
      ]
     },
     "execution_count": 72,
     "metadata": {},
     "output_type": "execute_result"
    }
   ],
   "source": [
    "mapper = {'guarantor': 0, 'co-applicant': 1}\n",
    "dataset = dataset.assign(other_parties_add = dataset['other_parties'].replace(mapper))\n",
    "\n",
    "dataset['other_parties_add'].unique()"
   ]
  },
  {
   "cell_type": "code",
   "execution_count": 73,
   "metadata": {},
   "outputs": [
    {
     "data": {
      "text/plain": [
       "array([nan,  0.,  1.])"
      ]
     },
     "execution_count": 73,
     "metadata": {},
     "output_type": "execute_result"
    }
   ],
   "source": [
    "mapper = {'bank': 0, 'stores': 1}\n",
    "dataset = dataset.assign(other_payment_plans_add = dataset['other_payment_plans'].replace(mapper))\n",
    "\n",
    "dataset['other_payment_plans_add'].unique()"
   ]
  },
  {
   "cell_type": "code",
   "execution_count": 74,
   "metadata": {},
   "outputs": [],
   "source": [
    "from sklearn.impute import KNNImputer\n",
    "\n",
    "transformer = KNNImputer(n_neighbors = 2)\n",
    "\n",
    "columns = ['checking_status_add', 'credit_history_add', 'other_parties_add','other_payment_plans_add']\n",
    "\n",
    "dataset[columns] = transformer.fit_transform(dataset[columns])"
   ]
  },
  {
   "cell_type": "code",
   "execution_count": 75,
   "metadata": {},
   "outputs": [],
   "source": [
    "dataset = dataset.drop(['credit_history','checking_status','other_parties','other_payment_plans'], axis =1)"
   ]
  },
  {
   "cell_type": "code",
   "execution_count": 76,
   "metadata": {},
   "outputs": [],
   "source": [
    "from sklearn.impute import SimpleImputer\n",
    "\n",
    "simple_imputer = SimpleImputer(strategy = 'most_frequent')\n",
    "\n",
    "columns = ['property_magnitude', 'own_telephone']\n",
    "\n",
    "dataset[columns] = simple_imputer.fit_transform(dataset[columns])"
   ]
  },
  {
   "cell_type": "code",
   "execution_count": 77,
   "metadata": {},
   "outputs": [
    {
     "data": {
      "text/plain": [
       "duration                   0\n",
       "purpose                    0\n",
       "credit_amount              0\n",
       "savings_status             0\n",
       "employment                 0\n",
       "installment_commitment     0\n",
       "personal_status            0\n",
       "residence_since            0\n",
       "property_magnitude         0\n",
       "age                        0\n",
       "housing                    0\n",
       "existing_credits           0\n",
       "job                        0\n",
       "num_dependents             0\n",
       "own_telephone              0\n",
       "foreign_worker             0\n",
       "accepted                   0\n",
       "age_norm                   0\n",
       "credit_amount_norm         0\n",
       "duration_norm              0\n",
       "checking_status_add        0\n",
       "credit_history_add         0\n",
       "other_parties_add          0\n",
       "other_payment_plans_add    0\n",
       "dtype: int64"
      ]
     },
     "execution_count": 77,
     "metadata": {},
     "output_type": "execute_result"
    }
   ],
   "source": [
    "dataset.isna().sum()"
   ]
  },
  {
   "cell_type": "markdown",
   "metadata": {},
   "source": [
    "### 6) The rest of the tasks are interchangeably performed downwards:"
   ]
  },
  {
   "cell_type": "code",
   "execution_count": 78,
   "metadata": {},
   "outputs": [],
   "source": [
    "from sklearn.preprocessing import OneHotEncoder\n",
    "\n",
    "columns = ['savings_status', 'purpose', 'personal_status', 'housing', 'own_telephone', 'foreign_worker']\n",
    "\n",
    "transformer = OneHotEncoder(sparse = False)\n",
    "\n",
    "one_hot_encoded = transformer.fit_transform(dataset[columns]) "
   ]
  },
  {
   "cell_type": "code",
   "execution_count": 79,
   "metadata": {},
   "outputs": [],
   "source": [
    "dataset_final = pd.concat([dataset, pd.DataFrame(one_hot_encoded)], axis = 1)\n",
    "\n",
    "dataset_final = dataset_final.drop(columns, axis = 1)"
   ]
  },
  {
   "cell_type": "code",
   "execution_count": 80,
   "metadata": {},
   "outputs": [
    {
     "data": {
      "text/html": [
       "<div>\n",
       "<style scoped>\n",
       "    .dataframe tbody tr th:only-of-type {\n",
       "        vertical-align: middle;\n",
       "    }\n",
       "\n",
       "    .dataframe tbody tr th {\n",
       "        vertical-align: top;\n",
       "    }\n",
       "\n",
       "    .dataframe thead th {\n",
       "        text-align: right;\n",
       "    }\n",
       "</style>\n",
       "<table border=\"1\" class=\"dataframe\">\n",
       "  <thead>\n",
       "    <tr style=\"text-align: right;\">\n",
       "      <th></th>\n",
       "      <th>duration</th>\n",
       "      <th>credit_amount</th>\n",
       "      <th>employment</th>\n",
       "      <th>installment_commitment</th>\n",
       "      <th>residence_since</th>\n",
       "      <th>property_magnitude</th>\n",
       "      <th>age</th>\n",
       "      <th>existing_credits</th>\n",
       "      <th>job</th>\n",
       "      <th>num_dependents</th>\n",
       "      <th>...</th>\n",
       "      <th>16</th>\n",
       "      <th>17</th>\n",
       "      <th>18</th>\n",
       "      <th>19</th>\n",
       "      <th>20</th>\n",
       "      <th>21</th>\n",
       "      <th>22</th>\n",
       "      <th>23</th>\n",
       "      <th>24</th>\n",
       "      <th>25</th>\n",
       "    </tr>\n",
       "  </thead>\n",
       "  <tbody>\n",
       "    <tr>\n",
       "      <th>0</th>\n",
       "      <td>6.0</td>\n",
       "      <td>3380.000000</td>\n",
       "      <td>&gt;7yrs</td>\n",
       "      <td>4</td>\n",
       "      <td>4</td>\n",
       "      <td>real_estate</td>\n",
       "      <td>35.579224</td>\n",
       "      <td>2</td>\n",
       "      <td>skilled_employee/official</td>\n",
       "      <td>1</td>\n",
       "      <td>...</td>\n",
       "      <td>0.0</td>\n",
       "      <td>0.0</td>\n",
       "      <td>0.0</td>\n",
       "      <td>1.0</td>\n",
       "      <td>0.0</td>\n",
       "      <td>1.0</td>\n",
       "      <td>0.0</td>\n",
       "      <td>1.0</td>\n",
       "      <td>0.0</td>\n",
       "      <td>1.0</td>\n",
       "    </tr>\n",
       "    <tr>\n",
       "      <th>1</th>\n",
       "      <td>48.0</td>\n",
       "      <td>6940.208336</td>\n",
       "      <td>1_to_4yrs</td>\n",
       "      <td>2</td>\n",
       "      <td>2</td>\n",
       "      <td>real_estate</td>\n",
       "      <td>22.000000</td>\n",
       "      <td>1</td>\n",
       "      <td>skilled_employee/official</td>\n",
       "      <td>1</td>\n",
       "      <td>...</td>\n",
       "      <td>1.0</td>\n",
       "      <td>0.0</td>\n",
       "      <td>0.0</td>\n",
       "      <td>0.0</td>\n",
       "      <td>0.0</td>\n",
       "      <td>1.0</td>\n",
       "      <td>0.0</td>\n",
       "      <td>1.0</td>\n",
       "      <td>0.0</td>\n",
       "      <td>1.0</td>\n",
       "    </tr>\n",
       "    <tr>\n",
       "      <th>2</th>\n",
       "      <td>12.0</td>\n",
       "      <td>1902.370483</td>\n",
       "      <td>4_to_7yrs</td>\n",
       "      <td>2</td>\n",
       "      <td>3</td>\n",
       "      <td>real_estate</td>\n",
       "      <td>49.000000</td>\n",
       "      <td>1</td>\n",
       "      <td>unskilled_resident</td>\n",
       "      <td>2</td>\n",
       "      <td>...</td>\n",
       "      <td>0.0</td>\n",
       "      <td>0.0</td>\n",
       "      <td>0.0</td>\n",
       "      <td>1.0</td>\n",
       "      <td>0.0</td>\n",
       "      <td>1.0</td>\n",
       "      <td>0.0</td>\n",
       "      <td>1.0</td>\n",
       "      <td>0.0</td>\n",
       "      <td>1.0</td>\n",
       "    </tr>\n",
       "    <tr>\n",
       "      <th>3</th>\n",
       "      <td>42.0</td>\n",
       "      <td>1097.000000</td>\n",
       "      <td>4_to_7yrs</td>\n",
       "      <td>2</td>\n",
       "      <td>4</td>\n",
       "      <td>building_society_savings_agreement/life_insurance</td>\n",
       "      <td>45.000000</td>\n",
       "      <td>1</td>\n",
       "      <td>skilled_employee/official</td>\n",
       "      <td>2</td>\n",
       "      <td>...</td>\n",
       "      <td>0.0</td>\n",
       "      <td>0.0</td>\n",
       "      <td>0.0</td>\n",
       "      <td>1.0</td>\n",
       "      <td>1.0</td>\n",
       "      <td>0.0</td>\n",
       "      <td>0.0</td>\n",
       "      <td>1.0</td>\n",
       "      <td>0.0</td>\n",
       "      <td>1.0</td>\n",
       "    </tr>\n",
       "    <tr>\n",
       "      <th>4</th>\n",
       "      <td>24.0</td>\n",
       "      <td>9021.266894</td>\n",
       "      <td>1_to_4yrs</td>\n",
       "      <td>3</td>\n",
       "      <td>4</td>\n",
       "      <td>car_or_other_nonsavings</td>\n",
       "      <td>53.000000</td>\n",
       "      <td>2</td>\n",
       "      <td>skilled_employee/official</td>\n",
       "      <td>2</td>\n",
       "      <td>...</td>\n",
       "      <td>0.0</td>\n",
       "      <td>0.0</td>\n",
       "      <td>0.0</td>\n",
       "      <td>1.0</td>\n",
       "      <td>1.0</td>\n",
       "      <td>0.0</td>\n",
       "      <td>0.0</td>\n",
       "      <td>1.0</td>\n",
       "      <td>0.0</td>\n",
       "      <td>1.0</td>\n",
       "    </tr>\n",
       "    <tr>\n",
       "      <th>5</th>\n",
       "      <td>36.0</td>\n",
       "      <td>1227.203916</td>\n",
       "      <td>1_to_4yrs</td>\n",
       "      <td>2</td>\n",
       "      <td>4</td>\n",
       "      <td>car_or_other_nonsavings</td>\n",
       "      <td>35.000000</td>\n",
       "      <td>1</td>\n",
       "      <td>unskilled_resident</td>\n",
       "      <td>2</td>\n",
       "      <td>...</td>\n",
       "      <td>0.0</td>\n",
       "      <td>0.0</td>\n",
       "      <td>0.0</td>\n",
       "      <td>1.0</td>\n",
       "      <td>1.0</td>\n",
       "      <td>0.0</td>\n",
       "      <td>0.0</td>\n",
       "      <td>1.0</td>\n",
       "      <td>0.0</td>\n",
       "      <td>1.0</td>\n",
       "    </tr>\n",
       "    <tr>\n",
       "      <th>6</th>\n",
       "      <td>24.0</td>\n",
       "      <td>1985.000000</td>\n",
       "      <td>&gt;7yrs</td>\n",
       "      <td>3</td>\n",
       "      <td>4</td>\n",
       "      <td>building_society_savings_agreement/life_insurance</td>\n",
       "      <td>53.000000</td>\n",
       "      <td>1</td>\n",
       "      <td>skilled_employee/official</td>\n",
       "      <td>1</td>\n",
       "      <td>...</td>\n",
       "      <td>0.0</td>\n",
       "      <td>0.0</td>\n",
       "      <td>0.0</td>\n",
       "      <td>1.0</td>\n",
       "      <td>0.0</td>\n",
       "      <td>1.0</td>\n",
       "      <td>0.0</td>\n",
       "      <td>1.0</td>\n",
       "      <td>0.0</td>\n",
       "      <td>1.0</td>\n",
       "    </tr>\n",
       "    <tr>\n",
       "      <th>7</th>\n",
       "      <td>36.0</td>\n",
       "      <td>2809.000000</td>\n",
       "      <td>1_to_4yrs</td>\n",
       "      <td>2</td>\n",
       "      <td>2</td>\n",
       "      <td>car_or_other_nonsavings</td>\n",
       "      <td>35.000000</td>\n",
       "      <td>1</td>\n",
       "      <td>management_self-employed_highly_qualified/officer</td>\n",
       "      <td>1</td>\n",
       "      <td>...</td>\n",
       "      <td>0.0</td>\n",
       "      <td>0.0</td>\n",
       "      <td>0.0</td>\n",
       "      <td>1.0</td>\n",
       "      <td>0.0</td>\n",
       "      <td>0.0</td>\n",
       "      <td>1.0</td>\n",
       "      <td>1.0</td>\n",
       "      <td>0.0</td>\n",
       "      <td>1.0</td>\n",
       "    </tr>\n",
       "    <tr>\n",
       "      <th>8</th>\n",
       "      <td>12.0</td>\n",
       "      <td>2484.663607</td>\n",
       "      <td>4_to_7yrs</td>\n",
       "      <td>2</td>\n",
       "      <td>4</td>\n",
       "      <td>real_estate</td>\n",
       "      <td>61.000000</td>\n",
       "      <td>1</td>\n",
       "      <td>unskilled_resident</td>\n",
       "      <td>1</td>\n",
       "      <td>...</td>\n",
       "      <td>0.0</td>\n",
       "      <td>1.0</td>\n",
       "      <td>0.0</td>\n",
       "      <td>0.0</td>\n",
       "      <td>0.0</td>\n",
       "      <td>1.0</td>\n",
       "      <td>0.0</td>\n",
       "      <td>1.0</td>\n",
       "      <td>0.0</td>\n",
       "      <td>1.0</td>\n",
       "    </tr>\n",
       "    <tr>\n",
       "      <th>9</th>\n",
       "      <td>30.0</td>\n",
       "      <td>16324.000000</td>\n",
       "      <td>unemployed</td>\n",
       "      <td>4</td>\n",
       "      <td>2</td>\n",
       "      <td>car_or_other_nonsavings</td>\n",
       "      <td>28.000000</td>\n",
       "      <td>2</td>\n",
       "      <td>management_self-employed_highly_qualified/officer</td>\n",
       "      <td>1</td>\n",
       "      <td>...</td>\n",
       "      <td>0.0</td>\n",
       "      <td>0.0</td>\n",
       "      <td>1.0</td>\n",
       "      <td>0.0</td>\n",
       "      <td>0.0</td>\n",
       "      <td>1.0</td>\n",
       "      <td>0.0</td>\n",
       "      <td>1.0</td>\n",
       "      <td>0.0</td>\n",
       "      <td>1.0</td>\n",
       "    </tr>\n",
       "  </tbody>\n",
       "</table>\n",
       "<p>10 rows × 44 columns</p>\n",
       "</div>"
      ],
      "text/plain": [
       "   duration  credit_amount  employment  installment_commitment  \\\n",
       "0       6.0    3380.000000       >7yrs                       4   \n",
       "1      48.0    6940.208336   1_to_4yrs                       2   \n",
       "2      12.0    1902.370483   4_to_7yrs                       2   \n",
       "3      42.0    1097.000000   4_to_7yrs                       2   \n",
       "4      24.0    9021.266894   1_to_4yrs                       3   \n",
       "5      36.0    1227.203916   1_to_4yrs                       2   \n",
       "6      24.0    1985.000000       >7yrs                       3   \n",
       "7      36.0    2809.000000   1_to_4yrs                       2   \n",
       "8      12.0    2484.663607   4_to_7yrs                       2   \n",
       "9      30.0   16324.000000  unemployed                       4   \n",
       "\n",
       "   residence_since                                 property_magnitude  \\\n",
       "0                4                                        real_estate   \n",
       "1                2                                        real_estate   \n",
       "2                3                                        real_estate   \n",
       "3                4  building_society_savings_agreement/life_insurance   \n",
       "4                4                            car_or_other_nonsavings   \n",
       "5                4                            car_or_other_nonsavings   \n",
       "6                4  building_society_savings_agreement/life_insurance   \n",
       "7                2                            car_or_other_nonsavings   \n",
       "8                4                                        real_estate   \n",
       "9                2                            car_or_other_nonsavings   \n",
       "\n",
       "         age  existing_credits  \\\n",
       "0  35.579224                 2   \n",
       "1  22.000000                 1   \n",
       "2  49.000000                 1   \n",
       "3  45.000000                 1   \n",
       "4  53.000000                 2   \n",
       "5  35.000000                 1   \n",
       "6  53.000000                 1   \n",
       "7  35.000000                 1   \n",
       "8  61.000000                 1   \n",
       "9  28.000000                 2   \n",
       "\n",
       "                                                 job  num_dependents  ...  \\\n",
       "0                          skilled_employee/official               1  ...   \n",
       "1                          skilled_employee/official               1  ...   \n",
       "2                                 unskilled_resident               2  ...   \n",
       "3                          skilled_employee/official               2  ...   \n",
       "4                          skilled_employee/official               2  ...   \n",
       "5                                 unskilled_resident               2  ...   \n",
       "6                          skilled_employee/official               1  ...   \n",
       "7  management_self-employed_highly_qualified/officer               1  ...   \n",
       "8                                 unskilled_resident               1  ...   \n",
       "9  management_self-employed_highly_qualified/officer               1  ...   \n",
       "\n",
       "    16   17   18   19   20   21   22   23   24   25  \n",
       "0  0.0  0.0  0.0  1.0  0.0  1.0  0.0  1.0  0.0  1.0  \n",
       "1  1.0  0.0  0.0  0.0  0.0  1.0  0.0  1.0  0.0  1.0  \n",
       "2  0.0  0.0  0.0  1.0  0.0  1.0  0.0  1.0  0.0  1.0  \n",
       "3  0.0  0.0  0.0  1.0  1.0  0.0  0.0  1.0  0.0  1.0  \n",
       "4  0.0  0.0  0.0  1.0  1.0  0.0  0.0  1.0  0.0  1.0  \n",
       "5  0.0  0.0  0.0  1.0  1.0  0.0  0.0  1.0  0.0  1.0  \n",
       "6  0.0  0.0  0.0  1.0  0.0  1.0  0.0  1.0  0.0  1.0  \n",
       "7  0.0  0.0  0.0  1.0  0.0  0.0  1.0  1.0  0.0  1.0  \n",
       "8  0.0  1.0  0.0  0.0  0.0  1.0  0.0  1.0  0.0  1.0  \n",
       "9  0.0  0.0  1.0  0.0  0.0  1.0  0.0  1.0  0.0  1.0  \n",
       "\n",
       "[10 rows x 44 columns]"
      ]
     },
     "execution_count": 80,
     "metadata": {},
     "output_type": "execute_result"
    }
   ],
   "source": [
    "dataset_final.head(10)"
   ]
  },
  {
   "cell_type": "code",
   "execution_count": 81,
   "metadata": {},
   "outputs": [],
   "source": [
    "X = dataset_final.drop(['accepted'], axis = 1)\n",
    "y = dataset_final['accepted']"
   ]
  },
  {
   "cell_type": "code",
   "execution_count": 82,
   "metadata": {},
   "outputs": [],
   "source": [
    "cat_features = ['employment', 'job', 'property_magnitude']"
   ]
  },
  {
   "cell_type": "code",
   "execution_count": 83,
   "metadata": {},
   "outputs": [],
   "source": [
    "import category_encoders as ce\n",
    "\n",
    "count_encoder = ce.CatBoostEncoder(cols=cat_features)\n",
    "\n",
    "X[cat_features] = count_encoder.fit_transform(X[cat_features], y)"
   ]
  },
  {
   "cell_type": "code",
   "execution_count": 84,
   "metadata": {},
   "outputs": [],
   "source": [
    "from sklearn.model_selection import train_test_split\n",
    "\n",
    "X_train, X_test, y_train, y_test = train_test_split(X, y, test_size=0.3, random_state=0)"
   ]
  },
  {
   "cell_type": "code",
   "execution_count": 85,
   "metadata": {},
   "outputs": [
    {
     "data": {
      "text/html": [
       "<div>\n",
       "<style scoped>\n",
       "    .dataframe tbody tr th:only-of-type {\n",
       "        vertical-align: middle;\n",
       "    }\n",
       "\n",
       "    .dataframe tbody tr th {\n",
       "        vertical-align: top;\n",
       "    }\n",
       "\n",
       "    .dataframe thead th {\n",
       "        text-align: right;\n",
       "    }\n",
       "</style>\n",
       "<table border=\"1\" class=\"dataframe\">\n",
       "  <thead>\n",
       "    <tr style=\"text-align: right;\">\n",
       "      <th></th>\n",
       "      <th>duration</th>\n",
       "      <th>credit_amount</th>\n",
       "      <th>employment</th>\n",
       "      <th>installment_commitment</th>\n",
       "      <th>residence_since</th>\n",
       "      <th>property_magnitude</th>\n",
       "      <th>age</th>\n",
       "      <th>existing_credits</th>\n",
       "      <th>job</th>\n",
       "      <th>num_dependents</th>\n",
       "      <th>...</th>\n",
       "      <th>16</th>\n",
       "      <th>17</th>\n",
       "      <th>18</th>\n",
       "      <th>19</th>\n",
       "      <th>20</th>\n",
       "      <th>21</th>\n",
       "      <th>22</th>\n",
       "      <th>23</th>\n",
       "      <th>24</th>\n",
       "      <th>25</th>\n",
       "    </tr>\n",
       "  </thead>\n",
       "  <tbody>\n",
       "    <tr>\n",
       "      <th>68</th>\n",
       "      <td>36.0</td>\n",
       "      <td>8940.000000</td>\n",
       "      <td>0.170939</td>\n",
       "      <td>4</td>\n",
       "      <td>4</td>\n",
       "      <td>0.349976</td>\n",
       "      <td>37.000000</td>\n",
       "      <td>1</td>\n",
       "      <td>0.197598</td>\n",
       "      <td>1</td>\n",
       "      <td>...</td>\n",
       "      <td>0.0</td>\n",
       "      <td>0.0</td>\n",
       "      <td>0.0</td>\n",
       "      <td>1.0</td>\n",
       "      <td>1.0</td>\n",
       "      <td>0.0</td>\n",
       "      <td>0.0</td>\n",
       "      <td>1.0</td>\n",
       "      <td>0.0</td>\n",
       "      <td>1.0</td>\n",
       "    </tr>\n",
       "    <tr>\n",
       "      <th>481</th>\n",
       "      <td>24.0</td>\n",
       "      <td>5836.000000</td>\n",
       "      <td>0.375630</td>\n",
       "      <td>4</td>\n",
       "      <td>1</td>\n",
       "      <td>0.276833</td>\n",
       "      <td>35.579224</td>\n",
       "      <td>1</td>\n",
       "      <td>0.261870</td>\n",
       "      <td>1</td>\n",
       "      <td>...</td>\n",
       "      <td>0.0</td>\n",
       "      <td>0.0</td>\n",
       "      <td>0.0</td>\n",
       "      <td>1.0</td>\n",
       "      <td>0.0</td>\n",
       "      <td>1.0</td>\n",
       "      <td>0.0</td>\n",
       "      <td>1.0</td>\n",
       "      <td>0.0</td>\n",
       "      <td>1.0</td>\n",
       "    </tr>\n",
       "    <tr>\n",
       "      <th>953</th>\n",
       "      <td>36.0</td>\n",
       "      <td>7475.818502</td>\n",
       "      <td>0.218123</td>\n",
       "      <td>2</td>\n",
       "      <td>1</td>\n",
       "      <td>0.342579</td>\n",
       "      <td>24.000000</td>\n",
       "      <td>2</td>\n",
       "      <td>0.293255</td>\n",
       "      <td>1</td>\n",
       "      <td>...</td>\n",
       "      <td>0.0</td>\n",
       "      <td>0.0</td>\n",
       "      <td>0.0</td>\n",
       "      <td>1.0</td>\n",
       "      <td>0.0</td>\n",
       "      <td>1.0</td>\n",
       "      <td>0.0</td>\n",
       "      <td>1.0</td>\n",
       "      <td>0.0</td>\n",
       "      <td>1.0</td>\n",
       "    </tr>\n",
       "    <tr>\n",
       "      <th>436</th>\n",
       "      <td>6.0</td>\n",
       "      <td>2594.427966</td>\n",
       "      <td>0.172716</td>\n",
       "      <td>2</td>\n",
       "      <td>4</td>\n",
       "      <td>0.191660</td>\n",
       "      <td>23.000000</td>\n",
       "      <td>1</td>\n",
       "      <td>0.201152</td>\n",
       "      <td>1</td>\n",
       "      <td>...</td>\n",
       "      <td>0.0</td>\n",
       "      <td>0.0</td>\n",
       "      <td>1.0</td>\n",
       "      <td>0.0</td>\n",
       "      <td>0.0</td>\n",
       "      <td>0.0</td>\n",
       "      <td>1.0</td>\n",
       "      <td>1.0</td>\n",
       "      <td>0.0</td>\n",
       "      <td>1.0</td>\n",
       "    </tr>\n",
       "    <tr>\n",
       "      <th>258</th>\n",
       "      <td>15.0</td>\n",
       "      <td>3110.000000</td>\n",
       "      <td>0.322832</td>\n",
       "      <td>1</td>\n",
       "      <td>4</td>\n",
       "      <td>0.367453</td>\n",
       "      <td>23.000000</td>\n",
       "      <td>1</td>\n",
       "      <td>0.259276</td>\n",
       "      <td>1</td>\n",
       "      <td>...</td>\n",
       "      <td>1.0</td>\n",
       "      <td>0.0</td>\n",
       "      <td>0.0</td>\n",
       "      <td>0.0</td>\n",
       "      <td>0.0</td>\n",
       "      <td>1.0</td>\n",
       "      <td>0.0</td>\n",
       "      <td>1.0</td>\n",
       "      <td>0.0</td>\n",
       "      <td>1.0</td>\n",
       "    </tr>\n",
       "    <tr>\n",
       "      <th>568</th>\n",
       "      <td>48.0</td>\n",
       "      <td>4772.256022</td>\n",
       "      <td>0.191080</td>\n",
       "      <td>4</td>\n",
       "      <td>1</td>\n",
       "      <td>0.337940</td>\n",
       "      <td>41.000000</td>\n",
       "      <td>2</td>\n",
       "      <td>0.275067</td>\n",
       "      <td>2</td>\n",
       "      <td>...</td>\n",
       "      <td>0.0</td>\n",
       "      <td>0.0</td>\n",
       "      <td>0.0</td>\n",
       "      <td>1.0</td>\n",
       "      <td>0.0</td>\n",
       "      <td>1.0</td>\n",
       "      <td>0.0</td>\n",
       "      <td>1.0</td>\n",
       "      <td>0.0</td>\n",
       "      <td>1.0</td>\n",
       "    </tr>\n",
       "    <tr>\n",
       "      <th>587</th>\n",
       "      <td>12.0</td>\n",
       "      <td>4565.000000</td>\n",
       "      <td>0.277885</td>\n",
       "      <td>4</td>\n",
       "      <td>1</td>\n",
       "      <td>0.272215</td>\n",
       "      <td>21.000000</td>\n",
       "      <td>1</td>\n",
       "      <td>0.237384</td>\n",
       "      <td>1</td>\n",
       "      <td>...</td>\n",
       "      <td>0.0</td>\n",
       "      <td>0.0</td>\n",
       "      <td>0.0</td>\n",
       "      <td>1.0</td>\n",
       "      <td>0.0</td>\n",
       "      <td>1.0</td>\n",
       "      <td>0.0</td>\n",
       "      <td>1.0</td>\n",
       "      <td>0.0</td>\n",
       "      <td>1.0</td>\n",
       "    </tr>\n",
       "    <tr>\n",
       "      <th>304</th>\n",
       "      <td>48.0</td>\n",
       "      <td>5706.000000</td>\n",
       "      <td>0.245786</td>\n",
       "      <td>2</td>\n",
       "      <td>2</td>\n",
       "      <td>0.341994</td>\n",
       "      <td>44.000000</td>\n",
       "      <td>1</td>\n",
       "      <td>0.252816</td>\n",
       "      <td>1</td>\n",
       "      <td>...</td>\n",
       "      <td>0.0</td>\n",
       "      <td>0.0</td>\n",
       "      <td>0.0</td>\n",
       "      <td>1.0</td>\n",
       "      <td>1.0</td>\n",
       "      <td>0.0</td>\n",
       "      <td>0.0</td>\n",
       "      <td>1.0</td>\n",
       "      <td>0.0</td>\n",
       "      <td>1.0</td>\n",
       "    </tr>\n",
       "    <tr>\n",
       "      <th>813</th>\n",
       "      <td>36.0</td>\n",
       "      <td>11207.000000</td>\n",
       "      <td>0.215856</td>\n",
       "      <td>4</td>\n",
       "      <td>4</td>\n",
       "      <td>0.339095</td>\n",
       "      <td>24.000000</td>\n",
       "      <td>2</td>\n",
       "      <td>0.284343</td>\n",
       "      <td>1</td>\n",
       "      <td>...</td>\n",
       "      <td>0.0</td>\n",
       "      <td>0.0</td>\n",
       "      <td>0.0</td>\n",
       "      <td>1.0</td>\n",
       "      <td>0.0</td>\n",
       "      <td>1.0</td>\n",
       "      <td>0.0</td>\n",
       "      <td>1.0</td>\n",
       "      <td>0.0</td>\n",
       "      <td>1.0</td>\n",
       "    </tr>\n",
       "    <tr>\n",
       "      <th>941</th>\n",
       "      <td>24.0</td>\n",
       "      <td>3320.000000</td>\n",
       "      <td>0.310310</td>\n",
       "      <td>2</td>\n",
       "      <td>4</td>\n",
       "      <td>0.315710</td>\n",
       "      <td>46.000000</td>\n",
       "      <td>2</td>\n",
       "      <td>0.357240</td>\n",
       "      <td>2</td>\n",
       "      <td>...</td>\n",
       "      <td>0.0</td>\n",
       "      <td>0.0</td>\n",
       "      <td>0.0</td>\n",
       "      <td>1.0</td>\n",
       "      <td>0.0</td>\n",
       "      <td>1.0</td>\n",
       "      <td>0.0</td>\n",
       "      <td>1.0</td>\n",
       "      <td>0.0</td>\n",
       "      <td>1.0</td>\n",
       "    </tr>\n",
       "  </tbody>\n",
       "</table>\n",
       "<p>10 rows × 43 columns</p>\n",
       "</div>"
      ],
      "text/plain": [
       "     duration  credit_amount  employment  installment_commitment  \\\n",
       "68       36.0    8940.000000    0.170939                       4   \n",
       "481      24.0    5836.000000    0.375630                       4   \n",
       "953      36.0    7475.818502    0.218123                       2   \n",
       "436       6.0    2594.427966    0.172716                       2   \n",
       "258      15.0    3110.000000    0.322832                       1   \n",
       "568      48.0    4772.256022    0.191080                       4   \n",
       "587      12.0    4565.000000    0.277885                       4   \n",
       "304      48.0    5706.000000    0.245786                       2   \n",
       "813      36.0   11207.000000    0.215856                       4   \n",
       "941      24.0    3320.000000    0.310310                       2   \n",
       "\n",
       "     residence_since  property_magnitude        age  existing_credits  \\\n",
       "68                 4            0.349976  37.000000                 1   \n",
       "481                1            0.276833  35.579224                 1   \n",
       "953                1            0.342579  24.000000                 2   \n",
       "436                4            0.191660  23.000000                 1   \n",
       "258                4            0.367453  23.000000                 1   \n",
       "568                1            0.337940  41.000000                 2   \n",
       "587                1            0.272215  21.000000                 1   \n",
       "304                2            0.341994  44.000000                 1   \n",
       "813                4            0.339095  24.000000                 2   \n",
       "941                4            0.315710  46.000000                 2   \n",
       "\n",
       "          job  num_dependents  ...   16   17   18   19   20   21   22   23  \\\n",
       "68   0.197598               1  ...  0.0  0.0  0.0  1.0  1.0  0.0  0.0  1.0   \n",
       "481  0.261870               1  ...  0.0  0.0  0.0  1.0  0.0  1.0  0.0  1.0   \n",
       "953  0.293255               1  ...  0.0  0.0  0.0  1.0  0.0  1.0  0.0  1.0   \n",
       "436  0.201152               1  ...  0.0  0.0  1.0  0.0  0.0  0.0  1.0  1.0   \n",
       "258  0.259276               1  ...  1.0  0.0  0.0  0.0  0.0  1.0  0.0  1.0   \n",
       "568  0.275067               2  ...  0.0  0.0  0.0  1.0  0.0  1.0  0.0  1.0   \n",
       "587  0.237384               1  ...  0.0  0.0  0.0  1.0  0.0  1.0  0.0  1.0   \n",
       "304  0.252816               1  ...  0.0  0.0  0.0  1.0  1.0  0.0  0.0  1.0   \n",
       "813  0.284343               1  ...  0.0  0.0  0.0  1.0  0.0  1.0  0.0  1.0   \n",
       "941  0.357240               2  ...  0.0  0.0  0.0  1.0  0.0  1.0  0.0  1.0   \n",
       "\n",
       "      24   25  \n",
       "68   0.0  1.0  \n",
       "481  0.0  1.0  \n",
       "953  0.0  1.0  \n",
       "436  0.0  1.0  \n",
       "258  0.0  1.0  \n",
       "568  0.0  1.0  \n",
       "587  0.0  1.0  \n",
       "304  0.0  1.0  \n",
       "813  0.0  1.0  \n",
       "941  0.0  1.0  \n",
       "\n",
       "[10 rows x 43 columns]"
      ]
     },
     "execution_count": 85,
     "metadata": {},
     "output_type": "execute_result"
    }
   ],
   "source": [
    "X_train.head(10)"
   ]
  },
  {
   "cell_type": "code",
   "execution_count": 86,
   "metadata": {},
   "outputs": [
    {
     "name": "stderr",
     "output_type": "stream",
     "text": [
      "C:\\Users\\Mitko\\anaconda3\\lib\\site-packages\\pandas\\core\\frame.py:2963: SettingWithCopyWarning: \n",
      "A value is trying to be set on a copy of a slice from a DataFrame.\n",
      "Try using .loc[row_indexer,col_indexer] = value instead\n",
      "\n",
      "See the caveats in the documentation: https://pandas.pydata.org/pandas-docs/stable/user_guide/indexing.html#returning-a-view-versus-a-copy\n",
      "  self[k1] = value[k2]\n"
     ]
    }
   ],
   "source": [
    "X_test[cat_features] = count_encoder.transform(X_test[cat_features])"
   ]
  },
  {
   "cell_type": "code",
   "execution_count": 87,
   "metadata": {},
   "outputs": [
    {
     "name": "stdout",
     "output_type": "stream",
     "text": [
      "Accuracy on the training subset: 0.97\n",
      "Accuracy on the test subset: 0.94\n"
     ]
    }
   ],
   "source": [
    "from sklearn.tree import DecisionTreeClassifier\n",
    "\n",
    "tree = DecisionTreeClassifier(criterion = 'entropy',\n",
    "                              max_depth = 6, \n",
    "                              min_samples_leaf = 4,\n",
    "                              random_state = 0)\n",
    "\n",
    "tree.fit(X_train, y_train)\n",
    "\n",
    "print('Accuracy on the training subset: {:.2f}'.format(tree.score(X_train, y_train)))\n",
    "print('Accuracy on the test subset: {:.2f}'.format(tree.score(X_test, y_test)))"
   ]
  },
  {
   "cell_type": "code",
   "execution_count": 88,
   "metadata": {},
   "outputs": [
    {
     "name": "stdout",
     "output_type": "stream",
     "text": [
      "Accuracy on the training subset: 0.99\n",
      "Accuracy on the test subset: 0.94\n"
     ]
    }
   ],
   "source": [
    "from sklearn.ensemble import RandomForestClassifier\n",
    "\n",
    "tree = RandomForestClassifier(n_estimators = 300,\n",
    "                              criterion ='gini',\n",
    "                              min_samples_split = 4,\n",
    "                              min_samples_leaf = 1,\n",
    "                              max_features = 10,\n",
    "                              random_state = 0)\n",
    "\n",
    "tree.fit(X_train, y_train)\n",
    "\n",
    "print('Accuracy on the training subset: {:.2f}'.format(tree.score(X_train, y_train)))\n",
    "print('Accuracy on the test subset: {:.2f}'.format(tree.score(X_test, y_test)))"
   ]
  },
  {
   "cell_type": "code",
   "execution_count": 89,
   "metadata": {},
   "outputs": [
    {
     "name": "stdout",
     "output_type": "stream",
     "text": [
      "Accuracy on the training subset: 0.97\n",
      "Accuracy on the test subset: 0.94\n"
     ]
    }
   ],
   "source": [
    "from sklearn.ensemble import AdaBoostClassifier\n",
    "\n",
    "ada = AdaBoostClassifier(n_estimators = 50, learning_rate = 0.5, random_state = 0)\n",
    "\n",
    "ada.fit(X_train, y_train)\n",
    "\n",
    "print('Accuracy on the training subset: {:.2f}'.format(ada.score(X_train, y_train)))\n",
    "print('Accuracy on the test subset: {:.2f}'.format(ada.score(X_test, y_test)))"
   ]
  },
  {
   "cell_type": "code",
   "execution_count": 90,
   "metadata": {},
   "outputs": [
    {
     "name": "stdout",
     "output_type": "stream",
     "text": [
      "              precision    recall  f1-score   support\n",
      "\n",
      "           0       0.97      0.95      0.96       204\n",
      "           1       0.89      0.94      0.91        97\n",
      "\n",
      "    accuracy                           0.94       301\n",
      "   macro avg       0.93      0.94      0.94       301\n",
      "weighted avg       0.94      0.94      0.94       301\n",
      "\n"
     ]
    }
   ],
   "source": [
    "from sklearn.metrics import classification_report\n",
    "\n",
    "y_pred = tree.predict(X_test)\n",
    "\n",
    "analysis = classification_report(y_test, y_pred)\n",
    "print(analysis)"
   ]
  },
  {
   "cell_type": "code",
   "execution_count": 91,
   "metadata": {},
   "outputs": [
    {
     "name": "stdout",
     "output_type": "stream",
     "text": [
      "[[193  11]\n",
      " [  6  91]]\n"
     ]
    }
   ],
   "source": [
    "from sklearn.metrics import confusion_matrix\n",
    "\n",
    "confusion_matrix = confusion_matrix(y_test, y_pred)\n",
    "print(confusion_matrix)"
   ]
  },
  {
   "cell_type": "markdown",
   "metadata": {},
   "source": [
    "### 7) Write a summary :"
   ]
  },
  {
   "cell_type": "markdown",
   "metadata": {},
   "source": [
    "1) Which model gives the best result?\n",
    "\n",
    "The results that we received suggest that in this type of data setting all of the model (DecisionTree, RandomForest, AdaBoost) gave almost equal results.\n",
    "However, SVM on the same setting gave exceptionally bad result, thus pointing out that all clasifiers have favorible problems that they can solve. \n",
    "\n",
    "\n",
    "2) What can we improve in the future?\n",
    "\n",
    "First, we can work on balancing the dataset, using some of the techniques that we learned to level the dataset. \n",
    "Second, more digging can be put on the preprocessing of the dataset, searching for more deeper understanding of what the dataset is telling us, or to be more precise what is not telling. \n",
    "That unsaid info can be very helpful. \n",
    "Finally, puting some more work on correlation among the features, here we can explore the relationships.\n",
    "\n",
    "3) Which encoding give better performance on this dataset (CatBoost or One-Hot)?\n",
    "\n",
    "Performance achieved from both settings (CatBoost and One-Hot) are almost equal. A small lead (fraction of percent) has CatBoost encoding. \n",
    "But taking everything in consideration we can say that both encoders are equally good for this dataset and setting.\n"
   ]
  }
 ],
 "metadata": {
  "colab": {
   "collapsed_sections": [],
   "name": "Workshop_Week4.ipynb",
   "provenance": []
  },
  "kernelspec": {
   "display_name": "Python 3",
   "language": "python",
   "name": "python3"
  },
  "language_info": {
   "codemirror_mode": {
    "name": "ipython",
    "version": 3
   },
   "file_extension": ".py",
   "mimetype": "text/x-python",
   "name": "python",
   "nbconvert_exporter": "python",
   "pygments_lexer": "ipython3",
   "version": "3.7.6"
  }
 },
 "nbformat": 4,
 "nbformat_minor": 1
}
