{
  "nbformat": 4,
  "nbformat_minor": 0,
  "metadata": {
    "colab": {
      "name": "ML_Workshop10_Mitko.ipynb",
      "provenance": [],
      "collapsed_sections": []
    },
    "kernelspec": {
      "display_name": "Python 3",
      "language": "python",
      "name": "python3"
    },
    "language_info": {
      "codemirror_mode": {
        "name": "ipython",
        "version": 3
      },
      "file_extension": ".py",
      "mimetype": "text/x-python",
      "name": "python",
      "nbconvert_exporter": "python",
      "pygments_lexer": "ipython3",
      "version": "3.6.8"
    },
    "accelerator": "GPU"
  },
  "cells": [
    {
      "cell_type": "markdown",
      "metadata": {
        "id": "b8DivKac3IIQ"
      },
      "source": [
        "# WS - Google Stocks Prediction (RNN)\n",
        "\n",
        "The problem to solve is Google Stocks prediction - regression (time series)."
      ]
    },
    {
      "cell_type": "code",
      "metadata": {
        "id": "l_SLiFgszwPo"
      },
      "source": [
        "# Import libraries:\r\n",
        "\r\n",
        "import os\r\n",
        "import numpy as np\r\n",
        "from numpy import array\r\n",
        "import matplotlib.pyplot as plt\r\n",
        "import pandas as pd\r\n",
        "import math\r\n",
        "from keras.models import Sequential\r\n",
        "from keras.layers import Dense\r\n",
        "from keras.layers import LSTM\r\n",
        "from keras.layers import SimpleRNN\r\n",
        "from sklearn.preprocessing import MinMaxScaler\r\n",
        "from sklearn.metrics import mean_squared_error\r\n",
        "from sklearn.metrics import mean_absolute_error\r\n",
        "from keras.callbacks import ModelCheckpoint, EarlyStopping\r\n",
        "from keras.models import load_model\r\n",
        "from keras.layers import RepeatVector"
      ],
      "execution_count": 1,
      "outputs": []
    },
    {
      "cell_type": "code",
      "metadata": {
        "id": "svEod84OGxaP"
      },
      "source": [
        "#from google.colab import drive\r\n",
        "#drive.mount('/content/drive')"
      ],
      "execution_count": 2,
      "outputs": []
    },
    {
      "cell_type": "markdown",
      "metadata": {
        "id": "kgI1ou1V7L_L"
      },
      "source": [
        "# 1. Dataset\n",
        "\n",
        "The dataset is already divided in train and test.\n",
        "\n",
        "There are multiple columns. You work only with HIGH."
      ]
    },
    {
      "cell_type": "code",
      "metadata": {
        "id": "Nak7Slj33r_e"
      },
      "source": [
        "# Load the dataset:\r\n",
        "\r\n",
        "# Path to the dataset on My Drive Google:\r\n",
        "#box_train = './drive/My Drive/My Folder/RNN Google/Google_Stock_Price_Train.csv'\r\n",
        "#box_test = './drive/My Drive/My Folder/RNN Google/Google_Stock_Price_Test.csv'\r\n",
        "\r\n",
        "#train = pd.read_csv(box_train, sep=\",\")\r\n",
        "#test = pd.read_csv(box_test, sep=\",\")\r\n",
        "\r\n",
        "# Directly reading the csv. file:\r\n",
        "train = pd.read_csv('Google_Stock_Price_Train.csv')\r\n",
        "test = pd.read_csv('Google_Stock_Price_Test.csv')"
      ],
      "execution_count": 3,
      "outputs": []
    },
    {
      "cell_type": "code",
      "metadata": {
        "id": "xb_NWrbUpV0H",
        "colab": {
          "base_uri": "https://localhost:8080/",
          "height": 419
        },
        "outputId": "288f0749-6bbc-47d3-fcea-3c3d00d31059"
      },
      "source": [
        "# Check the status of train dataset after the load procedure:\r\n",
        "\r\n",
        "train"
      ],
      "execution_count": 4,
      "outputs": [
        {
          "output_type": "execute_result",
          "data": {
            "text/html": [
              "<div>\n",
              "<style scoped>\n",
              "    .dataframe tbody tr th:only-of-type {\n",
              "        vertical-align: middle;\n",
              "    }\n",
              "\n",
              "    .dataframe tbody tr th {\n",
              "        vertical-align: top;\n",
              "    }\n",
              "\n",
              "    .dataframe thead th {\n",
              "        text-align: right;\n",
              "    }\n",
              "</style>\n",
              "<table border=\"1\" class=\"dataframe\">\n",
              "  <thead>\n",
              "    <tr style=\"text-align: right;\">\n",
              "      <th></th>\n",
              "      <th>Date</th>\n",
              "      <th>Open</th>\n",
              "      <th>High</th>\n",
              "      <th>Low</th>\n",
              "      <th>Close</th>\n",
              "      <th>Volume</th>\n",
              "    </tr>\n",
              "  </thead>\n",
              "  <tbody>\n",
              "    <tr>\n",
              "      <th>0</th>\n",
              "      <td>1/3/2012</td>\n",
              "      <td>325.25</td>\n",
              "      <td>332.83</td>\n",
              "      <td>324.97</td>\n",
              "      <td>663.59</td>\n",
              "      <td>7,380,500</td>\n",
              "    </tr>\n",
              "    <tr>\n",
              "      <th>1</th>\n",
              "      <td>1/4/2012</td>\n",
              "      <td>331.27</td>\n",
              "      <td>333.87</td>\n",
              "      <td>329.08</td>\n",
              "      <td>666.45</td>\n",
              "      <td>5,749,400</td>\n",
              "    </tr>\n",
              "    <tr>\n",
              "      <th>2</th>\n",
              "      <td>1/5/2012</td>\n",
              "      <td>329.83</td>\n",
              "      <td>330.75</td>\n",
              "      <td>326.89</td>\n",
              "      <td>657.21</td>\n",
              "      <td>6,590,300</td>\n",
              "    </tr>\n",
              "    <tr>\n",
              "      <th>3</th>\n",
              "      <td>1/6/2012</td>\n",
              "      <td>328.34</td>\n",
              "      <td>328.77</td>\n",
              "      <td>323.68</td>\n",
              "      <td>648.24</td>\n",
              "      <td>5,405,900</td>\n",
              "    </tr>\n",
              "    <tr>\n",
              "      <th>4</th>\n",
              "      <td>1/9/2012</td>\n",
              "      <td>322.04</td>\n",
              "      <td>322.29</td>\n",
              "      <td>309.46</td>\n",
              "      <td>620.76</td>\n",
              "      <td>11,688,800</td>\n",
              "    </tr>\n",
              "    <tr>\n",
              "      <th>...</th>\n",
              "      <td>...</td>\n",
              "      <td>...</td>\n",
              "      <td>...</td>\n",
              "      <td>...</td>\n",
              "      <td>...</td>\n",
              "      <td>...</td>\n",
              "    </tr>\n",
              "    <tr>\n",
              "      <th>1253</th>\n",
              "      <td>12/23/2016</td>\n",
              "      <td>790.90</td>\n",
              "      <td>792.74</td>\n",
              "      <td>787.28</td>\n",
              "      <td>789.91</td>\n",
              "      <td>623,400</td>\n",
              "    </tr>\n",
              "    <tr>\n",
              "      <th>1254</th>\n",
              "      <td>12/27/2016</td>\n",
              "      <td>790.68</td>\n",
              "      <td>797.86</td>\n",
              "      <td>787.66</td>\n",
              "      <td>791.55</td>\n",
              "      <td>789,100</td>\n",
              "    </tr>\n",
              "    <tr>\n",
              "      <th>1255</th>\n",
              "      <td>12/28/2016</td>\n",
              "      <td>793.70</td>\n",
              "      <td>794.23</td>\n",
              "      <td>783.20</td>\n",
              "      <td>785.05</td>\n",
              "      <td>1,153,800</td>\n",
              "    </tr>\n",
              "    <tr>\n",
              "      <th>1256</th>\n",
              "      <td>12/29/2016</td>\n",
              "      <td>783.33</td>\n",
              "      <td>785.93</td>\n",
              "      <td>778.92</td>\n",
              "      <td>782.79</td>\n",
              "      <td>744,300</td>\n",
              "    </tr>\n",
              "    <tr>\n",
              "      <th>1257</th>\n",
              "      <td>12/30/2016</td>\n",
              "      <td>782.75</td>\n",
              "      <td>782.78</td>\n",
              "      <td>770.41</td>\n",
              "      <td>771.82</td>\n",
              "      <td>1,770,000</td>\n",
              "    </tr>\n",
              "  </tbody>\n",
              "</table>\n",
              "<p>1258 rows × 6 columns</p>\n",
              "</div>"
            ],
            "text/plain": [
              "            Date    Open    High     Low   Close      Volume\n",
              "0       1/3/2012  325.25  332.83  324.97  663.59   7,380,500\n",
              "1       1/4/2012  331.27  333.87  329.08  666.45   5,749,400\n",
              "2       1/5/2012  329.83  330.75  326.89  657.21   6,590,300\n",
              "3       1/6/2012  328.34  328.77  323.68  648.24   5,405,900\n",
              "4       1/9/2012  322.04  322.29  309.46  620.76  11,688,800\n",
              "...          ...     ...     ...     ...     ...         ...\n",
              "1253  12/23/2016  790.90  792.74  787.28  789.91     623,400\n",
              "1254  12/27/2016  790.68  797.86  787.66  791.55     789,100\n",
              "1255  12/28/2016  793.70  794.23  783.20  785.05   1,153,800\n",
              "1256  12/29/2016  783.33  785.93  778.92  782.79     744,300\n",
              "1257  12/30/2016  782.75  782.78  770.41  771.82   1,770,000\n",
              "\n",
              "[1258 rows x 6 columns]"
            ]
          },
          "metadata": {
            "tags": []
          },
          "execution_count": 4
        }
      ]
    },
    {
      "cell_type": "code",
      "metadata": {
        "id": "isT4QTCQuPPh",
        "colab": {
          "base_uri": "https://localhost:8080/",
          "height": 669
        },
        "outputId": "ca24dda5-27e1-4d62-c11c-094f0e2140ae"
      },
      "source": [
        "# Check the status of test dataset after the load procedure:\r\n",
        "\r\n",
        "test"
      ],
      "execution_count": 5,
      "outputs": [
        {
          "output_type": "execute_result",
          "data": {
            "text/html": [
              "<div>\n",
              "<style scoped>\n",
              "    .dataframe tbody tr th:only-of-type {\n",
              "        vertical-align: middle;\n",
              "    }\n",
              "\n",
              "    .dataframe tbody tr th {\n",
              "        vertical-align: top;\n",
              "    }\n",
              "\n",
              "    .dataframe thead th {\n",
              "        text-align: right;\n",
              "    }\n",
              "</style>\n",
              "<table border=\"1\" class=\"dataframe\">\n",
              "  <thead>\n",
              "    <tr style=\"text-align: right;\">\n",
              "      <th></th>\n",
              "      <th>Date</th>\n",
              "      <th>Open</th>\n",
              "      <th>High</th>\n",
              "      <th>Low</th>\n",
              "      <th>Close</th>\n",
              "      <th>Volume</th>\n",
              "    </tr>\n",
              "  </thead>\n",
              "  <tbody>\n",
              "    <tr>\n",
              "      <th>0</th>\n",
              "      <td>1/3/2017</td>\n",
              "      <td>778.81</td>\n",
              "      <td>789.63</td>\n",
              "      <td>775.80</td>\n",
              "      <td>786.14</td>\n",
              "      <td>1,657,300</td>\n",
              "    </tr>\n",
              "    <tr>\n",
              "      <th>1</th>\n",
              "      <td>1/4/2017</td>\n",
              "      <td>788.36</td>\n",
              "      <td>791.34</td>\n",
              "      <td>783.16</td>\n",
              "      <td>786.90</td>\n",
              "      <td>1,073,000</td>\n",
              "    </tr>\n",
              "    <tr>\n",
              "      <th>2</th>\n",
              "      <td>1/5/2017</td>\n",
              "      <td>786.08</td>\n",
              "      <td>794.48</td>\n",
              "      <td>785.02</td>\n",
              "      <td>794.02</td>\n",
              "      <td>1,335,200</td>\n",
              "    </tr>\n",
              "    <tr>\n",
              "      <th>3</th>\n",
              "      <td>1/6/2017</td>\n",
              "      <td>795.26</td>\n",
              "      <td>807.90</td>\n",
              "      <td>792.20</td>\n",
              "      <td>806.15</td>\n",
              "      <td>1,640,200</td>\n",
              "    </tr>\n",
              "    <tr>\n",
              "      <th>4</th>\n",
              "      <td>1/9/2017</td>\n",
              "      <td>806.40</td>\n",
              "      <td>809.97</td>\n",
              "      <td>802.83</td>\n",
              "      <td>806.65</td>\n",
              "      <td>1,272,400</td>\n",
              "    </tr>\n",
              "    <tr>\n",
              "      <th>5</th>\n",
              "      <td>1/10/2017</td>\n",
              "      <td>807.86</td>\n",
              "      <td>809.13</td>\n",
              "      <td>803.51</td>\n",
              "      <td>804.79</td>\n",
              "      <td>1,176,800</td>\n",
              "    </tr>\n",
              "    <tr>\n",
              "      <th>6</th>\n",
              "      <td>1/11/2017</td>\n",
              "      <td>805.00</td>\n",
              "      <td>808.15</td>\n",
              "      <td>801.37</td>\n",
              "      <td>807.91</td>\n",
              "      <td>1,065,900</td>\n",
              "    </tr>\n",
              "    <tr>\n",
              "      <th>7</th>\n",
              "      <td>1/12/2017</td>\n",
              "      <td>807.14</td>\n",
              "      <td>807.39</td>\n",
              "      <td>799.17</td>\n",
              "      <td>806.36</td>\n",
              "      <td>1,353,100</td>\n",
              "    </tr>\n",
              "    <tr>\n",
              "      <th>8</th>\n",
              "      <td>1/13/2017</td>\n",
              "      <td>807.48</td>\n",
              "      <td>811.22</td>\n",
              "      <td>806.69</td>\n",
              "      <td>807.88</td>\n",
              "      <td>1,099,200</td>\n",
              "    </tr>\n",
              "    <tr>\n",
              "      <th>9</th>\n",
              "      <td>1/17/2017</td>\n",
              "      <td>807.08</td>\n",
              "      <td>807.14</td>\n",
              "      <td>800.37</td>\n",
              "      <td>804.61</td>\n",
              "      <td>1,362,100</td>\n",
              "    </tr>\n",
              "    <tr>\n",
              "      <th>10</th>\n",
              "      <td>1/18/2017</td>\n",
              "      <td>805.81</td>\n",
              "      <td>806.21</td>\n",
              "      <td>800.99</td>\n",
              "      <td>806.07</td>\n",
              "      <td>1,294,400</td>\n",
              "    </tr>\n",
              "    <tr>\n",
              "      <th>11</th>\n",
              "      <td>1/19/2017</td>\n",
              "      <td>805.12</td>\n",
              "      <td>809.48</td>\n",
              "      <td>801.80</td>\n",
              "      <td>802.17</td>\n",
              "      <td>919,300</td>\n",
              "    </tr>\n",
              "    <tr>\n",
              "      <th>12</th>\n",
              "      <td>1/20/2017</td>\n",
              "      <td>806.91</td>\n",
              "      <td>806.91</td>\n",
              "      <td>801.69</td>\n",
              "      <td>805.02</td>\n",
              "      <td>1,670,000</td>\n",
              "    </tr>\n",
              "    <tr>\n",
              "      <th>13</th>\n",
              "      <td>1/23/2017</td>\n",
              "      <td>807.25</td>\n",
              "      <td>820.87</td>\n",
              "      <td>803.74</td>\n",
              "      <td>819.31</td>\n",
              "      <td>1,963,600</td>\n",
              "    </tr>\n",
              "    <tr>\n",
              "      <th>14</th>\n",
              "      <td>1/24/2017</td>\n",
              "      <td>822.30</td>\n",
              "      <td>825.90</td>\n",
              "      <td>817.82</td>\n",
              "      <td>823.87</td>\n",
              "      <td>1,474,000</td>\n",
              "    </tr>\n",
              "    <tr>\n",
              "      <th>15</th>\n",
              "      <td>1/25/2017</td>\n",
              "      <td>829.62</td>\n",
              "      <td>835.77</td>\n",
              "      <td>825.06</td>\n",
              "      <td>835.67</td>\n",
              "      <td>1,494,500</td>\n",
              "    </tr>\n",
              "    <tr>\n",
              "      <th>16</th>\n",
              "      <td>1/26/2017</td>\n",
              "      <td>837.81</td>\n",
              "      <td>838.00</td>\n",
              "      <td>827.01</td>\n",
              "      <td>832.15</td>\n",
              "      <td>2,973,900</td>\n",
              "    </tr>\n",
              "    <tr>\n",
              "      <th>17</th>\n",
              "      <td>1/27/2017</td>\n",
              "      <td>834.71</td>\n",
              "      <td>841.95</td>\n",
              "      <td>820.44</td>\n",
              "      <td>823.31</td>\n",
              "      <td>2,965,800</td>\n",
              "    </tr>\n",
              "    <tr>\n",
              "      <th>18</th>\n",
              "      <td>1/30/2017</td>\n",
              "      <td>814.66</td>\n",
              "      <td>815.84</td>\n",
              "      <td>799.80</td>\n",
              "      <td>802.32</td>\n",
              "      <td>3,246,600</td>\n",
              "    </tr>\n",
              "    <tr>\n",
              "      <th>19</th>\n",
              "      <td>1/31/2017</td>\n",
              "      <td>796.86</td>\n",
              "      <td>801.25</td>\n",
              "      <td>790.52</td>\n",
              "      <td>796.79</td>\n",
              "      <td>2,160,600</td>\n",
              "    </tr>\n",
              "  </tbody>\n",
              "</table>\n",
              "</div>"
            ],
            "text/plain": [
              "         Date    Open    High     Low   Close     Volume\n",
              "0    1/3/2017  778.81  789.63  775.80  786.14  1,657,300\n",
              "1    1/4/2017  788.36  791.34  783.16  786.90  1,073,000\n",
              "2    1/5/2017  786.08  794.48  785.02  794.02  1,335,200\n",
              "3    1/6/2017  795.26  807.90  792.20  806.15  1,640,200\n",
              "4    1/9/2017  806.40  809.97  802.83  806.65  1,272,400\n",
              "5   1/10/2017  807.86  809.13  803.51  804.79  1,176,800\n",
              "6   1/11/2017  805.00  808.15  801.37  807.91  1,065,900\n",
              "7   1/12/2017  807.14  807.39  799.17  806.36  1,353,100\n",
              "8   1/13/2017  807.48  811.22  806.69  807.88  1,099,200\n",
              "9   1/17/2017  807.08  807.14  800.37  804.61  1,362,100\n",
              "10  1/18/2017  805.81  806.21  800.99  806.07  1,294,400\n",
              "11  1/19/2017  805.12  809.48  801.80  802.17    919,300\n",
              "12  1/20/2017  806.91  806.91  801.69  805.02  1,670,000\n",
              "13  1/23/2017  807.25  820.87  803.74  819.31  1,963,600\n",
              "14  1/24/2017  822.30  825.90  817.82  823.87  1,474,000\n",
              "15  1/25/2017  829.62  835.77  825.06  835.67  1,494,500\n",
              "16  1/26/2017  837.81  838.00  827.01  832.15  2,973,900\n",
              "17  1/27/2017  834.71  841.95  820.44  823.31  2,965,800\n",
              "18  1/30/2017  814.66  815.84  799.80  802.32  3,246,600\n",
              "19  1/31/2017  796.86  801.25  790.52  796.79  2,160,600"
            ]
          },
          "metadata": {
            "tags": []
          },
          "execution_count": 5
        }
      ]
    },
    {
      "cell_type": "code",
      "metadata": {
        "id": "vb3LR5Jkuvr8"
      },
      "source": [
        "# Reconstructing the train and test datasets with only 'High' column:\r\n",
        "\r\n",
        "# Isolating the column 'High':\r\n",
        "iso_col = ['High']\r\n",
        "\r\n",
        "# Reconstructed train set:\r\n",
        "train = pd.DataFrame(data = train, columns = iso_col)\r\n",
        "\r\n",
        "# Reconstructed test set:\r\n",
        "test = pd.DataFrame(data = test, columns = iso_col)"
      ],
      "execution_count": 6,
      "outputs": []
    },
    {
      "cell_type": "code",
      "metadata": {
        "id": "oN0bI2qjxr8v",
        "colab": {
          "base_uri": "https://localhost:8080/",
          "height": 204
        },
        "outputId": "07b26035-e706-44d5-9915-658eb4a5554d"
      },
      "source": [
        "# Checking the resutls from reconstruction for train dataset:\r\n",
        "\r\n",
        "train.head(5)"
      ],
      "execution_count": 7,
      "outputs": [
        {
          "output_type": "execute_result",
          "data": {
            "text/html": [
              "<div>\n",
              "<style scoped>\n",
              "    .dataframe tbody tr th:only-of-type {\n",
              "        vertical-align: middle;\n",
              "    }\n",
              "\n",
              "    .dataframe tbody tr th {\n",
              "        vertical-align: top;\n",
              "    }\n",
              "\n",
              "    .dataframe thead th {\n",
              "        text-align: right;\n",
              "    }\n",
              "</style>\n",
              "<table border=\"1\" class=\"dataframe\">\n",
              "  <thead>\n",
              "    <tr style=\"text-align: right;\">\n",
              "      <th></th>\n",
              "      <th>High</th>\n",
              "    </tr>\n",
              "  </thead>\n",
              "  <tbody>\n",
              "    <tr>\n",
              "      <th>0</th>\n",
              "      <td>332.83</td>\n",
              "    </tr>\n",
              "    <tr>\n",
              "      <th>1</th>\n",
              "      <td>333.87</td>\n",
              "    </tr>\n",
              "    <tr>\n",
              "      <th>2</th>\n",
              "      <td>330.75</td>\n",
              "    </tr>\n",
              "    <tr>\n",
              "      <th>3</th>\n",
              "      <td>328.77</td>\n",
              "    </tr>\n",
              "    <tr>\n",
              "      <th>4</th>\n",
              "      <td>322.29</td>\n",
              "    </tr>\n",
              "  </tbody>\n",
              "</table>\n",
              "</div>"
            ],
            "text/plain": [
              "     High\n",
              "0  332.83\n",
              "1  333.87\n",
              "2  330.75\n",
              "3  328.77\n",
              "4  322.29"
            ]
          },
          "metadata": {
            "tags": []
          },
          "execution_count": 7
        }
      ]
    },
    {
      "cell_type": "code",
      "metadata": {
        "id": "T_ltUqgYvNX3",
        "colab": {
          "base_uri": "https://localhost:8080/",
          "height": 204
        },
        "outputId": "8347edcf-0970-4de7-ec94-3aae28f55172"
      },
      "source": [
        "# Checking the resutls from reconstruction for test dataset:\r\n",
        "\r\n",
        "test.head(5)"
      ],
      "execution_count": 8,
      "outputs": [
        {
          "output_type": "execute_result",
          "data": {
            "text/html": [
              "<div>\n",
              "<style scoped>\n",
              "    .dataframe tbody tr th:only-of-type {\n",
              "        vertical-align: middle;\n",
              "    }\n",
              "\n",
              "    .dataframe tbody tr th {\n",
              "        vertical-align: top;\n",
              "    }\n",
              "\n",
              "    .dataframe thead th {\n",
              "        text-align: right;\n",
              "    }\n",
              "</style>\n",
              "<table border=\"1\" class=\"dataframe\">\n",
              "  <thead>\n",
              "    <tr style=\"text-align: right;\">\n",
              "      <th></th>\n",
              "      <th>High</th>\n",
              "    </tr>\n",
              "  </thead>\n",
              "  <tbody>\n",
              "    <tr>\n",
              "      <th>0</th>\n",
              "      <td>789.63</td>\n",
              "    </tr>\n",
              "    <tr>\n",
              "      <th>1</th>\n",
              "      <td>791.34</td>\n",
              "    </tr>\n",
              "    <tr>\n",
              "      <th>2</th>\n",
              "      <td>794.48</td>\n",
              "    </tr>\n",
              "    <tr>\n",
              "      <th>3</th>\n",
              "      <td>807.90</td>\n",
              "    </tr>\n",
              "    <tr>\n",
              "      <th>4</th>\n",
              "      <td>809.97</td>\n",
              "    </tr>\n",
              "  </tbody>\n",
              "</table>\n",
              "</div>"
            ],
            "text/plain": [
              "     High\n",
              "0  789.63\n",
              "1  791.34\n",
              "2  794.48\n",
              "3  807.90\n",
              "4  809.97"
            ]
          },
          "metadata": {
            "tags": []
          },
          "execution_count": 8
        }
      ]
    },
    {
      "cell_type": "code",
      "metadata": {
        "id": "jyXFF5dA4ChO",
        "colab": {
          "base_uri": "https://localhost:8080/"
        },
        "outputId": "26469663-7037-49ef-dae2-225574e7b657"
      },
      "source": [
        "# Checking the shapes of the train and test dataset:\r\n",
        "\r\n",
        "train.shape, test.shape"
      ],
      "execution_count": 9,
      "outputs": [
        {
          "output_type": "execute_result",
          "data": {
            "text/plain": [
              "((1258, 1), (20, 1))"
            ]
          },
          "metadata": {
            "tags": []
          },
          "execution_count": 9
        }
      ]
    },
    {
      "cell_type": "markdown",
      "metadata": {
        "id": "vZL4hvXByVnB"
      },
      "source": [
        "- Print the basic statistics about the dataset (train and test separately): \r\n",
        "- What is the mean value of the stocks?"
      ]
    },
    {
      "cell_type": "code",
      "metadata": {
        "id": "Q4mVr43q7L_O",
        "colab": {
          "base_uri": "https://localhost:8080/",
          "height": 297
        },
        "outputId": "33c1f7be-c18e-404a-9043-1099f8b5e35a"
      },
      "source": [
        "# Printing the basic statistic for train dataset:\n",
        "\n",
        "train.describe()"
      ],
      "execution_count": 10,
      "outputs": [
        {
          "output_type": "execute_result",
          "data": {
            "text/html": [
              "<div>\n",
              "<style scoped>\n",
              "    .dataframe tbody tr th:only-of-type {\n",
              "        vertical-align: middle;\n",
              "    }\n",
              "\n",
              "    .dataframe tbody tr th {\n",
              "        vertical-align: top;\n",
              "    }\n",
              "\n",
              "    .dataframe thead th {\n",
              "        text-align: right;\n",
              "    }\n",
              "</style>\n",
              "<table border=\"1\" class=\"dataframe\">\n",
              "  <thead>\n",
              "    <tr style=\"text-align: right;\">\n",
              "      <th></th>\n",
              "      <th>High</th>\n",
              "    </tr>\n",
              "  </thead>\n",
              "  <tbody>\n",
              "    <tr>\n",
              "      <th>count</th>\n",
              "      <td>1258.000000</td>\n",
              "    </tr>\n",
              "    <tr>\n",
              "      <th>mean</th>\n",
              "      <td>537.880223</td>\n",
              "    </tr>\n",
              "    <tr>\n",
              "      <th>std</th>\n",
              "      <td>153.008811</td>\n",
              "    </tr>\n",
              "    <tr>\n",
              "      <th>min</th>\n",
              "      <td>281.210000</td>\n",
              "    </tr>\n",
              "    <tr>\n",
              "      <th>25%</th>\n",
              "      <td>406.765000</td>\n",
              "    </tr>\n",
              "    <tr>\n",
              "      <th>50%</th>\n",
              "      <td>540.750000</td>\n",
              "    </tr>\n",
              "    <tr>\n",
              "      <th>75%</th>\n",
              "      <td>662.587500</td>\n",
              "    </tr>\n",
              "    <tr>\n",
              "      <th>max</th>\n",
              "      <td>816.680000</td>\n",
              "    </tr>\n",
              "  </tbody>\n",
              "</table>\n",
              "</div>"
            ],
            "text/plain": [
              "              High\n",
              "count  1258.000000\n",
              "mean    537.880223\n",
              "std     153.008811\n",
              "min     281.210000\n",
              "25%     406.765000\n",
              "50%     540.750000\n",
              "75%     662.587500\n",
              "max     816.680000"
            ]
          },
          "metadata": {
            "tags": []
          },
          "execution_count": 10
        }
      ]
    },
    {
      "cell_type": "markdown",
      "metadata": {
        "id": "ch37f77Uyrdj"
      },
      "source": [
        "- The mean value of the train set stocks is: 537,88."
      ]
    },
    {
      "cell_type": "code",
      "metadata": {
        "id": "1BTgHrfmyjs1",
        "colab": {
          "base_uri": "https://localhost:8080/",
          "height": 297
        },
        "outputId": "a262d5d5-1cb7-4d13-f706-3c1c3e7b026a"
      },
      "source": [
        "# Printing the basic statistic for test dataset:\r\n",
        "\r\n",
        "test.describe()"
      ],
      "execution_count": 11,
      "outputs": [
        {
          "output_type": "execute_result",
          "data": {
            "text/html": [
              "<div>\n",
              "<style scoped>\n",
              "    .dataframe tbody tr th:only-of-type {\n",
              "        vertical-align: middle;\n",
              "    }\n",
              "\n",
              "    .dataframe tbody tr th {\n",
              "        vertical-align: top;\n",
              "    }\n",
              "\n",
              "    .dataframe thead th {\n",
              "        text-align: right;\n",
              "    }\n",
              "</style>\n",
              "<table border=\"1\" class=\"dataframe\">\n",
              "  <thead>\n",
              "    <tr style=\"text-align: right;\">\n",
              "      <th></th>\n",
              "      <th>High</th>\n",
              "    </tr>\n",
              "  </thead>\n",
              "  <tbody>\n",
              "    <tr>\n",
              "      <th>count</th>\n",
              "      <td>20.000000</td>\n",
              "    </tr>\n",
              "    <tr>\n",
              "      <th>mean</th>\n",
              "      <td>811.926500</td>\n",
              "    </tr>\n",
              "    <tr>\n",
              "      <th>std</th>\n",
              "      <td>14.381198</td>\n",
              "    </tr>\n",
              "    <tr>\n",
              "      <th>min</th>\n",
              "      <td>789.630000</td>\n",
              "    </tr>\n",
              "    <tr>\n",
              "      <th>25%</th>\n",
              "      <td>806.735000</td>\n",
              "    </tr>\n",
              "    <tr>\n",
              "      <th>50%</th>\n",
              "      <td>808.640000</td>\n",
              "    </tr>\n",
              "    <tr>\n",
              "      <th>75%</th>\n",
              "      <td>817.097500</td>\n",
              "    </tr>\n",
              "    <tr>\n",
              "      <th>max</th>\n",
              "      <td>841.950000</td>\n",
              "    </tr>\n",
              "  </tbody>\n",
              "</table>\n",
              "</div>"
            ],
            "text/plain": [
              "             High\n",
              "count   20.000000\n",
              "mean   811.926500\n",
              "std     14.381198\n",
              "min    789.630000\n",
              "25%    806.735000\n",
              "50%    808.640000\n",
              "75%    817.097500\n",
              "max    841.950000"
            ]
          },
          "metadata": {
            "tags": []
          },
          "execution_count": 11
        }
      ]
    },
    {
      "cell_type": "markdown",
      "metadata": {
        "id": "bo5Ljs7Gy7rI"
      },
      "source": [
        "The mean value of the test set stocks is: 811,93."
      ]
    },
    {
      "cell_type": "code",
      "metadata": {
        "id": "tkDUp4er3f9c",
        "colab": {
          "base_uri": "https://localhost:8080/",
          "height": 265
        },
        "outputId": "6fced008-b0fb-4ce1-a0ee-c35499c17833"
      },
      "source": [
        "# Visualize the dataset in a plot (train and test):\r\n",
        "\r\n",
        "# Merging both set for visualization purposes:\r\n",
        "frames = [train, test]\r\n",
        "\r\n",
        "dataset = pd.concat(frames, ignore_index = True)\r\n",
        "\r\n",
        "# Visualizing the result:\r\n",
        "plt.plot(dataset)\r\n",
        "plt.show()"
      ],
      "execution_count": 12,
      "outputs": [
        {
          "output_type": "display_data",
          "data": {
            "image/png": "[encoded data removed]",
            "text/plain": [
              "<Figure size 432x288 with 1 Axes>"
            ]
          },
          "metadata": {
            "tags": [],
            "needs_background": "light"
          }
        }
      ]
    },
    {
      "cell_type": "code",
      "metadata": {
        "colab": {
          "base_uri": "https://localhost:8080/",
          "height": 265
        },
        "id": "YS5pA4cSDO2B",
        "outputId": "f5e5ce0b-d891-4563-ced2-5aea6f5be98d"
      },
      "source": [
        "# Visualize the train dataset:\r\n",
        "\r\n",
        "plt.plot(train)\r\n",
        "plt.show()"
      ],
      "execution_count": 13,
      "outputs": [
        {
          "output_type": "display_data",
          "data": {
            "image/png": "[encoded data removed]",
            "text/plain": [
              "<Figure size 432x288 with 1 Axes>"
            ]
          },
          "metadata": {
            "tags": [],
            "needs_background": "light"
          }
        }
      ]
    },
    {
      "cell_type": "code",
      "metadata": {
        "colab": {
          "base_uri": "https://localhost:8080/",
          "height": 265
        },
        "id": "Ux_SSMSRDY3g",
        "outputId": "237383f5-b9ea-4665-cb04-f94cde597638"
      },
      "source": [
        "# Visualize the test dataset:\r\n",
        "\r\n",
        "plt.plot(test)\r\n",
        "plt.show()"
      ],
      "execution_count": 14,
      "outputs": [
        {
          "output_type": "display_data",
          "data": {
            "image/png": "[encoded data removed]",
            "text/plain": [
              "<Figure size 432x288 with 1 Axes>"
            ]
          },
          "metadata": {
            "tags": [],
            "needs_background": "light"
          }
        }
      ]
    },
    {
      "cell_type": "markdown",
      "metadata": {
        "id": "LhqFabL98fQI"
      },
      "source": [
        "## Prepare the dataset"
      ]
    },
    {
      "cell_type": "code",
      "metadata": {
        "id": "Qx-66gts5Ruo"
      },
      "source": [
        "# Normalize the train and test dataset as preparation for RNN model:\n",
        "\n",
        "# Creating scaler object:\n",
        "scaler = MinMaxScaler()\n",
        "\n",
        "# Transforming dataset:\n",
        "dataset = scaler.fit_transform(dataset)"
      ],
      "execution_count": 15,
      "outputs": []
    },
    {
      "cell_type": "code",
      "metadata": {
        "id": "Fc6Uc7zZ3Ynh",
        "colab": {
          "base_uri": "https://localhost:8080/"
        },
        "outputId": "feea6888-71bb-4a19-fb28-b6c54281cb10"
      },
      "source": [
        "# Checking the results after normalization:\r\n",
        "\r\n",
        "dataset[:5]"
      ],
      "execution_count": 16,
      "outputs": [
        {
          "output_type": "execute_result",
          "data": {
            "text/plain": [
              "array([[0.09205692],\n",
              "       [0.09391162],\n",
              "       [0.08834754],\n",
              "       [0.08481649],\n",
              "       [0.07326033]])"
            ]
          },
          "metadata": {
            "tags": []
          },
          "execution_count": 16
        }
      ]
    },
    {
      "cell_type": "code",
      "metadata": {
        "id": "Lo5wt6CmGECH"
      },
      "source": [
        "# Manually splitting the dataset into train and test segments:\r\n",
        "\r\n",
        "train = dataset[:1258]\r\n",
        "test = dataset[1258:]"
      ],
      "execution_count": 17,
      "outputs": []
    },
    {
      "cell_type": "code",
      "metadata": {
        "colab": {
          "base_uri": "https://localhost:8080/"
        },
        "id": "Bi3NKNu2Gcux",
        "outputId": "c57a34cb-01f6-444b-f4fb-e5c464fa28eb"
      },
      "source": [
        "# Checking the shape of the train and test segments:\r\n",
        "\r\n",
        "train.shape, test.shape"
      ],
      "execution_count": 18,
      "outputs": [
        {
          "output_type": "execute_result",
          "data": {
            "text/plain": [
              "((1258, 1), (20, 1))"
            ]
          },
          "metadata": {
            "tags": []
          },
          "execution_count": 18
        }
      ]
    },
    {
      "cell_type": "markdown",
      "metadata": {
        "id": "0nlGarBE7L_a"
      },
      "source": [
        "# 2. Many to One"
      ]
    },
    {
      "cell_type": "markdown",
      "metadata": {
        "id": "9bu5fs2R4Sjs"
      },
      "source": [
        "-  Write or reuse a function to segment the dataset in the appropriate format \r\n",
        "- Tip: split_sequence(dataset, n_steps_in):"
      ]
    },
    {
      "cell_type": "code",
      "metadata": {
        "id": "4LtTUvqv9yBW"
      },
      "source": [
        "# Inserting the split_sequence function:\n",
        "\n",
        "def split_sequence(sequence, n_steps):\n",
        "\tX, y = list(), list()\n",
        "\tfor i in range(len(sequence)):\n",
        "\t\t# find the end of this pattern\n",
        "\t\tend_ix = i + n_steps\n",
        "\t\t# check if we are beyond the sequence\n",
        "\t\tif end_ix > len(sequence)-1:\n",
        "\t\t\tbreak\n",
        "\t\t# gather input and output parts of the pattern\n",
        "\t\tseq_x, seq_y = sequence[i:end_ix], sequence[end_ix]\n",
        "\t\tX.append(seq_x)\n",
        "\t\ty.append(seq_y)\n",
        "\treturn array(X), array(y)"
      ],
      "execution_count": 19,
      "outputs": []
    },
    {
      "cell_type": "markdown",
      "metadata": {
        "id": "7UDsyn9E44Qn"
      },
      "source": [
        "- Use the function on the dataset and print the newly segmented data.\r\n",
        "- use n_steps_in = 5"
      ]
    },
    {
      "cell_type": "code",
      "metadata": {
        "id": "XeFJuOQf-m-l"
      },
      "source": [
        "# Spliting the train and test dataset in the appropriate segments:\n",
        "\n",
        "n_steps_in = 5\n",
        "\n",
        "trainX, trainY = split_sequence(train, n_steps = n_steps_in)\n",
        "testX, testY = split_sequence(test, n_steps = n_steps_in)"
      ],
      "execution_count": 20,
      "outputs": []
    },
    {
      "cell_type": "code",
      "metadata": {
        "colab": {
          "base_uri": "https://localhost:8080/"
        },
        "id": "YatVUBWGQn5_",
        "outputId": "df2cac4d-737b-4846-afbb-a5093d7fc7e7"
      },
      "source": [
        "# Checking the shape after spiting the datasets:\r\n",
        "\r\n",
        "trainX.shape, trainY.shape, testX.shape, testY.shape"
      ],
      "execution_count": 21,
      "outputs": [
        {
          "output_type": "execute_result",
          "data": {
            "text/plain": [
              "((1253, 5, 1), (1253, 1), (15, 5, 1), (15, 1))"
            ]
          },
          "metadata": {
            "tags": []
          },
          "execution_count": 21
        }
      ]
    },
    {
      "cell_type": "code",
      "metadata": {
        "id": "wis6QaPl7pjJ",
        "colab": {
          "base_uri": "https://localhost:8080/"
        },
        "outputId": "9860ce0d-6bf6-4dc6-b8ff-8cd14278add1"
      },
      "source": [
        "# Summarize the data:\r\n",
        "\r\n",
        "for i in range(5):\r\n",
        "  print(trainX[i], trainY[i])"
      ],
      "execution_count": 22,
      "outputs": [
        {
          "output_type": "stream",
          "text": [
            "[[0.09205692]\n",
            " [0.09391162]\n",
            " [0.08834754]\n",
            " [0.08481649]\n",
            " [0.07326033]] [0.06154367]\n",
            "[[0.09391162]\n",
            " [0.08834754]\n",
            " [0.08481649]\n",
            " [0.07326033]\n",
            " [0.06154367]] [0.05762029]\n",
            "[[0.08834754]\n",
            " [0.08481649]\n",
            " [0.07326033]\n",
            " [0.06154367]\n",
            " [0.05762029]] [0.06072333]\n",
            "[[0.08481649]\n",
            " [0.07326033]\n",
            " [0.06154367]\n",
            " [0.05762029]\n",
            " [0.06072333]] [0.05544459]\n",
            "[[0.07326033]\n",
            " [0.06154367]\n",
            " [0.05762029]\n",
            " [0.06072333]\n",
            " [0.05544459]] [0.05992082]\n"
          ],
          "name": "stdout"
        }
      ]
    },
    {
      "cell_type": "code",
      "metadata": {
        "id": "VNmwiM0g_K2f"
      },
      "source": [
        "# Reshape the data to be appropriate for trianing the RNN model:\n",
        "\n",
        "# Reshape from [samples, timesteps] into [samples, timesteps, features]:\n",
        "n_features = 1\n",
        "trainX = trainX.reshape(trainX.shape[0], trainX.shape[1], n_features)\n",
        "testX = testX.reshape(testX.shape[0], testX.shape[1], n_features)"
      ],
      "execution_count": 23,
      "outputs": []
    },
    {
      "cell_type": "code",
      "metadata": {
        "id": "Oyd3c9tF8sK0",
        "colab": {
          "base_uri": "https://localhost:8080/"
        },
        "outputId": "407575ab-aa8c-4ee9-c738-e55567780e0c"
      },
      "source": [
        "# Checking the reshaped version of the train dataset:\r\n",
        "\r\n",
        "trainX.shape, testX.shape"
      ],
      "execution_count": 24,
      "outputs": [
        {
          "output_type": "execute_result",
          "data": {
            "text/plain": [
              "((1253, 5, 1), (15, 5, 1))"
            ]
          },
          "metadata": {
            "tags": []
          },
          "execution_count": 24
        }
      ]
    },
    {
      "cell_type": "markdown",
      "metadata": {
        "id": "IoWupollf2h5"
      },
      "source": [
        "## Create the model"
      ]
    },
    {
      "cell_type": "markdown",
      "metadata": {
        "id": "tRwVZHHx9gaJ"
      },
      "source": [
        "- create and fit the RNN network. \r\n",
        "- Use LSTM with 60 neurons, RELU activation function, MAE as a loss, and SGD as optimizer."
      ]
    },
    {
      "cell_type": "code",
      "metadata": {
        "id": "bPgcxrKCBOe5",
        "colab": {
          "base_uri": "https://localhost:8080/"
        },
        "outputId": "0acf7095-3ac0-431d-93a4-f6505ec7fa76"
      },
      "source": [
        "# Create RNN model object:\n",
        "\n",
        "model = Sequential()\n",
        "model.add(LSTM(60, activation = 'relu', input_shape = (n_steps_in, n_features)))\n",
        "model.add(Dense(1))\n",
        "model.summary()"
      ],
      "execution_count": 25,
      "outputs": [
        {
          "output_type": "stream",
          "text": [
            "WARNING:tensorflow:Layer lstm will not use cuDNN kernel since it doesn't meet the cuDNN kernel criteria. It will use generic GPU kernel as fallback when running on GPU\n",
            "Model: \"sequential\"\n",
            "_________________________________________________________________\n",
            "Layer (type)                 Output Shape              Param #   \n",
            "=================================================================\n",
            "lstm (LSTM)                  (None, 60)                14880     \n",
            "_________________________________________________________________\n",
            "dense (Dense)                (None, 1)                 61        \n",
            "=================================================================\n",
            "Total params: 14,941\n",
            "Trainable params: 14,941\n",
            "Non-trainable params: 0\n",
            "_________________________________________________________________\n"
          ],
          "name": "stdout"
        }
      ]
    },
    {
      "cell_type": "code",
      "metadata": {
        "id": "RLipRLkM-jSx"
      },
      "source": [
        "# Compiling the RNN model:\r\n",
        "\r\n",
        "model.compile(optimizer = 'SGD', loss = 'mae')"
      ],
      "execution_count": 26,
      "outputs": []
    },
    {
      "cell_type": "markdown",
      "metadata": {
        "id": "niNDY824f7dX"
      },
      "source": [
        "### Define the callbacks"
      ]
    },
    {
      "cell_type": "markdown",
      "metadata": {
        "id": "xk4OvpRj-1dP"
      },
      "source": [
        "- Callback1 - to save the best model in a file : \"best_RNN.pt\".\r\n",
        "- Callback2 - to stop if there is no improvement in 15 epochs."
      ]
    },
    {
      "cell_type": "code",
      "metadata": {
        "id": "Xp6qz5hRZ_uM"
      },
      "source": [
        "# Creating callbacks to make training of the model more flexible:\n",
        "\n",
        "callback1 = ModelCheckpoint('best_RNN.pt', monitor = 'loss', save_best_only = True, mode = 'min', verbose = 1)\n",
        "callback2 = EarlyStopping(patience = 15, monitor = 'loss', mode = 'min')\n",
        "callback_list = [callback1, callback2]"
      ],
      "execution_count": 27,
      "outputs": []
    },
    {
      "cell_type": "markdown",
      "metadata": {
        "id": "bIthhnsIf_sB"
      },
      "source": [
        "### Train the model and use the callbacks\n",
        " - epoch = 150, batch size is 1"
      ]
    },
    {
      "cell_type": "code",
      "metadata": {
        "id": "bejbnA-KaD23",
        "colab": {
          "base_uri": "https://localhost:8080/"
        },
        "outputId": "a50d94f3-7357-4311-d33a-c9f439758458"
      },
      "source": [
        "# Train the model:\r\n",
        "\r\n",
        "history_m1 = model.fit(trainX, trainY,\r\n",
        "                       epochs = 150,\r\n",
        "                       batch_size = 1,\r\n",
        "                       callbacks = callback_list,\r\n",
        "                       verbose = 1 \r\n",
        "                       )\r\n",
        "print('Training Finished!')"
      ],
      "execution_count": 28,
      "outputs": [
        {
          "output_type": "stream",
          "text": [
            "Epoch 1/150\n",
            "1253/1253 [==============================] - 5s 4ms/step - loss: 0.1353\n",
            "\n",
            "Epoch 00001: loss improved from inf to 0.06497, saving model to best_RNN.pt\n",
            "INFO:tensorflow:Assets written to: best_RNN.pt/assets\n",
            "Epoch 2/150\n",
            "1253/1253 [==============================] - 4s 4ms/step - loss: 0.0208\n",
            "\n",
            "Epoch 00002: loss improved from 0.06497 to 0.02018, saving model to best_RNN.pt\n",
            "INFO:tensorflow:Assets written to: best_RNN.pt/assets\n",
            "Epoch 3/150\n",
            "1253/1253 [==============================] - 4s 4ms/step - loss: 0.0205\n",
            "\n",
            "Epoch 00003: loss did not improve from 0.02018\n",
            "Epoch 4/150\n",
            "1253/1253 [==============================] - 4s 4ms/step - loss: 0.0204\n",
            "\n",
            "Epoch 00004: loss improved from 0.02018 to 0.01990, saving model to best_RNN.pt\n",
            "INFO:tensorflow:Assets written to: best_RNN.pt/assets\n",
            "Epoch 5/150\n",
            "1253/1253 [==============================] - 4s 4ms/step - loss: 0.0203\n",
            "\n",
            "Epoch 00005: loss improved from 0.01990 to 0.01968, saving model to best_RNN.pt\n",
            "INFO:tensorflow:Assets written to: best_RNN.pt/assets\n",
            "Epoch 6/150\n",
            "1253/1253 [==============================] - 4s 4ms/step - loss: 0.0183\n",
            "\n",
            "Epoch 00006: loss improved from 0.01968 to 0.01855, saving model to best_RNN.pt\n",
            "INFO:tensorflow:Assets written to: best_RNN.pt/assets\n",
            "Epoch 7/150\n",
            "1253/1253 [==============================] - 4s 4ms/step - loss: 0.0191\n",
            "\n",
            "Epoch 00007: loss did not improve from 0.01855\n",
            "Epoch 8/150\n",
            "1253/1253 [==============================] - 4s 4ms/step - loss: 0.0184\n",
            "\n",
            "Epoch 00008: loss improved from 0.01855 to 0.01845, saving model to best_RNN.pt\n",
            "INFO:tensorflow:Assets written to: best_RNN.pt/assets\n",
            "Epoch 9/150\n",
            "1253/1253 [==============================] - 4s 4ms/step - loss: 0.0177\n",
            "\n",
            "Epoch 00009: loss improved from 0.01845 to 0.01814, saving model to best_RNN.pt\n",
            "INFO:tensorflow:Assets written to: best_RNN.pt/assets\n",
            "Epoch 10/150\n",
            "1253/1253 [==============================] - 4s 4ms/step - loss: 0.0187\n",
            "\n",
            "Epoch 00010: loss improved from 0.01814 to 0.01808, saving model to best_RNN.pt\n",
            "INFO:tensorflow:Assets written to: best_RNN.pt/assets\n",
            "Epoch 11/150\n",
            "1253/1253 [==============================] - 5s 4ms/step - loss: 0.0181\n",
            "\n",
            "Epoch 00011: loss did not improve from 0.01808\n",
            "Epoch 12/150\n",
            "1253/1253 [==============================] - 5s 4ms/step - loss: 0.0176\n",
            "\n",
            "Epoch 00012: loss improved from 0.01808 to 0.01790, saving model to best_RNN.pt\n",
            "INFO:tensorflow:Assets written to: best_RNN.pt/assets\n",
            "Epoch 13/150\n",
            "1253/1253 [==============================] - 5s 4ms/step - loss: 0.0178\n",
            "\n",
            "Epoch 00013: loss improved from 0.01790 to 0.01772, saving model to best_RNN.pt\n",
            "INFO:tensorflow:Assets written to: best_RNN.pt/assets\n",
            "Epoch 14/150\n",
            "1253/1253 [==============================] - 5s 4ms/step - loss: 0.0178\n",
            "\n",
            "Epoch 00014: loss did not improve from 0.01772\n",
            "Epoch 15/150\n",
            "1253/1253 [==============================] - 5s 4ms/step - loss: 0.0182\n",
            "\n",
            "Epoch 00015: loss improved from 0.01772 to 0.01769, saving model to best_RNN.pt\n",
            "INFO:tensorflow:Assets written to: best_RNN.pt/assets\n",
            "Epoch 16/150\n",
            "1253/1253 [==============================] - 4s 4ms/step - loss: 0.0170\n",
            "\n",
            "Epoch 00016: loss improved from 0.01769 to 0.01714, saving model to best_RNN.pt\n",
            "INFO:tensorflow:Assets written to: best_RNN.pt/assets\n",
            "Epoch 17/150\n",
            "1253/1253 [==============================] - 4s 4ms/step - loss: 0.0177\n",
            "\n",
            "Epoch 00017: loss did not improve from 0.01714\n",
            "Epoch 18/150\n",
            "1253/1253 [==============================] - 4s 4ms/step - loss: 0.0168\n",
            "\n",
            "Epoch 00018: loss did not improve from 0.01714\n",
            "Epoch 19/150\n",
            "1253/1253 [==============================] - 4s 4ms/step - loss: 0.0176\n",
            "\n",
            "Epoch 00019: loss improved from 0.01714 to 0.01679, saving model to best_RNN.pt\n",
            "INFO:tensorflow:Assets written to: best_RNN.pt/assets\n",
            "Epoch 20/150\n",
            "1253/1253 [==============================] - 4s 4ms/step - loss: 0.0166\n",
            "\n",
            "Epoch 00020: loss did not improve from 0.01679\n",
            "Epoch 21/150\n",
            "1253/1253 [==============================] - 4s 4ms/step - loss: 0.0162\n",
            "\n",
            "Epoch 00021: loss improved from 0.01679 to 0.01675, saving model to best_RNN.pt\n",
            "INFO:tensorflow:Assets written to: best_RNN.pt/assets\n",
            "Epoch 22/150\n",
            "1253/1253 [==============================] - 4s 3ms/step - loss: 0.0170\n",
            "\n",
            "Epoch 00022: loss improved from 0.01675 to 0.01655, saving model to best_RNN.pt\n",
            "INFO:tensorflow:Assets written to: best_RNN.pt/assets\n",
            "Epoch 23/150\n",
            "1253/1253 [==============================] - 4s 4ms/step - loss: 0.0166\n",
            "\n",
            "Epoch 00023: loss improved from 0.01655 to 0.01644, saving model to best_RNN.pt\n",
            "INFO:tensorflow:Assets written to: best_RNN.pt/assets\n",
            "Epoch 24/150\n",
            "1253/1253 [==============================] - 4s 4ms/step - loss: 0.0168\n",
            "\n",
            "Epoch 00024: loss did not improve from 0.01644\n",
            "Epoch 25/150\n",
            "1253/1253 [==============================] - 4s 4ms/step - loss: 0.0162\n",
            "\n",
            "Epoch 00025: loss improved from 0.01644 to 0.01610, saving model to best_RNN.pt\n",
            "INFO:tensorflow:Assets written to: best_RNN.pt/assets\n",
            "Epoch 26/150\n",
            "1253/1253 [==============================] - 4s 3ms/step - loss: 0.0166\n",
            "\n",
            "Epoch 00026: loss did not improve from 0.01610\n",
            "Epoch 27/150\n",
            "1253/1253 [==============================] - 4s 4ms/step - loss: 0.0164\n",
            "\n",
            "Epoch 00027: loss did not improve from 0.01610\n",
            "Epoch 28/150\n",
            "1253/1253 [==============================] - 4s 3ms/step - loss: 0.0161\n",
            "\n",
            "Epoch 00028: loss improved from 0.01610 to 0.01588, saving model to best_RNN.pt\n",
            "INFO:tensorflow:Assets written to: best_RNN.pt/assets\n",
            "Epoch 29/150\n",
            "1253/1253 [==============================] - 4s 3ms/step - loss: 0.0161\n",
            "\n",
            "Epoch 00029: loss did not improve from 0.01588\n",
            "Epoch 30/150\n",
            "1253/1253 [==============================] - 4s 4ms/step - loss: 0.0163\n",
            "\n",
            "Epoch 00030: loss did not improve from 0.01588\n",
            "Epoch 31/150\n",
            "1253/1253 [==============================] - 4s 4ms/step - loss: 0.0161\n",
            "\n",
            "Epoch 00031: loss did not improve from 0.01588\n",
            "Epoch 32/150\n",
            "1253/1253 [==============================] - 4s 4ms/step - loss: 0.0162\n",
            "\n",
            "Epoch 00032: loss did not improve from 0.01588\n",
            "Epoch 33/150\n",
            "1253/1253 [==============================] - 4s 4ms/step - loss: 0.0155\n",
            "\n",
            "Epoch 00033: loss improved from 0.01588 to 0.01579, saving model to best_RNN.pt\n",
            "INFO:tensorflow:Assets written to: best_RNN.pt/assets\n",
            "Epoch 34/150\n",
            "1253/1253 [==============================] - 4s 3ms/step - loss: 0.0163\n",
            "\n",
            "Epoch 00034: loss improved from 0.01579 to 0.01571, saving model to best_RNN.pt\n",
            "INFO:tensorflow:Assets written to: best_RNN.pt/assets\n",
            "Epoch 35/150\n",
            "1253/1253 [==============================] - 4s 4ms/step - loss: 0.0161\n",
            "\n",
            "Epoch 00035: loss did not improve from 0.01571\n",
            "Epoch 36/150\n",
            "1253/1253 [==============================] - 4s 4ms/step - loss: 0.0158\n",
            "\n",
            "Epoch 00036: loss improved from 0.01571 to 0.01560, saving model to best_RNN.pt\n",
            "INFO:tensorflow:Assets written to: best_RNN.pt/assets\n",
            "Epoch 37/150\n",
            "1253/1253 [==============================] - 5s 4ms/step - loss: 0.0160\n",
            "\n",
            "Epoch 00037: loss did not improve from 0.01560\n",
            "Epoch 38/150\n",
            "1253/1253 [==============================] - 5s 4ms/step - loss: 0.0157\n",
            "\n",
            "Epoch 00038: loss did not improve from 0.01560\n",
            "Epoch 39/150\n",
            "1253/1253 [==============================] - 5s 4ms/step - loss: 0.0157\n",
            "\n",
            "Epoch 00039: loss improved from 0.01560 to 0.01538, saving model to best_RNN.pt\n",
            "INFO:tensorflow:Assets written to: best_RNN.pt/assets\n",
            "Epoch 40/150\n",
            "1253/1253 [==============================] - 4s 4ms/step - loss: 0.0154\n",
            "\n",
            "Epoch 00040: loss improved from 0.01538 to 0.01527, saving model to best_RNN.pt\n",
            "INFO:tensorflow:Assets written to: best_RNN.pt/assets\n",
            "Epoch 41/150\n",
            "1253/1253 [==============================] - 5s 4ms/step - loss: 0.0150\n",
            "\n",
            "Epoch 00041: loss improved from 0.01527 to 0.01513, saving model to best_RNN.pt\n",
            "INFO:tensorflow:Assets written to: best_RNN.pt/assets\n",
            "Epoch 42/150\n",
            "1253/1253 [==============================] - 5s 4ms/step - loss: 0.0159\n",
            "\n",
            "Epoch 00042: loss improved from 0.01513 to 0.01506, saving model to best_RNN.pt\n",
            "INFO:tensorflow:Assets written to: best_RNN.pt/assets\n",
            "Epoch 43/150\n",
            "1253/1253 [==============================] - 4s 4ms/step - loss: 0.0150\n",
            "\n",
            "Epoch 00043: loss did not improve from 0.01506\n",
            "Epoch 44/150\n",
            "1253/1253 [==============================] - 4s 4ms/step - loss: 0.0151\n",
            "\n",
            "Epoch 00044: loss improved from 0.01506 to 0.01504, saving model to best_RNN.pt\n",
            "INFO:tensorflow:Assets written to: best_RNN.pt/assets\n",
            "Epoch 45/150\n",
            "1253/1253 [==============================] - 4s 4ms/step - loss: 0.0154\n",
            "\n",
            "Epoch 00045: loss did not improve from 0.01504\n",
            "Epoch 46/150\n",
            "1253/1253 [==============================] - 4s 3ms/step - loss: 0.0146\n",
            "\n",
            "Epoch 00046: loss improved from 0.01504 to 0.01503, saving model to best_RNN.pt\n",
            "INFO:tensorflow:Assets written to: best_RNN.pt/assets\n",
            "Epoch 47/150\n",
            "1253/1253 [==============================] - 4s 4ms/step - loss: 0.0148\n",
            "\n",
            "Epoch 00047: loss did not improve from 0.01503\n",
            "Epoch 48/150\n",
            "1253/1253 [==============================] - 4s 4ms/step - loss: 0.0154\n",
            "\n",
            "Epoch 00048: loss improved from 0.01503 to 0.01490, saving model to best_RNN.pt\n",
            "INFO:tensorflow:Assets written to: best_RNN.pt/assets\n",
            "Epoch 49/150\n",
            "1253/1253 [==============================] - 4s 4ms/step - loss: 0.0147\n",
            "\n",
            "Epoch 00049: loss improved from 0.01490 to 0.01481, saving model to best_RNN.pt\n",
            "INFO:tensorflow:Assets written to: best_RNN.pt/assets\n",
            "Epoch 50/150\n",
            "1253/1253 [==============================] - 4s 4ms/step - loss: 0.0149\n",
            "\n",
            "Epoch 00050: loss did not improve from 0.01481\n",
            "Epoch 51/150\n",
            "1253/1253 [==============================] - 5s 4ms/step - loss: 0.0146\n",
            "\n",
            "Epoch 00051: loss did not improve from 0.01481\n",
            "Epoch 52/150\n",
            "1253/1253 [==============================] - 4s 4ms/step - loss: 0.0154\n",
            "\n",
            "Epoch 00052: loss did not improve from 0.01481\n",
            "Epoch 53/150\n",
            "1253/1253 [==============================] - 5s 4ms/step - loss: 0.0145\n",
            "\n",
            "Epoch 00053: loss improved from 0.01481 to 0.01472, saving model to best_RNN.pt\n",
            "INFO:tensorflow:Assets written to: best_RNN.pt/assets\n",
            "Epoch 54/150\n",
            "1253/1253 [==============================] - 4s 4ms/step - loss: 0.0143\n",
            "\n",
            "Epoch 00054: loss improved from 0.01472 to 0.01464, saving model to best_RNN.pt\n",
            "INFO:tensorflow:Assets written to: best_RNN.pt/assets\n",
            "Epoch 55/150\n",
            "1253/1253 [==============================] - 4s 4ms/step - loss: 0.0143\n",
            "\n",
            "Epoch 00055: loss improved from 0.01464 to 0.01442, saving model to best_RNN.pt\n",
            "INFO:tensorflow:Assets written to: best_RNN.pt/assets\n",
            "Epoch 56/150\n",
            "1253/1253 [==============================] - 4s 3ms/step - loss: 0.0147\n",
            "\n",
            "Epoch 00056: loss did not improve from 0.01442\n",
            "Epoch 57/150\n",
            "1253/1253 [==============================] - 4s 4ms/step - loss: 0.0151\n",
            "\n",
            "Epoch 00057: loss did not improve from 0.01442\n",
            "Epoch 58/150\n",
            "1253/1253 [==============================] - 4s 4ms/step - loss: 0.0143\n",
            "\n",
            "Epoch 00058: loss did not improve from 0.01442\n",
            "Epoch 59/150\n",
            "1253/1253 [==============================] - 4s 4ms/step - loss: 0.0138\n",
            "\n",
            "Epoch 00059: loss improved from 0.01442 to 0.01423, saving model to best_RNN.pt\n",
            "INFO:tensorflow:Assets written to: best_RNN.pt/assets\n",
            "Epoch 60/150\n",
            "1253/1253 [==============================] - 4s 4ms/step - loss: 0.0145\n",
            "\n",
            "Epoch 00060: loss improved from 0.01423 to 0.01422, saving model to best_RNN.pt\n",
            "INFO:tensorflow:Assets written to: best_RNN.pt/assets\n",
            "Epoch 61/150\n",
            "1253/1253 [==============================] - 4s 4ms/step - loss: 0.0146\n",
            "\n",
            "Epoch 00061: loss did not improve from 0.01422\n",
            "Epoch 62/150\n",
            "1253/1253 [==============================] - 4s 4ms/step - loss: 0.0142\n",
            "\n",
            "Epoch 00062: loss did not improve from 0.01422\n",
            "Epoch 63/150\n",
            "1253/1253 [==============================] - 4s 4ms/step - loss: 0.0145\n",
            "\n",
            "Epoch 00063: loss did not improve from 0.01422\n",
            "Epoch 64/150\n",
            "1253/1253 [==============================] - 4s 4ms/step - loss: 0.0152\n",
            "\n",
            "Epoch 00064: loss did not improve from 0.01422\n",
            "Epoch 65/150\n",
            "1253/1253 [==============================] - 4s 4ms/step - loss: 0.0143\n",
            "\n",
            "Epoch 00065: loss did not improve from 0.01422\n",
            "Epoch 66/150\n",
            "1253/1253 [==============================] - 5s 4ms/step - loss: 0.0145\n",
            "\n",
            "Epoch 00066: loss did not improve from 0.01422\n",
            "Epoch 67/150\n",
            "1253/1253 [==============================] - 4s 4ms/step - loss: 0.0131\n",
            "\n",
            "Epoch 00067: loss improved from 0.01422 to 0.01413, saving model to best_RNN.pt\n",
            "INFO:tensorflow:Assets written to: best_RNN.pt/assets\n",
            "Epoch 68/150\n",
            "1253/1253 [==============================] - 4s 4ms/step - loss: 0.0149\n",
            "\n",
            "Epoch 00068: loss did not improve from 0.01413\n",
            "Epoch 69/150\n",
            "1253/1253 [==============================] - 4s 4ms/step - loss: 0.0149\n",
            "\n",
            "Epoch 00069: loss did not improve from 0.01413\n",
            "Epoch 70/150\n",
            "1253/1253 [==============================] - 4s 4ms/step - loss: 0.0137\n",
            "\n",
            "Epoch 00070: loss improved from 0.01413 to 0.01391, saving model to best_RNN.pt\n",
            "INFO:tensorflow:Assets written to: best_RNN.pt/assets\n",
            "Epoch 71/150\n",
            "1253/1253 [==============================] - 4s 4ms/step - loss: 0.0138\n",
            "\n",
            "Epoch 00071: loss did not improve from 0.01391\n",
            "Epoch 72/150\n",
            "1253/1253 [==============================] - 4s 4ms/step - loss: 0.0139\n",
            "\n",
            "Epoch 00072: loss improved from 0.01391 to 0.01382, saving model to best_RNN.pt\n",
            "INFO:tensorflow:Assets written to: best_RNN.pt/assets\n",
            "Epoch 73/150\n",
            "1253/1253 [==============================] - 4s 4ms/step - loss: 0.0142\n",
            "\n",
            "Epoch 00073: loss did not improve from 0.01382\n",
            "Epoch 74/150\n",
            "1253/1253 [==============================] - 4s 4ms/step - loss: 0.0136\n",
            "\n",
            "Epoch 00074: loss improved from 0.01382 to 0.01379, saving model to best_RNN.pt\n",
            "INFO:tensorflow:Assets written to: best_RNN.pt/assets\n",
            "Epoch 75/150\n",
            "1253/1253 [==============================] - 4s 4ms/step - loss: 0.0140\n",
            "\n",
            "Epoch 00075: loss did not improve from 0.01379\n",
            "Epoch 76/150\n",
            "1253/1253 [==============================] - 4s 4ms/step - loss: 0.0136\n",
            "\n",
            "Epoch 00076: loss did not improve from 0.01379\n",
            "Epoch 77/150\n",
            "1253/1253 [==============================] - 4s 4ms/step - loss: 0.0139\n",
            "\n",
            "Epoch 00077: loss did not improve from 0.01379\n",
            "Epoch 78/150\n",
            "1253/1253 [==============================] - 4s 4ms/step - loss: 0.0147\n",
            "\n",
            "Epoch 00078: loss did not improve from 0.01379\n",
            "Epoch 79/150\n",
            "1253/1253 [==============================] - 4s 4ms/step - loss: 0.0145\n",
            "\n",
            "Epoch 00079: loss did not improve from 0.01379\n",
            "Epoch 80/150\n",
            "1253/1253 [==============================] - 5s 4ms/step - loss: 0.0136\n",
            "\n",
            "Epoch 00080: loss did not improve from 0.01379\n",
            "Epoch 81/150\n",
            "1253/1253 [==============================] - 4s 4ms/step - loss: 0.0133\n",
            "\n",
            "Epoch 00081: loss improved from 0.01379 to 0.01357, saving model to best_RNN.pt\n",
            "INFO:tensorflow:Assets written to: best_RNN.pt/assets\n",
            "Epoch 82/150\n",
            "1253/1253 [==============================] - 4s 4ms/step - loss: 0.0139\n",
            "\n",
            "Epoch 00082: loss improved from 0.01357 to 0.01354, saving model to best_RNN.pt\n",
            "INFO:tensorflow:Assets written to: best_RNN.pt/assets\n",
            "Epoch 83/150\n",
            "1253/1253 [==============================] - 4s 4ms/step - loss: 0.0144\n",
            "\n",
            "Epoch 00083: loss did not improve from 0.01354\n",
            "Epoch 84/150\n",
            "1253/1253 [==============================] - 4s 4ms/step - loss: 0.0136\n",
            "\n",
            "Epoch 00084: loss did not improve from 0.01354\n",
            "Epoch 85/150\n",
            "1253/1253 [==============================] - 4s 4ms/step - loss: 0.0138\n",
            "\n",
            "Epoch 00085: loss did not improve from 0.01354\n",
            "Epoch 86/150\n",
            "1253/1253 [==============================] - 4s 4ms/step - loss: 0.0137\n",
            "\n",
            "Epoch 00086: loss did not improve from 0.01354\n",
            "Epoch 87/150\n",
            "1253/1253 [==============================] - 4s 4ms/step - loss: 0.0138\n",
            "\n",
            "Epoch 00087: loss did not improve from 0.01354\n",
            "Epoch 88/150\n",
            "1253/1253 [==============================] - 4s 4ms/step - loss: 0.0131\n",
            "\n",
            "Epoch 00088: loss improved from 0.01354 to 0.01344, saving model to best_RNN.pt\n",
            "INFO:tensorflow:Assets written to: best_RNN.pt/assets\n",
            "Epoch 89/150\n",
            "1253/1253 [==============================] - 4s 4ms/step - loss: 0.0136\n",
            "\n",
            "Epoch 00089: loss did not improve from 0.01344\n",
            "Epoch 90/150\n",
            "1253/1253 [==============================] - 4s 4ms/step - loss: 0.0137\n",
            "\n",
            "Epoch 00090: loss did not improve from 0.01344\n",
            "Epoch 91/150\n",
            "1253/1253 [==============================] - 4s 4ms/step - loss: 0.0130\n",
            "\n",
            "Epoch 00091: loss did not improve from 0.01344\n",
            "Epoch 92/150\n",
            "1253/1253 [==============================] - 4s 4ms/step - loss: 0.0132\n",
            "\n",
            "Epoch 00092: loss improved from 0.01344 to 0.01341, saving model to best_RNN.pt\n",
            "INFO:tensorflow:Assets written to: best_RNN.pt/assets\n",
            "Epoch 93/150\n",
            "1253/1253 [==============================] - 4s 4ms/step - loss: 0.0136\n",
            "\n",
            "Epoch 00093: loss did not improve from 0.01341\n",
            "Epoch 94/150\n",
            "1253/1253 [==============================] - 4s 4ms/step - loss: 0.0136\n",
            "\n",
            "Epoch 00094: loss improved from 0.01341 to 0.01335, saving model to best_RNN.pt\n",
            "INFO:tensorflow:Assets written to: best_RNN.pt/assets\n",
            "Epoch 95/150\n",
            "1253/1253 [==============================] - 4s 4ms/step - loss: 0.0138\n",
            "\n",
            "Epoch 00095: loss did not improve from 0.01335\n",
            "Epoch 96/150\n",
            "1253/1253 [==============================] - 4s 4ms/step - loss: 0.0140\n",
            "\n",
            "Epoch 00096: loss did not improve from 0.01335\n",
            "Epoch 97/150\n",
            "1253/1253 [==============================] - 5s 4ms/step - loss: 0.0132\n",
            "\n",
            "Epoch 00097: loss did not improve from 0.01335\n",
            "Epoch 98/150\n",
            "1253/1253 [==============================] - 5s 4ms/step - loss: 0.0139\n",
            "\n",
            "Epoch 00098: loss did not improve from 0.01335\n",
            "Epoch 99/150\n",
            "1253/1253 [==============================] - 4s 4ms/step - loss: 0.0133\n",
            "\n",
            "Epoch 00099: loss improved from 0.01335 to 0.01326, saving model to best_RNN.pt\n",
            "INFO:tensorflow:Assets written to: best_RNN.pt/assets\n",
            "Epoch 100/150\n",
            "1253/1253 [==============================] - 4s 4ms/step - loss: 0.0132\n",
            "\n",
            "Epoch 00100: loss did not improve from 0.01326\n",
            "Epoch 101/150\n",
            "1253/1253 [==============================] - 4s 4ms/step - loss: 0.0127\n",
            "\n",
            "Epoch 00101: loss did not improve from 0.01326\n",
            "Epoch 102/150\n",
            "1253/1253 [==============================] - 4s 4ms/step - loss: 0.0138\n",
            "\n",
            "Epoch 00102: loss did not improve from 0.01326\n",
            "Epoch 103/150\n",
            "1253/1253 [==============================] - 4s 4ms/step - loss: 0.0133\n",
            "\n",
            "Epoch 00103: loss improved from 0.01326 to 0.01324, saving model to best_RNN.pt\n",
            "INFO:tensorflow:Assets written to: best_RNN.pt/assets\n",
            "Epoch 104/150\n",
            "1253/1253 [==============================] - 4s 4ms/step - loss: 0.0137\n",
            "\n",
            "Epoch 00104: loss did not improve from 0.01324\n",
            "Epoch 105/150\n",
            "1253/1253 [==============================] - 5s 4ms/step - loss: 0.0131\n",
            "\n",
            "Epoch 00105: loss did not improve from 0.01324\n",
            "Epoch 106/150\n",
            "1253/1253 [==============================] - 4s 4ms/step - loss: 0.0135\n",
            "\n",
            "Epoch 00106: loss did not improve from 0.01324\n",
            "Epoch 107/150\n",
            "1253/1253 [==============================] - 4s 4ms/step - loss: 0.0134\n",
            "\n",
            "Epoch 00107: loss did not improve from 0.01324\n",
            "Epoch 108/150\n",
            "1253/1253 [==============================] - 4s 4ms/step - loss: 0.0129\n",
            "\n",
            "Epoch 00108: loss did not improve from 0.01324\n",
            "Epoch 109/150\n",
            "1253/1253 [==============================] - 5s 4ms/step - loss: 0.0138\n",
            "\n",
            "Epoch 00109: loss did not improve from 0.01324\n",
            "Epoch 110/150\n",
            "1253/1253 [==============================] - 4s 4ms/step - loss: 0.0136\n",
            "\n",
            "Epoch 00110: loss improved from 0.01324 to 0.01318, saving model to best_RNN.pt\n",
            "INFO:tensorflow:Assets written to: best_RNN.pt/assets\n",
            "Epoch 111/150\n",
            "1253/1253 [==============================] - 5s 4ms/step - loss: 0.0135\n",
            "\n",
            "Epoch 00111: loss did not improve from 0.01318\n",
            "Epoch 112/150\n",
            "1253/1253 [==============================] - 5s 4ms/step - loss: 0.0139\n",
            "\n",
            "Epoch 00112: loss improved from 0.01318 to 0.01308, saving model to best_RNN.pt\n",
            "INFO:tensorflow:Assets written to: best_RNN.pt/assets\n",
            "Epoch 113/150\n",
            "1253/1253 [==============================] - 5s 4ms/step - loss: 0.0131\n",
            "\n",
            "Epoch 00113: loss did not improve from 0.01308\n",
            "Epoch 114/150\n",
            "1253/1253 [==============================] - 5s 4ms/step - loss: 0.0132\n",
            "\n",
            "Epoch 00114: loss did not improve from 0.01308\n",
            "Epoch 115/150\n",
            "1253/1253 [==============================] - 4s 4ms/step - loss: 0.0136\n",
            "\n",
            "Epoch 00115: loss did not improve from 0.01308\n",
            "Epoch 116/150\n",
            "1253/1253 [==============================] - 4s 4ms/step - loss: 0.0127\n",
            "\n",
            "Epoch 00116: loss did not improve from 0.01308\n",
            "Epoch 117/150\n",
            "1253/1253 [==============================] - 5s 4ms/step - loss: 0.0133\n",
            "\n",
            "Epoch 00117: loss improved from 0.01308 to 0.01308, saving model to best_RNN.pt\n",
            "INFO:tensorflow:Assets written to: best_RNN.pt/assets\n",
            "Epoch 118/150\n",
            "1253/1253 [==============================] - 4s 4ms/step - loss: 0.0138\n",
            "\n",
            "Epoch 00118: loss improved from 0.01308 to 0.01299, saving model to best_RNN.pt\n",
            "INFO:tensorflow:Assets written to: best_RNN.pt/assets\n",
            "Epoch 119/150\n",
            "1253/1253 [==============================] - 4s 4ms/step - loss: 0.0132\n",
            "\n",
            "Epoch 00119: loss did not improve from 0.01299\n",
            "Epoch 120/150\n",
            "1253/1253 [==============================] - 4s 4ms/step - loss: 0.0136\n",
            "\n",
            "Epoch 00120: loss did not improve from 0.01299\n",
            "Epoch 121/150\n",
            "1253/1253 [==============================] - 4s 4ms/step - loss: 0.0133\n",
            "\n",
            "Epoch 00121: loss did not improve from 0.01299\n",
            "Epoch 122/150\n",
            "1253/1253 [==============================] - 4s 4ms/step - loss: 0.0133\n",
            "\n",
            "Epoch 00122: loss did not improve from 0.01299\n",
            "Epoch 123/150\n",
            "1253/1253 [==============================] - 5s 4ms/step - loss: 0.0126\n",
            "\n",
            "Epoch 00123: loss did not improve from 0.01299\n",
            "Epoch 124/150\n",
            "1253/1253 [==============================] - 4s 4ms/step - loss: 0.0135\n",
            "\n",
            "Epoch 00124: loss did not improve from 0.01299\n",
            "Epoch 125/150\n",
            "1253/1253 [==============================] - 4s 4ms/step - loss: 0.0131\n",
            "\n",
            "Epoch 00125: loss improved from 0.01299 to 0.01288, saving model to best_RNN.pt\n",
            "INFO:tensorflow:Assets written to: best_RNN.pt/assets\n",
            "Epoch 126/150\n",
            "1253/1253 [==============================] - 4s 4ms/step - loss: 0.0129\n",
            "\n",
            "Epoch 00126: loss did not improve from 0.01288\n",
            "Epoch 127/150\n",
            "1253/1253 [==============================] - 5s 4ms/step - loss: 0.0127\n",
            "\n",
            "Epoch 00127: loss did not improve from 0.01288\n",
            "Epoch 128/150\n",
            "1253/1253 [==============================] - 4s 4ms/step - loss: 0.0125\n",
            "\n",
            "Epoch 00128: loss did not improve from 0.01288\n",
            "Epoch 129/150\n",
            "1253/1253 [==============================] - 5s 4ms/step - loss: 0.0134\n",
            "\n",
            "Epoch 00129: loss did not improve from 0.01288\n",
            "Epoch 130/150\n",
            "1253/1253 [==============================] - 4s 4ms/step - loss: 0.0131\n",
            "\n",
            "Epoch 00130: loss did not improve from 0.01288\n",
            "Epoch 131/150\n",
            "1253/1253 [==============================] - 5s 4ms/step - loss: 0.0129\n",
            "\n",
            "Epoch 00131: loss improved from 0.01288 to 0.01287, saving model to best_RNN.pt\n",
            "INFO:tensorflow:Assets written to: best_RNN.pt/assets\n",
            "Epoch 132/150\n",
            "1253/1253 [==============================] - 4s 4ms/step - loss: 0.0125\n",
            "\n",
            "Epoch 00132: loss improved from 0.01287 to 0.01272, saving model to best_RNN.pt\n",
            "INFO:tensorflow:Assets written to: best_RNN.pt/assets\n",
            "Epoch 133/150\n",
            "1253/1253 [==============================] - 4s 4ms/step - loss: 0.0122\n",
            "\n",
            "Epoch 00133: loss did not improve from 0.01272\n",
            "Epoch 134/150\n",
            "1253/1253 [==============================] - 5s 4ms/step - loss: 0.0132\n",
            "\n",
            "Epoch 00134: loss did not improve from 0.01272\n",
            "Epoch 135/150\n",
            "1253/1253 [==============================] - 4s 4ms/step - loss: 0.0125\n",
            "\n",
            "Epoch 00135: loss did not improve from 0.01272\n",
            "Epoch 136/150\n",
            "1253/1253 [==============================] - 5s 4ms/step - loss: 0.0130\n",
            "\n",
            "Epoch 00136: loss did not improve from 0.01272\n",
            "Epoch 137/150\n",
            "1253/1253 [==============================] - 5s 4ms/step - loss: 0.0133\n",
            "\n",
            "Epoch 00137: loss did not improve from 0.01272\n",
            "Epoch 138/150\n",
            "1253/1253 [==============================] - 5s 4ms/step - loss: 0.0135\n",
            "\n",
            "Epoch 00138: loss did not improve from 0.01272\n",
            "Epoch 139/150\n",
            "1253/1253 [==============================] - 5s 4ms/step - loss: 0.0131\n",
            "\n",
            "Epoch 00139: loss did not improve from 0.01272\n",
            "Epoch 140/150\n",
            "1253/1253 [==============================] - 5s 4ms/step - loss: 0.0126\n",
            "\n",
            "Epoch 00140: loss improved from 0.01272 to 0.01260, saving model to best_RNN.pt\n",
            "INFO:tensorflow:Assets written to: best_RNN.pt/assets\n",
            "Epoch 141/150\n",
            "1253/1253 [==============================] - 5s 4ms/step - loss: 0.0126\n",
            "\n",
            "Epoch 00141: loss did not improve from 0.01260\n",
            "Epoch 142/150\n",
            "1253/1253 [==============================] - 5s 4ms/step - loss: 0.0126\n",
            "\n",
            "Epoch 00142: loss did not improve from 0.01260\n",
            "Epoch 143/150\n",
            "1253/1253 [==============================] - 5s 4ms/step - loss: 0.0129\n",
            "\n",
            "Epoch 00143: loss did not improve from 0.01260\n",
            "Epoch 144/150\n",
            "1253/1253 [==============================] - 5s 4ms/step - loss: 0.0125\n",
            "\n",
            "Epoch 00144: loss did not improve from 0.01260\n",
            "Epoch 145/150\n",
            "1253/1253 [==============================] - 4s 4ms/step - loss: 0.0125\n",
            "\n",
            "Epoch 00145: loss did not improve from 0.01260\n",
            "Epoch 146/150\n",
            "1253/1253 [==============================] - 5s 4ms/step - loss: 0.0128\n",
            "\n",
            "Epoch 00146: loss did not improve from 0.01260\n",
            "Epoch 147/150\n",
            "1253/1253 [==============================] - 5s 4ms/step - loss: 0.0121\n",
            "\n",
            "Epoch 00147: loss did not improve from 0.01260\n",
            "Epoch 148/150\n",
            "1253/1253 [==============================] - 5s 4ms/step - loss: 0.0125\n",
            "\n",
            "Epoch 00148: loss did not improve from 0.01260\n",
            "Epoch 149/150\n",
            "1253/1253 [==============================] - 5s 4ms/step - loss: 0.0128\n",
            "\n",
            "Epoch 00149: loss did not improve from 0.01260\n",
            "Epoch 150/150\n",
            "1253/1253 [==============================] - 5s 4ms/step - loss: 0.0130\n",
            "\n",
            "Epoch 00150: loss did not improve from 0.01260\n",
            "Training Finished!\n"
          ],
          "name": "stdout"
        }
      ]
    },
    {
      "cell_type": "markdown",
      "metadata": {
        "id": "SzhO8mzY7L_n"
      },
      "source": [
        "## Evaluate the model on the train and test data"
      ]
    },
    {
      "cell_type": "code",
      "metadata": {
        "id": "eGUO1zp-JrXK",
        "colab": {
          "base_uri": "https://localhost:8080/"
        },
        "outputId": "7cc19d45-03df-4133-edc9-d3604a58a8db"
      },
      "source": [
        "# Loading the best model 'best_RNN.pt':\r\n",
        "\r\n",
        "m1 = load_model('/content/best_RNN.pt')"
      ],
      "execution_count": 29,
      "outputs": [
        {
          "output_type": "stream",
          "text": [
            "WARNING:tensorflow:Layer lstm will not use cuDNN kernel since it doesn't meet the cuDNN kernel criteria. It will use generic GPU kernel as fallback when running on GPU\n"
          ],
          "name": "stdout"
        }
      ]
    },
    {
      "cell_type": "code",
      "metadata": {
        "id": "aolCaV4OBnvR",
        "colab": {
          "base_uri": "https://localhost:8080/"
        },
        "outputId": "beacad49-5aab-4880-edfd-822e4de5a265"
      },
      "source": [
        "# Making predictions with the model:\n",
        "\n",
        "trainPredict = m1.predict(trainX)\n",
        "testPredict = m1.predict(testX)\n",
        "testPredict[:5]"
      ],
      "execution_count": 30,
      "outputs": [
        {
          "output_type": "execute_result",
          "data": {
            "text/plain": [
              "array([[0.9504337 ],\n",
              "       [0.95001894],\n",
              "       [0.9485874 ],\n",
              "       [0.94722694],\n",
              "       [0.95256025]], dtype=float32)"
            ]
          },
          "metadata": {
            "tags": []
          },
          "execution_count": 30
        }
      ]
    },
    {
      "cell_type": "code",
      "metadata": {
        "id": "fGMMdUaIOVmf",
        "colab": {
          "base_uri": "https://localhost:8080/"
        },
        "outputId": "19531501-9710-470b-c071-9da5f0ab0b1e"
      },
      "source": [
        "# Invert the predictions made by the model:\n",
        "\n",
        "trainPredict_ = scaler.inverse_transform(trainPredict)\n",
        "trainY_ = scaler.inverse_transform(trainY)\n",
        "testPredict_ = scaler.inverse_transform(testPredict)\n",
        "testY_ = scaler.inverse_transform(testY)\n",
        "testPredict_[:5]"
      ],
      "execution_count": 31,
      "outputs": [
        {
          "output_type": "execute_result",
          "data": {
            "text/plain": [
              "array([[814.1562 ],\n",
              "       [813.92365],\n",
              "       [813.1209 ],\n",
              "       [812.35803],\n",
              "       [815.34863]], dtype=float32)"
            ]
          },
          "metadata": {
            "tags": []
          },
          "execution_count": 31
        }
      ]
    },
    {
      "cell_type": "code",
      "metadata": {
        "colab": {
          "base_uri": "https://localhost:8080/"
        },
        "id": "EHrk9QpFS9zd",
        "outputId": "d300dbdb-4fc4-4863-b8fc-6db2404c6548"
      },
      "source": [
        "# Chekcing the shape of inverted predictions:\r\n",
        "\r\n",
        "trainPredict_.shape, trainY_.shape, testPredict_.shape, testY_.shape"
      ],
      "execution_count": 32,
      "outputs": [
        {
          "output_type": "execute_result",
          "data": {
            "text/plain": [
              "((1253, 1), (1253, 1), (15, 1), (15, 1))"
            ]
          },
          "metadata": {
            "tags": []
          },
          "execution_count": 32
        }
      ]
    },
    {
      "cell_type": "markdown",
      "metadata": {
        "id": "hzNfvoOigG0O"
      },
      "source": [
        "### Evaluate the model"
      ]
    },
    {
      "cell_type": "code",
      "metadata": {
        "collapsed": true,
        "id": "yJotsP53OdOJ",
        "colab": {
          "base_uri": "https://localhost:8080/"
        },
        "outputId": "d48f3a21-b87e-4a6a-f247-c34dd92a0f49"
      },
      "source": [
        "# Calculate root mean squared error and mean absolute error on the train and test datasets:\n",
        "\n",
        "# Calculate root mean squared error:\n",
        "trainScore = math.sqrt(mean_squared_error(trainY_[:,0], trainPredict_[:,0]))\n",
        "print('Train RMSE: %.2f RMSE' % (trainScore))\n",
        "testScore = math.sqrt(mean_squared_error(testY_[:,0], testPredict_[:,0]))\n",
        "print('Test RMSE: %.2f RMSE' % (testScore))\n",
        "\n",
        "print('\\nTrain MAE: %.2f MAE' % (mean_absolute_error(trainY_[:,0], trainPredict_[:,0])))\n",
        "print('Test MAE: %.2f MAE' % (mean_absolute_error(testY_[:,0], testPredict_[:,0])))"
      ],
      "execution_count": 33,
      "outputs": [
        {
          "output_type": "stream",
          "text": [
            "Train RMSE: 11.17 RMSE\n",
            "Test RMSE: 10.24 RMSE\n",
            "\n",
            "Train MAE: 9.17 MAE\n",
            "Test MAE: 7.38 MAE\n"
          ],
          "name": "stdout"
        }
      ]
    },
    {
      "cell_type": "markdown",
      "metadata": {
        "id": "JDaBMwDdgKBd"
      },
      "source": [
        "### Visualize the predictions in a single graph"
      ]
    },
    {
      "cell_type": "code",
      "metadata": {
        "collapsed": true,
        "id": "qHDpTlqjCAM2",
        "colab": {
          "base_uri": "https://localhost:8080/",
          "height": 483
        },
        "outputId": "5028ad8d-dda0-4412-dbfe-d41be9e69c67"
      },
      "source": [
        "# Visualizing the predictions:\r\n",
        "\r\n",
        "# Shift train predictions for plotting:\r\n",
        "trainPredictPlot = np.empty_like(dataset)\r\n",
        "trainPredictPlot[:, :] = np.nan\r\n",
        "trainPredictPlot[n_steps_in:len(trainPredict_)+n_steps_in, :] = trainPredict_\r\n",
        "\r\n",
        "# Shift test predictions for plotting:\r\n",
        "testPredictPlot = np.empty_like(dataset)\r\n",
        "testPredictPlot[:, :] = np.nan\r\n",
        "testPredictPlot[len(trainPredict_)+(n_steps_in*2)-1:len(dataset)-1, :] = testPredict_\r\n",
        "\r\n",
        "# Plot baseline and predictions:\r\n",
        "plt.figure(figsize = (20, 8))\r\n",
        "plt.plot(scaler.inverse_transform(dataset))\r\n",
        "plt.plot(trainPredictPlot)\r\n",
        "plt.plot(testPredictPlot)\r\n",
        "plt.show()"
      ],
      "execution_count": 34,
      "outputs": [
        {
          "output_type": "display_data",
          "data": {
            "image/png": "[encoded data removed]",
            "text/plain": [
              "<Figure size 1440x576 with 1 Axes>"
            ]
          },
          "metadata": {
            "tags": [],
            "needs_background": "light"
          }
        }
      ]
    },
    {
      "cell_type": "markdown",
      "metadata": {
        "id": "uP-mXVGsqcx0"
      },
      "source": [
        "# 3. Stacked RNN, LSTM\n",
        "\n",
        "Create a stacked RNN/LSTM with 3 LSTM layers.\n",
        "The other parameters are the same as in the example before."
      ]
    },
    {
      "cell_type": "code",
      "metadata": {
        "id": "NmLtcB_0qmXt",
        "colab": {
          "base_uri": "https://localhost:8080/"
        },
        "outputId": "3e17e613-ca0c-4749-81ed-91bcad4c355a"
      },
      "source": [
        "# Create  RNN/LSTM with 3 LSTM layers model object:\n",
        "\n",
        "model_stack = Sequential()\n",
        "model_stack.add(LSTM(60, activation = 'relu', input_shape = (n_steps_in, n_features), return_sequences = True))\n",
        "model_stack.add(LSTM(60, activation = 'relu', return_sequences = True))\n",
        "model_stack.add(LSTM(60, activation = 'relu'))\n",
        "model_stack.add(Dense(1))\n",
        "model_stack.summary()"
      ],
      "execution_count": 35,
      "outputs": [
        {
          "output_type": "stream",
          "text": [
            "WARNING:tensorflow:Layer lstm_1 will not use cuDNN kernel since it doesn't meet the cuDNN kernel criteria. It will use generic GPU kernel as fallback when running on GPU\n",
            "WARNING:tensorflow:Layer lstm_2 will not use cuDNN kernel since it doesn't meet the cuDNN kernel criteria. It will use generic GPU kernel as fallback when running on GPU\n",
            "WARNING:tensorflow:Layer lstm_3 will not use cuDNN kernel since it doesn't meet the cuDNN kernel criteria. It will use generic GPU kernel as fallback when running on GPU\n",
            "Model: \"sequential_1\"\n",
            "_________________________________________________________________\n",
            "Layer (type)                 Output Shape              Param #   \n",
            "=================================================================\n",
            "lstm_1 (LSTM)                (None, 5, 60)             14880     \n",
            "_________________________________________________________________\n",
            "lstm_2 (LSTM)                (None, 5, 60)             29040     \n",
            "_________________________________________________________________\n",
            "lstm_3 (LSTM)                (None, 60)                29040     \n",
            "_________________________________________________________________\n",
            "dense_1 (Dense)              (None, 1)                 61        \n",
            "=================================================================\n",
            "Total params: 73,021\n",
            "Trainable params: 73,021\n",
            "Non-trainable params: 0\n",
            "_________________________________________________________________\n"
          ],
          "name": "stdout"
        }
      ]
    },
    {
      "cell_type": "code",
      "metadata": {
        "id": "pV2U2FEZeOML"
      },
      "source": [
        "# Compiling the RNN model:\r\n",
        "\r\n",
        "model_stack.compile(optimizer = 'SGD', loss = 'mae')"
      ],
      "execution_count": 36,
      "outputs": []
    },
    {
      "cell_type": "code",
      "metadata": {
        "id": "zgx4AtJUcaU0"
      },
      "source": [
        "# Creating callbacks to make training of the model more flexible:\r\n",
        "\r\n",
        "callback1 = ModelCheckpoint('best_RNN/LSTM_3.pt', monitor = 'loss', save_best_only = True, mode = 'min', verbose = 1)\r\n",
        "callback2 = EarlyStopping(patience = 15, monitor = 'loss', mode = 'min')\r\n",
        "callback_list = [callback1, callback2]"
      ],
      "execution_count": 37,
      "outputs": []
    },
    {
      "cell_type": "code",
      "metadata": {
        "colab": {
          "base_uri": "https://localhost:8080/"
        },
        "id": "CHYCgllGenGG",
        "outputId": "10155107-b39a-4c4c-c52a-2eb3efb097ab"
      },
      "source": [
        "# Train the model:\r\n",
        "\r\n",
        "history_m2 = model_stack.fit(trainX, trainY,\r\n",
        "                             epochs = 150,\r\n",
        "                             batch_size = 1,\r\n",
        "                             callbacks = callback_list,\r\n",
        "                             verbose = 1 \r\n",
        "                             )\r\n",
        "print('Training Finished!')"
      ],
      "execution_count": 38,
      "outputs": [
        {
          "output_type": "stream",
          "text": [
            "Epoch 1/150\n",
            "1253/1253 [==============================] - 12s 8ms/step - loss: 0.2335\n",
            "\n",
            "Epoch 00001: loss improved from inf to 0.22252, saving model to best_RNN/LSTM_3.pt\n",
            "INFO:tensorflow:Assets written to: best_RNN/LSTM_3.pt/assets\n",
            "Epoch 2/150\n",
            "1253/1253 [==============================] - 10s 8ms/step - loss: 0.1826\n",
            "\n",
            "Epoch 00002: loss improved from 0.22252 to 0.13111, saving model to best_RNN/LSTM_3.pt\n",
            "INFO:tensorflow:Assets written to: best_RNN/LSTM_3.pt/assets\n",
            "Epoch 3/150\n",
            "1253/1253 [==============================] - 10s 8ms/step - loss: 0.0340\n",
            "\n",
            "Epoch 00003: loss improved from 0.13111 to 0.03383, saving model to best_RNN/LSTM_3.pt\n",
            "INFO:tensorflow:Assets written to: best_RNN/LSTM_3.pt/assets\n",
            "Epoch 4/150\n",
            "1253/1253 [==============================] - 10s 8ms/step - loss: 0.0320\n",
            "\n",
            "Epoch 00004: loss improved from 0.03383 to 0.03160, saving model to best_RNN/LSTM_3.pt\n",
            "INFO:tensorflow:Assets written to: best_RNN/LSTM_3.pt/assets\n",
            "Epoch 5/150\n",
            "1253/1253 [==============================] - 10s 8ms/step - loss: 0.0296\n",
            "\n",
            "Epoch 00005: loss improved from 0.03160 to 0.03024, saving model to best_RNN/LSTM_3.pt\n",
            "INFO:tensorflow:Assets written to: best_RNN/LSTM_3.pt/assets\n",
            "Epoch 6/150\n",
            "1253/1253 [==============================] - 10s 8ms/step - loss: 0.0290\n",
            "\n",
            "Epoch 00006: loss improved from 0.03024 to 0.02929, saving model to best_RNN/LSTM_3.pt\n",
            "INFO:tensorflow:Assets written to: best_RNN/LSTM_3.pt/assets\n",
            "Epoch 7/150\n",
            "1253/1253 [==============================] - 10s 8ms/step - loss: 0.0296\n",
            "\n",
            "Epoch 00007: loss improved from 0.02929 to 0.02919, saving model to best_RNN/LSTM_3.pt\n",
            "INFO:tensorflow:Assets written to: best_RNN/LSTM_3.pt/assets\n",
            "Epoch 8/150\n",
            "1253/1253 [==============================] - 10s 8ms/step - loss: 0.0276\n",
            "\n",
            "Epoch 00008: loss improved from 0.02919 to 0.02824, saving model to best_RNN/LSTM_3.pt\n",
            "INFO:tensorflow:Assets written to: best_RNN/LSTM_3.pt/assets\n",
            "Epoch 9/150\n",
            "1253/1253 [==============================] - 10s 8ms/step - loss: 0.0277\n",
            "\n",
            "Epoch 00009: loss improved from 0.02824 to 0.02772, saving model to best_RNN/LSTM_3.pt\n",
            "INFO:tensorflow:Assets written to: best_RNN/LSTM_3.pt/assets\n",
            "Epoch 10/150\n",
            "1253/1253 [==============================] - 10s 8ms/step - loss: 0.0277\n",
            "\n",
            "Epoch 00010: loss improved from 0.02772 to 0.02718, saving model to best_RNN/LSTM_3.pt\n",
            "INFO:tensorflow:Assets written to: best_RNN/LSTM_3.pt/assets\n",
            "Epoch 11/150\n",
            "1253/1253 [==============================] - 10s 8ms/step - loss: 0.0275\n",
            "\n",
            "Epoch 00011: loss improved from 0.02718 to 0.02678, saving model to best_RNN/LSTM_3.pt\n",
            "INFO:tensorflow:Assets written to: best_RNN/LSTM_3.pt/assets\n",
            "Epoch 12/150\n",
            "1253/1253 [==============================] - 10s 8ms/step - loss: 0.0259\n",
            "\n",
            "Epoch 00012: loss improved from 0.02678 to 0.02604, saving model to best_RNN/LSTM_3.pt\n",
            "INFO:tensorflow:Assets written to: best_RNN/LSTM_3.pt/assets\n",
            "Epoch 13/150\n",
            "1253/1253 [==============================] - 10s 8ms/step - loss: 0.0262\n",
            "\n",
            "Epoch 00013: loss improved from 0.02604 to 0.02585, saving model to best_RNN/LSTM_3.pt\n",
            "INFO:tensorflow:Assets written to: best_RNN/LSTM_3.pt/assets\n",
            "Epoch 14/150\n",
            "1253/1253 [==============================] - 10s 8ms/step - loss: 0.0251\n",
            "\n",
            "Epoch 00014: loss improved from 0.02585 to 0.02528, saving model to best_RNN/LSTM_3.pt\n",
            "INFO:tensorflow:Assets written to: best_RNN/LSTM_3.pt/assets\n",
            "Epoch 15/150\n",
            "1253/1253 [==============================] - 10s 8ms/step - loss: 0.0240\n",
            "\n",
            "Epoch 00015: loss improved from 0.02528 to 0.02495, saving model to best_RNN/LSTM_3.pt\n",
            "INFO:tensorflow:Assets written to: best_RNN/LSTM_3.pt/assets\n",
            "Epoch 16/150\n",
            "1253/1253 [==============================] - 10s 8ms/step - loss: 0.0255\n",
            "\n",
            "Epoch 00016: loss did not improve from 0.02495\n",
            "Epoch 17/150\n",
            "1253/1253 [==============================] - 10s 8ms/step - loss: 0.0247\n",
            "\n",
            "Epoch 00017: loss improved from 0.02495 to 0.02463, saving model to best_RNN/LSTM_3.pt\n",
            "INFO:tensorflow:Assets written to: best_RNN/LSTM_3.pt/assets\n",
            "Epoch 18/150\n",
            "1253/1253 [==============================] - 10s 8ms/step - loss: 0.0243\n",
            "\n",
            "Epoch 00018: loss improved from 0.02463 to 0.02447, saving model to best_RNN/LSTM_3.pt\n",
            "INFO:tensorflow:Assets written to: best_RNN/LSTM_3.pt/assets\n",
            "Epoch 19/150\n",
            "1253/1253 [==============================] - 10s 8ms/step - loss: 0.0238\n",
            "\n",
            "Epoch 00019: loss improved from 0.02447 to 0.02447, saving model to best_RNN/LSTM_3.pt\n",
            "INFO:tensorflow:Assets written to: best_RNN/LSTM_3.pt/assets\n",
            "Epoch 20/150\n",
            "1253/1253 [==============================] - 10s 8ms/step - loss: 0.0239\n",
            "\n",
            "Epoch 00020: loss improved from 0.02447 to 0.02425, saving model to best_RNN/LSTM_3.pt\n",
            "INFO:tensorflow:Assets written to: best_RNN/LSTM_3.pt/assets\n",
            "Epoch 21/150\n",
            "1253/1253 [==============================] - 10s 8ms/step - loss: 0.0231\n",
            "\n",
            "Epoch 00021: loss improved from 0.02425 to 0.02388, saving model to best_RNN/LSTM_3.pt\n",
            "INFO:tensorflow:Assets written to: best_RNN/LSTM_3.pt/assets\n",
            "Epoch 22/150\n",
            "1253/1253 [==============================] - 10s 8ms/step - loss: 0.0236\n",
            "\n",
            "Epoch 00022: loss did not improve from 0.02388\n",
            "Epoch 23/150\n",
            "1253/1253 [==============================] - 10s 8ms/step - loss: 0.0256\n",
            "\n",
            "Epoch 00023: loss did not improve from 0.02388\n",
            "Epoch 24/150\n",
            "1253/1253 [==============================] - 10s 8ms/step - loss: 0.0235\n",
            "\n",
            "Epoch 00024: loss did not improve from 0.02388\n",
            "Epoch 25/150\n",
            "1253/1253 [==============================] - 10s 8ms/step - loss: 0.0246\n",
            "\n",
            "Epoch 00025: loss improved from 0.02388 to 0.02382, saving model to best_RNN/LSTM_3.pt\n",
            "INFO:tensorflow:Assets written to: best_RNN/LSTM_3.pt/assets\n",
            "Epoch 26/150\n",
            "1253/1253 [==============================] - 10s 8ms/step - loss: 0.0245\n",
            "\n",
            "Epoch 00026: loss improved from 0.02382 to 0.02381, saving model to best_RNN/LSTM_3.pt\n",
            "INFO:tensorflow:Assets written to: best_RNN/LSTM_3.pt/assets\n",
            "Epoch 27/150\n",
            "1253/1253 [==============================] - 10s 8ms/step - loss: 0.0235\n",
            "\n",
            "Epoch 00027: loss did not improve from 0.02381\n",
            "Epoch 28/150\n",
            "1253/1253 [==============================] - 10s 8ms/step - loss: 0.0231\n",
            "\n",
            "Epoch 00028: loss improved from 0.02381 to 0.02342, saving model to best_RNN/LSTM_3.pt\n",
            "INFO:tensorflow:Assets written to: best_RNN/LSTM_3.pt/assets\n",
            "Epoch 29/150\n",
            "1253/1253 [==============================] - 10s 8ms/step - loss: 0.0235\n",
            "\n",
            "Epoch 00029: loss improved from 0.02342 to 0.02288, saving model to best_RNN/LSTM_3.pt\n",
            "INFO:tensorflow:Assets written to: best_RNN/LSTM_3.pt/assets\n",
            "Epoch 30/150\n",
            "1253/1253 [==============================] - 10s 8ms/step - loss: 0.0231\n",
            "\n",
            "Epoch 00030: loss did not improve from 0.02288\n",
            "Epoch 31/150\n",
            "1253/1253 [==============================] - 10s 8ms/step - loss: 0.0228\n",
            "\n",
            "Epoch 00031: loss did not improve from 0.02288\n",
            "Epoch 32/150\n",
            "1253/1253 [==============================] - 10s 8ms/step - loss: 0.0231\n",
            "\n",
            "Epoch 00032: loss did not improve from 0.02288\n",
            "Epoch 33/150\n",
            "1253/1253 [==============================] - 10s 8ms/step - loss: 0.0223\n",
            "\n",
            "Epoch 00033: loss improved from 0.02288 to 0.02231, saving model to best_RNN/LSTM_3.pt\n",
            "INFO:tensorflow:Assets written to: best_RNN/LSTM_3.pt/assets\n",
            "Epoch 34/150\n",
            "1253/1253 [==============================] - 10s 8ms/step - loss: 0.0234\n",
            "\n",
            "Epoch 00034: loss did not improve from 0.02231\n",
            "Epoch 35/150\n",
            "1253/1253 [==============================] - 10s 8ms/step - loss: 0.0237\n",
            "\n",
            "Epoch 00035: loss did not improve from 0.02231\n",
            "Epoch 36/150\n",
            "1253/1253 [==============================] - 10s 8ms/step - loss: 0.0229\n",
            "\n",
            "Epoch 00036: loss did not improve from 0.02231\n",
            "Epoch 37/150\n",
            "1253/1253 [==============================] - 10s 8ms/step - loss: 0.0221\n",
            "\n",
            "Epoch 00037: loss did not improve from 0.02231\n",
            "Epoch 38/150\n",
            "1253/1253 [==============================] - 10s 8ms/step - loss: 0.0231\n",
            "\n",
            "Epoch 00038: loss did not improve from 0.02231\n",
            "Epoch 39/150\n",
            "1253/1253 [==============================] - 10s 8ms/step - loss: 0.0222\n",
            "\n",
            "Epoch 00039: loss did not improve from 0.02231\n",
            "Epoch 40/150\n",
            "1253/1253 [==============================] - 10s 8ms/step - loss: 0.0217\n",
            "\n",
            "Epoch 00040: loss improved from 0.02231 to 0.02205, saving model to best_RNN/LSTM_3.pt\n",
            "INFO:tensorflow:Assets written to: best_RNN/LSTM_3.pt/assets\n",
            "Epoch 41/150\n",
            "1253/1253 [==============================] - 10s 8ms/step - loss: 0.0224\n",
            "\n",
            "Epoch 00041: loss improved from 0.02205 to 0.02205, saving model to best_RNN/LSTM_3.pt\n",
            "INFO:tensorflow:Assets written to: best_RNN/LSTM_3.pt/assets\n",
            "Epoch 42/150\n",
            "1253/1253 [==============================] - 10s 8ms/step - loss: 0.0225\n",
            "\n",
            "Epoch 00042: loss improved from 0.02205 to 0.02183, saving model to best_RNN/LSTM_3.pt\n",
            "INFO:tensorflow:Assets written to: best_RNN/LSTM_3.pt/assets\n",
            "Epoch 43/150\n",
            "1253/1253 [==============================] - 10s 8ms/step - loss: 0.0218\n",
            "\n",
            "Epoch 00043: loss did not improve from 0.02183\n",
            "Epoch 44/150\n",
            "1253/1253 [==============================] - 10s 8ms/step - loss: 0.0209\n",
            "\n",
            "Epoch 00044: loss did not improve from 0.02183\n",
            "Epoch 45/150\n",
            "1253/1253 [==============================] - 10s 8ms/step - loss: 0.0233\n",
            "\n",
            "Epoch 00045: loss did not improve from 0.02183\n",
            "Epoch 46/150\n",
            "1253/1253 [==============================] - 10s 8ms/step - loss: 0.0217\n",
            "\n",
            "Epoch 00046: loss did not improve from 0.02183\n",
            "Epoch 47/150\n",
            "1253/1253 [==============================] - 10s 8ms/step - loss: 0.0222\n",
            "\n",
            "Epoch 00047: loss did not improve from 0.02183\n",
            "Epoch 48/150\n",
            "1253/1253 [==============================] - 10s 8ms/step - loss: 0.0222\n",
            "\n",
            "Epoch 00048: loss did not improve from 0.02183\n",
            "Epoch 49/150\n",
            "1253/1253 [==============================] - 10s 8ms/step - loss: 0.0215\n",
            "\n",
            "Epoch 00049: loss improved from 0.02183 to 0.02162, saving model to best_RNN/LSTM_3.pt\n",
            "INFO:tensorflow:Assets written to: best_RNN/LSTM_3.pt/assets\n",
            "Epoch 50/150\n",
            "1253/1253 [==============================] - 10s 8ms/step - loss: 0.0223\n",
            "\n",
            "Epoch 00050: loss did not improve from 0.02162\n",
            "Epoch 51/150\n",
            "1253/1253 [==============================] - 10s 8ms/step - loss: 0.0209\n",
            "\n",
            "Epoch 00051: loss improved from 0.02162 to 0.02149, saving model to best_RNN/LSTM_3.pt\n",
            "INFO:tensorflow:Assets written to: best_RNN/LSTM_3.pt/assets\n",
            "Epoch 52/150\n",
            "1253/1253 [==============================] - 10s 8ms/step - loss: 0.0220\n",
            "\n",
            "Epoch 00052: loss did not improve from 0.02149\n",
            "Epoch 53/150\n",
            "1253/1253 [==============================] - 10s 8ms/step - loss: 0.0205\n",
            "\n",
            "Epoch 00053: loss improved from 0.02149 to 0.02136, saving model to best_RNN/LSTM_3.pt\n",
            "INFO:tensorflow:Assets written to: best_RNN/LSTM_3.pt/assets\n",
            "Epoch 54/150\n",
            "1253/1253 [==============================] - 10s 8ms/step - loss: 0.0223\n",
            "\n",
            "Epoch 00054: loss did not improve from 0.02136\n",
            "Epoch 55/150\n",
            "1253/1253 [==============================] - 10s 8ms/step - loss: 0.0212\n",
            "\n",
            "Epoch 00055: loss improved from 0.02136 to 0.02125, saving model to best_RNN/LSTM_3.pt\n",
            "INFO:tensorflow:Assets written to: best_RNN/LSTM_3.pt/assets\n",
            "Epoch 56/150\n",
            "1253/1253 [==============================] - 10s 8ms/step - loss: 0.0218\n",
            "\n",
            "Epoch 00056: loss did not improve from 0.02125\n",
            "Epoch 57/150\n",
            "1253/1253 [==============================] - 10s 8ms/step - loss: 0.0218\n",
            "\n",
            "Epoch 00057: loss did not improve from 0.02125\n",
            "Epoch 58/150\n",
            "1253/1253 [==============================] - 10s 8ms/step - loss: 0.0217\n",
            "\n",
            "Epoch 00058: loss did not improve from 0.02125\n",
            "Epoch 59/150\n",
            "1253/1253 [==============================] - 10s 8ms/step - loss: 0.0214\n",
            "\n",
            "Epoch 00059: loss did not improve from 0.02125\n",
            "Epoch 60/150\n",
            "1253/1253 [==============================] - 10s 8ms/step - loss: 0.0226\n",
            "\n",
            "Epoch 00060: loss did not improve from 0.02125\n",
            "Epoch 61/150\n",
            "1253/1253 [==============================] - 10s 8ms/step - loss: 0.0213\n",
            "\n",
            "Epoch 00061: loss improved from 0.02125 to 0.02124, saving model to best_RNN/LSTM_3.pt\n",
            "INFO:tensorflow:Assets written to: best_RNN/LSTM_3.pt/assets\n",
            "Epoch 62/150\n",
            "1253/1253 [==============================] - 10s 8ms/step - loss: 0.0213\n",
            "\n",
            "Epoch 00062: loss improved from 0.02124 to 0.02121, saving model to best_RNN/LSTM_3.pt\n",
            "INFO:tensorflow:Assets written to: best_RNN/LSTM_3.pt/assets\n",
            "Epoch 63/150\n",
            "1253/1253 [==============================] - 10s 8ms/step - loss: 0.0207\n",
            "\n",
            "Epoch 00063: loss improved from 0.02121 to 0.02118, saving model to best_RNN/LSTM_3.pt\n",
            "INFO:tensorflow:Assets written to: best_RNN/LSTM_3.pt/assets\n",
            "Epoch 64/150\n",
            "1253/1253 [==============================] - 10s 8ms/step - loss: 0.0204\n",
            "\n",
            "Epoch 00064: loss improved from 0.02118 to 0.02100, saving model to best_RNN/LSTM_3.pt\n",
            "INFO:tensorflow:Assets written to: best_RNN/LSTM_3.pt/assets\n",
            "Epoch 65/150\n",
            "1253/1253 [==============================] - 10s 8ms/step - loss: 0.0209\n",
            "\n",
            "Epoch 00065: loss did not improve from 0.02100\n",
            "Epoch 66/150\n",
            "1253/1253 [==============================] - 10s 8ms/step - loss: 0.0219\n",
            "\n",
            "Epoch 00066: loss did not improve from 0.02100\n",
            "Epoch 67/150\n",
            "1253/1253 [==============================] - 10s 8ms/step - loss: 0.0209\n",
            "\n",
            "Epoch 00067: loss improved from 0.02100 to 0.02094, saving model to best_RNN/LSTM_3.pt\n",
            "INFO:tensorflow:Assets written to: best_RNN/LSTM_3.pt/assets\n",
            "Epoch 68/150\n",
            "1253/1253 [==============================] - 10s 8ms/step - loss: 0.0216\n",
            "\n",
            "Epoch 00068: loss did not improve from 0.02094\n",
            "Epoch 69/150\n",
            "1253/1253 [==============================] - 10s 8ms/step - loss: 0.0213\n",
            "\n",
            "Epoch 00069: loss improved from 0.02094 to 0.02090, saving model to best_RNN/LSTM_3.pt\n",
            "INFO:tensorflow:Assets written to: best_RNN/LSTM_3.pt/assets\n",
            "Epoch 70/150\n",
            "1253/1253 [==============================] - 10s 8ms/step - loss: 0.0209\n",
            "\n",
            "Epoch 00070: loss improved from 0.02090 to 0.02055, saving model to best_RNN/LSTM_3.pt\n",
            "INFO:tensorflow:Assets written to: best_RNN/LSTM_3.pt/assets\n",
            "Epoch 71/150\n",
            "1253/1253 [==============================] - 10s 8ms/step - loss: 0.0210\n",
            "\n",
            "Epoch 00071: loss did not improve from 0.02055\n",
            "Epoch 72/150\n",
            "1253/1253 [==============================] - 10s 8ms/step - loss: 0.0214\n",
            "\n",
            "Epoch 00072: loss improved from 0.02055 to 0.02044, saving model to best_RNN/LSTM_3.pt\n",
            "INFO:tensorflow:Assets written to: best_RNN/LSTM_3.pt/assets\n",
            "Epoch 73/150\n",
            "1253/1253 [==============================] - 10s 8ms/step - loss: 0.0206\n",
            "\n",
            "Epoch 00073: loss did not improve from 0.02044\n",
            "Epoch 74/150\n",
            "1253/1253 [==============================] - 10s 8ms/step - loss: 0.0200\n",
            "\n",
            "Epoch 00074: loss improved from 0.02044 to 0.02039, saving model to best_RNN/LSTM_3.pt\n",
            "INFO:tensorflow:Assets written to: best_RNN/LSTM_3.pt/assets\n",
            "Epoch 75/150\n",
            "1253/1253 [==============================] - 10s 8ms/step - loss: 0.0201\n",
            "\n",
            "Epoch 00075: loss improved from 0.02039 to 0.02036, saving model to best_RNN/LSTM_3.pt\n",
            "INFO:tensorflow:Assets written to: best_RNN/LSTM_3.pt/assets\n",
            "Epoch 76/150\n",
            "1253/1253 [==============================] - 10s 8ms/step - loss: 0.0201\n",
            "\n",
            "Epoch 00076: loss did not improve from 0.02036\n",
            "Epoch 77/150\n",
            "1253/1253 [==============================] - 10s 8ms/step - loss: 0.0209\n",
            "\n",
            "Epoch 00077: loss improved from 0.02036 to 0.02032, saving model to best_RNN/LSTM_3.pt\n",
            "INFO:tensorflow:Assets written to: best_RNN/LSTM_3.pt/assets\n",
            "Epoch 78/150\n",
            "1253/1253 [==============================] - 10s 8ms/step - loss: 0.0195\n",
            "\n",
            "Epoch 00078: loss did not improve from 0.02032\n",
            "Epoch 79/150\n",
            "1253/1253 [==============================] - 10s 8ms/step - loss: 0.0201\n",
            "\n",
            "Epoch 00079: loss improved from 0.02032 to 0.01996, saving model to best_RNN/LSTM_3.pt\n",
            "INFO:tensorflow:Assets written to: best_RNN/LSTM_3.pt/assets\n",
            "Epoch 80/150\n",
            "1253/1253 [==============================] - 10s 8ms/step - loss: 0.0207\n",
            "\n",
            "Epoch 00080: loss did not improve from 0.01996\n",
            "Epoch 81/150\n",
            "1253/1253 [==============================] - 10s 8ms/step - loss: 0.0196\n",
            "\n",
            "Epoch 00081: loss improved from 0.01996 to 0.01990, saving model to best_RNN/LSTM_3.pt\n",
            "INFO:tensorflow:Assets written to: best_RNN/LSTM_3.pt/assets\n",
            "Epoch 82/150\n",
            "1253/1253 [==============================] - 10s 8ms/step - loss: 0.0198\n",
            "\n",
            "Epoch 00082: loss did not improve from 0.01990\n",
            "Epoch 83/150\n",
            "1253/1253 [==============================] - 10s 8ms/step - loss: 0.0197\n",
            "\n",
            "Epoch 00083: loss did not improve from 0.01990\n",
            "Epoch 84/150\n",
            "1253/1253 [==============================] - 10s 8ms/step - loss: 0.0204\n",
            "\n",
            "Epoch 00084: loss did not improve from 0.01990\n",
            "Epoch 85/150\n",
            "1253/1253 [==============================] - 10s 8ms/step - loss: 0.0192\n",
            "\n",
            "Epoch 00085: loss improved from 0.01990 to 0.01959, saving model to best_RNN/LSTM_3.pt\n",
            "INFO:tensorflow:Assets written to: best_RNN/LSTM_3.pt/assets\n",
            "Epoch 86/150\n",
            "1253/1253 [==============================] - 10s 8ms/step - loss: 0.0201\n",
            "\n",
            "Epoch 00086: loss did not improve from 0.01959\n",
            "Epoch 87/150\n",
            "1253/1253 [==============================] - 10s 8ms/step - loss: 0.0199\n",
            "\n",
            "Epoch 00087: loss did not improve from 0.01959\n",
            "Epoch 88/150\n",
            "1253/1253 [==============================] - 10s 8ms/step - loss: 0.0192\n",
            "\n",
            "Epoch 00088: loss did not improve from 0.01959\n",
            "Epoch 89/150\n",
            "1253/1253 [==============================] - 10s 8ms/step - loss: 0.0199\n",
            "\n",
            "Epoch 00089: loss did not improve from 0.01959\n",
            "Epoch 90/150\n",
            "1253/1253 [==============================] - 10s 8ms/step - loss: 0.0191\n",
            "\n",
            "Epoch 00090: loss improved from 0.01959 to 0.01942, saving model to best_RNN/LSTM_3.pt\n",
            "INFO:tensorflow:Assets written to: best_RNN/LSTM_3.pt/assets\n",
            "Epoch 91/150\n",
            "1253/1253 [==============================] - 10s 8ms/step - loss: 0.0191\n",
            "\n",
            "Epoch 00091: loss improved from 0.01942 to 0.01932, saving model to best_RNN/LSTM_3.pt\n",
            "INFO:tensorflow:Assets written to: best_RNN/LSTM_3.pt/assets\n",
            "Epoch 92/150\n",
            "1253/1253 [==============================] - 10s 8ms/step - loss: 0.0201\n",
            "\n",
            "Epoch 00092: loss did not improve from 0.01932\n",
            "Epoch 93/150\n",
            "1253/1253 [==============================] - 11s 8ms/step - loss: 0.0206\n",
            "\n",
            "Epoch 00093: loss did not improve from 0.01932\n",
            "Epoch 94/150\n",
            "1253/1253 [==============================] - 11s 8ms/step - loss: 0.0191\n",
            "\n",
            "Epoch 00094: loss improved from 0.01932 to 0.01920, saving model to best_RNN/LSTM_3.pt\n",
            "INFO:tensorflow:Assets written to: best_RNN/LSTM_3.pt/assets\n",
            "Epoch 95/150\n",
            "1253/1253 [==============================] - 11s 8ms/step - loss: 0.0193\n",
            "\n",
            "Epoch 00095: loss improved from 0.01920 to 0.01917, saving model to best_RNN/LSTM_3.pt\n",
            "INFO:tensorflow:Assets written to: best_RNN/LSTM_3.pt/assets\n",
            "Epoch 96/150\n",
            "1253/1253 [==============================] - 10s 8ms/step - loss: 0.0201\n",
            "\n",
            "Epoch 00096: loss did not improve from 0.01917\n",
            "Epoch 97/150\n",
            "1253/1253 [==============================] - 10s 8ms/step - loss: 0.0189\n",
            "\n",
            "Epoch 00097: loss improved from 0.01917 to 0.01908, saving model to best_RNN/LSTM_3.pt\n",
            "INFO:tensorflow:Assets written to: best_RNN/LSTM_3.pt/assets\n",
            "Epoch 98/150\n",
            "1253/1253 [==============================] - 10s 8ms/step - loss: 0.0197\n",
            "\n",
            "Epoch 00098: loss improved from 0.01908 to 0.01903, saving model to best_RNN/LSTM_3.pt\n",
            "INFO:tensorflow:Assets written to: best_RNN/LSTM_3.pt/assets\n",
            "Epoch 99/150\n",
            "1253/1253 [==============================] - 11s 8ms/step - loss: 0.0190\n",
            "\n",
            "Epoch 00099: loss improved from 0.01903 to 0.01902, saving model to best_RNN/LSTM_3.pt\n",
            "INFO:tensorflow:Assets written to: best_RNN/LSTM_3.pt/assets\n",
            "Epoch 100/150\n",
            "1253/1253 [==============================] - 10s 8ms/step - loss: 0.0192\n",
            "\n",
            "Epoch 00100: loss improved from 0.01902 to 0.01866, saving model to best_RNN/LSTM_3.pt\n",
            "INFO:tensorflow:Assets written to: best_RNN/LSTM_3.pt/assets\n",
            "Epoch 101/150\n",
            "1253/1253 [==============================] - 10s 8ms/step - loss: 0.0193\n",
            "\n",
            "Epoch 00101: loss did not improve from 0.01866\n",
            "Epoch 102/150\n",
            "1253/1253 [==============================] - 10s 8ms/step - loss: 0.0186\n",
            "\n",
            "Epoch 00102: loss did not improve from 0.01866\n",
            "Epoch 103/150\n",
            "1253/1253 [==============================] - 10s 8ms/step - loss: 0.0191\n",
            "\n",
            "Epoch 00103: loss did not improve from 0.01866\n",
            "Epoch 104/150\n",
            "1253/1253 [==============================] - 10s 8ms/step - loss: 0.0176\n",
            "\n",
            "Epoch 00104: loss did not improve from 0.01866\n",
            "Epoch 105/150\n",
            "1253/1253 [==============================] - 10s 8ms/step - loss: 0.0182\n",
            "\n",
            "Epoch 00105: loss did not improve from 0.01866\n",
            "Epoch 106/150\n",
            "1253/1253 [==============================] - 10s 8ms/step - loss: 0.0184\n",
            "\n",
            "Epoch 00106: loss improved from 0.01866 to 0.01859, saving model to best_RNN/LSTM_3.pt\n",
            "INFO:tensorflow:Assets written to: best_RNN/LSTM_3.pt/assets\n",
            "Epoch 107/150\n",
            "1253/1253 [==============================] - 10s 8ms/step - loss: 0.0182\n",
            "\n",
            "Epoch 00107: loss did not improve from 0.01859\n",
            "Epoch 108/150\n",
            "1253/1253 [==============================] - 10s 8ms/step - loss: 0.0191\n",
            "\n",
            "Epoch 00108: loss did not improve from 0.01859\n",
            "Epoch 109/150\n",
            "1253/1253 [==============================] - 10s 8ms/step - loss: 0.0189\n",
            "\n",
            "Epoch 00109: loss did not improve from 0.01859\n",
            "Epoch 110/150\n",
            "1253/1253 [==============================] - 10s 8ms/step - loss: 0.0189\n",
            "\n",
            "Epoch 00110: loss did not improve from 0.01859\n",
            "Epoch 111/150\n",
            "1253/1253 [==============================] - 10s 8ms/step - loss: 0.0194\n",
            "\n",
            "Epoch 00111: loss did not improve from 0.01859\n",
            "Epoch 112/150\n",
            "1253/1253 [==============================] - 10s 8ms/step - loss: 0.0189\n",
            "\n",
            "Epoch 00112: loss improved from 0.01859 to 0.01853, saving model to best_RNN/LSTM_3.pt\n",
            "INFO:tensorflow:Assets written to: best_RNN/LSTM_3.pt/assets\n",
            "Epoch 113/150\n",
            "1253/1253 [==============================] - 10s 8ms/step - loss: 0.0182\n",
            "\n",
            "Epoch 00113: loss improved from 0.01853 to 0.01839, saving model to best_RNN/LSTM_3.pt\n",
            "INFO:tensorflow:Assets written to: best_RNN/LSTM_3.pt/assets\n",
            "Epoch 114/150\n",
            "1253/1253 [==============================] - 10s 8ms/step - loss: 0.0185\n",
            "\n",
            "Epoch 00114: loss improved from 0.01839 to 0.01819, saving model to best_RNN/LSTM_3.pt\n",
            "INFO:tensorflow:Assets written to: best_RNN/LSTM_3.pt/assets\n",
            "Epoch 115/150\n",
            "1253/1253 [==============================] - 10s 8ms/step - loss: 0.0175\n",
            "\n",
            "Epoch 00115: loss improved from 0.01819 to 0.01799, saving model to best_RNN/LSTM_3.pt\n",
            "INFO:tensorflow:Assets written to: best_RNN/LSTM_3.pt/assets\n",
            "Epoch 116/150\n",
            "1253/1253 [==============================] - 10s 8ms/step - loss: 0.0183\n",
            "\n",
            "Epoch 00116: loss did not improve from 0.01799\n",
            "Epoch 117/150\n",
            "1253/1253 [==============================] - 10s 8ms/step - loss: 0.0183\n",
            "\n",
            "Epoch 00117: loss did not improve from 0.01799\n",
            "Epoch 118/150\n",
            "1253/1253 [==============================] - 10s 8ms/step - loss: 0.0177\n",
            "\n",
            "Epoch 00118: loss did not improve from 0.01799\n",
            "Epoch 119/150\n",
            "1253/1253 [==============================] - 10s 8ms/step - loss: 0.0188\n",
            "\n",
            "Epoch 00119: loss did not improve from 0.01799\n",
            "Epoch 120/150\n",
            "1253/1253 [==============================] - 10s 8ms/step - loss: 0.0185\n",
            "\n",
            "Epoch 00120: loss did not improve from 0.01799\n",
            "Epoch 121/150\n",
            "1253/1253 [==============================] - 10s 8ms/step - loss: 0.0182\n",
            "\n",
            "Epoch 00121: loss did not improve from 0.01799\n",
            "Epoch 122/150\n",
            "1253/1253 [==============================] - 10s 8ms/step - loss: 0.0180\n",
            "\n",
            "Epoch 00122: loss improved from 0.01799 to 0.01769, saving model to best_RNN/LSTM_3.pt\n",
            "INFO:tensorflow:Assets written to: best_RNN/LSTM_3.pt/assets\n",
            "Epoch 123/150\n",
            "1253/1253 [==============================] - 10s 8ms/step - loss: 0.0171\n",
            "\n",
            "Epoch 00123: loss did not improve from 0.01769\n",
            "Epoch 124/150\n",
            "1253/1253 [==============================] - 10s 8ms/step - loss: 0.0180\n",
            "\n",
            "Epoch 00124: loss did not improve from 0.01769\n",
            "Epoch 125/150\n",
            "1253/1253 [==============================] - 10s 8ms/step - loss: 0.0177\n",
            "\n",
            "Epoch 00125: loss did not improve from 0.01769\n",
            "Epoch 126/150\n",
            "1253/1253 [==============================] - 10s 8ms/step - loss: 0.0171\n",
            "\n",
            "Epoch 00126: loss did not improve from 0.01769\n",
            "Epoch 127/150\n",
            "1253/1253 [==============================] - 10s 8ms/step - loss: 0.0170\n",
            "\n",
            "Epoch 00127: loss improved from 0.01769 to 0.01759, saving model to best_RNN/LSTM_3.pt\n",
            "INFO:tensorflow:Assets written to: best_RNN/LSTM_3.pt/assets\n",
            "Epoch 128/150\n",
            "1253/1253 [==============================] - 10s 8ms/step - loss: 0.0173\n",
            "\n",
            "Epoch 00128: loss did not improve from 0.01759\n",
            "Epoch 129/150\n",
            "1253/1253 [==============================] - 10s 8ms/step - loss: 0.0172\n",
            "\n",
            "Epoch 00129: loss improved from 0.01759 to 0.01751, saving model to best_RNN/LSTM_3.pt\n",
            "INFO:tensorflow:Assets written to: best_RNN/LSTM_3.pt/assets\n",
            "Epoch 130/150\n",
            "1253/1253 [==============================] - 10s 8ms/step - loss: 0.0176\n",
            "\n",
            "Epoch 00130: loss improved from 0.01751 to 0.01731, saving model to best_RNN/LSTM_3.pt\n",
            "INFO:tensorflow:Assets written to: best_RNN/LSTM_3.pt/assets\n",
            "Epoch 131/150\n",
            "1253/1253 [==============================] - 10s 8ms/step - loss: 0.0175\n",
            "\n",
            "Epoch 00131: loss did not improve from 0.01731\n",
            "Epoch 132/150\n",
            "1253/1253 [==============================] - 10s 8ms/step - loss: 0.0175\n",
            "\n",
            "Epoch 00132: loss did not improve from 0.01731\n",
            "Epoch 133/150\n",
            "1253/1253 [==============================] - 10s 8ms/step - loss: 0.0172\n",
            "\n",
            "Epoch 00133: loss did not improve from 0.01731\n",
            "Epoch 134/150\n",
            "1253/1253 [==============================] - 10s 8ms/step - loss: 0.0168\n",
            "\n",
            "Epoch 00134: loss did not improve from 0.01731\n",
            "Epoch 135/150\n",
            "1253/1253 [==============================] - 10s 8ms/step - loss: 0.0167\n",
            "\n",
            "Epoch 00135: loss improved from 0.01731 to 0.01708, saving model to best_RNN/LSTM_3.pt\n",
            "INFO:tensorflow:Assets written to: best_RNN/LSTM_3.pt/assets\n",
            "Epoch 136/150\n",
            "1253/1253 [==============================] - 10s 8ms/step - loss: 0.0182\n",
            "\n",
            "Epoch 00136: loss did not improve from 0.01708\n",
            "Epoch 137/150\n",
            "1253/1253 [==============================] - 10s 8ms/step - loss: 0.0178\n",
            "\n",
            "Epoch 00137: loss did not improve from 0.01708\n",
            "Epoch 138/150\n",
            "1253/1253 [==============================] - 10s 8ms/step - loss: 0.0170\n",
            "\n",
            "Epoch 00138: loss improved from 0.01708 to 0.01705, saving model to best_RNN/LSTM_3.pt\n",
            "INFO:tensorflow:Assets written to: best_RNN/LSTM_3.pt/assets\n",
            "Epoch 139/150\n",
            "1253/1253 [==============================] - 10s 8ms/step - loss: 0.0167\n",
            "\n",
            "Epoch 00139: loss improved from 0.01705 to 0.01704, saving model to best_RNN/LSTM_3.pt\n",
            "INFO:tensorflow:Assets written to: best_RNN/LSTM_3.pt/assets\n",
            "Epoch 140/150\n",
            "1253/1253 [==============================] - 10s 8ms/step - loss: 0.0168\n",
            "\n",
            "Epoch 00140: loss improved from 0.01704 to 0.01702, saving model to best_RNN/LSTM_3.pt\n",
            "INFO:tensorflow:Assets written to: best_RNN/LSTM_3.pt/assets\n",
            "Epoch 141/150\n",
            "1253/1253 [==============================] - 10s 8ms/step - loss: 0.0173\n",
            "\n",
            "Epoch 00141: loss did not improve from 0.01702\n",
            "Epoch 142/150\n",
            "1253/1253 [==============================] - 10s 8ms/step - loss: 0.0169\n",
            "\n",
            "Epoch 00142: loss improved from 0.01702 to 0.01694, saving model to best_RNN/LSTM_3.pt\n",
            "INFO:tensorflow:Assets written to: best_RNN/LSTM_3.pt/assets\n",
            "Epoch 143/150\n",
            "1253/1253 [==============================] - 10s 8ms/step - loss: 0.0171\n",
            "\n",
            "Epoch 00143: loss did not improve from 0.01694\n",
            "Epoch 144/150\n",
            "1253/1253 [==============================] - 10s 8ms/step - loss: 0.0168\n",
            "\n",
            "Epoch 00144: loss did not improve from 0.01694\n",
            "Epoch 145/150\n",
            "1253/1253 [==============================] - 10s 8ms/step - loss: 0.0176\n",
            "\n",
            "Epoch 00145: loss did not improve from 0.01694\n",
            "Epoch 146/150\n",
            "1253/1253 [==============================] - 10s 8ms/step - loss: 0.0165\n",
            "\n",
            "Epoch 00146: loss improved from 0.01694 to 0.01686, saving model to best_RNN/LSTM_3.pt\n",
            "INFO:tensorflow:Assets written to: best_RNN/LSTM_3.pt/assets\n",
            "Epoch 147/150\n",
            "1253/1253 [==============================] - 10s 8ms/step - loss: 0.0164\n",
            "\n",
            "Epoch 00147: loss improved from 0.01686 to 0.01680, saving model to best_RNN/LSTM_3.pt\n",
            "INFO:tensorflow:Assets written to: best_RNN/LSTM_3.pt/assets\n",
            "Epoch 148/150\n",
            "1253/1253 [==============================] - 10s 8ms/step - loss: 0.0166\n",
            "\n",
            "Epoch 00148: loss improved from 0.01680 to 0.01649, saving model to best_RNN/LSTM_3.pt\n",
            "INFO:tensorflow:Assets written to: best_RNN/LSTM_3.pt/assets\n",
            "Epoch 149/150\n",
            "1253/1253 [==============================] - 10s 8ms/step - loss: 0.0163\n",
            "\n",
            "Epoch 00149: loss improved from 0.01649 to 0.01644, saving model to best_RNN/LSTM_3.pt\n",
            "INFO:tensorflow:Assets written to: best_RNN/LSTM_3.pt/assets\n",
            "Epoch 150/150\n",
            "1253/1253 [==============================] - 10s 8ms/step - loss: 0.0164\n",
            "\n",
            "Epoch 00150: loss did not improve from 0.01644\n",
            "Training Finished!\n"
          ],
          "name": "stdout"
        }
      ]
    },
    {
      "cell_type": "code",
      "metadata": {
        "colab": {
          "base_uri": "https://localhost:8080/"
        },
        "id": "f2VE4NOsenNd",
        "outputId": "5b36b478-4fca-4521-cdf1-d70b823d68e9"
      },
      "source": [
        "# Loading the best model 'best_RNN/LSTM_3.pt':\r\n",
        "\r\n",
        "m2 = load_model('/content/best_RNN/LSTM_3.pt')"
      ],
      "execution_count": 39,
      "outputs": [
        {
          "output_type": "stream",
          "text": [
            "WARNING:tensorflow:Layer lstm_1 will not use cuDNN kernel since it doesn't meet the cuDNN kernel criteria. It will use generic GPU kernel as fallback when running on GPU\n",
            "WARNING:tensorflow:Layer lstm_2 will not use cuDNN kernel since it doesn't meet the cuDNN kernel criteria. It will use generic GPU kernel as fallback when running on GPU\n",
            "WARNING:tensorflow:Layer lstm_3 will not use cuDNN kernel since it doesn't meet the cuDNN kernel criteria. It will use generic GPU kernel as fallback when running on GPU\n"
          ],
          "name": "stdout"
        }
      ]
    },
    {
      "cell_type": "code",
      "metadata": {
        "colab": {
          "base_uri": "https://localhost:8080/"
        },
        "id": "bIfdXQAMenSn",
        "outputId": "8ca0745e-2fa3-4116-90a4-039c7487a52f"
      },
      "source": [
        "# Making predictions with the model:\r\n",
        "\r\n",
        "trainPredict_stack = m2.predict(trainX)\r\n",
        "testPredict_stack  = m2.predict(testX)\r\n",
        "testPredict_stack[:5]"
      ],
      "execution_count": 40,
      "outputs": [
        {
          "output_type": "execute_result",
          "data": {
            "text/plain": [
              "array([[0.9251536 ],\n",
              "       [0.9285219 ],\n",
              "       [0.9292575 ],\n",
              "       [0.9289229 ],\n",
              "       [0.93171763]], dtype=float32)"
            ]
          },
          "metadata": {
            "tags": []
          },
          "execution_count": 40
        }
      ]
    },
    {
      "cell_type": "code",
      "metadata": {
        "id": "aaa9Yufwq-8w",
        "colab": {
          "base_uri": "https://localhost:8080/"
        },
        "outputId": "3bf50d89-41b5-44f3-9105-54ed7339f9aa"
      },
      "source": [
        "# Invert the predictions made by the model:\n",
        "\n",
        "trainPredict_stack_ = scaler.inverse_transform(trainPredict_stack)\n",
        "trainY_stack_ = scaler.inverse_transform(trainY)\n",
        "testPredict_stack_ = scaler.inverse_transform(testPredict_stack)\n",
        "testY_stack_ = scaler.inverse_transform(testY)\n",
        "testPredict_stack_[:5]"
      ],
      "execution_count": 41,
      "outputs": [
        {
          "output_type": "execute_result",
          "data": {
            "text/plain": [
              "array([[799.9806 ],\n",
              "       [801.8693 ],\n",
              "       [802.28186],\n",
              "       [802.0942 ],\n",
              "       [803.6613 ]], dtype=float32)"
            ]
          },
          "metadata": {
            "tags": []
          },
          "execution_count": 41
        }
      ]
    },
    {
      "cell_type": "code",
      "metadata": {
        "colab": {
          "base_uri": "https://localhost:8080/"
        },
        "id": "uUbyHYchjRj_",
        "outputId": "a0d45eb3-cb7d-49c5-d756-d9b82ab48779"
      },
      "source": [
        "# Chekcing the shape of inverted predictions:\r\n",
        "\r\n",
        "trainPredict_stack_.shape, trainY_stack_.shape, testPredict_stack_.shape, testY_stack_.shape"
      ],
      "execution_count": 42,
      "outputs": [
        {
          "output_type": "execute_result",
          "data": {
            "text/plain": [
              "((1253, 1), (1253, 1), (15, 1), (15, 1))"
            ]
          },
          "metadata": {
            "tags": []
          },
          "execution_count": 42
        }
      ]
    },
    {
      "cell_type": "markdown",
      "metadata": {
        "id": "aZTbCBrKq6mY"
      },
      "source": [
        "### Evaluate the model"
      ]
    },
    {
      "cell_type": "code",
      "metadata": {
        "id": "lnR0lUEPq6mZ",
        "colab": {
          "base_uri": "https://localhost:8080/"
        },
        "outputId": "5201eafb-11f9-4efe-f094-cce3b6939e85"
      },
      "source": [
        "# Calculate root mean squared error and mean absolute error on the train and test datasets:\r\n",
        "\r\n",
        "# Calculate root mean squared error:\r\n",
        "trainScore_stuck = math.sqrt(mean_squared_error(trainY_stack_[:,0], trainPredict_stack_[:,0]))\r\n",
        "print('Train RMSE: %.2f RMSE' % (trainScore_stuck))\r\n",
        "testScore_stuck = math.sqrt(mean_squared_error(testY_stack_[:,0], testPredict_stack_[:,0]))\r\n",
        "print('Test RMSE: %.2f RMSE' % (testScore_stuck))\r\n",
        "\r\n",
        "print('\\nTrain MAE: %.2f MAE' % (mean_absolute_error(trainY_stack_[:,0], trainPredict_stack_[:,0])))\r\n",
        "print('Test MAE: %.2f MAE' % (mean_absolute_error(testY_stack_[:,0], testPredict_stack_[:,0])))"
      ],
      "execution_count": 43,
      "outputs": [
        {
          "output_type": "stream",
          "text": [
            "Train RMSE: 11.71 RMSE\n",
            "Test RMSE: 13.27 RMSE\n",
            "\n",
            "Train MAE: 8.84 MAE\n",
            "Test MAE: 11.67 MAE\n"
          ],
          "name": "stdout"
        }
      ]
    },
    {
      "cell_type": "markdown",
      "metadata": {
        "id": "ffq7coZVq6mb"
      },
      "source": [
        "### Visualize the predictions"
      ]
    },
    {
      "cell_type": "code",
      "metadata": {
        "collapsed": true,
        "id": "q6wL1Sisq6mb",
        "colab": {
          "base_uri": "https://localhost:8080/",
          "height": 483
        },
        "outputId": "b094397e-a6fc-4bff-b641-d951d3beb459"
      },
      "source": [
        "# Visualizing the predictions:\r\n",
        "\r\n",
        "# Shift train predictions for plotting:\r\n",
        "trainPredictPlot = np.empty_like(dataset)\r\n",
        "trainPredictPlot[:, :] = np.nan\r\n",
        "trainPredictPlot[n_steps_in:len(trainPredict_stack_)+n_steps_in, :] = trainPredict_stack_\r\n",
        "\r\n",
        "# Shift test predictions for plotting:\r\n",
        "testPredictPlot = np.empty_like(dataset)\r\n",
        "testPredictPlot[:, :] = np.nan\r\n",
        "testPredictPlot[len(trainPredict_stack_)+(n_steps_in*2)-1:len(dataset)-1, :] = testPredict_stack_\r\n",
        "\r\n",
        "# Plot baseline and predictions:\r\n",
        "plt.figure(figsize = (20, 8))\r\n",
        "plt.plot(scaler.inverse_transform(dataset))\r\n",
        "plt.plot(trainPredictPlot)\r\n",
        "plt.plot(testPredictPlot)\r\n",
        "plt.show()"
      ],
      "execution_count": 44,
      "outputs": [
        {
          "output_type": "display_data",
          "data": {
            "image/png": "[encoded data removed]",
            "text/plain": [
              "<Figure size 1440x576 with 1 Axes>"
            ]
          },
          "metadata": {
            "tags": [],
            "needs_background": "light"
          }
        }
      ]
    },
    {
      "cell_type": "markdown",
      "metadata": {
        "id": "kS3KTmNL7L_7"
      },
      "source": [
        "# 4. One to One"
      ]
    },
    {
      "cell_type": "markdown",
      "metadata": {
        "id": "DB-Ii3-rj5c6"
      },
      "source": [
        "- Create a One to One LSTM model. \r\n",
        "- The training parameters are the same as in the examples before.\r\n",
        "- Evaluate the model on the train and test data.\r\n",
        "- Visualize the predictions."
      ]
    },
    {
      "cell_type": "code",
      "metadata": {
        "id": "9uI16fDUA_5S"
      },
      "source": [
        "# Manually splitting the dataset into train and test segments:\r\n",
        "\r\n",
        "train = dataset[:1258]\r\n",
        "test = dataset[1258:]"
      ],
      "execution_count": 45,
      "outputs": []
    },
    {
      "cell_type": "code",
      "metadata": {
        "id": "6UNzDd9fAcN-"
      },
      "source": [
        "# Spliting the train and test dataset in the appropriate segments:\r\n",
        "\r\n",
        "n_steps_in = 1\r\n",
        "\r\n",
        "trainX, trainY = split_sequence(train, n_steps = n_steps_in)\r\n",
        "testX, testY = split_sequence(test, n_steps = n_steps_in)"
      ],
      "execution_count": 46,
      "outputs": []
    },
    {
      "cell_type": "code",
      "metadata": {
        "id": "w2aNftym-ZOZ"
      },
      "source": [
        "# The input to the RNN layer should be in 3D shape i.e. (samples, time-steps, features):\r\n",
        "\r\n",
        "# Train segment:\r\n",
        "trainX = trainX.reshape(trainY.shape[0], 1, 1)\r\n",
        "trainY = trainY.reshape(trainY.shape[0], 1, 1)\r\n",
        "\r\n",
        "# Test segment:\r\n",
        "testX = testX.reshape(testX.shape[0], 1, 1)\r\n",
        "testY = testY.reshape(testY.shape[0], 1, 1)"
      ],
      "execution_count": 47,
      "outputs": []
    },
    {
      "cell_type": "code",
      "metadata": {
        "colab": {
          "base_uri": "https://localhost:8080/"
        },
        "id": "yiTDth4y_hJn",
        "outputId": "bb2336ba-d138-4053-9c1f-754b70bf1e2f"
      },
      "source": [
        "# Checking the shape of the train and test dataset:\r\n",
        "\r\n",
        "trainX.shape, trainY.shape, testX.shape, testY.shape"
      ],
      "execution_count": 48,
      "outputs": [
        {
          "output_type": "execute_result",
          "data": {
            "text/plain": [
              "((1257, 1, 1), (1257, 1, 1), (19, 1, 1), (19, 1, 1))"
            ]
          },
          "metadata": {
            "tags": []
          },
          "execution_count": 48
        }
      ]
    },
    {
      "cell_type": "code",
      "metadata": {
        "colab": {
          "base_uri": "https://localhost:8080/"
        },
        "id": "Iql9sruAj2o-",
        "outputId": "839eccd9-741f-4768-e8da-fa0a2c24e320"
      },
      "source": [
        "# Create RNN One_to_One model object:\r\n",
        "\r\n",
        "model_one = Sequential()\r\n",
        "model_one.add(LSTM(60, activation = 'relu', input_shape = (n_steps_in, n_features)))\r\n",
        "model_one.add(Dense(1))\r\n",
        "model_one.summary()"
      ],
      "execution_count": 49,
      "outputs": [
        {
          "output_type": "stream",
          "text": [
            "WARNING:tensorflow:Layer lstm_4 will not use cuDNN kernel since it doesn't meet the cuDNN kernel criteria. It will use generic GPU kernel as fallback when running on GPU\n",
            "Model: \"sequential_2\"\n",
            "_________________________________________________________________\n",
            "Layer (type)                 Output Shape              Param #   \n",
            "=================================================================\n",
            "lstm_4 (LSTM)                (None, 60)                14880     \n",
            "_________________________________________________________________\n",
            "dense_2 (Dense)              (None, 1)                 61        \n",
            "=================================================================\n",
            "Total params: 14,941\n",
            "Trainable params: 14,941\n",
            "Non-trainable params: 0\n",
            "_________________________________________________________________\n"
          ],
          "name": "stdout"
        }
      ]
    },
    {
      "cell_type": "code",
      "metadata": {
        "id": "ejjiTljylETN"
      },
      "source": [
        "# Compiling the RNN model:\r\n",
        "\r\n",
        "model_one.compile(optimizer = 'SGD', loss = 'mae')"
      ],
      "execution_count": 50,
      "outputs": []
    },
    {
      "cell_type": "code",
      "metadata": {
        "id": "rVrnp5aClEdP"
      },
      "source": [
        "# Creating callbacks to make training of the model more flexible:\r\n",
        "\r\n",
        "callback1 = ModelCheckpoint('best_RNN_One.pt', monitor = 'loss', save_best_only = True, mode = 'min', verbose = 1)\r\n",
        "callback2 = EarlyStopping(patience = 15, monitor = 'loss', mode = 'min')\r\n",
        "callback_list = [callback1, callback2]"
      ],
      "execution_count": 51,
      "outputs": []
    },
    {
      "cell_type": "code",
      "metadata": {
        "colab": {
          "base_uri": "https://localhost:8080/"
        },
        "id": "zliflx6VlEme",
        "outputId": "73b0e0b2-1d72-46ba-907a-07cfea86606c"
      },
      "source": [
        "# Train the model:\r\n",
        "\r\n",
        "history_m3 = model_one.fit(trainX, trainY,\r\n",
        "                           epochs = 150,\r\n",
        "                           batch_size = 1,\r\n",
        "                           callbacks = callback_list,\r\n",
        "                           verbose = 1 \r\n",
        "                           )\r\n",
        "print('Training Finished!')"
      ],
      "execution_count": 52,
      "outputs": [
        {
          "output_type": "stream",
          "text": [
            "Epoch 1/150\n",
            "1257/1257 [==============================] - 3s 2ms/step - loss: 0.2361\n",
            "\n",
            "Epoch 00001: loss improved from inf to 0.20823, saving model to best_RNN_One.pt\n",
            "INFO:tensorflow:Assets written to: best_RNN_One.pt/assets\n",
            "Epoch 2/150\n",
            "1257/1257 [==============================] - 2s 2ms/step - loss: 0.1470\n",
            "\n",
            "Epoch 00002: loss improved from 0.20823 to 0.10730, saving model to best_RNN_One.pt\n",
            "INFO:tensorflow:Assets written to: best_RNN_One.pt/assets\n",
            "Epoch 3/150\n",
            "1257/1257 [==============================] - 2s 2ms/step - loss: 0.0145\n",
            "\n",
            "Epoch 00003: loss improved from 0.10730 to 0.01409, saving model to best_RNN_One.pt\n",
            "INFO:tensorflow:Assets written to: best_RNN_One.pt/assets\n",
            "Epoch 4/150\n",
            "1257/1257 [==============================] - 2s 2ms/step - loss: 0.0139\n",
            "\n",
            "Epoch 00004: loss improved from 0.01409 to 0.01376, saving model to best_RNN_One.pt\n",
            "INFO:tensorflow:Assets written to: best_RNN_One.pt/assets\n",
            "Epoch 5/150\n",
            "1257/1257 [==============================] - 2s 2ms/step - loss: 0.0133\n",
            "\n",
            "Epoch 00005: loss improved from 0.01376 to 0.01349, saving model to best_RNN_One.pt\n",
            "INFO:tensorflow:Assets written to: best_RNN_One.pt/assets\n",
            "Epoch 6/150\n",
            "1257/1257 [==============================] - 2s 2ms/step - loss: 0.0134\n",
            "\n",
            "Epoch 00006: loss did not improve from 0.01349\n",
            "Epoch 7/150\n",
            "1257/1257 [==============================] - 2s 2ms/step - loss: 0.0136\n",
            "\n",
            "Epoch 00007: loss improved from 0.01349 to 0.01323, saving model to best_RNN_One.pt\n",
            "INFO:tensorflow:Assets written to: best_RNN_One.pt/assets\n",
            "Epoch 8/150\n",
            "1257/1257 [==============================] - 2s 2ms/step - loss: 0.0130\n",
            "\n",
            "Epoch 00008: loss improved from 0.01323 to 0.01315, saving model to best_RNN_One.pt\n",
            "INFO:tensorflow:Assets written to: best_RNN_One.pt/assets\n",
            "Epoch 9/150\n",
            "1257/1257 [==============================] - 2s 2ms/step - loss: 0.0133\n",
            "\n",
            "Epoch 00009: loss did not improve from 0.01315\n",
            "Epoch 10/150\n",
            "1257/1257 [==============================] - 2s 2ms/step - loss: 0.0135\n",
            "\n",
            "Epoch 00010: loss did not improve from 0.01315\n",
            "Epoch 11/150\n",
            "1257/1257 [==============================] - 2s 2ms/step - loss: 0.0127\n",
            "\n",
            "Epoch 00011: loss improved from 0.01315 to 0.01306, saving model to best_RNN_One.pt\n",
            "INFO:tensorflow:Assets written to: best_RNN_One.pt/assets\n",
            "Epoch 12/150\n",
            "1257/1257 [==============================] - 2s 2ms/step - loss: 0.0130\n",
            "\n",
            "Epoch 00012: loss improved from 0.01306 to 0.01301, saving model to best_RNN_One.pt\n",
            "INFO:tensorflow:Assets written to: best_RNN_One.pt/assets\n",
            "Epoch 13/150\n",
            "1257/1257 [==============================] - 2s 2ms/step - loss: 0.0127\n",
            "\n",
            "Epoch 00013: loss improved from 0.01301 to 0.01293, saving model to best_RNN_One.pt\n",
            "INFO:tensorflow:Assets written to: best_RNN_One.pt/assets\n",
            "Epoch 14/150\n",
            "1257/1257 [==============================] - 2s 2ms/step - loss: 0.0124\n",
            "\n",
            "Epoch 00014: loss improved from 0.01293 to 0.01280, saving model to best_RNN_One.pt\n",
            "INFO:tensorflow:Assets written to: best_RNN_One.pt/assets\n",
            "Epoch 15/150\n",
            "1257/1257 [==============================] - 2s 2ms/step - loss: 0.0127\n",
            "\n",
            "Epoch 00015: loss improved from 0.01280 to 0.01268, saving model to best_RNN_One.pt\n",
            "INFO:tensorflow:Assets written to: best_RNN_One.pt/assets\n",
            "Epoch 16/150\n",
            "1257/1257 [==============================] - 2s 2ms/step - loss: 0.0129\n",
            "\n",
            "Epoch 00016: loss did not improve from 0.01268\n",
            "Epoch 17/150\n",
            "1257/1257 [==============================] - 2s 2ms/step - loss: 0.0129\n",
            "\n",
            "Epoch 00017: loss did not improve from 0.01268\n",
            "Epoch 18/150\n",
            "1257/1257 [==============================] - 2s 2ms/step - loss: 0.0129\n",
            "\n",
            "Epoch 00018: loss improved from 0.01268 to 0.01265, saving model to best_RNN_One.pt\n",
            "INFO:tensorflow:Assets written to: best_RNN_One.pt/assets\n",
            "Epoch 19/150\n",
            "1257/1257 [==============================] - 2s 2ms/step - loss: 0.0133\n",
            "\n",
            "Epoch 00019: loss did not improve from 0.01265\n",
            "Epoch 20/150\n",
            "1257/1257 [==============================] - 2s 2ms/step - loss: 0.0135\n",
            "\n",
            "Epoch 00020: loss did not improve from 0.01265\n",
            "Epoch 21/150\n",
            "1257/1257 [==============================] - 2s 2ms/step - loss: 0.0129\n",
            "\n",
            "Epoch 00021: loss did not improve from 0.01265\n",
            "Epoch 22/150\n",
            "1257/1257 [==============================] - 2s 2ms/step - loss: 0.0129\n",
            "\n",
            "Epoch 00022: loss did not improve from 0.01265\n",
            "Epoch 23/150\n",
            "1257/1257 [==============================] - 2s 2ms/step - loss: 0.0124\n",
            "\n",
            "Epoch 00023: loss did not improve from 0.01265\n",
            "Epoch 24/150\n",
            "1257/1257 [==============================] - 2s 2ms/step - loss: 0.0125\n",
            "\n",
            "Epoch 00024: loss did not improve from 0.01265\n",
            "Epoch 25/150\n",
            "1257/1257 [==============================] - 2s 2ms/step - loss: 0.0126\n",
            "\n",
            "Epoch 00025: loss did not improve from 0.01265\n",
            "Epoch 26/150\n",
            "1257/1257 [==============================] - 2s 2ms/step - loss: 0.0130\n",
            "\n",
            "Epoch 00026: loss did not improve from 0.01265\n",
            "Epoch 27/150\n",
            "1257/1257 [==============================] - 2s 2ms/step - loss: 0.0125\n",
            "\n",
            "Epoch 00027: loss did not improve from 0.01265\n",
            "Epoch 28/150\n",
            "1257/1257 [==============================] - 2s 2ms/step - loss: 0.0130\n",
            "\n",
            "Epoch 00028: loss did not improve from 0.01265\n",
            "Epoch 29/150\n",
            "1257/1257 [==============================] - 2s 2ms/step - loss: 0.0129\n",
            "\n",
            "Epoch 00029: loss improved from 0.01265 to 0.01256, saving model to best_RNN_One.pt\n",
            "INFO:tensorflow:Assets written to: best_RNN_One.pt/assets\n",
            "Epoch 30/150\n",
            "1257/1257 [==============================] - 2s 2ms/step - loss: 0.0124\n",
            "\n",
            "Epoch 00030: loss did not improve from 0.01256\n",
            "Epoch 31/150\n",
            "1257/1257 [==============================] - 2s 2ms/step - loss: 0.0130\n",
            "\n",
            "Epoch 00031: loss did not improve from 0.01256\n",
            "Epoch 32/150\n",
            "1257/1257 [==============================] - 2s 2ms/step - loss: 0.0122\n",
            "\n",
            "Epoch 00032: loss did not improve from 0.01256\n",
            "Epoch 33/150\n",
            "1257/1257 [==============================] - 2s 2ms/step - loss: 0.0127\n",
            "\n",
            "Epoch 00033: loss did not improve from 0.01256\n",
            "Epoch 34/150\n",
            "1257/1257 [==============================] - 2s 2ms/step - loss: 0.0122\n",
            "\n",
            "Epoch 00034: loss did not improve from 0.01256\n",
            "Epoch 35/150\n",
            "1257/1257 [==============================] - 2s 2ms/step - loss: 0.0134\n",
            "\n",
            "Epoch 00035: loss did not improve from 0.01256\n",
            "Epoch 36/150\n",
            "1257/1257 [==============================] - 2s 2ms/step - loss: 0.0126\n",
            "\n",
            "Epoch 00036: loss did not improve from 0.01256\n",
            "Epoch 37/150\n",
            "1257/1257 [==============================] - 2s 2ms/step - loss: 0.0129\n",
            "\n",
            "Epoch 00037: loss did not improve from 0.01256\n",
            "Epoch 38/150\n",
            "1257/1257 [==============================] - 2s 2ms/step - loss: 0.0123\n",
            "\n",
            "Epoch 00038: loss did not improve from 0.01256\n",
            "Epoch 39/150\n",
            "1257/1257 [==============================] - 2s 2ms/step - loss: 0.0130\n",
            "\n",
            "Epoch 00039: loss did not improve from 0.01256\n",
            "Epoch 40/150\n",
            "1257/1257 [==============================] - 2s 2ms/step - loss: 0.0127\n",
            "\n",
            "Epoch 00040: loss did not improve from 0.01256\n",
            "Epoch 41/150\n",
            "1257/1257 [==============================] - 2s 2ms/step - loss: 0.0128\n",
            "\n",
            "Epoch 00041: loss did not improve from 0.01256\n",
            "Epoch 42/150\n",
            "1257/1257 [==============================] - 2s 2ms/step - loss: 0.0130\n",
            "\n",
            "Epoch 00042: loss did not improve from 0.01256\n",
            "Epoch 43/150\n",
            "1257/1257 [==============================] - 2s 2ms/step - loss: 0.0122\n",
            "\n",
            "Epoch 00043: loss did not improve from 0.01256\n",
            "Epoch 44/150\n",
            "1257/1257 [==============================] - 2s 2ms/step - loss: 0.0133\n",
            "\n",
            "Epoch 00044: loss did not improve from 0.01256\n",
            "Training Finished!\n"
          ],
          "name": "stdout"
        }
      ]
    },
    {
      "cell_type": "code",
      "metadata": {
        "colab": {
          "base_uri": "https://localhost:8080/"
        },
        "id": "QegY41EHlEwI",
        "outputId": "a005841d-cba5-4721-ccd5-09ae53d35120"
      },
      "source": [
        "# Loading the best model 'best_RNN_One.pt':\r\n",
        "\r\n",
        "m3 = load_model('/content/best_RNN_One.pt')"
      ],
      "execution_count": 53,
      "outputs": [
        {
          "output_type": "stream",
          "text": [
            "WARNING:tensorflow:Layer lstm_4 will not use cuDNN kernel since it doesn't meet the cuDNN kernel criteria. It will use generic GPU kernel as fallback when running on GPU\n"
          ],
          "name": "stdout"
        }
      ]
    },
    {
      "cell_type": "code",
      "metadata": {
        "colab": {
          "base_uri": "https://localhost:8080/"
        },
        "id": "q8-wySNZlz6p",
        "outputId": "4f5e6d52-54d0-45e0-c59b-e8bfd753da51"
      },
      "source": [
        "# Making predictions with the model:\r\n",
        "\r\n",
        "trainPredict_one = m3.predict(trainX)\r\n",
        "testPredict_one = m3.predict(testX)\r\n",
        "testPredict_one[:5]"
      ],
      "execution_count": 54,
      "outputs": [
        {
          "output_type": "execute_result",
          "data": {
            "text/plain": [
              "array([[0.92400587],\n",
              "       [0.927096  ],\n",
              "       [0.93277   ],\n",
              "       [0.95702314],\n",
              "       [0.9607647 ]], dtype=float32)"
            ]
          },
          "metadata": {
            "tags": []
          },
          "execution_count": 54
        }
      ]
    },
    {
      "cell_type": "code",
      "metadata": {
        "id": "3Cl4-yYkCQmY"
      },
      "source": [
        "# Reshaping the trainY and testY in order to invert the predictions:\r\n",
        "\r\n",
        "trainY = trainY.reshape(-1, 1)\r\n",
        "testY = testY.reshape(-1, 1)"
      ],
      "execution_count": 55,
      "outputs": []
    },
    {
      "cell_type": "code",
      "metadata": {
        "colab": {
          "base_uri": "https://localhost:8080/"
        },
        "id": "sDwIA0Mol9Tz",
        "outputId": "2bb9a772-a61b-400a-873e-b2b5db90b2ae"
      },
      "source": [
        "# Invert the predictions made by the model:\r\n",
        "\r\n",
        "trainPredict_one_ = scaler.inverse_transform(trainPredict_one)\r\n",
        "trainY_one_ = scaler.inverse_transform(trainY)\r\n",
        "testPredict_one_ = scaler.inverse_transform(testPredict_one)\r\n",
        "testY_one_ = scaler.inverse_transform(testY)\r\n",
        "testPredict_one_[:5]"
      ],
      "execution_count": 56,
      "outputs": [
        {
          "output_type": "execute_result",
          "data": {
            "text/plain": [
              "array([[799.33704],\n",
              "       [801.0698 ],\n",
              "       [804.25146],\n",
              "       [817.85114],\n",
              "       [819.9492 ]], dtype=float32)"
            ]
          },
          "metadata": {
            "tags": []
          },
          "execution_count": 56
        }
      ]
    },
    {
      "cell_type": "code",
      "metadata": {
        "colab": {
          "base_uri": "https://localhost:8080/"
        },
        "id": "PzF9xrWxl9dU",
        "outputId": "c82562f2-ed3f-4326-d958-635842f98f22"
      },
      "source": [
        "# Chekcing the shape of inverted predictions:\r\n",
        "\r\n",
        "trainPredict_one_.shape, trainY_one_.shape, testPredict_one_.shape, testY_one_.shape"
      ],
      "execution_count": 57,
      "outputs": [
        {
          "output_type": "execute_result",
          "data": {
            "text/plain": [
              "((1257, 1), (1257, 1), (19, 1), (19, 1))"
            ]
          },
          "metadata": {
            "tags": []
          },
          "execution_count": 57
        }
      ]
    },
    {
      "cell_type": "code",
      "metadata": {
        "colab": {
          "base_uri": "https://localhost:8080/"
        },
        "id": "OFNgh9NKmDRX",
        "outputId": "6675e746-7942-46b6-e3b9-50cd2a05dac9"
      },
      "source": [
        "# Calculate root mean squared error and mean absolute error on the train and test datasets:\r\n",
        "\r\n",
        "# Calculate root mean squared error:\r\n",
        "trainScore_one = math.sqrt(mean_squared_error(trainY_one_[:,0], trainPredict_one_[:,0]))\r\n",
        "print('Train RMSE: %.2f RMSE' % (trainScore_one))\r\n",
        "testScore_one = math.sqrt(mean_squared_error(testY_one_[:,0], testPredict_one_[:,0]))\r\n",
        "print('Test RMSE: %.2f RMSE' % (testScore_one))\r\n",
        "\r\n",
        "print('\\nTrain MAE: %.2f MAE' % (mean_absolute_error(trainY_one_[:,0], trainPredict_one_[:,0])))\r\n",
        "print('Test MAE: %.2f MAE' % (mean_absolute_error(testY_one_[:,0], testPredict_one_[:,0])))"
      ],
      "execution_count": 58,
      "outputs": [
        {
          "output_type": "stream",
          "text": [
            "Train RMSE: 9.87 RMSE\n",
            "Test RMSE: 12.84 RMSE\n",
            "\n",
            "Train MAE: 7.36 MAE\n",
            "Test MAE: 10.14 MAE\n"
          ],
          "name": "stdout"
        }
      ]
    },
    {
      "cell_type": "code",
      "metadata": {
        "colab": {
          "base_uri": "https://localhost:8080/",
          "height": 483
        },
        "id": "hooEhWfVmDVE",
        "outputId": "f5beaee0-208d-4d7a-c625-6cbea2c5bdc3"
      },
      "source": [
        "# Visualizing the predictions:\r\n",
        "\r\n",
        "# Shift train predictions for plotting:\r\n",
        "trainPredictPlot = np.empty_like(dataset)\r\n",
        "trainPredictPlot[:, :] = np.nan\r\n",
        "trainPredictPlot[n_steps_in:len(trainPredict_one_)+n_steps_in, :] = trainPredict_one_\r\n",
        "\r\n",
        "# Shift test predictions for plotting:\r\n",
        "testPredictPlot = np.empty_like(dataset)\r\n",
        "testPredictPlot[:, :] = np.nan\r\n",
        "testPredictPlot[len(trainPredict_one_)+(n_steps_in*2)-1:len(dataset)-1, :] = testPredict_one_\r\n",
        "\r\n",
        "# Plot baseline and predictions:\r\n",
        "plt.figure(figsize = (20, 8))\r\n",
        "plt.plot(scaler.inverse_transform(dataset))\r\n",
        "plt.plot(trainPredictPlot)\r\n",
        "plt.plot(testPredictPlot)\r\n",
        "plt.show()"
      ],
      "execution_count": 59,
      "outputs": [
        {
          "output_type": "display_data",
          "data": {
            "image/png": "[encoded data removed]",
            "text/plain": [
              "<Figure size 1440x576 with 1 Axes>"
            ]
          },
          "metadata": {
            "tags": [],
            "needs_background": "light"
          }
        }
      ]
    },
    {
      "cell_type": "markdown",
      "metadata": {
        "id": "js1v7-yb4T9U"
      },
      "source": [
        "# 5. Many to Many"
      ]
    },
    {
      "cell_type": "markdown",
      "metadata": {
        "id": "TXOsKzeO7L_9"
      },
      "source": [
        "## Prepare the data in appropriate format"
      ]
    },
    {
      "cell_type": "code",
      "metadata": {
        "id": "aSmc4VouDJyL"
      },
      "source": [
        "# Manually splitting the dataset into train and test segments:\r\n",
        "\r\n",
        "train = dataset[:1258]\r\n",
        "test = dataset[1258:]"
      ],
      "execution_count": 60,
      "outputs": []
    },
    {
      "cell_type": "code",
      "metadata": {
        "id": "swODn57v5EON"
      },
      "source": [
        "# Function that segments the data:\r\n",
        "\r\n",
        "def split_sequence(sequence, n_steps_in, n_steps_out):\r\n",
        "\tX, y = list(), list()\r\n",
        "\tfor i in range(len(sequence)):\r\n",
        "\t\t# find the end of this pattern\r\n",
        "\t\tend_ix = i + n_steps_in\r\n",
        "\t\tout_end_ix = end_ix + n_steps_out\r\n",
        "\t\t# check if we are beyond the sequence\r\n",
        "\t\tif out_end_ix > len(sequence):\r\n",
        "\t\t\tbreak\r\n",
        "\t\t# gather input and output parts of the pattern\r\n",
        "\t\tseq_x, seq_y = sequence[i:end_ix], sequence[end_ix:out_end_ix]\r\n",
        "\t\tX.append(seq_x)\r\n",
        "\t\ty.append(seq_y)\r\n",
        "\treturn np.array(X), np.array(y)"
      ],
      "execution_count": 61,
      "outputs": []
    },
    {
      "cell_type": "code",
      "metadata": {
        "id": "N45hbOY07RFz",
        "colab": {
          "base_uri": "https://localhost:8080/"
        },
        "outputId": "0d3ab1eb-9426-4559-d71e-f80dd7a86b12"
      },
      "source": [
        "# Preparing and splitting the dataset:\n",
        "\n",
        "# Choose a number of time steps:\n",
        "n_steps_in = 5\n",
        "n_steps_out = 2\n",
        "n_features = 1\n",
        "\n",
        "# Split the dataset into samples:\n",
        "trainX, trainY = split_sequence(train, n_steps_in, n_steps_out)\n",
        "testX, testY = split_sequence(test, n_steps_in, n_steps_out)\n",
        "\n",
        "# Print the first 3 samples for trainX and trainY:\n",
        "for i in range(3):\n",
        "\tprint(testX[i], \"Y: \" , testY[i])"
      ],
      "execution_count": 62,
      "outputs": [
        {
          "output_type": "stream",
          "text": [
            "[[0.90669472]\n",
            " [0.90974427]\n",
            " [0.91534401]\n",
            " [0.93927667]\n",
            " [0.94296822]] Y:  [[0.9414702 ]\n",
            " [0.93972251]]\n",
            "[[0.90974427]\n",
            " [0.91534401]\n",
            " [0.93927667]\n",
            " [0.94296822]\n",
            " [0.9414702 ]] Y:  [[0.93972251]\n",
            " [0.93836716]]\n",
            "[[0.91534401]\n",
            " [0.93927667]\n",
            " [0.94296822]\n",
            " [0.9414702 ]\n",
            " [0.93972251]] Y:  [[0.93836716]\n",
            " [0.94519742]]\n"
          ],
          "name": "stdout"
        }
      ]
    },
    {
      "cell_type": "markdown",
      "metadata": {
        "id": "2apX91pV7MAB"
      },
      "source": [
        "- There are 2 (n_steps_out) predictions for each data point. \r\n",
        "- Thus, we need to take the predicitons on each 'n_steps_out' step "
      ]
    },
    {
      "cell_type": "code",
      "metadata": {
        "id": "L3sweN5l7MAB"
      },
      "source": [
        "# Preparing the test dataset for predictions:\n",
        "\n",
        "testX = testX[::n_steps_out]\n",
        "testY = testY[::n_steps_out]"
      ],
      "execution_count": 63,
      "outputs": []
    },
    {
      "cell_type": "code",
      "metadata": {
        "colab": {
          "base_uri": "https://localhost:8080/"
        },
        "id": "rAsPDOrFoROV",
        "outputId": "a0e96660-0e6c-4aff-8a60-9e15a742cef4"
      },
      "source": [
        "# Checking the shape of the test dataset:\r\n",
        "\r\n",
        "testX.shape, testY.shape"
      ],
      "execution_count": 64,
      "outputs": [
        {
          "output_type": "execute_result",
          "data": {
            "text/plain": [
              "((7, 5, 1), (7, 2, 1))"
            ]
          },
          "metadata": {
            "tags": []
          },
          "execution_count": 64
        }
      ]
    },
    {
      "cell_type": "markdown",
      "metadata": {
        "id": "HNbOa9SK7MAC"
      },
      "source": [
        "## Create the model"
      ]
    },
    {
      "cell_type": "markdown",
      "metadata": {
        "id": "UWP46TxPoh6G"
      },
      "source": [
        "- Create and fit the RNN network. \r\n",
        "- Use encoder LSTM with 100 neurons, decoder LSTM with 100 enaurons.\r\n",
        "- RELU activation function, MAE as a loss, and RELU as optimizer."
      ]
    },
    {
      "cell_type": "code",
      "metadata": {
        "id": "O9BGRwko7592",
        "colab": {
          "base_uri": "https://localhost:8080/"
        },
        "outputId": "40b34a54-de5e-4889-c966-f19b6f0a72ff"
      },
      "source": [
        "# Create RNN/LSTM with 100 neurons (on 'in' and 'out') model object:\n",
        "\n",
        "model_many = Sequential()\n",
        "model_many.add(LSTM(100, activation='relu', input_shape = (n_steps_in, n_features)))\n",
        "model_many.add(RepeatVector(n_steps_out))\n",
        "model_many.add(LSTM(100, activation='relu', return_sequences=True))\n",
        "model_many.add(Dense(1))\n",
        "model_many.summary()"
      ],
      "execution_count": 65,
      "outputs": [
        {
          "output_type": "stream",
          "text": [
            "WARNING:tensorflow:Layer lstm_5 will not use cuDNN kernel since it doesn't meet the cuDNN kernel criteria. It will use generic GPU kernel as fallback when running on GPU\n",
            "WARNING:tensorflow:Layer lstm_6 will not use cuDNN kernel since it doesn't meet the cuDNN kernel criteria. It will use generic GPU kernel as fallback when running on GPU\n",
            "Model: \"sequential_3\"\n",
            "_________________________________________________________________\n",
            "Layer (type)                 Output Shape              Param #   \n",
            "=================================================================\n",
            "lstm_5 (LSTM)                (None, 100)               40800     \n",
            "_________________________________________________________________\n",
            "repeat_vector (RepeatVector) (None, 2, 100)            0         \n",
            "_________________________________________________________________\n",
            "lstm_6 (LSTM)                (None, 2, 100)            80400     \n",
            "_________________________________________________________________\n",
            "dense_3 (Dense)              (None, 2, 1)              101       \n",
            "=================================================================\n",
            "Total params: 121,301\n",
            "Trainable params: 121,301\n",
            "Non-trainable params: 0\n",
            "_________________________________________________________________\n"
          ],
          "name": "stdout"
        }
      ]
    },
    {
      "cell_type": "code",
      "metadata": {
        "id": "mzpWh_R7q4Do"
      },
      "source": [
        "# Compiling the RNN model:\r\n",
        "\r\n",
        "model_many.compile(optimizer = 'SGD', loss = 'mae')"
      ],
      "execution_count": 66,
      "outputs": []
    },
    {
      "cell_type": "code",
      "metadata": {
        "id": "jNpopK03q600"
      },
      "source": [
        "# Creating callbacks to make training of the model more flexible:\r\n",
        "\r\n",
        "callback1 = ModelCheckpoint('best_RNN_EN_DE.pt', monitor = 'loss', save_best_only = True, mode = 'min', verbose = 1)\r\n",
        "callback2 = EarlyStopping(patience = 15, monitor = 'loss', mode = 'min')\r\n",
        "callback_list = [callback1, callback2]"
      ],
      "execution_count": 67,
      "outputs": []
    },
    {
      "cell_type": "code",
      "metadata": {
        "colab": {
          "base_uri": "https://localhost:8080/"
        },
        "id": "ucfAhByCq64O",
        "outputId": "dec8c846-2ba0-4938-9ba7-6ecb898d4dd2"
      },
      "source": [
        "# Train the model:\r\n",
        "\r\n",
        "history_m4 = model_many.fit(trainX, trainY,\r\n",
        "                            epochs = 150,\r\n",
        "                            batch_size = 1,\r\n",
        "                            callbacks = callback_list,\r\n",
        "                            verbose = 1 \r\n",
        "                            )\r\n",
        "print('Training Finished!')"
      ],
      "execution_count": 68,
      "outputs": [
        {
          "output_type": "stream",
          "text": [
            "Epoch 1/150\n",
            "1252/1252 [==============================] - 7s 5ms/step - loss: 0.2359\n",
            "\n",
            "Epoch 00001: loss improved from inf to 0.20894, saving model to best_RNN_EN_DE.pt\n",
            "INFO:tensorflow:Assets written to: best_RNN_EN_DE.pt/assets\n",
            "Epoch 2/150\n",
            "1252/1252 [==============================] - 6s 5ms/step - loss: 0.1342\n",
            "\n",
            "Epoch 00002: loss improved from 0.20894 to 0.09544, saving model to best_RNN_EN_DE.pt\n",
            "INFO:tensorflow:Assets written to: best_RNN_EN_DE.pt/assets\n",
            "Epoch 3/150\n",
            "1252/1252 [==============================] - 6s 5ms/step - loss: 0.0568\n",
            "\n",
            "Epoch 00003: loss improved from 0.09544 to 0.05482, saving model to best_RNN_EN_DE.pt\n",
            "INFO:tensorflow:Assets written to: best_RNN_EN_DE.pt/assets\n",
            "Epoch 4/150\n",
            "1252/1252 [==============================] - 6s 5ms/step - loss: 0.0529\n",
            "\n",
            "Epoch 00004: loss improved from 0.05482 to 0.05207, saving model to best_RNN_EN_DE.pt\n",
            "INFO:tensorflow:Assets written to: best_RNN_EN_DE.pt/assets\n",
            "Epoch 5/150\n",
            "1252/1252 [==============================] - 6s 5ms/step - loss: 0.0501\n",
            "\n",
            "Epoch 00005: loss improved from 0.05207 to 0.04968, saving model to best_RNN_EN_DE.pt\n",
            "INFO:tensorflow:Assets written to: best_RNN_EN_DE.pt/assets\n",
            "Epoch 6/150\n",
            "1252/1252 [==============================] - 6s 5ms/step - loss: 0.0463\n",
            "\n",
            "Epoch 00006: loss improved from 0.04968 to 0.04580, saving model to best_RNN_EN_DE.pt\n",
            "INFO:tensorflow:Assets written to: best_RNN_EN_DE.pt/assets\n",
            "Epoch 7/150\n",
            "1252/1252 [==============================] - 6s 5ms/step - loss: 0.0420\n",
            "\n",
            "Epoch 00007: loss improved from 0.04580 to 0.04081, saving model to best_RNN_EN_DE.pt\n",
            "INFO:tensorflow:Assets written to: best_RNN_EN_DE.pt/assets\n",
            "Epoch 8/150\n",
            "1252/1252 [==============================] - 6s 5ms/step - loss: 0.0358\n",
            "\n",
            "Epoch 00008: loss improved from 0.04081 to 0.03286, saving model to best_RNN_EN_DE.pt\n",
            "INFO:tensorflow:Assets written to: best_RNN_EN_DE.pt/assets\n",
            "Epoch 9/150\n",
            "1252/1252 [==============================] - 6s 5ms/step - loss: 0.0260\n",
            "\n",
            "Epoch 00009: loss improved from 0.03286 to 0.02479, saving model to best_RNN_EN_DE.pt\n",
            "INFO:tensorflow:Assets written to: best_RNN_EN_DE.pt/assets\n",
            "Epoch 10/150\n",
            "1252/1252 [==============================] - 6s 5ms/step - loss: 0.0225\n",
            "\n",
            "Epoch 00010: loss improved from 0.02479 to 0.02264, saving model to best_RNN_EN_DE.pt\n",
            "INFO:tensorflow:Assets written to: best_RNN_EN_DE.pt/assets\n",
            "Epoch 11/150\n",
            "1252/1252 [==============================] - 6s 5ms/step - loss: 0.0226\n",
            "\n",
            "Epoch 00011: loss improved from 0.02264 to 0.02264, saving model to best_RNN_EN_DE.pt\n",
            "INFO:tensorflow:Assets written to: best_RNN_EN_DE.pt/assets\n",
            "Epoch 12/150\n",
            "1252/1252 [==============================] - 6s 5ms/step - loss: 0.0223\n",
            "\n",
            "Epoch 00012: loss improved from 0.02264 to 0.02242, saving model to best_RNN_EN_DE.pt\n",
            "INFO:tensorflow:Assets written to: best_RNN_EN_DE.pt/assets\n",
            "Epoch 13/150\n",
            "1252/1252 [==============================] - 6s 5ms/step - loss: 0.0213\n",
            "\n",
            "Epoch 00013: loss improved from 0.02242 to 0.02156, saving model to best_RNN_EN_DE.pt\n",
            "INFO:tensorflow:Assets written to: best_RNN_EN_DE.pt/assets\n",
            "Epoch 14/150\n",
            "1252/1252 [==============================] - 6s 5ms/step - loss: 0.0215\n",
            "\n",
            "Epoch 00014: loss did not improve from 0.02156\n",
            "Epoch 15/150\n",
            "1252/1252 [==============================] - 6s 5ms/step - loss: 0.0216\n",
            "\n",
            "Epoch 00015: loss improved from 0.02156 to 0.02148, saving model to best_RNN_EN_DE.pt\n",
            "INFO:tensorflow:Assets written to: best_RNN_EN_DE.pt/assets\n",
            "Epoch 16/150\n",
            "1252/1252 [==============================] - 6s 5ms/step - loss: 0.0216\n",
            "\n",
            "Epoch 00016: loss did not improve from 0.02148\n",
            "Epoch 17/150\n",
            "1252/1252 [==============================] - 6s 5ms/step - loss: 0.0199\n",
            "\n",
            "Epoch 00017: loss improved from 0.02148 to 0.02076, saving model to best_RNN_EN_DE.pt\n",
            "INFO:tensorflow:Assets written to: best_RNN_EN_DE.pt/assets\n",
            "Epoch 18/150\n",
            "1252/1252 [==============================] - 6s 5ms/step - loss: 0.0220\n",
            "\n",
            "Epoch 00018: loss did not improve from 0.02076\n",
            "Epoch 19/150\n",
            "1252/1252 [==============================] - 6s 5ms/step - loss: 0.0202\n",
            "\n",
            "Epoch 00019: loss did not improve from 0.02076\n",
            "Epoch 20/150\n",
            "1252/1252 [==============================] - 6s 5ms/step - loss: 0.0209\n",
            "\n",
            "Epoch 00020: loss improved from 0.02076 to 0.02074, saving model to best_RNN_EN_DE.pt\n",
            "INFO:tensorflow:Assets written to: best_RNN_EN_DE.pt/assets\n",
            "Epoch 21/150\n",
            "1252/1252 [==============================] - 6s 5ms/step - loss: 0.0207\n",
            "\n",
            "Epoch 00021: loss did not improve from 0.02074\n",
            "Epoch 22/150\n",
            "1252/1252 [==============================] - 6s 5ms/step - loss: 0.0196\n",
            "\n",
            "Epoch 00022: loss improved from 0.02074 to 0.02032, saving model to best_RNN_EN_DE.pt\n",
            "INFO:tensorflow:Assets written to: best_RNN_EN_DE.pt/assets\n",
            "Epoch 23/150\n",
            "1252/1252 [==============================] - 6s 5ms/step - loss: 0.0201\n",
            "\n",
            "Epoch 00023: loss improved from 0.02032 to 0.02024, saving model to best_RNN_EN_DE.pt\n",
            "INFO:tensorflow:Assets written to: best_RNN_EN_DE.pt/assets\n",
            "Epoch 24/150\n",
            "1252/1252 [==============================] - 6s 5ms/step - loss: 0.0198\n",
            "\n",
            "Epoch 00024: loss improved from 0.02024 to 0.02015, saving model to best_RNN_EN_DE.pt\n",
            "INFO:tensorflow:Assets written to: best_RNN_EN_DE.pt/assets\n",
            "Epoch 25/150\n",
            "1252/1252 [==============================] - 6s 5ms/step - loss: 0.0196\n",
            "\n",
            "Epoch 00025: loss did not improve from 0.02015\n",
            "Epoch 26/150\n",
            "1252/1252 [==============================] - 6s 5ms/step - loss: 0.0202\n",
            "\n",
            "Epoch 00026: loss improved from 0.02015 to 0.02015, saving model to best_RNN_EN_DE.pt\n",
            "INFO:tensorflow:Assets written to: best_RNN_EN_DE.pt/assets\n",
            "Epoch 27/150\n",
            "1252/1252 [==============================] - 6s 5ms/step - loss: 0.0197\n",
            "\n",
            "Epoch 00027: loss improved from 0.02015 to 0.02004, saving model to best_RNN_EN_DE.pt\n",
            "INFO:tensorflow:Assets written to: best_RNN_EN_DE.pt/assets\n",
            "Epoch 28/150\n",
            "1252/1252 [==============================] - 6s 5ms/step - loss: 0.0194\n",
            "\n",
            "Epoch 00028: loss improved from 0.02004 to 0.01999, saving model to best_RNN_EN_DE.pt\n",
            "INFO:tensorflow:Assets written to: best_RNN_EN_DE.pt/assets\n",
            "Epoch 29/150\n",
            "1252/1252 [==============================] - 6s 5ms/step - loss: 0.0210\n",
            "\n",
            "Epoch 00029: loss did not improve from 0.01999\n",
            "Epoch 30/150\n",
            "1252/1252 [==============================] - 6s 5ms/step - loss: 0.0199\n",
            "\n",
            "Epoch 00030: loss improved from 0.01999 to 0.01963, saving model to best_RNN_EN_DE.pt\n",
            "INFO:tensorflow:Assets written to: best_RNN_EN_DE.pt/assets\n",
            "Epoch 31/150\n",
            "1252/1252 [==============================] - 6s 5ms/step - loss: 0.0212\n",
            "\n",
            "Epoch 00031: loss did not improve from 0.01963\n",
            "Epoch 32/150\n",
            "1252/1252 [==============================] - 6s 5ms/step - loss: 0.0187\n",
            "\n",
            "Epoch 00032: loss improved from 0.01963 to 0.01942, saving model to best_RNN_EN_DE.pt\n",
            "INFO:tensorflow:Assets written to: best_RNN_EN_DE.pt/assets\n",
            "Epoch 33/150\n",
            "1252/1252 [==============================] - 6s 5ms/step - loss: 0.0198\n",
            "\n",
            "Epoch 00033: loss did not improve from 0.01942\n",
            "Epoch 34/150\n",
            "1252/1252 [==============================] - 6s 5ms/step - loss: 0.0196\n",
            "\n",
            "Epoch 00034: loss did not improve from 0.01942\n",
            "Epoch 35/150\n",
            "1252/1252 [==============================] - 6s 5ms/step - loss: 0.0191\n",
            "\n",
            "Epoch 00035: loss did not improve from 0.01942\n",
            "Epoch 36/150\n",
            "1252/1252 [==============================] - 6s 5ms/step - loss: 0.0197\n",
            "\n",
            "Epoch 00036: loss did not improve from 0.01942\n",
            "Epoch 37/150\n",
            "1252/1252 [==============================] - 6s 5ms/step - loss: 0.0196\n",
            "\n",
            "Epoch 00037: loss improved from 0.01942 to 0.01913, saving model to best_RNN_EN_DE.pt\n",
            "INFO:tensorflow:Assets written to: best_RNN_EN_DE.pt/assets\n",
            "Epoch 38/150\n",
            "1252/1252 [==============================] - 6s 5ms/step - loss: 0.0193\n",
            "\n",
            "Epoch 00038: loss did not improve from 0.01913\n",
            "Epoch 39/150\n",
            "1252/1252 [==============================] - 6s 5ms/step - loss: 0.0191\n",
            "\n",
            "Epoch 00039: loss did not improve from 0.01913\n",
            "Epoch 40/150\n",
            "1252/1252 [==============================] - 6s 5ms/step - loss: 0.0190\n",
            "\n",
            "Epoch 00040: loss improved from 0.01913 to 0.01880, saving model to best_RNN_EN_DE.pt\n",
            "INFO:tensorflow:Assets written to: best_RNN_EN_DE.pt/assets\n",
            "Epoch 41/150\n",
            "1252/1252 [==============================] - 6s 5ms/step - loss: 0.0183\n",
            "\n",
            "Epoch 00041: loss did not improve from 0.01880\n",
            "Epoch 42/150\n",
            "1252/1252 [==============================] - 6s 5ms/step - loss: 0.0189\n",
            "\n",
            "Epoch 00042: loss did not improve from 0.01880\n",
            "Epoch 43/150\n",
            "1252/1252 [==============================] - 6s 5ms/step - loss: 0.0184\n",
            "\n",
            "Epoch 00043: loss did not improve from 0.01880\n",
            "Epoch 44/150\n",
            "1252/1252 [==============================] - 6s 5ms/step - loss: 0.0195\n",
            "\n",
            "Epoch 00044: loss did not improve from 0.01880\n",
            "Epoch 45/150\n",
            "1252/1252 [==============================] - 6s 5ms/step - loss: 0.0195\n",
            "\n",
            "Epoch 00045: loss did not improve from 0.01880\n",
            "Epoch 46/150\n",
            "1252/1252 [==============================] - 6s 5ms/step - loss: 0.0190\n",
            "\n",
            "Epoch 00046: loss did not improve from 0.01880\n",
            "Epoch 47/150\n",
            "1252/1252 [==============================] - 6s 5ms/step - loss: 0.0187\n",
            "\n",
            "Epoch 00047: loss improved from 0.01880 to 0.01841, saving model to best_RNN_EN_DE.pt\n",
            "INFO:tensorflow:Assets written to: best_RNN_EN_DE.pt/assets\n",
            "Epoch 48/150\n",
            "1252/1252 [==============================] - 6s 5ms/step - loss: 0.0188\n",
            "\n",
            "Epoch 00048: loss did not improve from 0.01841\n",
            "Epoch 49/150\n",
            "1252/1252 [==============================] - 6s 5ms/step - loss: 0.0186\n",
            "\n",
            "Epoch 00049: loss did not improve from 0.01841\n",
            "Epoch 50/150\n",
            "1252/1252 [==============================] - 6s 5ms/step - loss: 0.0187\n",
            "\n",
            "Epoch 00050: loss did not improve from 0.01841\n",
            "Epoch 51/150\n",
            "1252/1252 [==============================] - 6s 5ms/step - loss: 0.0183\n",
            "\n",
            "Epoch 00051: loss did not improve from 0.01841\n",
            "Epoch 52/150\n",
            "1252/1252 [==============================] - 6s 5ms/step - loss: 0.0194\n",
            "\n",
            "Epoch 00052: loss did not improve from 0.01841\n",
            "Epoch 53/150\n",
            "1252/1252 [==============================] - 6s 5ms/step - loss: 0.0180\n",
            "\n",
            "Epoch 00053: loss improved from 0.01841 to 0.01826, saving model to best_RNN_EN_DE.pt\n",
            "INFO:tensorflow:Assets written to: best_RNN_EN_DE.pt/assets\n",
            "Epoch 54/150\n",
            "1252/1252 [==============================] - 6s 5ms/step - loss: 0.0178\n",
            "\n",
            "Epoch 00054: loss improved from 0.01826 to 0.01825, saving model to best_RNN_EN_DE.pt\n",
            "INFO:tensorflow:Assets written to: best_RNN_EN_DE.pt/assets\n",
            "Epoch 55/150\n",
            "1252/1252 [==============================] - 6s 5ms/step - loss: 0.0182\n",
            "\n",
            "Epoch 00055: loss did not improve from 0.01825\n",
            "Epoch 56/150\n",
            "1252/1252 [==============================] - 6s 5ms/step - loss: 0.0181\n",
            "\n",
            "Epoch 00056: loss improved from 0.01825 to 0.01795, saving model to best_RNN_EN_DE.pt\n",
            "INFO:tensorflow:Assets written to: best_RNN_EN_DE.pt/assets\n",
            "Epoch 57/150\n",
            "1252/1252 [==============================] - 6s 5ms/step - loss: 0.0177\n",
            "\n",
            "Epoch 00057: loss did not improve from 0.01795\n",
            "Epoch 58/150\n",
            "1252/1252 [==============================] - 6s 5ms/step - loss: 0.0174\n",
            "\n",
            "Epoch 00058: loss did not improve from 0.01795\n",
            "Epoch 59/150\n",
            "1252/1252 [==============================] - 6s 5ms/step - loss: 0.0169\n",
            "\n",
            "Epoch 00059: loss improved from 0.01795 to 0.01794, saving model to best_RNN_EN_DE.pt\n",
            "INFO:tensorflow:Assets written to: best_RNN_EN_DE.pt/assets\n",
            "Epoch 60/150\n",
            "1252/1252 [==============================] - 6s 5ms/step - loss: 0.0176\n",
            "\n",
            "Epoch 00060: loss did not improve from 0.01794\n",
            "Epoch 61/150\n",
            "1252/1252 [==============================] - 6s 5ms/step - loss: 0.0179\n",
            "\n",
            "Epoch 00061: loss improved from 0.01794 to 0.01790, saving model to best_RNN_EN_DE.pt\n",
            "INFO:tensorflow:Assets written to: best_RNN_EN_DE.pt/assets\n",
            "Epoch 62/150\n",
            "1252/1252 [==============================] - 6s 5ms/step - loss: 0.0171\n",
            "\n",
            "Epoch 00062: loss improved from 0.01790 to 0.01780, saving model to best_RNN_EN_DE.pt\n",
            "INFO:tensorflow:Assets written to: best_RNN_EN_DE.pt/assets\n",
            "Epoch 63/150\n",
            "1252/1252 [==============================] - 6s 5ms/step - loss: 0.0171\n",
            "\n",
            "Epoch 00063: loss did not improve from 0.01780\n",
            "Epoch 64/150\n",
            "1252/1252 [==============================] - 6s 5ms/step - loss: 0.0178\n",
            "\n",
            "Epoch 00064: loss did not improve from 0.01780\n",
            "Epoch 65/150\n",
            "1252/1252 [==============================] - 6s 5ms/step - loss: 0.0180\n",
            "\n",
            "Epoch 00065: loss improved from 0.01780 to 0.01780, saving model to best_RNN_EN_DE.pt\n",
            "INFO:tensorflow:Assets written to: best_RNN_EN_DE.pt/assets\n",
            "Epoch 66/150\n",
            "1252/1252 [==============================] - 6s 5ms/step - loss: 0.0177\n",
            "\n",
            "Epoch 00066: loss improved from 0.01780 to 0.01775, saving model to best_RNN_EN_DE.pt\n",
            "INFO:tensorflow:Assets written to: best_RNN_EN_DE.pt/assets\n",
            "Epoch 67/150\n",
            "1252/1252 [==============================] - 6s 5ms/step - loss: 0.0180\n",
            "\n",
            "Epoch 00067: loss did not improve from 0.01775\n",
            "Epoch 68/150\n",
            "1252/1252 [==============================] - 6s 5ms/step - loss: 0.0175\n",
            "\n",
            "Epoch 00068: loss improved from 0.01775 to 0.01749, saving model to best_RNN_EN_DE.pt\n",
            "INFO:tensorflow:Assets written to: best_RNN_EN_DE.pt/assets\n",
            "Epoch 69/150\n",
            "1252/1252 [==============================] - 6s 5ms/step - loss: 0.0177\n",
            "\n",
            "Epoch 00069: loss did not improve from 0.01749\n",
            "Epoch 70/150\n",
            "1252/1252 [==============================] - 6s 5ms/step - loss: 0.0181\n",
            "\n",
            "Epoch 00070: loss improved from 0.01749 to 0.01741, saving model to best_RNN_EN_DE.pt\n",
            "INFO:tensorflow:Assets written to: best_RNN_EN_DE.pt/assets\n",
            "Epoch 71/150\n",
            "1252/1252 [==============================] - 6s 5ms/step - loss: 0.0178\n",
            "\n",
            "Epoch 00071: loss did not improve from 0.01741\n",
            "Epoch 72/150\n",
            "1252/1252 [==============================] - 6s 5ms/step - loss: 0.0173\n",
            "\n",
            "Epoch 00072: loss did not improve from 0.01741\n",
            "Epoch 73/150\n",
            "1252/1252 [==============================] - 6s 5ms/step - loss: 0.0179\n",
            "\n",
            "Epoch 00073: loss improved from 0.01741 to 0.01725, saving model to best_RNN_EN_DE.pt\n",
            "INFO:tensorflow:Assets written to: best_RNN_EN_DE.pt/assets\n",
            "Epoch 74/150\n",
            "1252/1252 [==============================] - 6s 5ms/step - loss: 0.0174\n",
            "\n",
            "Epoch 00074: loss did not improve from 0.01725\n",
            "Epoch 75/150\n",
            "1252/1252 [==============================] - 6s 5ms/step - loss: 0.0169\n",
            "\n",
            "Epoch 00075: loss did not improve from 0.01725\n",
            "Epoch 76/150\n",
            "1252/1252 [==============================] - 6s 5ms/step - loss: 0.0169\n",
            "\n",
            "Epoch 00076: loss improved from 0.01725 to 0.01704, saving model to best_RNN_EN_DE.pt\n",
            "INFO:tensorflow:Assets written to: best_RNN_EN_DE.pt/assets\n",
            "Epoch 77/150\n",
            "1252/1252 [==============================] - 6s 5ms/step - loss: 0.0171\n",
            "\n",
            "Epoch 00077: loss did not improve from 0.01704\n",
            "Epoch 78/150\n",
            "1252/1252 [==============================] - 6s 5ms/step - loss: 0.0178\n",
            "\n",
            "Epoch 00078: loss did not improve from 0.01704\n",
            "Epoch 79/150\n",
            "1252/1252 [==============================] - 6s 5ms/step - loss: 0.0170\n",
            "\n",
            "Epoch 00079: loss improved from 0.01704 to 0.01687, saving model to best_RNN_EN_DE.pt\n",
            "INFO:tensorflow:Assets written to: best_RNN_EN_DE.pt/assets\n",
            "Epoch 80/150\n",
            "1252/1252 [==============================] - 6s 5ms/step - loss: 0.0170\n",
            "\n",
            "Epoch 00080: loss did not improve from 0.01687\n",
            "Epoch 81/150\n",
            "1252/1252 [==============================] - 6s 5ms/step - loss: 0.0182\n",
            "\n",
            "Epoch 00081: loss did not improve from 0.01687\n",
            "Epoch 82/150\n",
            "1252/1252 [==============================] - 6s 5ms/step - loss: 0.0179\n",
            "\n",
            "Epoch 00082: loss did not improve from 0.01687\n",
            "Epoch 83/150\n",
            "1252/1252 [==============================] - 6s 5ms/step - loss: 0.0173\n",
            "\n",
            "Epoch 00083: loss did not improve from 0.01687\n",
            "Epoch 84/150\n",
            "1252/1252 [==============================] - 6s 5ms/step - loss: 0.0169\n",
            "\n",
            "Epoch 00084: loss did not improve from 0.01687\n",
            "Epoch 85/150\n",
            "1252/1252 [==============================] - 6s 5ms/step - loss: 0.0173\n",
            "\n",
            "Epoch 00085: loss did not improve from 0.01687\n",
            "Epoch 86/150\n",
            "1252/1252 [==============================] - 6s 5ms/step - loss: 0.0166\n",
            "\n",
            "Epoch 00086: loss improved from 0.01687 to 0.01674, saving model to best_RNN_EN_DE.pt\n",
            "INFO:tensorflow:Assets written to: best_RNN_EN_DE.pt/assets\n",
            "Epoch 87/150\n",
            "1252/1252 [==============================] - 6s 5ms/step - loss: 0.0170\n",
            "\n",
            "Epoch 00087: loss improved from 0.01674 to 0.01640, saving model to best_RNN_EN_DE.pt\n",
            "INFO:tensorflow:Assets written to: best_RNN_EN_DE.pt/assets\n",
            "Epoch 88/150\n",
            "1252/1252 [==============================] - 6s 5ms/step - loss: 0.0161\n",
            "\n",
            "Epoch 00088: loss did not improve from 0.01640\n",
            "Epoch 89/150\n",
            "1252/1252 [==============================] - 6s 5ms/step - loss: 0.0174\n",
            "\n",
            "Epoch 00089: loss did not improve from 0.01640\n",
            "Epoch 90/150\n",
            "1252/1252 [==============================] - 6s 5ms/step - loss: 0.0171\n",
            "\n",
            "Epoch 00090: loss did not improve from 0.01640\n",
            "Epoch 91/150\n",
            "1252/1252 [==============================] - 6s 5ms/step - loss: 0.0174\n",
            "\n",
            "Epoch 00091: loss did not improve from 0.01640\n",
            "Epoch 92/150\n",
            "1252/1252 [==============================] - 6s 5ms/step - loss: 0.0162\n",
            "\n",
            "Epoch 00092: loss did not improve from 0.01640\n",
            "Epoch 93/150\n",
            "1252/1252 [==============================] - 6s 5ms/step - loss: 0.0177\n",
            "\n",
            "Epoch 00093: loss did not improve from 0.01640\n",
            "Epoch 94/150\n",
            "1252/1252 [==============================] - 6s 5ms/step - loss: 0.0168\n",
            "\n",
            "Epoch 00094: loss did not improve from 0.01640\n",
            "Epoch 95/150\n",
            "1252/1252 [==============================] - 6s 5ms/step - loss: 0.0162\n",
            "\n",
            "Epoch 00095: loss did not improve from 0.01640\n",
            "Epoch 96/150\n",
            "1252/1252 [==============================] - 6s 5ms/step - loss: 0.0159\n",
            "\n",
            "Epoch 00096: loss did not improve from 0.01640\n",
            "Epoch 97/150\n",
            "1252/1252 [==============================] - 6s 5ms/step - loss: 0.0167\n",
            "\n",
            "Epoch 00097: loss did not improve from 0.01640\n",
            "Epoch 98/150\n",
            "1252/1252 [==============================] - 6s 5ms/step - loss: 0.0166\n",
            "\n",
            "Epoch 00098: loss did not improve from 0.01640\n",
            "Epoch 99/150\n",
            "1252/1252 [==============================] - 6s 5ms/step - loss: 0.0165\n",
            "\n",
            "Epoch 00099: loss did not improve from 0.01640\n",
            "Epoch 100/150\n",
            "1252/1252 [==============================] - 6s 5ms/step - loss: 0.0162\n",
            "\n",
            "Epoch 00100: loss did not improve from 0.01640\n",
            "Epoch 101/150\n",
            "1252/1252 [==============================] - 6s 5ms/step - loss: 0.0172\n",
            "\n",
            "Epoch 00101: loss did not improve from 0.01640\n",
            "Epoch 102/150\n",
            "1252/1252 [==============================] - 6s 5ms/step - loss: 0.0166\n",
            "\n",
            "Epoch 00102: loss did not improve from 0.01640\n",
            "Training Finished!\n"
          ],
          "name": "stdout"
        }
      ]
    },
    {
      "cell_type": "markdown",
      "metadata": {
        "id": "PPvO4yMh7MAF"
      },
      "source": [
        "## Make the predictions"
      ]
    },
    {
      "cell_type": "code",
      "metadata": {
        "id": "-d2MpQCq8X0d",
        "colab": {
          "base_uri": "https://localhost:8080/"
        },
        "outputId": "afc1168b-e6dc-4eaf-ab96-110f9941000c"
      },
      "source": [
        "# Loading the best model 'best_RNN_EN_DE.pt':\n",
        "\n",
        "m4 = load_model('/content/best_RNN_EN_DE.pt')\n"
      ],
      "execution_count": 69,
      "outputs": [
        {
          "output_type": "stream",
          "text": [
            "WARNING:tensorflow:Layer lstm_5 will not use cuDNN kernel since it doesn't meet the cuDNN kernel criteria. It will use generic GPU kernel as fallback when running on GPU\n",
            "WARNING:tensorflow:Layer lstm_6 will not use cuDNN kernel since it doesn't meet the cuDNN kernel criteria. It will use generic GPU kernel as fallback when running on GPU\n"
          ],
          "name": "stdout"
        }
      ]
    },
    {
      "cell_type": "code",
      "metadata": {
        "colab": {
          "base_uri": "https://localhost:8080/"
        },
        "id": "2ffyHy9CrnyV",
        "outputId": "02e7f886-9fee-4655-bdc2-4c2bbb47777a"
      },
      "source": [
        "# Making predictions with the model:\r\n",
        "\r\n",
        "trainPredict_many = m4.predict(trainX)\r\n",
        "testPredict_many = m4.predict(testX)\r\n",
        "testPredict_many[:5]"
      ],
      "execution_count": 70,
      "outputs": [
        {
          "output_type": "execute_result",
          "data": {
            "text/plain": [
              "array([[[0.9294017],\n",
              "        [0.928719 ]],\n",
              "\n",
              "       [[0.9330366],\n",
              "        [0.931797 ]],\n",
              "\n",
              "       [[0.9356624],\n",
              "        [0.9343815]],\n",
              "\n",
              "       [[0.9314471],\n",
              "        [0.9299608]],\n",
              "\n",
              "       [[0.9321565],\n",
              "        [0.9307374]]], dtype=float32)"
            ]
          },
          "metadata": {
            "tags": []
          },
          "execution_count": 70
        }
      ]
    },
    {
      "cell_type": "markdown",
      "metadata": {
        "id": "KDCJfpjO7MAH"
      },
      "source": [
        "### Calculate the RMSE and MAE for the train and test data\n",
        "\n",
        "Note: Reshape the predictions in approriate format"
      ]
    },
    {
      "cell_type": "code",
      "metadata": {
        "id": "invgEMXX7MAH"
      },
      "source": [
        "# Reshaping the predictions in order to invert them properly:\r\n",
        "\r\n",
        "# Train segment:\r\n",
        "trainPredict_many = trainPredict_many.reshape(trainPredict_many.shape[0] * trainPredict_many.shape[1], 1)\r\n",
        "trainY = trainY.reshape(trainY.shape[0] * trainY.shape[1], 1)\r\n",
        "\r\n",
        "# Test segment:\r\n",
        "testPredict_many = testPredict_many.reshape(testPredict_many.shape[0] * testPredict_many.shape[1], 1)\r\n",
        "testY = testY.reshape(testY.shape[0] * testY.shape[1], 1)"
      ],
      "execution_count": 71,
      "outputs": []
    },
    {
      "cell_type": "code",
      "metadata": {
        "colab": {
          "base_uri": "https://localhost:8080/"
        },
        "id": "eQ6Xknc7r5I-",
        "outputId": "fa0cb813-2aa9-4cc2-832e-fd1afb7c02cf"
      },
      "source": [
        "# Invert the predictions made by the model:\r\n",
        "\r\n",
        "trainPredict_many_ = scaler.inverse_transform(trainPredict_many)\r\n",
        "trainY_many_ = scaler.inverse_transform(trainY)\r\n",
        "testPredict_many_ = scaler.inverse_transform(testPredict_many)\r\n",
        "testY_many_ = scaler.inverse_transform(testY)\r\n",
        "testPredict_many_[:5]"
      ],
      "execution_count": 72,
      "outputs": [
        {
          "output_type": "execute_result",
          "data": {
            "text/plain": [
              "array([[802.36273],\n",
              "       [801.9799 ],\n",
              "       [804.40094],\n",
              "       [803.7059 ],\n",
              "       [805.8733 ]], dtype=float32)"
            ]
          },
          "metadata": {
            "tags": []
          },
          "execution_count": 72
        }
      ]
    },
    {
      "cell_type": "code",
      "metadata": {
        "colab": {
          "base_uri": "https://localhost:8080/"
        },
        "id": "6T5cnSF_r5M-",
        "outputId": "453f4a2f-8175-44c3-f2cf-23d25c1f8af5"
      },
      "source": [
        "# Chekcing the shape of inverted predictions:\r\n",
        "\r\n",
        "trainPredict_many_.shape, trainY_many_.shape, testPredict_many_.shape, testY_many_.shape"
      ],
      "execution_count": 73,
      "outputs": [
        {
          "output_type": "execute_result",
          "data": {
            "text/plain": [
              "((2504, 1), (2504, 1), (14, 1), (14, 1))"
            ]
          },
          "metadata": {
            "tags": []
          },
          "execution_count": 73
        }
      ]
    },
    {
      "cell_type": "code",
      "metadata": {
        "colab": {
          "base_uri": "https://localhost:8080/"
        },
        "id": "cNuBm0p2r5Pj",
        "outputId": "95f37c83-8eb1-4f91-e532-53acc5b9ea94"
      },
      "source": [
        "# Calculate root mean squared error and mean absolute error on the train and test datasets:\r\n",
        "\r\n",
        "# Calculate root mean squared error:\r\n",
        "trainScore_many = math.sqrt(mean_squared_error(trainY_many_[:,0], trainPredict_many_[:,0]))\r\n",
        "print('Train RMSE: %.2f RMSE' % (trainScore_many))\r\n",
        "testScore_many = math.sqrt(mean_squared_error(testY_many_[:,0], testPredict_many_[:,0]))\r\n",
        "print('Test RMSE: %.2f RMSE' % (testScore_many))\r\n",
        "\r\n",
        "print('\\nTrain MAE: %.2f MAE' % (mean_absolute_error(trainY_many_[:,0], trainPredict_many_[:,0])))\r\n",
        "print('Test MAE: %.2f MAE' % (mean_absolute_error(testY_many_[:,0], testPredict_many_[:,0])))"
      ],
      "execution_count": 74,
      "outputs": [
        {
          "output_type": "stream",
          "text": [
            "Train RMSE: 12.10 RMSE\n",
            "Test RMSE: 12.68 RMSE\n",
            "\n",
            "Train MAE: 9.01 MAE\n",
            "Test MAE: 10.28 MAE\n"
          ],
          "name": "stdout"
        }
      ]
    },
    {
      "cell_type": "markdown",
      "metadata": {
        "id": "OWkzmm3e8gQc"
      },
      "source": [
        "### Visualize the predictions"
      ]
    },
    {
      "cell_type": "code",
      "metadata": {
        "id": "ARlorNjy8gQf",
        "colab": {
          "base_uri": "https://localhost:8080/",
          "height": 265
        },
        "outputId": "54468bca-890d-452d-fa2f-45dc85b4bb6a"
      },
      "source": [
        "# Plot the test predicitons and the whole test dataset:\n",
        "testPredictPlot = np.empty_like(test)\n",
        "testPredictPlot[:, :] = np.nan\n",
        "testPredictPlot[(n_steps_in):len(test)-1, :] = testPredict_many_\n",
        "\n",
        "# plot baseline and predictions\n",
        "plt.plot(scaler.inverse_transform(test))\n",
        "plt.plot(testPredictPlot)\n",
        "plt.show()"
      ],
      "execution_count": 75,
      "outputs": [
        {
          "output_type": "display_data",
          "data": {
            "image/png": "[encoded data removed]",
            "text/plain": [
              "<Figure size 432x288 with 1 Axes>"
            ]
          },
          "metadata": {
            "tags": [],
            "needs_background": "light"
          }
        }
      ]
    },
    {
      "cell_type": "code",
      "metadata": {
        "id": "FF011a-Q7MAN",
        "colab": {
          "base_uri": "https://localhost:8080/",
          "height": 265
        },
        "outputId": "f6fcf507-18e9-4dc7-d57b-073949cd3e73"
      },
      "source": [
        "# Plot only the test predicitons (no empty predictions at the beginning and the end):\n",
        "\n",
        "plt.plot(scaler.inverse_transform(testY))\n",
        "plt.plot(testPredict_many_)\n",
        "plt.show()"
      ],
      "execution_count": 76,
      "outputs": [
        {
          "output_type": "display_data",
          "data": {
            "image/png": "[encoded data removed]",
            "text/plain": [
              "<Figure size 432x288 with 1 Axes>"
            ]
          },
          "metadata": {
            "tags": [],
            "needs_background": "light"
          }
        }
      ]
    },
    {
      "cell_type": "code",
      "metadata": {
        "id": "qELLsy1r7MAP",
        "colab": {
          "base_uri": "https://localhost:8080/",
          "height": 483
        },
        "outputId": "e4113858-80b6-4e5e-eae4-98dd4139fcaa"
      },
      "source": [
        "# Plot the train dataset and predicitons:\n",
        "\n",
        "plt.figure(figsize = (20, 8))\n",
        "plt.plot(scaler.inverse_transform(trainY))\n",
        "plt.plot(trainPredict_many_)\n",
        "plt.show()"
      ],
      "execution_count": 77,
      "outputs": [
        {
          "output_type": "display_data",
          "data": {
            "image/png": "[encoded data removed]",
            "text/plain": [
              "<Figure size 1440x576 with 1 Axes>"
            ]
          },
          "metadata": {
            "tags": [],
            "needs_background": "light"
          }
        }
      ]
    },
    {
      "cell_type": "markdown",
      "metadata": {
        "id": "4PhU_htX7MAS"
      },
      "source": [
        "# 6. Summary\n",
        "\n",
        "Comapre the results (RMSE) in one table\n",
        "- One to One\n",
        "- Many to One\n",
        "- Many to One - Stacked\n",
        "- Many to Many"
      ]
    },
    {
      "cell_type": "code",
      "metadata": {
        "id": "oJoA_JYa7MAT",
        "colab": {
          "base_uri": "https://localhost:8080/",
          "height": 111
        },
        "outputId": "6cf8e370-e6dd-4088-bff2-e70e5af152f2"
      },
      "source": [
        "data = {'Metric':  ['RMSE_train', 'RMSE_test'],\r\n",
        "        'One_to_One ': [trainScore_one, testScore_one],\r\n",
        "        'Many_to_One ' : [trainScore, testScore],\r\n",
        "        'Many_to_One_Stacked' : [trainScore_stuck, testScore_stuck],\r\n",
        "        'Many_to_Many': [trainScore_many, testScore_many]\r\n",
        "        }\r\n",
        "\r\n",
        "comparison = pd.DataFrame(data)\r\n",
        "\r\n",
        "comparison"
      ],
      "execution_count": 97,
      "outputs": [
        {
          "output_type": "execute_result",
          "data": {
            "text/html": [
              "<div>\n",
              "<style scoped>\n",
              "    .dataframe tbody tr th:only-of-type {\n",
              "        vertical-align: middle;\n",
              "    }\n",
              "\n",
              "    .dataframe tbody tr th {\n",
              "        vertical-align: top;\n",
              "    }\n",
              "\n",
              "    .dataframe thead th {\n",
              "        text-align: right;\n",
              "    }\n",
              "</style>\n",
              "<table border=\"1\" class=\"dataframe\">\n",
              "  <thead>\n",
              "    <tr style=\"text-align: right;\">\n",
              "      <th></th>\n",
              "      <th>Metric</th>\n",
              "      <th>One_to_One</th>\n",
              "      <th>Many_to_One</th>\n",
              "      <th>Many_to_One_Stacked</th>\n",
              "      <th>Many_to_Many</th>\n",
              "    </tr>\n",
              "  </thead>\n",
              "  <tbody>\n",
              "    <tr>\n",
              "      <th>0</th>\n",
              "      <td>RMSE_train</td>\n",
              "      <td>9.866263</td>\n",
              "      <td>11.172463</td>\n",
              "      <td>11.707010</td>\n",
              "      <td>12.100292</td>\n",
              "    </tr>\n",
              "    <tr>\n",
              "      <th>1</th>\n",
              "      <td>RMSE_test</td>\n",
              "      <td>12.840369</td>\n",
              "      <td>10.241795</td>\n",
              "      <td>13.272408</td>\n",
              "      <td>12.679820</td>\n",
              "    </tr>\n",
              "  </tbody>\n",
              "</table>\n",
              "</div>"
            ],
            "text/plain": [
              "       Metric  One_to_One   Many_to_One   Many_to_One_Stacked  Many_to_Many\n",
              "0  RMSE_train     9.866263     11.172463            11.707010     12.100292\n",
              "1   RMSE_test    12.840369     10.241795            13.272408     12.679820"
            ]
          },
          "metadata": {
            "tags": []
          },
          "execution_count": 97
        }
      ]
    },
    {
      "cell_type": "markdown",
      "metadata": {
        "id": "c2D2b6lq7MAU"
      },
      "source": [
        "#  [OPTIONAL] 7. Create the best performing Many to One model.\n",
        "\n",
        "Use different parameters of the newtork, different optimizers, ..."
      ]
    },
    {
      "cell_type": "code",
      "metadata": {
        "id": "SsbxqYtY7MAV"
      },
      "source": [
        "# Manually splitting the dataset into train and test segments:\r\n",
        "\r\n",
        "train = dataset[:1258]\r\n",
        "test = dataset[1258:]"
      ],
      "execution_count": 79,
      "outputs": []
    },
    {
      "cell_type": "code",
      "metadata": {
        "id": "muA-RcQQb_Yq"
      },
      "source": [
        "# Inserting the split_sequence function:\r\n",
        "\r\n",
        "def split_sequence(sequence, n_steps):\r\n",
        "\tX, y = list(), list()\r\n",
        "\tfor i in range(len(sequence)):\r\n",
        "\t\t# find the end of this pattern\r\n",
        "\t\tend_ix = i + n_steps\r\n",
        "\t\t# check if we are beyond the sequence\r\n",
        "\t\tif end_ix > len(sequence)-1:\r\n",
        "\t\t\tbreak\r\n",
        "\t\t# gather input and output parts of the pattern\r\n",
        "\t\tseq_x, seq_y = sequence[i:end_ix], sequence[end_ix]\r\n",
        "\t\tX.append(seq_x)\r\n",
        "\t\ty.append(seq_y)\r\n",
        "\treturn array(X), array(y)"
      ],
      "execution_count": 80,
      "outputs": []
    },
    {
      "cell_type": "code",
      "metadata": {
        "id": "vOZHTxHrcQZK"
      },
      "source": [
        "# Spliting the train and test dataset in the appropriate segments:\r\n",
        "\r\n",
        "n_steps_in = 5\r\n",
        "\r\n",
        "trainX, trainY = split_sequence(train, n_steps = n_steps_in)\r\n",
        "testX, testY = split_sequence(test, n_steps = n_steps_in)"
      ],
      "execution_count": 81,
      "outputs": []
    },
    {
      "cell_type": "code",
      "metadata": {
        "colab": {
          "base_uri": "https://localhost:8080/"
        },
        "id": "mO-951zCcY03",
        "outputId": "c4a23860-31a2-4324-8312-8046e5e7b78b"
      },
      "source": [
        "# Checking the shape after spiting the datasets:\r\n",
        "\r\n",
        "trainX.shape, trainY.shape, testX.shape, testY.shape"
      ],
      "execution_count": 82,
      "outputs": [
        {
          "output_type": "execute_result",
          "data": {
            "text/plain": [
              "((1253, 5, 1), (1253, 1), (15, 5, 1), (15, 1))"
            ]
          },
          "metadata": {
            "tags": []
          },
          "execution_count": 82
        }
      ]
    },
    {
      "cell_type": "code",
      "metadata": {
        "id": "slHRROImcgCS"
      },
      "source": [
        "# Reshape the data to be appropriate for trianing the RNN model:\r\n",
        "\r\n",
        "# Reshape from [samples, timesteps] into [samples, timesteps, features]:\r\n",
        "n_features = 1\r\n",
        "trainX = trainX.reshape(trainX.shape[0], trainX.shape[1], n_features)\r\n",
        "testX = testX.reshape(testX.shape[0], testX.shape[1], n_features)"
      ],
      "execution_count": 83,
      "outputs": []
    },
    {
      "cell_type": "code",
      "metadata": {
        "colab": {
          "base_uri": "https://localhost:8080/"
        },
        "id": "x3zahcsdcgFO",
        "outputId": "617f73fc-9177-4c5d-966d-dd45181ad57c"
      },
      "source": [
        "# Checking the reshaped version of the train dataset:\r\n",
        "\r\n",
        "trainX.shape, testX.shape"
      ],
      "execution_count": 84,
      "outputs": [
        {
          "output_type": "execute_result",
          "data": {
            "text/plain": [
              "((1253, 5, 1), (15, 5, 1))"
            ]
          },
          "metadata": {
            "tags": []
          },
          "execution_count": 84
        }
      ]
    },
    {
      "cell_type": "code",
      "metadata": {
        "colab": {
          "base_uri": "https://localhost:8080/"
        },
        "id": "a3WLoy2vcgIA",
        "outputId": "83b4bffe-1933-49f3-e0f7-f9df8deb35dc"
      },
      "source": [
        "# Create RNN model object:\r\n",
        "\r\n",
        "model_opt = Sequential()\r\n",
        "model_opt.add(LSTM(60, activation = 'relu', input_shape = (n_steps_in, n_features)))\r\n",
        "model_opt.add(Dense(1))\r\n",
        "model_opt.summary()"
      ],
      "execution_count": 85,
      "outputs": [
        {
          "output_type": "stream",
          "text": [
            "WARNING:tensorflow:Layer lstm_7 will not use cuDNN kernel since it doesn't meet the cuDNN kernel criteria. It will use generic GPU kernel as fallback when running on GPU\n",
            "Model: \"sequential_4\"\n",
            "_________________________________________________________________\n",
            "Layer (type)                 Output Shape              Param #   \n",
            "=================================================================\n",
            "lstm_7 (LSTM)                (None, 60)                14880     \n",
            "_________________________________________________________________\n",
            "dense_4 (Dense)              (None, 1)                 61        \n",
            "=================================================================\n",
            "Total params: 14,941\n",
            "Trainable params: 14,941\n",
            "Non-trainable params: 0\n",
            "_________________________________________________________________\n"
          ],
          "name": "stdout"
        }
      ]
    },
    {
      "cell_type": "code",
      "metadata": {
        "id": "8_jPewRFc2jN"
      },
      "source": [
        "# Compiling the RNN model:\r\n",
        "\r\n",
        "model_opt.compile(optimizer = 'adam', loss = 'mae')"
      ],
      "execution_count": 86,
      "outputs": []
    },
    {
      "cell_type": "code",
      "metadata": {
        "id": "nI4yP7NXc2mF"
      },
      "source": [
        "# Creating callbacks to make training of the model more flexible:\r\n",
        "\r\n",
        "callback1 = ModelCheckpoint('best_RNN_opt.pt', monitor = 'loss', save_best_only = True, mode = 'min', verbose = 1)\r\n",
        "callback2 = EarlyStopping(patience = 15, monitor = 'loss', mode = 'min')\r\n",
        "callback_list = [callback1, callback2]"
      ],
      "execution_count": 87,
      "outputs": []
    },
    {
      "cell_type": "code",
      "metadata": {
        "colab": {
          "base_uri": "https://localhost:8080/"
        },
        "id": "N_v7rGtIc2oq",
        "outputId": "303c4bdf-84f6-4938-d947-c68804b88d02"
      },
      "source": [
        "# Train the model:\r\n",
        "\r\n",
        "history_opt = model_opt.fit(trainX, trainY,\r\n",
        "                            epochs = 100,\r\n",
        "                            batch_size = 1,\r\n",
        "                            callbacks = callback_list,\r\n",
        "                            verbose = 1 \r\n",
        "                            )\r\n",
        "print('Training Finished!')"
      ],
      "execution_count": 88,
      "outputs": [
        {
          "output_type": "stream",
          "text": [
            "Epoch 1/100\n",
            "1253/1253 [==============================] - 5s 4ms/step - loss: 0.0681\n",
            "\n",
            "Epoch 00001: loss improved from inf to 0.03182, saving model to best_RNN_opt.pt\n",
            "INFO:tensorflow:Assets written to: best_RNN_opt.pt/assets\n",
            "Epoch 2/100\n",
            "1253/1253 [==============================] - 4s 4ms/step - loss: 0.0196\n",
            "\n",
            "Epoch 00002: loss improved from 0.03182 to 0.02002, saving model to best_RNN_opt.pt\n",
            "INFO:tensorflow:Assets written to: best_RNN_opt.pt/assets\n",
            "Epoch 3/100\n",
            "1253/1253 [==============================] - 5s 4ms/step - loss: 0.0191\n",
            "\n",
            "Epoch 00003: loss improved from 0.02002 to 0.01879, saving model to best_RNN_opt.pt\n",
            "INFO:tensorflow:Assets written to: best_RNN_opt.pt/assets\n",
            "Epoch 4/100\n",
            "1253/1253 [==============================] - 5s 4ms/step - loss: 0.0169\n",
            "\n",
            "Epoch 00004: loss improved from 0.01879 to 0.01719, saving model to best_RNN_opt.pt\n",
            "INFO:tensorflow:Assets written to: best_RNN_opt.pt/assets\n",
            "Epoch 5/100\n",
            "1253/1253 [==============================] - 5s 4ms/step - loss: 0.0156\n",
            "\n",
            "Epoch 00005: loss improved from 0.01719 to 0.01603, saving model to best_RNN_opt.pt\n",
            "INFO:tensorflow:Assets written to: best_RNN_opt.pt/assets\n",
            "Epoch 6/100\n",
            "1253/1253 [==============================] - 5s 4ms/step - loss: 0.0154\n",
            "\n",
            "Epoch 00006: loss improved from 0.01603 to 0.01589, saving model to best_RNN_opt.pt\n",
            "INFO:tensorflow:Assets written to: best_RNN_opt.pt/assets\n",
            "Epoch 7/100\n",
            "1253/1253 [==============================] - 5s 4ms/step - loss: 0.0149\n",
            "\n",
            "Epoch 00007: loss improved from 0.01589 to 0.01452, saving model to best_RNN_opt.pt\n",
            "INFO:tensorflow:Assets written to: best_RNN_opt.pt/assets\n",
            "Epoch 8/100\n",
            "1253/1253 [==============================] - 5s 4ms/step - loss: 0.0143\n",
            "\n",
            "Epoch 00008: loss improved from 0.01452 to 0.01440, saving model to best_RNN_opt.pt\n",
            "INFO:tensorflow:Assets written to: best_RNN_opt.pt/assets\n",
            "Epoch 9/100\n",
            "1253/1253 [==============================] - 5s 4ms/step - loss: 0.0131\n",
            "\n",
            "Epoch 00009: loss improved from 0.01440 to 0.01327, saving model to best_RNN_opt.pt\n",
            "INFO:tensorflow:Assets written to: best_RNN_opt.pt/assets\n",
            "Epoch 10/100\n",
            "1253/1253 [==============================] - 5s 4ms/step - loss: 0.0124\n",
            "\n",
            "Epoch 00010: loss improved from 0.01327 to 0.01254, saving model to best_RNN_opt.pt\n",
            "INFO:tensorflow:Assets written to: best_RNN_opt.pt/assets\n",
            "Epoch 11/100\n",
            "1253/1253 [==============================] - 5s 4ms/step - loss: 0.0136\n",
            "\n",
            "Epoch 00011: loss did not improve from 0.01254\n",
            "Epoch 12/100\n",
            "1253/1253 [==============================] - 5s 4ms/step - loss: 0.0125\n",
            "\n",
            "Epoch 00012: loss improved from 0.01254 to 0.01218, saving model to best_RNN_opt.pt\n",
            "INFO:tensorflow:Assets written to: best_RNN_opt.pt/assets\n",
            "Epoch 13/100\n",
            "1253/1253 [==============================] - 5s 4ms/step - loss: 0.0122\n",
            "\n",
            "Epoch 00013: loss did not improve from 0.01218\n",
            "Epoch 14/100\n",
            "1253/1253 [==============================] - 5s 4ms/step - loss: 0.0120\n",
            "\n",
            "Epoch 00014: loss improved from 0.01218 to 0.01188, saving model to best_RNN_opt.pt\n",
            "INFO:tensorflow:Assets written to: best_RNN_opt.pt/assets\n",
            "Epoch 15/100\n",
            "1253/1253 [==============================] - 5s 4ms/step - loss: 0.0122\n",
            "\n",
            "Epoch 00015: loss did not improve from 0.01188\n",
            "Epoch 16/100\n",
            "1253/1253 [==============================] - 5s 4ms/step - loss: 0.0118\n",
            "\n",
            "Epoch 00016: loss improved from 0.01188 to 0.01116, saving model to best_RNN_opt.pt\n",
            "INFO:tensorflow:Assets written to: best_RNN_opt.pt/assets\n",
            "Epoch 17/100\n",
            "1253/1253 [==============================] - 5s 4ms/step - loss: 0.0105\n",
            "\n",
            "Epoch 00017: loss did not improve from 0.01116\n",
            "Epoch 18/100\n",
            "1253/1253 [==============================] - 5s 4ms/step - loss: 0.0116\n",
            "\n",
            "Epoch 00018: loss improved from 0.01116 to 0.01090, saving model to best_RNN_opt.pt\n",
            "INFO:tensorflow:Assets written to: best_RNN_opt.pt/assets\n",
            "Epoch 19/100\n",
            "1253/1253 [==============================] - 5s 4ms/step - loss: 0.0114\n",
            "\n",
            "Epoch 00019: loss did not improve from 0.01090\n",
            "Epoch 20/100\n",
            "1253/1253 [==============================] - 5s 4ms/step - loss: 0.0103\n",
            "\n",
            "Epoch 00020: loss did not improve from 0.01090\n",
            "Epoch 21/100\n",
            "1253/1253 [==============================] - 5s 4ms/step - loss: 0.0109\n",
            "\n",
            "Epoch 00021: loss did not improve from 0.01090\n",
            "Epoch 22/100\n",
            "1253/1253 [==============================] - 5s 4ms/step - loss: 0.0107\n",
            "\n",
            "Epoch 00022: loss improved from 0.01090 to 0.01085, saving model to best_RNN_opt.pt\n",
            "INFO:tensorflow:Assets written to: best_RNN_opt.pt/assets\n",
            "Epoch 23/100\n",
            "1253/1253 [==============================] - 5s 4ms/step - loss: 0.0107\n",
            "\n",
            "Epoch 00023: loss improved from 0.01085 to 0.01075, saving model to best_RNN_opt.pt\n",
            "INFO:tensorflow:Assets written to: best_RNN_opt.pt/assets\n",
            "Epoch 24/100\n",
            "1253/1253 [==============================] - 5s 4ms/step - loss: 0.0098\n",
            "\n",
            "Epoch 00024: loss improved from 0.01075 to 0.01038, saving model to best_RNN_opt.pt\n",
            "INFO:tensorflow:Assets written to: best_RNN_opt.pt/assets\n",
            "Epoch 25/100\n",
            "1253/1253 [==============================] - 5s 4ms/step - loss: 0.0106\n",
            "\n",
            "Epoch 00025: loss did not improve from 0.01038\n",
            "Epoch 26/100\n",
            "1253/1253 [==============================] - 5s 4ms/step - loss: 0.0103\n",
            "\n",
            "Epoch 00026: loss did not improve from 0.01038\n",
            "Epoch 27/100\n",
            "1253/1253 [==============================] - 5s 4ms/step - loss: 0.0109\n",
            "\n",
            "Epoch 00027: loss did not improve from 0.01038\n",
            "Epoch 28/100\n",
            "1253/1253 [==============================] - 5s 4ms/step - loss: 0.0108\n",
            "\n",
            "Epoch 00028: loss did not improve from 0.01038\n",
            "Epoch 29/100\n",
            "1253/1253 [==============================] - 5s 4ms/step - loss: 0.0106\n",
            "\n",
            "Epoch 00029: loss did not improve from 0.01038\n",
            "Epoch 30/100\n",
            "1253/1253 [==============================] - 5s 4ms/step - loss: 0.0107\n",
            "\n",
            "Epoch 00030: loss improved from 0.01038 to 0.01033, saving model to best_RNN_opt.pt\n",
            "INFO:tensorflow:Assets written to: best_RNN_opt.pt/assets\n",
            "Epoch 31/100\n",
            "1253/1253 [==============================] - 5s 4ms/step - loss: 0.0108\n",
            "\n",
            "Epoch 00031: loss did not improve from 0.01033\n",
            "Epoch 32/100\n",
            "1253/1253 [==============================] - 5s 4ms/step - loss: 0.0103\n",
            "\n",
            "Epoch 00032: loss did not improve from 0.01033\n",
            "Epoch 33/100\n",
            "1253/1253 [==============================] - 5s 4ms/step - loss: 0.0103\n",
            "\n",
            "Epoch 00033: loss improved from 0.01033 to 0.01025, saving model to best_RNN_opt.pt\n",
            "INFO:tensorflow:Assets written to: best_RNN_opt.pt/assets\n",
            "Epoch 34/100\n",
            "1253/1253 [==============================] - 5s 4ms/step - loss: 0.0102\n",
            "\n",
            "Epoch 00034: loss did not improve from 0.01025\n",
            "Epoch 35/100\n",
            "1253/1253 [==============================] - 5s 4ms/step - loss: 0.0111\n",
            "\n",
            "Epoch 00035: loss did not improve from 0.01025\n",
            "Epoch 36/100\n",
            "1253/1253 [==============================] - 5s 4ms/step - loss: 0.0094\n",
            "\n",
            "Epoch 00036: loss improved from 0.01025 to 0.00978, saving model to best_RNN_opt.pt\n",
            "INFO:tensorflow:Assets written to: best_RNN_opt.pt/assets\n",
            "Epoch 37/100\n",
            "1253/1253 [==============================] - 5s 4ms/step - loss: 0.0106\n",
            "\n",
            "Epoch 00037: loss did not improve from 0.00978\n",
            "Epoch 38/100\n",
            "1253/1253 [==============================] - 5s 4ms/step - loss: 0.0104\n",
            "\n",
            "Epoch 00038: loss did not improve from 0.00978\n",
            "Epoch 39/100\n",
            "1253/1253 [==============================] - 5s 4ms/step - loss: 0.0102\n",
            "\n",
            "Epoch 00039: loss did not improve from 0.00978\n",
            "Epoch 40/100\n",
            "1253/1253 [==============================] - 5s 4ms/step - loss: 0.0097\n",
            "\n",
            "Epoch 00040: loss did not improve from 0.00978\n",
            "Epoch 41/100\n",
            "1253/1253 [==============================] - 5s 4ms/step - loss: 0.0101\n",
            "\n",
            "Epoch 00041: loss did not improve from 0.00978\n",
            "Epoch 42/100\n",
            "1253/1253 [==============================] - 5s 4ms/step - loss: 0.0102\n",
            "\n",
            "Epoch 00042: loss did not improve from 0.00978\n",
            "Epoch 43/100\n",
            "1253/1253 [==============================] - 5s 4ms/step - loss: 0.0099\n",
            "\n",
            "Epoch 00043: loss did not improve from 0.00978\n",
            "Epoch 44/100\n",
            "1253/1253 [==============================] - 5s 4ms/step - loss: 0.0104\n",
            "\n",
            "Epoch 00044: loss did not improve from 0.00978\n",
            "Epoch 45/100\n",
            "1253/1253 [==============================] - 5s 4ms/step - loss: 0.0107\n",
            "\n",
            "Epoch 00045: loss did not improve from 0.00978\n",
            "Epoch 46/100\n",
            "1253/1253 [==============================] - 5s 4ms/step - loss: 0.0097\n",
            "\n",
            "Epoch 00046: loss did not improve from 0.00978\n",
            "Epoch 47/100\n",
            "1253/1253 [==============================] - 5s 4ms/step - loss: 0.0099\n",
            "\n",
            "Epoch 00047: loss did not improve from 0.00978\n",
            "Epoch 48/100\n",
            "1253/1253 [==============================] - 5s 4ms/step - loss: 0.0098\n",
            "\n",
            "Epoch 00048: loss did not improve from 0.00978\n",
            "Epoch 49/100\n",
            "1253/1253 [==============================] - 5s 4ms/step - loss: 0.0097\n",
            "\n",
            "Epoch 00049: loss did not improve from 0.00978\n",
            "Epoch 50/100\n",
            "1253/1253 [==============================] - 5s 4ms/step - loss: 0.0099\n",
            "\n",
            "Epoch 00050: loss did not improve from 0.00978\n",
            "Epoch 51/100\n",
            "1253/1253 [==============================] - 5s 4ms/step - loss: 0.0102\n",
            "\n",
            "Epoch 00051: loss did not improve from 0.00978\n",
            "Training Finished!\n"
          ],
          "name": "stdout"
        }
      ]
    },
    {
      "cell_type": "code",
      "metadata": {
        "colab": {
          "base_uri": "https://localhost:8080/"
        },
        "id": "_8g4kk61dV6S",
        "outputId": "04498525-9912-4d6f-c146-75035fd934a6"
      },
      "source": [
        "# Loading the best model 'best_RNN_opt.pt':\r\n",
        "\r\n",
        "m5 = load_model('/content/best_RNN_opt.pt')"
      ],
      "execution_count": 89,
      "outputs": [
        {
          "output_type": "stream",
          "text": [
            "WARNING:tensorflow:Layer lstm_7 will not use cuDNN kernel since it doesn't meet the cuDNN kernel criteria. It will use generic GPU kernel as fallback when running on GPU\n"
          ],
          "name": "stdout"
        }
      ]
    },
    {
      "cell_type": "code",
      "metadata": {
        "colab": {
          "base_uri": "https://localhost:8080/"
        },
        "id": "sdDI6r_6dV9T",
        "outputId": "4db3bf49-d8bd-4c51-8316-f09344cddf32"
      },
      "source": [
        "# Making predictions with the model:\r\n",
        "\r\n",
        "trainPredict_opt = m5.predict(trainX)\r\n",
        "testPredict_opt = m5.predict(testX)\r\n",
        "testPredict_opt[:5]"
      ],
      "execution_count": 90,
      "outputs": [
        {
          "output_type": "execute_result",
          "data": {
            "text/plain": [
              "array([[0.9474669 ],\n",
              "       [0.9461984 ],\n",
              "       [0.9449254 ],\n",
              "       [0.9439386 ],\n",
              "       [0.95186543]], dtype=float32)"
            ]
          },
          "metadata": {
            "tags": []
          },
          "execution_count": 90
        }
      ]
    },
    {
      "cell_type": "code",
      "metadata": {
        "colab": {
          "base_uri": "https://localhost:8080/"
        },
        "id": "6sDOpf2jdWAN",
        "outputId": "bbae5c5e-3fd6-49b3-8571-13e9d87a06d9"
      },
      "source": [
        "# Invert the predictions made by the model:\r\n",
        "\r\n",
        "trainPredict_opt_ = scaler.inverse_transform(trainPredict_opt)\r\n",
        "trainY_opt_ = scaler.inverse_transform(trainY)\r\n",
        "testPredict_opt_ = scaler.inverse_transform(testPredict_opt)\r\n",
        "testY_opt_= scaler.inverse_transform(testY)\r\n",
        "testPredict_opt_[:5]"
      ],
      "execution_count": 91,
      "outputs": [
        {
          "output_type": "execute_result",
          "data": {
            "text/plain": [
              "array([[812.4926 ],\n",
              "       [811.7813 ],\n",
              "       [811.06744],\n",
              "       [810.5141 ],\n",
              "       [814.959  ]], dtype=float32)"
            ]
          },
          "metadata": {
            "tags": []
          },
          "execution_count": 91
        }
      ]
    },
    {
      "cell_type": "code",
      "metadata": {
        "colab": {
          "base_uri": "https://localhost:8080/"
        },
        "id": "Nq1DClADd-pc",
        "outputId": "ec0310e3-2716-44ef-8dda-9411b9860d21"
      },
      "source": [
        "# Chekcing the shape of inverted predictions:\r\n",
        "\r\n",
        "trainPredict_opt_.shape, trainY_opt_.shape, testPredict_opt_.shape, testY_opt_.shape"
      ],
      "execution_count": 92,
      "outputs": [
        {
          "output_type": "execute_result",
          "data": {
            "text/plain": [
              "((1253, 1), (1253, 1), (15, 1), (15, 1))"
            ]
          },
          "metadata": {
            "tags": []
          },
          "execution_count": 92
        }
      ]
    },
    {
      "cell_type": "code",
      "metadata": {
        "colab": {
          "base_uri": "https://localhost:8080/"
        },
        "id": "xHa1pmThd-zA",
        "outputId": "478e938e-1c63-4637-b586-cd4f9e950ec5"
      },
      "source": [
        "# Calculate root mean squared error and mean absolute error on the train and test datasets:\r\n",
        "\r\n",
        "# Calculate root mean squared error:\r\n",
        "trainScore_opt = math.sqrt(mean_squared_error(trainY_opt_[:,0], trainPredict_opt_[:,0]))\r\n",
        "print('Train RMSE: %.2f RMSE' % (trainScore_opt))\r\n",
        "testScore_opt = math.sqrt(mean_squared_error(testY_opt_[:,0], testPredict_opt_[:,0]))\r\n",
        "print('Test RMSE: %.2f RMSE' % (testScore_opt))\r\n",
        "\r\n",
        "print('\\nTrain MAE: %.2f MAE' % (mean_absolute_error(trainY_opt_[:,0], trainPredict_opt_[:,0])))\r\n",
        "print('Test MAE: %.2f MAE' % (mean_absolute_error(testY_opt_[:,0], testPredict_opt_[:,0])))"
      ],
      "execution_count": 93,
      "outputs": [
        {
          "output_type": "stream",
          "text": [
            "Train RMSE: 7.58 RMSE\n",
            "Test RMSE: 9.59 RMSE\n",
            "\n",
            "Train MAE: 4.70 MAE\n",
            "Test MAE: 6.10 MAE\n"
          ],
          "name": "stdout"
        }
      ]
    },
    {
      "cell_type": "code",
      "metadata": {
        "colab": {
          "base_uri": "https://localhost:8080/",
          "height": 483
        },
        "id": "myp7vAQBd-7n",
        "outputId": "4a09fd2e-41af-49ed-fa1a-700239e07404"
      },
      "source": [
        "# Visualizing the predictions:\r\n",
        "\r\n",
        "# Shift train predictions for plotting:\r\n",
        "trainPredictPlot = np.empty_like(dataset)\r\n",
        "trainPredictPlot[:, :] = np.nan\r\n",
        "trainPredictPlot[n_steps_in:len(trainPredict_opt_)+n_steps_in, :] = trainPredict_opt_\r\n",
        "\r\n",
        "# Shift test predictions for plotting:\r\n",
        "testPredictPlot = np.empty_like(dataset)\r\n",
        "testPredictPlot[:, :] = np.nan\r\n",
        "testPredictPlot[len(trainPredict_opt_)+(n_steps_in*2)-1:len(dataset)-1, :] = testPredict_opt_\r\n",
        "\r\n",
        "# Plot baseline and predictions:\r\n",
        "plt.figure(figsize = (20, 8))\r\n",
        "plt.plot(scaler.inverse_transform(dataset))\r\n",
        "plt.plot(trainPredictPlot)\r\n",
        "plt.plot(testPredictPlot)\r\n",
        "plt.show()"
      ],
      "execution_count": 94,
      "outputs": [
        {
          "output_type": "display_data",
          "data": {
            "image/png": "[encoded data removed]",
            "text/plain": [
              "<Figure size 1440x576 with 1 Axes>"
            ]
          },
          "metadata": {
            "tags": [],
            "needs_background": "light"
          }
        }
      ]
    },
    {
      "cell_type": "code",
      "metadata": {
        "colab": {
          "base_uri": "https://localhost:8080/",
          "height": 111
        },
        "id": "KZgnF_CQzAlT",
        "outputId": "7024660c-eac4-4e19-d488-0b8d29eaa6b2"
      },
      "source": [
        "data = {'Metric':  ['RMSE_train', 'RMSE_test'],\r\n",
        "        'One_to_One ': [trainScore_one, testScore_one],\r\n",
        "        'Many_to_One ' : [trainScore, testScore],\r\n",
        "        'Many_to_One_Stacked' : [trainScore_stuck, testScore_stuck],\r\n",
        "        'Many_to_Many': [trainScore_many, testScore_many],\r\n",
        "        'Many_to_One_Best': [trainScore_opt, testScore_opt]\r\n",
        "        }\r\n",
        "\r\n",
        "comparison = pd.DataFrame(data)\r\n",
        "\r\n",
        "comparison"
      ],
      "execution_count": 96,
      "outputs": [
        {
          "output_type": "execute_result",
          "data": {
            "text/html": [
              "<div>\n",
              "<style scoped>\n",
              "    .dataframe tbody tr th:only-of-type {\n",
              "        vertical-align: middle;\n",
              "    }\n",
              "\n",
              "    .dataframe tbody tr th {\n",
              "        vertical-align: top;\n",
              "    }\n",
              "\n",
              "    .dataframe thead th {\n",
              "        text-align: right;\n",
              "    }\n",
              "</style>\n",
              "<table border=\"1\" class=\"dataframe\">\n",
              "  <thead>\n",
              "    <tr style=\"text-align: right;\">\n",
              "      <th></th>\n",
              "      <th>Metric</th>\n",
              "      <th>One_to_One</th>\n",
              "      <th>Many_to_One</th>\n",
              "      <th>Many_to_One_Stacked</th>\n",
              "      <th>Many_to_Many</th>\n",
              "      <th>Many_to_One_Best</th>\n",
              "    </tr>\n",
              "  </thead>\n",
              "  <tbody>\n",
              "    <tr>\n",
              "      <th>0</th>\n",
              "      <td>RMSE_train</td>\n",
              "      <td>9.866263</td>\n",
              "      <td>11.172463</td>\n",
              "      <td>11.707010</td>\n",
              "      <td>12.100292</td>\n",
              "      <td>7.580224</td>\n",
              "    </tr>\n",
              "    <tr>\n",
              "      <th>1</th>\n",
              "      <td>RMSE_test</td>\n",
              "      <td>12.840369</td>\n",
              "      <td>10.241795</td>\n",
              "      <td>13.272408</td>\n",
              "      <td>12.679820</td>\n",
              "      <td>9.587700</td>\n",
              "    </tr>\n",
              "  </tbody>\n",
              "</table>\n",
              "</div>"
            ],
            "text/plain": [
              "       Metric  One_to_One   ...  Many_to_Many  Many_to_One_Best\n",
              "0  RMSE_train     9.866263  ...     12.100292          7.580224\n",
              "1   RMSE_test    12.840369  ...     12.679820          9.587700\n",
              "\n",
              "[2 rows x 6 columns]"
            ]
          },
          "metadata": {
            "tags": []
          },
          "execution_count": 96
        }
      ]
    }
  ]
}