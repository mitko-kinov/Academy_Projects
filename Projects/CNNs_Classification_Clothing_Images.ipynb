{
  "nbformat": 4,
  "nbformat_minor": 0,
  "metadata": {
    "colab": {
      "name": "ML_Workshop9_Mitko.ipynb",
      "provenance": [],
      "collapsed_sections": []
    },
    "kernelspec": {
      "display_name": "Python 3",
      "language": "python",
      "name": "python3"
    },
    "language_info": {
      "codemirror_mode": {
        "name": "ipython",
        "version": 3
      },
      "file_extension": ".py",
      "mimetype": "text/x-python",
      "name": "python",
      "nbconvert_exporter": "python",
      "pygments_lexer": "ipython3",
      "version": "3.6.8"
    },
    "accelerator": "GPU"
  },
  "cells": [
    {
      "cell_type": "markdown",
      "metadata": {
        "id": "jYysdyb-CaWM"
      },
      "source": [
        "# Workshop - CNNs: Classification clothing images"
      ]
    },
    {
      "cell_type": "markdown",
      "metadata": {
        "id": "_0rD1umx4j3G"
      },
      "source": [
        "# Import libraries:"
      ]
    },
    {
      "cell_type": "code",
      "metadata": {
        "id": "dzLKpmZICaWN"
      },
      "source": [
        "from __future__ import absolute_import, division, print_function, unicode_literals\n",
        "\n",
        "# TensorFlow and tf.keras:\n",
        "import tensorflow as tf\n",
        "from tensorflow import keras\n",
        "\n",
        "# Helper libraries:\n",
        "import numpy as np\n",
        "import matplotlib.pyplot as plt\n",
        "%matplotlib inline\n",
        "\n",
        "# Initializing other libraries:\n",
        "\n",
        "from keras.datasets import cifar10\n",
        "from keras.models import Sequential\n",
        "from keras.layers import Dense\n",
        "from keras.layers import Dropout\n",
        "from keras.layers import Flatten\n",
        "from keras.constraints import maxnorm\n",
        "from keras.optimizers import SGD\n",
        "from keras.layers.convolutional import Conv2D\n",
        "from keras.layers.convolutional import MaxPooling2D\n",
        "from keras.utils import np_utils\n",
        "from keras.layers.normalization import BatchNormalization\n",
        "from keras.callbacks import ModelCheckpoint, EarlyStopping\n",
        "from keras.models import load_model\n",
        "from sklearn.metrics import confusion_matrix, classification_report\n",
        "from keras_preprocessing.image import img_to_array, array_to_img\n",
        "from keras.applications import VGG16\n",
        "from keras import models, layers"
      ],
      "execution_count": 1,
      "outputs": []
    },
    {
      "cell_type": "markdown",
      "metadata": {
        "id": "yR0EdgrLCaWR"
      },
      "source": [
        "# Import the Fashion MNIST dataset:"
      ]
    },
    {
      "cell_type": "markdown",
      "metadata": {
        "id": "DLdCchMdCaWQ"
      },
      "source": [
        "This guide uses the [Fashion MNIST](https://github.com/zalandoresearch/fashion-mnist) dataset which contains 70,000 grayscale images in 10 categories. \n",
        "\n",
        "Here, 60,000 images are used to train the network and 10,000 images to evaluate how accurately the network learned to classify images. \n",
        "\n",
        "\n",
        "The images show individual articles of clothing at low resolution (28 by 28 pixels), as seen here:\n",
        "\n",
        "<table>\n",
        "  <tr><td>\n",
        "    <img src=\"https://tensorflow.org/images/fashion-mnist-sprite.png\"\n",
        "         alt=\"Fashion MNIST sprite\"  width=\"600\">\n",
        "  </td></tr>\n",
        "  <tr><td align=\"center\">\n",
        "    <b>Figure 1.</b> <a href=\"https://github.com/zalandoresearch/fashion-mnist\">Fashion-MNIST samples</a> (by Zalando, MIT License).<br/>&nbsp;\n",
        "  </td></tr>\n",
        "</table>\n",
        "\n"
      ]
    },
    {
      "cell_type": "markdown",
      "metadata": {
        "id": "ftDMJjnk4j3I"
      },
      "source": [
        "## Download Data:"
      ]
    },
    {
      "cell_type": "code",
      "metadata": {
        "collapsed": true,
        "id": "7MqDQO0KCaWS"
      },
      "source": [
        "# Loading the dataset and spliting in train and test segments:\n",
        "\n",
        "fashion_mnist = keras.datasets.fashion_mnist\n",
        "\n",
        "(train_images, train_labels), (test_images, test_labels) = fashion_mnist.load_data()"
      ],
      "execution_count": 2,
      "outputs": []
    },
    {
      "cell_type": "code",
      "metadata": {
        "colab": {
          "base_uri": "https://localhost:8080/"
        },
        "id": "LM2ZiCwRnGjz",
        "outputId": "488037bd-d2de-4f19-a92b-3061835c6cfe"
      },
      "source": [
        "# Checking the shape of the splited dataset:\r\n",
        "\r\n",
        "train_images.shape, train_labels.shape, test_images.shape, test_labels.shape"
      ],
      "execution_count": 3,
      "outputs": [
        {
          "output_type": "execute_result",
          "data": {
            "text/plain": [
              "((60000, 28, 28), (60000,), (10000, 28, 28), (10000,))"
            ]
          },
          "metadata": {
            "tags": []
          },
          "execution_count": 3
        }
      ]
    },
    {
      "cell_type": "markdown",
      "metadata": {
        "id": "t9FDsUlxCaWW"
      },
      "source": [
        "Loading the dataset returns four NumPy arrays:\n",
        "\n",
        "* The `train_images` and `train_labels` arrays are the *training set*—the data the model uses to learn.\n",
        "* The model is tested against the *test set*, the `test_images`, and `test_labels` arrays.\n",
        "\n",
        "The images are 28x28 NumPy arrays, with pixel values ranging from 0 to 255. The *labels* are an array of integers, ranging from 0 to 9. These correspond to the *class* of clothing the image represents:\n",
        "\n",
        "<table>\n",
        "  <tr>\n",
        "    <th>Label</th>\n",
        "    <th>Class</th>\n",
        "  </tr>\n",
        "  <tr>\n",
        "    <td>0</td>\n",
        "    <td>T-shirt/top</td>\n",
        "  </tr>\n",
        "  <tr>\n",
        "    <td>1</td>\n",
        "    <td>Trouser</td>\n",
        "  </tr>\n",
        "    <tr>\n",
        "    <td>2</td>\n",
        "    <td>Pullover</td>\n",
        "  </tr>\n",
        "    <tr>\n",
        "    <td>3</td>\n",
        "    <td>Dress</td>\n",
        "  </tr>\n",
        "    <tr>\n",
        "    <td>4</td>\n",
        "    <td>Coat</td>\n",
        "  </tr>\n",
        "    <tr>\n",
        "    <td>5</td>\n",
        "    <td>Sandal</td>\n",
        "  </tr>\n",
        "    <tr>\n",
        "    <td>6</td>\n",
        "    <td>Shirt</td>\n",
        "  </tr>\n",
        "    <tr>\n",
        "    <td>7</td>\n",
        "    <td>Sneaker</td>\n",
        "  </tr>\n",
        "    <tr>\n",
        "    <td>8</td>\n",
        "    <td>Bag</td>\n",
        "  </tr>\n",
        "    <tr>\n",
        "    <td>9</td>\n",
        "    <td>Ankle boot</td>\n",
        "  </tr>\n",
        "</table>\n",
        "\n",
        "Each image is mapped to a single label. Since the *class names* are not included with the dataset, store them here to use later when plotting the images:"
      ]
    },
    {
      "cell_type": "code",
      "metadata": {
        "collapsed": true,
        "id": "IjnLH5S2CaWx"
      },
      "source": [
        "# Storing the dataset in order to be used later for plotting:\n",
        "\n",
        "class_names = ['T-shirt/top', 'Trouser', 'Pullover', 'Dress', 'Coat',\n",
        "               'Sandal', 'Shirt', 'Sneaker', 'Bag', 'Ankle boot']"
      ],
      "execution_count": 4,
      "outputs": []
    },
    {
      "cell_type": "code",
      "metadata": {
        "colab": {
          "base_uri": "https://localhost:8080/"
        },
        "id": "JwfJbgnUm-Bb",
        "outputId": "ccb1241d-319c-49e4-e649-cf7207619a63"
      },
      "source": [
        "# Checking the results:\r\n",
        "\r\n",
        "class_names"
      ],
      "execution_count": 5,
      "outputs": [
        {
          "output_type": "execute_result",
          "data": {
            "text/plain": [
              "['T-shirt/top',\n",
              " 'Trouser',\n",
              " 'Pullover',\n",
              " 'Dress',\n",
              " 'Coat',\n",
              " 'Sandal',\n",
              " 'Shirt',\n",
              " 'Sneaker',\n",
              " 'Bag',\n",
              " 'Ankle boot']"
            ]
          },
          "metadata": {
            "tags": []
          },
          "execution_count": 5
        }
      ]
    },
    {
      "cell_type": "markdown",
      "metadata": {
        "id": "Brm0b_KACaWX"
      },
      "source": [
        "## Explore the data:\n",
        "60,000 images in the training set, with each image represented as 28 x 28 pixels:"
      ]
    },
    {
      "cell_type": "code",
      "metadata": {
        "colab": {
          "base_uri": "https://localhost:8080/"
        },
        "id": "zW5k_xz1CaWX",
        "outputId": "1c7c4de7-eeea-42bd-eead-6ebcfae10795"
      },
      "source": [
        "# Checking the shape of the train_images segment:\r\n",
        "\r\n",
        "train_images.shape"
      ],
      "execution_count": 6,
      "outputs": [
        {
          "output_type": "execute_result",
          "data": {
            "text/plain": [
              "(60000, 28, 28)"
            ]
          },
          "metadata": {
            "tags": []
          },
          "execution_count": 6
        }
      ]
    },
    {
      "cell_type": "markdown",
      "metadata": {
        "id": "cIAcvQqMCaWf"
      },
      "source": [
        "Likewise, there are 60,000 labels in the training set:"
      ]
    },
    {
      "cell_type": "code",
      "metadata": {
        "colab": {
          "base_uri": "https://localhost:8080/"
        },
        "id": "TRFYHB2mCaWb",
        "outputId": "098adc0e-0557-48f8-fa37-97c9933984e0"
      },
      "source": [
        "# Checking the lenght of the train_labels segment:\r\n",
        "\r\n",
        "len(train_labels)"
      ],
      "execution_count": 7,
      "outputs": [
        {
          "output_type": "execute_result",
          "data": {
            "text/plain": [
              "60000"
            ]
          },
          "metadata": {
            "tags": []
          },
          "execution_count": 7
        }
      ]
    },
    {
      "cell_type": "markdown",
      "metadata": {
        "id": "YSlYxFuRCaWk"
      },
      "source": [
        "Each label is an integer between 0 and 9:"
      ]
    },
    {
      "cell_type": "code",
      "metadata": {
        "colab": {
          "base_uri": "https://localhost:8080/"
        },
        "id": "XKnCTHz4CaWg",
        "outputId": "33611a53-45e8-4f1b-cddd-22478911c209"
      },
      "source": [
        "# Printing the labels of the train_labels segment:\r\n",
        "\r\n",
        "train_labels"
      ],
      "execution_count": 8,
      "outputs": [
        {
          "output_type": "execute_result",
          "data": {
            "text/plain": [
              "array([9, 0, 0, ..., 3, 0, 5], dtype=uint8)"
            ]
          },
          "metadata": {
            "tags": []
          },
          "execution_count": 8
        }
      ]
    },
    {
      "cell_type": "markdown",
      "metadata": {
        "id": "TMPI88iZpO2T"
      },
      "source": [
        "There are 10,000 images in the test set. Again, each image is represented as 28 x 28 pixels:"
      ]
    },
    {
      "cell_type": "code",
      "metadata": {
        "colab": {
          "base_uri": "https://localhost:8080/"
        },
        "id": "2KFnYlcwCaWl",
        "outputId": "3adee4b8-505a-4303-b026-01d04c93037e"
      },
      "source": [
        "# Checking the shape of the test_images segment:\r\n",
        "\r\n",
        "test_images.shape"
      ],
      "execution_count": 9,
      "outputs": [
        {
          "output_type": "execute_result",
          "data": {
            "text/plain": [
              "(10000, 28, 28)"
            ]
          },
          "metadata": {
            "tags": []
          },
          "execution_count": 9
        }
      ]
    },
    {
      "cell_type": "markdown",
      "metadata": {
        "id": "rd0A0Iu0CaWq"
      },
      "source": [
        "And the test set contains 10,000 images labels:"
      ]
    },
    {
      "cell_type": "code",
      "metadata": {
        "colab": {
          "base_uri": "https://localhost:8080/"
        },
        "id": "iJmPr5-ACaWn",
        "outputId": "69756dff-8f65-4e5c-f2ee-d7f9309f0cb3"
      },
      "source": [
        "# Printing the labels of the test_labels segment:\r\n",
        "\r\n",
        "len(test_labels)"
      ],
      "execution_count": 10,
      "outputs": [
        {
          "output_type": "execute_result",
          "data": {
            "text/plain": [
              "10000"
            ]
          },
          "metadata": {
            "tags": []
          },
          "execution_count": 10
        }
      ]
    },
    {
      "cell_type": "markdown",
      "metadata": {
        "id": "ES6uQoLKCaWr"
      },
      "source": [
        "## Preprocess the data:\n",
        "\n",
        "The data must be preprocessed before training the network. Plot the first image in the training set."
      ]
    },
    {
      "cell_type": "code",
      "metadata": {
        "colab": {
          "base_uri": "https://localhost:8080/",
          "height": 265
        },
        "id": "m4VEw8Ud9Quh",
        "outputId": "47852a28-7634-4135-b961-d199d8dfb752"
      },
      "source": [
        "# Visualizing the first image of train_images segment with colorbar:\n",
        "\n",
        "plt.figure()\n",
        "plt.imshow(train_images[0])\n",
        "plt.colorbar()\n",
        "plt.grid(False)\n",
        "plt.show()"
      ],
      "execution_count": 11,
      "outputs": [
        {
          "output_type": "display_data",
          "data": {
            "image/png": "[encoded data removed]",
            "text/plain": [
              "<Figure size 432x288 with 2 Axes>"
            ]
          },
          "metadata": {
            "tags": [],
            "needs_background": "light"
          }
        }
      ]
    },
    {
      "cell_type": "markdown",
      "metadata": {
        "id": "Wz7l27Lz9S1P"
      },
      "source": [
        "## Scaling:\n",
        "Scale these values to a range of 0 to 1 before feeding them to the neural network model (divide the values by 255)\n",
        "\n",
        "Do the same for the train and the test set\n"
      ]
    },
    {
      "cell_type": "code",
      "metadata": {
        "collapsed": true,
        "id": "bW5WzIPlCaWv"
      },
      "source": [
        "# Normalize the dataset as preparation for CNN model:\r\n",
        "\r\n",
        "# Changing the type of the instances:\r\n",
        "train_images = train_images.astype('float32')\r\n",
        "test_images = test_images.astype('float32')\r\n",
        "\r\n",
        "# Dividing in order to obtain range of values between 0 and 1:\r\n",
        "train_images = train_images / 255.0\r\n",
        "test_images = test_images / 255.0"
      ],
      "execution_count": 12,
      "outputs": []
    },
    {
      "cell_type": "code",
      "metadata": {
        "colab": {
          "base_uri": "https://localhost:8080/"
        },
        "id": "xGjDH31cqbR1",
        "outputId": "d3c434e5-2640-4dde-9ef0-f4b758ad1ad3"
      },
      "source": [
        "# Test the normalized dataset:\r\n",
        "\r\n",
        "train_images[0]"
      ],
      "execution_count": 13,
      "outputs": [
        {
          "output_type": "execute_result",
          "data": {
            "text/plain": [
              "array([[0.        , 0.        , 0.        , 0.        , 0.        ,\n",
              "        0.        , 0.        , 0.        , 0.        , 0.        ,\n",
              "        0.        , 0.        , 0.        , 0.        , 0.        ,\n",
              "        0.        , 0.        , 0.        , 0.        , 0.        ,\n",
              "        0.        , 0.        , 0.        , 0.        , 0.        ,\n",
              "        0.        , 0.        , 0.        ],\n",
              "       [0.        , 0.        , 0.        , 0.        , 0.        ,\n",
              "        0.        , 0.        , 0.        , 0.        , 0.        ,\n",
              "        0.        , 0.        , 0.        , 0.        , 0.        ,\n",
              "        0.        , 0.        , 0.        , 0.        , 0.        ,\n",
              "        0.        , 0.        , 0.        , 0.        , 0.        ,\n",
              "        0.        , 0.        , 0.        ],\n",
              "       [0.        , 0.        , 0.        , 0.        , 0.        ,\n",
              "        0.        , 0.        , 0.        , 0.        , 0.        ,\n",
              "        0.        , 0.        , 0.        , 0.        , 0.        ,\n",
              "        0.        , 0.        , 0.        , 0.        , 0.        ,\n",
              "        0.        , 0.        , 0.        , 0.        , 0.        ,\n",
              "        0.        , 0.        , 0.        ],\n",
              "       [0.        , 0.        , 0.        , 0.        , 0.        ,\n",
              "        0.        , 0.        , 0.        , 0.        , 0.        ,\n",
              "        0.        , 0.        , 0.00392157, 0.        , 0.        ,\n",
              "        0.05098039, 0.28627452, 0.        , 0.        , 0.00392157,\n",
              "        0.01568628, 0.        , 0.        , 0.        , 0.        ,\n",
              "        0.00392157, 0.00392157, 0.        ],\n",
              "       [0.        , 0.        , 0.        , 0.        , 0.        ,\n",
              "        0.        , 0.        , 0.        , 0.        , 0.        ,\n",
              "        0.        , 0.        , 0.01176471, 0.        , 0.14117648,\n",
              "        0.53333336, 0.49803922, 0.24313726, 0.21176471, 0.        ,\n",
              "        0.        , 0.        , 0.00392157, 0.01176471, 0.01568628,\n",
              "        0.        , 0.        , 0.01176471],\n",
              "       [0.        , 0.        , 0.        , 0.        , 0.        ,\n",
              "        0.        , 0.        , 0.        , 0.        , 0.        ,\n",
              "        0.        , 0.        , 0.02352941, 0.        , 0.4       ,\n",
              "        0.8       , 0.6901961 , 0.5254902 , 0.5647059 , 0.48235294,\n",
              "        0.09019608, 0.        , 0.        , 0.        , 0.        ,\n",
              "        0.04705882, 0.03921569, 0.        ],\n",
              "       [0.        , 0.        , 0.        , 0.        , 0.        ,\n",
              "        0.        , 0.        , 0.        , 0.        , 0.        ,\n",
              "        0.        , 0.        , 0.        , 0.        , 0.60784316,\n",
              "        0.9254902 , 0.8117647 , 0.69803923, 0.41960785, 0.6117647 ,\n",
              "        0.6313726 , 0.42745098, 0.2509804 , 0.09019608, 0.3019608 ,\n",
              "        0.50980395, 0.28235295, 0.05882353],\n",
              "       [0.        , 0.        , 0.        , 0.        , 0.        ,\n",
              "        0.        , 0.        , 0.        , 0.        , 0.        ,\n",
              "        0.        , 0.00392157, 0.        , 0.27058825, 0.8117647 ,\n",
              "        0.8745098 , 0.85490197, 0.84705883, 0.84705883, 0.6392157 ,\n",
              "        0.49803922, 0.4745098 , 0.47843137, 0.57254905, 0.5529412 ,\n",
              "        0.34509805, 0.6745098 , 0.25882354],\n",
              "       [0.        , 0.        , 0.        , 0.        , 0.        ,\n",
              "        0.        , 0.        , 0.        , 0.        , 0.00392157,\n",
              "        0.00392157, 0.00392157, 0.        , 0.78431374, 0.9098039 ,\n",
              "        0.9098039 , 0.9137255 , 0.8980392 , 0.8745098 , 0.8745098 ,\n",
              "        0.84313726, 0.8352941 , 0.6431373 , 0.49803922, 0.48235294,\n",
              "        0.76862746, 0.8980392 , 0.        ],\n",
              "       [0.        , 0.        , 0.        , 0.        , 0.        ,\n",
              "        0.        , 0.        , 0.        , 0.        , 0.        ,\n",
              "        0.        , 0.        , 0.        , 0.7176471 , 0.88235295,\n",
              "        0.84705883, 0.8745098 , 0.89411765, 0.92156863, 0.8901961 ,\n",
              "        0.8784314 , 0.87058824, 0.8784314 , 0.8666667 , 0.8745098 ,\n",
              "        0.9607843 , 0.6784314 , 0.        ],\n",
              "       [0.        , 0.        , 0.        , 0.        , 0.        ,\n",
              "        0.        , 0.        , 0.        , 0.        , 0.        ,\n",
              "        0.        , 0.        , 0.        , 0.75686276, 0.89411765,\n",
              "        0.85490197, 0.8352941 , 0.7764706 , 0.7058824 , 0.83137256,\n",
              "        0.8235294 , 0.827451  , 0.8352941 , 0.8745098 , 0.8627451 ,\n",
              "        0.9529412 , 0.7921569 , 0.        ],\n",
              "       [0.        , 0.        , 0.        , 0.        , 0.        ,\n",
              "        0.        , 0.        , 0.        , 0.        , 0.00392157,\n",
              "        0.01176471, 0.        , 0.04705882, 0.85882354, 0.8627451 ,\n",
              "        0.83137256, 0.85490197, 0.7529412 , 0.6627451 , 0.8901961 ,\n",
              "        0.8156863 , 0.85490197, 0.8784314 , 0.83137256, 0.8862745 ,\n",
              "        0.77254903, 0.81960785, 0.20392157],\n",
              "       [0.        , 0.        , 0.        , 0.        , 0.        ,\n",
              "        0.        , 0.        , 0.        , 0.        , 0.        ,\n",
              "        0.02352941, 0.        , 0.3882353 , 0.95686275, 0.87058824,\n",
              "        0.8627451 , 0.85490197, 0.79607844, 0.7764706 , 0.8666667 ,\n",
              "        0.84313726, 0.8352941 , 0.87058824, 0.8627451 , 0.9607843 ,\n",
              "        0.46666667, 0.654902  , 0.21960784],\n",
              "       [0.        , 0.        , 0.        , 0.        , 0.        ,\n",
              "        0.        , 0.        , 0.        , 0.        , 0.01568628,\n",
              "        0.        , 0.        , 0.21568628, 0.9254902 , 0.89411765,\n",
              "        0.9019608 , 0.89411765, 0.9411765 , 0.9098039 , 0.8352941 ,\n",
              "        0.85490197, 0.8745098 , 0.91764706, 0.8509804 , 0.8509804 ,\n",
              "        0.81960785, 0.36078432, 0.        ],\n",
              "       [0.        , 0.        , 0.00392157, 0.01568628, 0.02352941,\n",
              "        0.02745098, 0.00784314, 0.        , 0.        , 0.        ,\n",
              "        0.        , 0.        , 0.92941177, 0.8862745 , 0.8509804 ,\n",
              "        0.8745098 , 0.87058824, 0.85882354, 0.87058824, 0.8666667 ,\n",
              "        0.84705883, 0.8745098 , 0.8980392 , 0.84313726, 0.85490197,\n",
              "        1.        , 0.3019608 , 0.        ],\n",
              "       [0.        , 0.01176471, 0.        , 0.        , 0.        ,\n",
              "        0.        , 0.        , 0.        , 0.        , 0.24313726,\n",
              "        0.5686275 , 0.8       , 0.89411765, 0.8117647 , 0.8352941 ,\n",
              "        0.8666667 , 0.85490197, 0.8156863 , 0.827451  , 0.85490197,\n",
              "        0.8784314 , 0.8745098 , 0.85882354, 0.84313726, 0.8784314 ,\n",
              "        0.95686275, 0.62352943, 0.        ],\n",
              "       [0.        , 0.        , 0.        , 0.        , 0.07058824,\n",
              "        0.17254902, 0.32156864, 0.41960785, 0.7411765 , 0.89411765,\n",
              "        0.8627451 , 0.87058824, 0.8509804 , 0.8862745 , 0.78431374,\n",
              "        0.8039216 , 0.827451  , 0.9019608 , 0.8784314 , 0.91764706,\n",
              "        0.6901961 , 0.7372549 , 0.98039216, 0.972549  , 0.9137255 ,\n",
              "        0.93333334, 0.84313726, 0.        ],\n",
              "       [0.        , 0.22352941, 0.73333335, 0.8156863 , 0.8784314 ,\n",
              "        0.8666667 , 0.8784314 , 0.8156863 , 0.8       , 0.8392157 ,\n",
              "        0.8156863 , 0.81960785, 0.78431374, 0.62352943, 0.9607843 ,\n",
              "        0.75686276, 0.80784315, 0.8745098 , 1.        , 1.        ,\n",
              "        0.8666667 , 0.91764706, 0.8666667 , 0.827451  , 0.8627451 ,\n",
              "        0.9098039 , 0.9647059 , 0.        ],\n",
              "       [0.01176471, 0.7921569 , 0.89411765, 0.8784314 , 0.8666667 ,\n",
              "        0.827451  , 0.827451  , 0.8392157 , 0.8039216 , 0.8039216 ,\n",
              "        0.8039216 , 0.8627451 , 0.9411765 , 0.3137255 , 0.5882353 ,\n",
              "        1.        , 0.8980392 , 0.8666667 , 0.7372549 , 0.6039216 ,\n",
              "        0.7490196 , 0.8235294 , 0.8       , 0.81960785, 0.87058824,\n",
              "        0.89411765, 0.88235295, 0.        ],\n",
              "       [0.38431373, 0.9137255 , 0.7764706 , 0.8235294 , 0.87058824,\n",
              "        0.8980392 , 0.8980392 , 0.91764706, 0.9764706 , 0.8627451 ,\n",
              "        0.7607843 , 0.84313726, 0.8509804 , 0.94509804, 0.25490198,\n",
              "        0.28627452, 0.41568628, 0.45882353, 0.65882355, 0.85882354,\n",
              "        0.8666667 , 0.84313726, 0.8509804 , 0.8745098 , 0.8745098 ,\n",
              "        0.8784314 , 0.8980392 , 0.11372549],\n",
              "       [0.29411766, 0.8       , 0.83137256, 0.8       , 0.75686276,\n",
              "        0.8039216 , 0.827451  , 0.88235295, 0.84705883, 0.7254902 ,\n",
              "        0.77254903, 0.80784315, 0.7764706 , 0.8352941 , 0.9411765 ,\n",
              "        0.7647059 , 0.8901961 , 0.9607843 , 0.9372549 , 0.8745098 ,\n",
              "        0.85490197, 0.83137256, 0.81960785, 0.87058824, 0.8627451 ,\n",
              "        0.8666667 , 0.9019608 , 0.2627451 ],\n",
              "       [0.1882353 , 0.79607844, 0.7176471 , 0.7607843 , 0.8352941 ,\n",
              "        0.77254903, 0.7254902 , 0.74509805, 0.7607843 , 0.7529412 ,\n",
              "        0.7921569 , 0.8392157 , 0.85882354, 0.8666667 , 0.8627451 ,\n",
              "        0.9254902 , 0.88235295, 0.84705883, 0.78039217, 0.80784315,\n",
              "        0.7294118 , 0.70980394, 0.69411767, 0.6745098 , 0.70980394,\n",
              "        0.8039216 , 0.80784315, 0.4509804 ],\n",
              "       [0.        , 0.47843137, 0.85882354, 0.75686276, 0.7019608 ,\n",
              "        0.67058825, 0.7176471 , 0.76862746, 0.8       , 0.8235294 ,\n",
              "        0.8352941 , 0.8117647 , 0.827451  , 0.8235294 , 0.78431374,\n",
              "        0.76862746, 0.7607843 , 0.7490196 , 0.7647059 , 0.7490196 ,\n",
              "        0.7764706 , 0.7529412 , 0.6901961 , 0.6117647 , 0.654902  ,\n",
              "        0.69411767, 0.8235294 , 0.36078432],\n",
              "       [0.        , 0.        , 0.2901961 , 0.7411765 , 0.83137256,\n",
              "        0.7490196 , 0.6862745 , 0.6745098 , 0.6862745 , 0.70980394,\n",
              "        0.7254902 , 0.7372549 , 0.7411765 , 0.7372549 , 0.75686276,\n",
              "        0.7764706 , 0.8       , 0.81960785, 0.8235294 , 0.8235294 ,\n",
              "        0.827451  , 0.7372549 , 0.7372549 , 0.7607843 , 0.7529412 ,\n",
              "        0.84705883, 0.6666667 , 0.        ],\n",
              "       [0.00784314, 0.        , 0.        , 0.        , 0.25882354,\n",
              "        0.78431374, 0.87058824, 0.92941177, 0.9372549 , 0.9490196 ,\n",
              "        0.9647059 , 0.9529412 , 0.95686275, 0.8666667 , 0.8627451 ,\n",
              "        0.75686276, 0.7490196 , 0.7019608 , 0.7137255 , 0.7137255 ,\n",
              "        0.70980394, 0.6901961 , 0.6509804 , 0.65882355, 0.3882353 ,\n",
              "        0.22745098, 0.        , 0.        ],\n",
              "       [0.        , 0.        , 0.        , 0.        , 0.        ,\n",
              "        0.        , 0.        , 0.15686275, 0.23921569, 0.17254902,\n",
              "        0.28235295, 0.16078432, 0.13725491, 0.        , 0.        ,\n",
              "        0.        , 0.        , 0.        , 0.        , 0.        ,\n",
              "        0.        , 0.        , 0.        , 0.        , 0.        ,\n",
              "        0.        , 0.        , 0.        ],\n",
              "       [0.        , 0.        , 0.        , 0.        , 0.        ,\n",
              "        0.        , 0.        , 0.        , 0.        , 0.        ,\n",
              "        0.        , 0.        , 0.        , 0.        , 0.        ,\n",
              "        0.        , 0.        , 0.        , 0.        , 0.        ,\n",
              "        0.        , 0.        , 0.        , 0.        , 0.        ,\n",
              "        0.        , 0.        , 0.        ],\n",
              "       [0.        , 0.        , 0.        , 0.        , 0.        ,\n",
              "        0.        , 0.        , 0.        , 0.        , 0.        ,\n",
              "        0.        , 0.        , 0.        , 0.        , 0.        ,\n",
              "        0.        , 0.        , 0.        , 0.        , 0.        ,\n",
              "        0.        , 0.        , 0.        , 0.        , 0.        ,\n",
              "        0.        , 0.        , 0.        ]], dtype=float32)"
            ]
          },
          "metadata": {
            "tags": []
          },
          "execution_count": 13
        }
      ]
    },
    {
      "cell_type": "markdown",
      "metadata": {
        "id": "Ee638AlnCaWz"
      },
      "source": [
        "Display the first 25 images from the *training set* and display the class name above/below each image."
      ]
    },
    {
      "cell_type": "code",
      "metadata": {
        "id": "oZTImqg_CaW1",
        "colab": {
          "base_uri": "https://localhost:8080/",
          "height": 928
        },
        "outputId": "e2ccf182-86c9-4406-b2e0-42adc5e23630"
      },
      "source": [
        "# Visualizing the first 25 images from the dataset:\r\n",
        "\r\n",
        "fig = plt.figure(figsize = (16, 16))\r\n",
        "\r\n",
        "for i in range(5 * 5):\r\n",
        "    ax1 = fig.add_subplot(5, 5, i+1)\r\n",
        "    ax1.imshow(train_images[i])\r\n",
        "    title = \"Label: \" + str(class_names[train_labels[i]])\r\n",
        "    ax1.text(0, -1, title, size = 10)\r\n",
        "\r\n",
        "plt.show()"
      ],
      "execution_count": 14,
      "outputs": [
        {
          "output_type": "display_data",
          "data": {
            "image/png": "[encoded data removed]",
            "text/plain": [
              "<Figure size 1152x1152 with 25 Axes>"
            ]
          },
          "metadata": {
            "tags": [],
            "needs_background": "light"
          }
        }
      ]
    },
    {
      "cell_type": "markdown",
      "metadata": {
        "id": "59veuiEZCaW4"
      },
      "source": [
        "## Build the model:\n",
        "\n",
        "Building the neural network requires configuring the layers of the model, then compiling the model."
      ]
    },
    {
      "cell_type": "markdown",
      "metadata": {
        "id": "YvLUa1SB4j3X"
      },
      "source": [
        "### Reshaping the input data to adapt to the CNN layers in Keras:\n",
        "\n",
        "- for example: train_images.reshape(60000, 28, 28, 1)\n",
        "\n",
        "Do the same for the test data"
      ]
    },
    {
      "cell_type": "code",
      "metadata": {
        "id": "TKH_3ox82Sb2"
      },
      "source": [
        "# Reshaping the input data to adapt to the CNN layers in Keras:\r\n",
        " \r\n",
        "train_images = train_images.reshape(60000, 28, 28, 1)\r\n",
        "test_images = test_images.reshape(10000, 28, 28, 1)"
      ],
      "execution_count": 15,
      "outputs": []
    },
    {
      "cell_type": "code",
      "metadata": {
        "colab": {
          "base_uri": "https://localhost:8080/"
        },
        "id": "ZMs9IVM933nq",
        "outputId": "bf4b259a-c047-4757-9913-683c194290ed"
      },
      "source": [
        "# Checking the results after reshape:\r\n",
        "\r\n",
        "train_images.shape, test_images.shape"
      ],
      "execution_count": 16,
      "outputs": [
        {
          "output_type": "execute_result",
          "data": {
            "text/plain": [
              "((60000, 28, 28, 1), (10000, 28, 28, 1))"
            ]
          },
          "metadata": {
            "tags": []
          },
          "execution_count": 16
        }
      ]
    },
    {
      "cell_type": "markdown",
      "metadata": {
        "id": "Gxg1XGm0eOBy"
      },
      "source": [
        "### Set up the layers:\n",
        "\n",
        "Use:\n",
        "\n",
        "- The first layer is a 2D Convolution with RELU activation function, kernel size 3x3, and 32 kernels/filters.\n",
        "- The second layer is a 2D Convolution with RELU activation function, kernel size 3x3, and 64 kernels/filters. \n",
        "- It is followed by a MaxPooling layer with size 2x2. \n",
        "- Then there is a dropout layer with rate - 25% - chance of dropout.\n",
        "- Next layer is a Flatten layer that transforms output of the previous layer (from a two-dimensional array) to a one-dimensional array. \n",
        "- After the pixels are flattened, the network consists of a sequence of two Dense layers. \n",
        "  - The first Dense layer has 128 nodes (or neurons). \n",
        "  - The second (and last) layer is a 10-node softmax layer that returns an array of 10 probability scores that sum to 1. Each node contains a score that indicates the probability that the current image belongs to one of the 10 classes."
      ]
    },
    {
      "cell_type": "code",
      "metadata": {
        "id": "9ODch-OFCaW4",
        "colab": {
          "base_uri": "https://localhost:8080/"
        },
        "outputId": "ef49c496-ed9f-4b2e-d027-6e3de5f7ce7c"
      },
      "source": [
        "# Create CNN model object:\r\n",
        "\r\n",
        "# Creating the Sequential model:\r\n",
        "model = Sequential()\r\n",
        "\r\n",
        "# Setting first layer with model parameters:\r\n",
        "model.add(Conv2D(filters = 32, kernel_size = (3, 3), input_shape = (28, 28, 1), padding = 'same', activation = 'relu', strides = (1, 1)))\r\n",
        "\r\n",
        "# Setting second layer:\r\n",
        "model.add(Conv2D(filters = 64, kernel_size = (3, 3), activation = 'relu', padding = 'same'))\r\n",
        "\r\n",
        "# Inserting pooling layer:\r\n",
        "model.add(MaxPooling2D(pool_size = (2, 2)))\r\n",
        "\r\n",
        "# Adding dropout layer:\r\n",
        "model.add(Dropout(0.25))\r\n",
        "\r\n",
        "# Inserting flatten layer:\r\n",
        "model.add(Flatten())\r\n",
        "\r\n",
        "# Inserting dense layer:\r\n",
        "model.add(Dense(128, activation = 'relu'))\r\n",
        "\r\n",
        "# Final layer:\r\n",
        "model.add(Dense(10, activation = 'softmax'))\r\n",
        "model.summary()"
      ],
      "execution_count": 17,
      "outputs": [
        {
          "output_type": "stream",
          "text": [
            "Model: \"sequential\"\n",
            "_________________________________________________________________\n",
            "Layer (type)                 Output Shape              Param #   \n",
            "=================================================================\n",
            "conv2d (Conv2D)              (None, 28, 28, 32)        320       \n",
            "_________________________________________________________________\n",
            "conv2d_1 (Conv2D)            (None, 28, 28, 64)        18496     \n",
            "_________________________________________________________________\n",
            "max_pooling2d (MaxPooling2D) (None, 14, 14, 64)        0         \n",
            "_________________________________________________________________\n",
            "dropout (Dropout)            (None, 14, 14, 64)        0         \n",
            "_________________________________________________________________\n",
            "flatten (Flatten)            (None, 12544)             0         \n",
            "_________________________________________________________________\n",
            "dense (Dense)                (None, 128)               1605760   \n",
            "_________________________________________________________________\n",
            "dense_1 (Dense)              (None, 10)                1290      \n",
            "=================================================================\n",
            "Total params: 1,625,866\n",
            "Trainable params: 1,625,866\n",
            "Non-trainable params: 0\n",
            "_________________________________________________________________\n"
          ],
          "name": "stdout"
        }
      ]
    },
    {
      "cell_type": "markdown",
      "metadata": {
        "id": "UGyFRS524j3a"
      },
      "source": [
        "### Compile the model:\n",
        "\n",
        "* *Loss function* —sparse_categorical_crossentropy\n",
        "* *Optimizer* —adam\n",
        "* *Metrics* —accuracy"
      ]
    },
    {
      "cell_type": "code",
      "metadata": {
        "collapsed": true,
        "id": "Lhan11blCaW7"
      },
      "source": [
        "# Compiling the CNN model:\r\n",
        "\r\n",
        "model.compile(loss = 'sparse_categorical_crossentropy', optimizer = 'adam', metrics = ['accuracy'])"
      ],
      "execution_count": 18,
      "outputs": []
    },
    {
      "cell_type": "code",
      "metadata": {
        "id": "tfdUofaCNRfj"
      },
      "source": [
        "# Setting the model:\r\n",
        "\r\n",
        "path = 'best_model_first.pt'\r\n",
        "\r\n",
        "# ModelCheckpoint monitoring:\r\n",
        "callback_1 = ModelCheckpoint(path, monitor = 'val_accuracy', save_best_only = True, mode = 'max', verbose = 1)"
      ],
      "execution_count": 19,
      "outputs": []
    },
    {
      "cell_type": "markdown",
      "metadata": {
        "id": "qKF6uW-BCaW-"
      },
      "source": [
        "## Train the model:\n",
        "\n",
        "- validation_data=(test_images, test_labels)\n",
        "- epochs=10 \n",
        "- batch_size=64"
      ]
    },
    {
      "cell_type": "code",
      "metadata": {
        "id": "xvwvpA64CaW_",
        "colab": {
          "base_uri": "https://localhost:8080/"
        },
        "outputId": "79709015-9caf-4d07-a21e-36bb0d0b6c23"
      },
      "source": [
        "# Training the model:\r\n",
        "\r\n",
        "val_data = (test_images, test_labels)\r\n",
        "\r\n",
        "train_history = model.fit(train_images, \r\n",
        "                          train_labels, \r\n",
        "                          validation_data = val_data, \r\n",
        "                          epochs = 10, \r\n",
        "                          batch_size = 64,\r\n",
        "                          callbacks = callback_1)\r\n",
        "\r\n",
        "print('Training Finished')"
      ],
      "execution_count": 20,
      "outputs": [
        {
          "output_type": "stream",
          "text": [
            "Epoch 1/10\n",
            "938/938 [==============================] - 6s 5ms/step - loss: 0.5197 - accuracy: 0.8124 - val_loss: 0.2899 - val_accuracy: 0.8956\n",
            "\n",
            "Epoch 00001: val_accuracy improved from -inf to 0.89560, saving model to best_model_first.pt\n",
            "INFO:tensorflow:Assets written to: best_model_first.pt/assets\n",
            "Epoch 2/10\n",
            "938/938 [==============================] - 4s 4ms/step - loss: 0.2482 - accuracy: 0.9100 - val_loss: 0.2472 - val_accuracy: 0.9080\n",
            "\n",
            "Epoch 00002: val_accuracy improved from 0.89560 to 0.90800, saving model to best_model_first.pt\n",
            "INFO:tensorflow:Assets written to: best_model_first.pt/assets\n",
            "Epoch 3/10\n",
            "938/938 [==============================] - 4s 4ms/step - loss: 0.1906 - accuracy: 0.9296 - val_loss: 0.2269 - val_accuracy: 0.9199\n",
            "\n",
            "Epoch 00003: val_accuracy improved from 0.90800 to 0.91990, saving model to best_model_first.pt\n",
            "INFO:tensorflow:Assets written to: best_model_first.pt/assets\n",
            "Epoch 4/10\n",
            "938/938 [==============================] - 4s 4ms/step - loss: 0.1590 - accuracy: 0.9412 - val_loss: 0.2238 - val_accuracy: 0.9198\n",
            "\n",
            "Epoch 00004: val_accuracy did not improve from 0.91990\n",
            "Epoch 5/10\n",
            "938/938 [==============================] - 4s 4ms/step - loss: 0.1207 - accuracy: 0.9558 - val_loss: 0.2293 - val_accuracy: 0.9225\n",
            "\n",
            "Epoch 00005: val_accuracy improved from 0.91990 to 0.92250, saving model to best_model_first.pt\n",
            "INFO:tensorflow:Assets written to: best_model_first.pt/assets\n",
            "Epoch 6/10\n",
            "938/938 [==============================] - 4s 4ms/step - loss: 0.0939 - accuracy: 0.9657 - val_loss: 0.2467 - val_accuracy: 0.9251\n",
            "\n",
            "Epoch 00006: val_accuracy improved from 0.92250 to 0.92510, saving model to best_model_first.pt\n",
            "INFO:tensorflow:Assets written to: best_model_first.pt/assets\n",
            "Epoch 7/10\n",
            "938/938 [==============================] - 4s 4ms/step - loss: 0.0777 - accuracy: 0.9714 - val_loss: 0.2499 - val_accuracy: 0.9274\n",
            "\n",
            "Epoch 00007: val_accuracy improved from 0.92510 to 0.92740, saving model to best_model_first.pt\n",
            "INFO:tensorflow:Assets written to: best_model_first.pt/assets\n",
            "Epoch 8/10\n",
            "938/938 [==============================] - 4s 4ms/step - loss: 0.0610 - accuracy: 0.9764 - val_loss: 0.2594 - val_accuracy: 0.9301\n",
            "\n",
            "Epoch 00008: val_accuracy improved from 0.92740 to 0.93010, saving model to best_model_first.pt\n",
            "INFO:tensorflow:Assets written to: best_model_first.pt/assets\n",
            "Epoch 9/10\n",
            "938/938 [==============================] - 4s 4ms/step - loss: 0.0502 - accuracy: 0.9815 - val_loss: 0.2748 - val_accuracy: 0.9281\n",
            "\n",
            "Epoch 00009: val_accuracy did not improve from 0.93010\n",
            "Epoch 10/10\n",
            "938/938 [==============================] - 4s 4ms/step - loss: 0.0406 - accuracy: 0.9854 - val_loss: 0.3206 - val_accuracy: 0.9260\n",
            "\n",
            "Epoch 00010: val_accuracy did not improve from 0.93010\n",
            "Training Finished\n"
          ],
          "name": "stdout"
        }
      ]
    },
    {
      "cell_type": "markdown",
      "metadata": {
        "id": "oEw4bZgGCaXB"
      },
      "source": [
        "## Evaluate accuracy:\n",
        "\n",
        "Next, compare how the model performs on the test dataset:"
      ]
    },
    {
      "cell_type": "code",
      "metadata": {
        "id": "-AKlLtiXMt-r"
      },
      "source": [
        "# Loading the best model 'best_model_first.pt':\r\n",
        "\r\n",
        "m1 = load_model('/content/best_model_first.pt')"
      ],
      "execution_count": 21,
      "outputs": []
    },
    {
      "cell_type": "code",
      "metadata": {
        "id": "VflXLEeECaXC",
        "colab": {
          "base_uri": "https://localhost:8080/"
        },
        "outputId": "ac5b9f81-a4bb-4ffd-e81f-9bca10826acc"
      },
      "source": [
        "# Final evaluation of the model:\r\n",
        "\r\n",
        "score = m1.evaluate(test_images, test_labels, verbose = 0)\r\n",
        "\r\n",
        "print('Accuracy: %.2f%%' % (score[1]*100))"
      ],
      "execution_count": 22,
      "outputs": [
        {
          "output_type": "stream",
          "text": [
            "Accuracy: 93.01%\n"
          ],
          "name": "stdout"
        }
      ]
    },
    {
      "cell_type": "markdown",
      "metadata": {
        "id": "xsoS7CPDCaXH"
      },
      "source": [
        "## Make predictions:\n",
        "\n",
        "With the model trained, you can use it to make predictions about some images."
      ]
    },
    {
      "cell_type": "code",
      "metadata": {
        "collapsed": true,
        "id": "Gl91RPhdCaXI"
      },
      "source": [
        "# Making predictions with the model:\r\n",
        "\r\n",
        "predictions = m1.predict(test_images)"
      ],
      "execution_count": 23,
      "outputs": []
    },
    {
      "cell_type": "markdown",
      "metadata": {
        "id": "x9Kk1voUCaXJ"
      },
      "source": [
        "Here, the model has predicted the label for each image in the testing set. Let's take a look at the first prediction:"
      ]
    },
    {
      "cell_type": "code",
      "metadata": {
        "id": "3DmJEUinCaXK",
        "colab": {
          "base_uri": "https://localhost:8080/"
        },
        "outputId": "f733e93e-0d69-467f-ddec-d6489c07fb7b"
      },
      "source": [
        "# Checking prediction:\r\n",
        "\r\n",
        "predictions[0]"
      ],
      "execution_count": 24,
      "outputs": [
        {
          "output_type": "execute_result",
          "data": {
            "text/plain": [
              "array([1.0010449e-09, 2.7187161e-12, 8.8391072e-11, 2.6696459e-13,\n",
              "       2.8523692e-13, 3.5616119e-09, 9.7473425e-11, 1.6187022e-07,\n",
              "       1.5063162e-09, 9.9999988e-01], dtype=float32)"
            ]
          },
          "metadata": {
            "tags": []
          },
          "execution_count": 24
        }
      ]
    },
    {
      "cell_type": "markdown",
      "metadata": {
        "id": "-hw1hgeSCaXN"
      },
      "source": [
        "A prediction is an array of 10 numbers. They represent the model's \"confidence\" that the image corresponds to each of the 10 different articles of clothing. You can see which label has the highest confidence value:"
      ]
    },
    {
      "cell_type": "code",
      "metadata": {
        "id": "qsqenuPnCaXO",
        "colab": {
          "base_uri": "https://localhost:8080/"
        },
        "outputId": "cc830113-0fd5-4868-bcf8-edd94ff1d0c8"
      },
      "source": [
        "# Checking predictions with argmax:\r\n",
        "\r\n",
        "print('Prediction for 0th image is: ', np.argmax(predictions[0]))"
      ],
      "execution_count": 25,
      "outputs": [
        {
          "output_type": "stream",
          "text": [
            "Prediction for 0th image is:  9\n"
          ],
          "name": "stdout"
        }
      ]
    },
    {
      "cell_type": "markdown",
      "metadata": {
        "id": "E51yS7iCCaXO"
      },
      "source": [
        "So, the model is most confident that this image is an ankle boot, or `class_names[9]`. Examining the test label shows that this classification is correct:"
      ]
    },
    {
      "cell_type": "code",
      "metadata": {
        "id": "Sd7Pgsu6CaXP",
        "colab": {
          "base_uri": "https://localhost:8080/"
        },
        "outputId": "1b39e270-2ac8-41f8-e25b-2d893d8f6102"
      },
      "source": [
        "# Recheking with the test_labels:\r\n",
        "\r\n",
        "print('Actual label for 0th image is: ', test_labels[0])"
      ],
      "execution_count": 26,
      "outputs": [
        {
          "output_type": "stream",
          "text": [
            "Actual label for 0th image is:  9\n"
          ],
          "name": "stdout"
        }
      ]
    },
    {
      "cell_type": "markdown",
      "metadata": {
        "id": "ygh2yYC972ne"
      },
      "source": [
        "## Functions to visualize the full set of 10 class predictions:"
      ]
    },
    {
      "cell_type": "code",
      "metadata": {
        "collapsed": true,
        "id": "DvYmmrpIy6Y1"
      },
      "source": [
        "def plot_image(i, predictions_array, true_label, img):\n",
        "  #img = img.reshape(train_images.shape[0], 28, 28)\n",
        "  predictions_array, true_label, img = predictions_array, true_label[i], img[i]\n",
        "  img = img.reshape(28, 28)\n",
        "  plt.grid(False)\n",
        "  plt.xticks([])\n",
        "  plt.yticks([])\n",
        "\n",
        "  plt.imshow(img, cmap=plt.cm.binary)\n",
        "\n",
        "  predicted_label = np.argmax(predictions_array)\n",
        "  if predicted_label == true_label:\n",
        "    color = 'blue'\n",
        "  else:\n",
        "    color = 'red'\n",
        "\n",
        "  plt.xlabel(\"{} {:2.0f}% ({})\".format(class_names[predicted_label],\n",
        "                                100*np.max(predictions_array),\n",
        "                                class_names[true_label]),\n",
        "                                color=color)\n",
        "\n",
        "def plot_value_array(i, predictions_array, true_label):\n",
        "  predictions_array, true_label = predictions_array, true_label[i]\n",
        "  plt.grid(False)\n",
        "  plt.xticks(range(10))\n",
        "  plt.yticks([])\n",
        "  thisplot = plt.bar(range(10), predictions_array, color=\"#777777\")\n",
        "  plt.ylim([0, 1])\n",
        "  predicted_label = np.argmax(predictions_array)\n",
        "\n",
        "  thisplot[predicted_label].set_color('red')\n",
        "  thisplot[true_label].set_color('blue')"
      ],
      "execution_count": 27,
      "outputs": []
    },
    {
      "cell_type": "markdown",
      "metadata": {
        "id": "d4Ov9OFDMmOD"
      },
      "source": [
        "Let's look at the 0th image, predictions, and prediction array. Correct prediction labels are blue and incorrect prediction labels are red. The number gives the percentage (out of 100) for the predicted label."
      ]
    },
    {
      "cell_type": "code",
      "metadata": {
        "id": "HV5jw-5HwSmO",
        "colab": {
          "base_uri": "https://localhost:8080/",
          "height": 211
        },
        "outputId": "910fdcc0-faa7-4d47-ac1f-b9d4d8c45f35"
      },
      "source": [
        "# Visualizing the prediction with prediction array:\n",
        "\n",
        "i = 0\n",
        "plt.figure(figsize=(6,3))\n",
        "plt.subplot(1,2,1)\n",
        "plot_image(i, predictions[i], test_labels, test_images)\n",
        "plt.subplot(1,2,2)\n",
        "plot_value_array(i, predictions[i],  test_labels)\n",
        "plt.show()"
      ],
      "execution_count": 28,
      "outputs": [
        {
          "output_type": "display_data",
          "data": {
            "image/png": "[encoded data removed]",
            "text/plain": [
              "<Figure size 432x216 with 2 Axes>"
            ]
          },
          "metadata": {
            "tags": [],
            "needs_background": "light"
          }
        }
      ]
    },
    {
      "cell_type": "markdown",
      "metadata": {
        "id": "fz3rGLsgPFG8"
      },
      "source": [
        "Using the same visualization technique, show the 17th image and its prediction."
      ]
    },
    {
      "cell_type": "code",
      "metadata": {
        "id": "Ko-uzOufSCSe",
        "colab": {
          "base_uri": "https://localhost:8080/",
          "height": 211
        },
        "outputId": "247733b3-edd2-474d-c3d2-8683466fd101"
      },
      "source": [
        "# Visualizing the prediction for image 17 with prediction array:\n",
        "\n",
        "i = 17\n",
        "plt.figure(figsize=(6,3))\n",
        "plt.subplot(1,2,1)\n",
        "plot_image(i, predictions[i], test_labels, test_images)\n",
        "plt.subplot(1,2,2)\n",
        "plot_value_array(i, predictions[i],  test_labels)\n",
        "plt.show()"
      ],
      "execution_count": 29,
      "outputs": [
        {
          "output_type": "display_data",
          "data": {
            "image/png": "[encoded data removed]",
            "text/plain": [
              "<Figure size 432x216 with 2 Axes>"
            ]
          },
          "metadata": {
            "tags": [],
            "needs_background": "light"
          }
        }
      ]
    },
    {
      "cell_type": "markdown",
      "metadata": {
        "id": "kgdvGD52CaXR"
      },
      "source": [
        "Let's plot several images with their predictions. Note that the model can be wrong even when very confident."
      ]
    },
    {
      "cell_type": "code",
      "metadata": {
        "id": "hQlnbqaw2Qu_",
        "colab": {
          "base_uri": "https://localhost:8080/",
          "height": 637
        },
        "outputId": "e990e6c9-4e96-45a4-cf83-0a3992dff626"
      },
      "source": [
        "# Plot the first X test images, their predicted labels, and the true labels.\n",
        "# Color correct predictions in blue and incorrect predictions in red.\n",
        "num_rows = 5\n",
        "num_cols = 5\n",
        "num_images = num_rows*num_cols\n",
        "plt.figure(figsize=(2*2*num_cols, 2*num_rows))\n",
        "for i in range(num_images):\n",
        "  plt.subplot(num_rows, 2*num_cols, 2*i+1)\n",
        "  plot_image(i, predictions[i], test_labels, test_images)\n",
        "  plt.subplot(num_rows, 2*num_cols, 2*i+2)\n",
        "  plot_value_array(i, predictions[i], test_labels)\n",
        "plt.tight_layout()\n",
        "plt.show()"
      ],
      "execution_count": 30,
      "outputs": [
        {
          "output_type": "display_data",
          "data": {
            "image/png": "[encoded data removed]",
            "text/plain": [
              "<Figure size 1440x720 with 50 Axes>"
            ]
          },
          "metadata": {
            "tags": [],
            "needs_background": "light"
          }
        }
      ]
    },
    {
      "cell_type": "code",
      "metadata": {
        "colab": {
          "base_uri": "https://localhost:8080/"
        },
        "id": "K2LNeoiwCrbM",
        "outputId": "679ff2f8-097a-4a0a-a720-d7c94632bf10"
      },
      "source": [
        "# For checking purposes call class_names:\r\n",
        "\r\n",
        "for idx, val in enumerate(class_names):\r\n",
        "    print(idx, val)"
      ],
      "execution_count": 31,
      "outputs": [
        {
          "output_type": "stream",
          "text": [
            "0 T-shirt/top\n",
            "1 Trouser\n",
            "2 Pullover\n",
            "3 Dress\n",
            "4 Coat\n",
            "5 Sandal\n",
            "6 Shirt\n",
            "7 Sneaker\n",
            "8 Bag\n",
            "9 Ankle boot\n"
          ],
          "name": "stdout"
        }
      ]
    },
    {
      "cell_type": "markdown",
      "metadata": {
        "id": "-1FIpiEmPhNs"
      },
      "source": [
        "**How many mistakes did the model make? For each mistake, what was the correct class and what was the prediction?**\n"
      ]
    },
    {
      "cell_type": "markdown",
      "metadata": {
        "id": "kKoevzm6D1tx"
      },
      "source": [
        "## Summry on mistakes:\r\n",
        "\r\n",
        "- 1) First mistake model pointed that is Sandal with 60% confidence, however on the image is shown Sneaker. Also, we see presents of Bag as outcome.\r\n",
        "\r\n",
        "- 2) Second mistake model pointed that is Shirt with 100% confidence, however on the image is Coat.\r\n",
        "\r\n",
        "- 3) Finally it made mistake with the Aknle boot where it pointed that is a Sandal with 100% confidence, which is incorrect. \r\n"
      ]
    },
    {
      "cell_type": "markdown",
      "metadata": {
        "id": "R32zteKHCaXT"
      },
      "source": [
        "Finally, use the trained model to make a prediction about a single image."
      ]
    },
    {
      "cell_type": "code",
      "metadata": {
        "id": "yRJ7JU7JCaXT",
        "colab": {
          "base_uri": "https://localhost:8080/"
        },
        "outputId": "1681b3ae-632c-4397-fdb1-8f221caa88b7"
      },
      "source": [
        "# Grab an image from the test dataset:\n",
        "\n",
        "img = test_images[1]\n",
        "\n",
        "print(img.shape)"
      ],
      "execution_count": 32,
      "outputs": [
        {
          "output_type": "stream",
          "text": [
            "(28, 28, 1)\n"
          ],
          "name": "stdout"
        }
      ]
    },
    {
      "cell_type": "markdown",
      "metadata": {
        "id": "vz3bVp21CaXV"
      },
      "source": [
        "`tf.keras` models are optimized to make predictions on a *batch*, or collection, of examples at once. Accordingly, even though you're using a single image, you need to add it to a list:"
      ]
    },
    {
      "cell_type": "code",
      "metadata": {
        "id": "lDFh5yF_CaXW",
        "colab": {
          "base_uri": "https://localhost:8080/"
        },
        "outputId": "f385fbf9-0035-404d-d4bb-1c5fef48aee1"
      },
      "source": [
        "# Add the image to a batch where it's the only member:\n",
        "\n",
        "img = (np.expand_dims(img, 0))\n",
        "\n",
        "print(img.shape)"
      ],
      "execution_count": 33,
      "outputs": [
        {
          "output_type": "stream",
          "text": [
            "(1, 28, 28, 1)\n"
          ],
          "name": "stdout"
        }
      ]
    },
    {
      "cell_type": "markdown",
      "metadata": {
        "id": "EQ5wLTkcCaXY"
      },
      "source": [
        "Now predict the correct label for this image:"
      ]
    },
    {
      "cell_type": "code",
      "metadata": {
        "id": "o_rzNSdrCaXY",
        "colab": {
          "base_uri": "https://localhost:8080/"
        },
        "outputId": "42afbba5-31d7-4214-f692-df8949141df3"
      },
      "source": [
        "# Prediction for a single image:\n",
        "\n",
        "predictions_single = model.predict(img)\n",
        "\n",
        "print(predictions_single)"
      ],
      "execution_count": 34,
      "outputs": [
        {
          "output_type": "stream",
          "text": [
            "[[1.4046753e-05 5.3315926e-15 9.9998593e-01 1.3661789e-13 7.4601124e-11\n",
            "  1.7335249e-15 6.0398474e-12 3.4330652e-14 1.8451277e-18 1.1765101e-16]]\n"
          ],
          "name": "stdout"
        }
      ]
    },
    {
      "cell_type": "code",
      "metadata": {
        "id": "6Ai-cpLjO-3A",
        "colab": {
          "base_uri": "https://localhost:8080/",
          "height": 300
        },
        "outputId": "2afef3d5-ffe4-4d66-ea6b-44c905baa299"
      },
      "source": [
        "# Visualization for that signle image:\n",
        "\n",
        "plot_value_array(1, predictions_single[0], test_labels)\n",
        "_ = plt.xticks(range(10), class_names, rotation=45)\n",
        "\n",
        "plt.show()"
      ],
      "execution_count": 35,
      "outputs": [
        {
          "output_type": "display_data",
          "data": {
            "image/png": "[encoded data removed]",
            "text/plain": [
              "<Figure size 432x288 with 1 Axes>"
            ]
          },
          "metadata": {
            "tags": [],
            "needs_background": "light"
          }
        }
      ]
    },
    {
      "cell_type": "markdown",
      "metadata": {
        "id": "cU1Y2OAMCaXb"
      },
      "source": [
        "`model.predict` returns a list of lists—one list for each image in the batch of data. Grab the predictions for our (only) image in the batch:"
      ]
    },
    {
      "cell_type": "code",
      "metadata": {
        "id": "2tRmdq_8CaXb",
        "colab": {
          "base_uri": "https://localhost:8080/"
        },
        "outputId": "74b4437c-66b2-4d97-b374-1ccb60232149"
      },
      "source": [
        "# Using argmax on the signle image:\r\n",
        "\r\n",
        "for idx, val in enumerate(class_names):\r\n",
        "    if idx == np.argmax(predictions_single[0]):\r\n",
        "      print(idx, val)"
      ],
      "execution_count": 36,
      "outputs": [
        {
          "output_type": "stream",
          "text": [
            "2 Pullover\n"
          ],
          "name": "stdout"
        }
      ]
    },
    {
      "cell_type": "markdown",
      "metadata": {
        "id": "YFc2HbEVCaXd"
      },
      "source": [
        "And the model predicts a label as expected."
      ]
    },
    {
      "cell_type": "code",
      "metadata": {
        "id": "FHl2s-Gu4j3p",
        "colab": {
          "base_uri": "https://localhost:8080/"
        },
        "outputId": "6c6b3ad6-4d07-422a-ed08-4b746671d528"
      },
      "source": [
        "# Comparing with the test_labels:\r\n",
        "\r\n",
        "test_labels[1], class_names[test_labels[1]]"
      ],
      "execution_count": 37,
      "outputs": [
        {
          "output_type": "execute_result",
          "data": {
            "text/plain": [
              "(2, 'Pullover')"
            ]
          },
          "metadata": {
            "tags": []
          },
          "execution_count": 37
        }
      ]
    },
    {
      "cell_type": "markdown",
      "metadata": {
        "id": "ei9A7JM54j3q"
      },
      "source": [
        "# Second Model:"
      ]
    },
    {
      "cell_type": "markdown",
      "metadata": {
        "id": "pSqEAJUI4j3q"
      },
      "source": [
        "Create a model with 3 CNN layers.\n",
        "\n",
        "- The first layer is a 2D Convolution with RELU activation function, kernel size 2x2, and 32 kernels/filters.\n",
        "- The second layer is a 2D Convolution with RELU activation function, kernel size 3x3, and 32 kernels/filters. It is followed by a MaxPooling layer with size 2x2. Then there is a dropout layer with rate - 25% - chance of dropout.\n",
        "- The third layer is a 2D Convolution with RELU activation function, kernel size 3x3, and 32 kernels/filters. It is followed by a MaxPooling layer with size 2x2. Then there is a dropout layer with rate - 35% - chance of dropout.\n",
        "\n",
        "The final layers, are: Flatten layer; then Dense layer with 128 nodes; then 10-node softmax layer."
      ]
    },
    {
      "cell_type": "code",
      "metadata": {
        "collapsed": true,
        "id": "SaWVe4Gv4j3q",
        "colab": {
          "base_uri": "https://localhost:8080/"
        },
        "outputId": "5027733b-ea74-4ecc-a913-ff4d940c9f10"
      },
      "source": [
        "# Create CNN model object:\r\n",
        "\r\n",
        "# Creating the Sequential model:\r\n",
        "model2 = Sequential()\r\n",
        "\r\n",
        "# Setting first layer with model parameters:\r\n",
        "model2.add(Conv2D(filters = 32, kernel_size = (2, 2), input_shape = (28, 28, 1), padding = 'same', activation = 'relu', strides = (1, 1)))\r\n",
        "\r\n",
        "# Setting second layer:\r\n",
        "model2.add(Conv2D(filters = 32, kernel_size = (3, 3), activation = 'relu', padding = 'same'))\r\n",
        "\r\n",
        "# Inserting pooling layer:\r\n",
        "model2.add(MaxPooling2D(pool_size = (2, 2)))\r\n",
        "\r\n",
        "# Adding dropout layer:\r\n",
        "model2.add(Dropout(0.25))\r\n",
        "\r\n",
        "# Setting third layer:\r\n",
        "model2.add(Conv2D(filters = 32, kernel_size = (3, 3), activation = 'relu', padding = 'same'))\r\n",
        "\r\n",
        "# Inserting pooling layer:\r\n",
        "model2.add(MaxPooling2D(pool_size = (2, 2)))\r\n",
        "\r\n",
        "# Adding dropout layer:\r\n",
        "model2.add(Dropout(0.35))\r\n",
        "\r\n",
        "# Inserting flatten layer:\r\n",
        "model2.add(Flatten())\r\n",
        "\r\n",
        "# Inserting dense layer:\r\n",
        "model2.add(Dense(128, activation = 'relu'))\r\n",
        "\r\n",
        "# Final layer:\r\n",
        "model2.add(Dense(10, activation = 'softmax'))\r\n",
        "model2.summary()"
      ],
      "execution_count": 38,
      "outputs": [
        {
          "output_type": "stream",
          "text": [
            "Model: \"sequential_1\"\n",
            "_________________________________________________________________\n",
            "Layer (type)                 Output Shape              Param #   \n",
            "=================================================================\n",
            "conv2d_2 (Conv2D)            (None, 28, 28, 32)        160       \n",
            "_________________________________________________________________\n",
            "conv2d_3 (Conv2D)            (None, 28, 28, 32)        9248      \n",
            "_________________________________________________________________\n",
            "max_pooling2d_1 (MaxPooling2 (None, 14, 14, 32)        0         \n",
            "_________________________________________________________________\n",
            "dropout_1 (Dropout)          (None, 14, 14, 32)        0         \n",
            "_________________________________________________________________\n",
            "conv2d_4 (Conv2D)            (None, 14, 14, 32)        9248      \n",
            "_________________________________________________________________\n",
            "max_pooling2d_2 (MaxPooling2 (None, 7, 7, 32)          0         \n",
            "_________________________________________________________________\n",
            "dropout_2 (Dropout)          (None, 7, 7, 32)          0         \n",
            "_________________________________________________________________\n",
            "flatten_1 (Flatten)          (None, 1568)              0         \n",
            "_________________________________________________________________\n",
            "dense_2 (Dense)              (None, 128)               200832    \n",
            "_________________________________________________________________\n",
            "dense_3 (Dense)              (None, 10)                1290      \n",
            "=================================================================\n",
            "Total params: 220,778\n",
            "Trainable params: 220,778\n",
            "Non-trainable params: 0\n",
            "_________________________________________________________________\n"
          ],
          "name": "stdout"
        }
      ]
    },
    {
      "cell_type": "markdown",
      "metadata": {
        "id": "sCHEN_gx4j3q"
      },
      "source": [
        "Compile the model with (optimizer=sgd, loss='sparse_categorical_crossentropy', metrics=['accuracy'])\n",
        "\n",
        "sgd: \n",
        "- 0.02 learning_rate\n",
        "- decay = learning_rate/10, \n",
        "- momentum = 0.91"
      ]
    },
    {
      "cell_type": "code",
      "metadata": {
        "collapsed": true,
        "id": "LbOsSi4H4j3q"
      },
      "source": [
        "# Compiling the model:\r\n",
        "\r\n",
        "epochs_m = 10\r\n",
        "learning_rate_m = 0.02\r\n",
        "decay_m = learning_rate_m / epochs_m\r\n",
        "sgd = SGD(learning_rate  = learning_rate_m, momentum = 0.91, decay = decay_m)\r\n",
        "model2.compile(loss = 'sparse_categorical_crossentropy', optimizer = sgd, metrics = ['accuracy'])"
      ],
      "execution_count": 39,
      "outputs": []
    },
    {
      "cell_type": "code",
      "metadata": {
        "id": "Ow-2DrkZPHYT"
      },
      "source": [
        "# Setting the model:\r\n",
        "\r\n",
        "path = 'best_model_second.pt'\r\n",
        "\r\n",
        "# ModelCheckpoint monitoring:\r\n",
        "callback_1 = ModelCheckpoint(path, monitor = 'val_accuracy', save_best_only = True, mode = 'max', verbose = 1)"
      ],
      "execution_count": 40,
      "outputs": []
    },
    {
      "cell_type": "markdown",
      "metadata": {
        "id": "c0gQXTjV4j3q"
      },
      "source": [
        "Train the model with 10 epochs"
      ]
    },
    {
      "cell_type": "code",
      "metadata": {
        "collapsed": true,
        "id": "yYk4d4J14j3r",
        "colab": {
          "base_uri": "https://localhost:8080/"
        },
        "outputId": "3d1a78db-bb75-4453-8f6b-66f1cfb44a72"
      },
      "source": [
        "# Training the model:\r\n",
        "\r\n",
        "val_data = (test_images, test_labels)\r\n",
        "\r\n",
        "train_history2 = model2.fit(train_images, \r\n",
        "                          train_labels, \r\n",
        "                          validation_data = val_data, \r\n",
        "                          epochs = 10, \r\n",
        "                          batch_size = 64,\r\n",
        "                          callbacks = callback_1)\r\n",
        "\r\n",
        "print('Training Finished')"
      ],
      "execution_count": 41,
      "outputs": [
        {
          "output_type": "stream",
          "text": [
            "Epoch 1/10\n",
            "938/938 [==============================] - 4s 4ms/step - loss: 0.9346 - accuracy: 0.6576 - val_loss: 0.3871 - val_accuracy: 0.8598\n",
            "\n",
            "Epoch 00001: val_accuracy improved from -inf to 0.85980, saving model to best_model_second.pt\n",
            "INFO:tensorflow:Assets written to: best_model_second.pt/assets\n",
            "Epoch 2/10\n",
            "938/938 [==============================] - 3s 4ms/step - loss: 0.4033 - accuracy: 0.8548 - val_loss: 0.3447 - val_accuracy: 0.8762\n",
            "\n",
            "Epoch 00002: val_accuracy improved from 0.85980 to 0.87620, saving model to best_model_second.pt\n",
            "INFO:tensorflow:Assets written to: best_model_second.pt/assets\n",
            "Epoch 3/10\n",
            "938/938 [==============================] - 3s 4ms/step - loss: 0.3645 - accuracy: 0.8676 - val_loss: 0.3194 - val_accuracy: 0.8823\n",
            "\n",
            "Epoch 00003: val_accuracy improved from 0.87620 to 0.88230, saving model to best_model_second.pt\n",
            "INFO:tensorflow:Assets written to: best_model_second.pt/assets\n",
            "Epoch 4/10\n",
            "938/938 [==============================] - 3s 4ms/step - loss: 0.3381 - accuracy: 0.8748 - val_loss: 0.3122 - val_accuracy: 0.8848\n",
            "\n",
            "Epoch 00004: val_accuracy improved from 0.88230 to 0.88480, saving model to best_model_second.pt\n",
            "INFO:tensorflow:Assets written to: best_model_second.pt/assets\n",
            "Epoch 5/10\n",
            "938/938 [==============================] - 4s 4ms/step - loss: 0.3191 - accuracy: 0.8819 - val_loss: 0.3019 - val_accuracy: 0.8901\n",
            "\n",
            "Epoch 00005: val_accuracy improved from 0.88480 to 0.89010, saving model to best_model_second.pt\n",
            "INFO:tensorflow:Assets written to: best_model_second.pt/assets\n",
            "Epoch 6/10\n",
            "938/938 [==============================] - 3s 4ms/step - loss: 0.3162 - accuracy: 0.8832 - val_loss: 0.2981 - val_accuracy: 0.8922\n",
            "\n",
            "Epoch 00006: val_accuracy improved from 0.89010 to 0.89220, saving model to best_model_second.pt\n",
            "INFO:tensorflow:Assets written to: best_model_second.pt/assets\n",
            "Epoch 7/10\n",
            "938/938 [==============================] - 3s 4ms/step - loss: 0.3025 - accuracy: 0.8891 - val_loss: 0.2895 - val_accuracy: 0.8947\n",
            "\n",
            "Epoch 00007: val_accuracy improved from 0.89220 to 0.89470, saving model to best_model_second.pt\n",
            "INFO:tensorflow:Assets written to: best_model_second.pt/assets\n",
            "Epoch 8/10\n",
            "938/938 [==============================] - 3s 4ms/step - loss: 0.2971 - accuracy: 0.8893 - val_loss: 0.2843 - val_accuracy: 0.8982\n",
            "\n",
            "Epoch 00008: val_accuracy improved from 0.89470 to 0.89820, saving model to best_model_second.pt\n",
            "INFO:tensorflow:Assets written to: best_model_second.pt/assets\n",
            "Epoch 9/10\n",
            "938/938 [==============================] - 3s 4ms/step - loss: 0.2909 - accuracy: 0.8946 - val_loss: 0.2808 - val_accuracy: 0.8991\n",
            "\n",
            "Epoch 00009: val_accuracy improved from 0.89820 to 0.89910, saving model to best_model_second.pt\n",
            "INFO:tensorflow:Assets written to: best_model_second.pt/assets\n",
            "Epoch 10/10\n",
            "938/938 [==============================] - 3s 4ms/step - loss: 0.2871 - accuracy: 0.8947 - val_loss: 0.2757 - val_accuracy: 0.9010\n",
            "\n",
            "Epoch 00010: val_accuracy improved from 0.89910 to 0.90100, saving model to best_model_second.pt\n",
            "INFO:tensorflow:Assets written to: best_model_second.pt/assets\n",
            "Training Finished\n"
          ],
          "name": "stdout"
        }
      ]
    },
    {
      "cell_type": "markdown",
      "metadata": {
        "id": "Q7EeeMCP4j3s"
      },
      "source": [
        "Evaluate the model and print the accuracy on the test set"
      ]
    },
    {
      "cell_type": "code",
      "metadata": {
        "id": "mvPPOap4NVKQ"
      },
      "source": [
        "# Loading the best model 'best_model_second.pt':\r\n",
        "\r\n",
        "m2 = load_model('/content/best_model_second.pt')"
      ],
      "execution_count": 42,
      "outputs": []
    },
    {
      "cell_type": "code",
      "metadata": {
        "collapsed": true,
        "id": "SYj5wYIo4j3t",
        "colab": {
          "base_uri": "https://localhost:8080/"
        },
        "outputId": "68273308-0a9d-4841-9aad-a34858c68845"
      },
      "source": [
        "# Final evaluation of the model:\r\n",
        "\r\n",
        "score = m2.evaluate(test_images, test_labels, verbose = 0)\r\n",
        "\r\n",
        "print('Accuracy: %.2f%%' % (score[1]*100))"
      ],
      "execution_count": 43,
      "outputs": [
        {
          "output_type": "stream",
          "text": [
            "Accuracy: 90.10%\n"
          ],
          "name": "stdout"
        }
      ]
    },
    {
      "cell_type": "code",
      "metadata": {
        "id": "fvZAUVrSOIpM"
      },
      "source": [
        "# Making predictions with the model:\r\n",
        "\r\n",
        "predictions2 = m2.predict(test_images)"
      ],
      "execution_count": 44,
      "outputs": []
    },
    {
      "cell_type": "markdown",
      "metadata": {
        "id": "4ZiBb0FE4j3t"
      },
      "source": [
        "Show the predictions for image 10... and also print the test label... compare them"
      ]
    },
    {
      "cell_type": "code",
      "metadata": {
        "colab": {
          "base_uri": "https://localhost:8080/"
        },
        "id": "XXfUOdlwRUeZ",
        "outputId": "3f061f9a-a88c-41ea-cb62-882c65eb654d"
      },
      "source": [
        "print('Prediction for 10th image is: ', np.argmax(predictions2[9]))"
      ],
      "execution_count": 45,
      "outputs": [
        {
          "output_type": "stream",
          "text": [
            "Prediction for 10th image is:  7\n"
          ],
          "name": "stdout"
        }
      ]
    },
    {
      "cell_type": "code",
      "metadata": {
        "colab": {
          "base_uri": "https://localhost:8080/"
        },
        "id": "ONNISsJkRdg_",
        "outputId": "076cdf1b-91de-43d3-8bfa-fb97ad722f2f"
      },
      "source": [
        "print('Actual label for 10th image is: ', test_labels[9])"
      ],
      "execution_count": 46,
      "outputs": [
        {
          "output_type": "stream",
          "text": [
            "Actual label for 10th image is:  7\n"
          ],
          "name": "stdout"
        }
      ]
    },
    {
      "cell_type": "markdown",
      "metadata": {
        "id": "QkStSEdC4j3u"
      },
      "source": [
        "Plot the prediction for image 17 (show the image, the predicted class and the percentage in a bar chart)"
      ]
    },
    {
      "cell_type": "code",
      "metadata": {
        "collapsed": true,
        "id": "YGGTPzDU4j3u",
        "colab": {
          "base_uri": "https://localhost:8080/",
          "height": 211
        },
        "outputId": "fde9599c-a581-484e-d3d5-31cd961a1b78"
      },
      "source": [
        "# Visualizing the prediction for image 17 with prediction array:\r\n",
        "\r\n",
        "i = 17\r\n",
        "plt.figure(figsize=(6,3))\r\n",
        "plt.subplot(1,2,1)\r\n",
        "plot_image(i, predictions2[i], test_labels, test_images)\r\n",
        "plt.subplot(1,2,2)\r\n",
        "plot_value_array(i, predictions2[i],  test_labels)\r\n",
        "plt.show()"
      ],
      "execution_count": 47,
      "outputs": [
        {
          "output_type": "display_data",
          "data": {
            "image/png": "[encoded data removed]",
            "text/plain": [
              "<Figure size 432x216 with 2 Axes>"
            ]
          },
          "metadata": {
            "tags": [],
            "needs_background": "light"
          }
        }
      ]
    },
    {
      "cell_type": "markdown",
      "metadata": {
        "id": "QygErPLh4j3u"
      },
      "source": [
        "Plot the first 25 test images (5x5), their predicted labels, and the true labels.\n",
        "Color correct predictions in blue and incorrect predictions in red."
      ]
    },
    {
      "cell_type": "code",
      "metadata": {
        "collapsed": true,
        "id": "SCDVV3VV4j3u",
        "colab": {
          "base_uri": "https://localhost:8080/",
          "height": 638
        },
        "outputId": "a839c2f5-65ab-47dd-9b73-71e332219ec7"
      },
      "source": [
        "# Plot the first X test images, their predicted labels, and the true labels.\r\n",
        "# Color correct predictions in blue and incorrect predictions in red.\r\n",
        "num_rows = 5\r\n",
        "num_cols = 5\r\n",
        "num_images = num_rows*num_cols\r\n",
        "plt.figure(figsize=(2*2*num_cols, 2*num_rows))\r\n",
        "for i in range(num_images):\r\n",
        "  plt.subplot(num_rows, 2*num_cols, 2*i+1)\r\n",
        "  plot_image(i, predictions2[i], test_labels, test_images)\r\n",
        "  plt.subplot(num_rows, 2*num_cols, 2*i+2)\r\n",
        "  plot_value_array(i, predictions2[i], test_labels)\r\n",
        "plt.tight_layout()\r\n",
        "plt.show()"
      ],
      "execution_count": 48,
      "outputs": [
        {
          "output_type": "display_data",
          "data": {
            "image/png": "[encoded data removed]",
            "text/plain": [
              "<Figure size 1440x720 with 50 Axes>"
            ]
          },
          "metadata": {
            "tags": [],
            "needs_background": "light"
          }
        }
      ]
    },
    {
      "cell_type": "markdown",
      "metadata": {
        "id": "eUmDQQOb4j3u"
      },
      "source": [
        "Use the model to predict the class for image 20 from the test set. Present the predictions for each class, and print the test label"
      ]
    },
    {
      "cell_type": "code",
      "metadata": {
        "collapsed": true,
        "id": "Bw9ZlUHk4j34",
        "colab": {
          "base_uri": "https://localhost:8080/"
        },
        "outputId": "8de78344-7eaa-431f-f955-83e527ff15a2"
      },
      "source": [
        "# Grab an image from the test dataset:\r\n",
        "\r\n",
        "img2 = test_images[19]\r\n",
        "\r\n",
        "print(img2.shape)"
      ],
      "execution_count": 49,
      "outputs": [
        {
          "output_type": "stream",
          "text": [
            "(28, 28, 1)\n"
          ],
          "name": "stdout"
        }
      ]
    },
    {
      "cell_type": "code",
      "metadata": {
        "colab": {
          "base_uri": "https://localhost:8080/"
        },
        "id": "66xNjW9KNncw",
        "outputId": "572f160d-018f-4d6f-e5df-736889f92416"
      },
      "source": [
        "# Add the image to a batch where it's the only member:\r\n",
        "\r\n",
        "img2 = (np.expand_dims(img2, 0))\r\n",
        "\r\n",
        "print(img2.shape)"
      ],
      "execution_count": 50,
      "outputs": [
        {
          "output_type": "stream",
          "text": [
            "(1, 28, 28, 1)\n"
          ],
          "name": "stdout"
        }
      ]
    },
    {
      "cell_type": "code",
      "metadata": {
        "colab": {
          "base_uri": "https://localhost:8080/"
        },
        "id": "NnVa1Am3Np3h",
        "outputId": "aa33e0c5-0033-4f82-a1d8-ecf048c313bf"
      },
      "source": [
        "# Prediction for a single image:\r\n",
        "\r\n",
        "pred_19 = m2.predict(img2)\r\n",
        "\r\n",
        "print(pred_19)"
      ],
      "execution_count": 51,
      "outputs": [
        {
          "output_type": "stream",
          "text": [
            "[[9.7864795e-01 2.6672744e-06 3.3164109e-04 2.3244158e-04 1.2837438e-06\n",
            "  8.0565300e-08 2.0778384e-02 1.6703178e-08 5.5335827e-06 9.7980202e-09]]\n"
          ],
          "name": "stdout"
        }
      ]
    },
    {
      "cell_type": "code",
      "metadata": {
        "colab": {
          "base_uri": "https://localhost:8080/",
          "height": 300
        },
        "id": "GSv3AbglNsa6",
        "outputId": "6b056863-e714-44c5-bd97-e31cb14e20dd"
      },
      "source": [
        "# Visualization for that signle image:\r\n",
        "\r\n",
        "plot_value_array(19, pred_19[0], test_labels)\r\n",
        "_ = plt.xticks(range(10), class_names, rotation=45)\r\n",
        "\r\n",
        "plt.show()"
      ],
      "execution_count": 52,
      "outputs": [
        {
          "output_type": "display_data",
          "data": {
            "image/png": "[encoded data removed]",
            "text/plain": [
              "<Figure size 432x288 with 1 Axes>"
            ]
          },
          "metadata": {
            "tags": [],
            "needs_background": "light"
          }
        }
      ]
    },
    {
      "cell_type": "code",
      "metadata": {
        "colab": {
          "base_uri": "https://localhost:8080/"
        },
        "id": "7RdJDN9VNupV",
        "outputId": "5204ad04-2913-4a54-b090-be91dc895078"
      },
      "source": [
        "# Using argmax on the signle image:\r\n",
        "\r\n",
        "for idx, val in enumerate(class_names):\r\n",
        "    if idx == np.argmax(pred_19[0]):\r\n",
        "      print(idx, val)"
      ],
      "execution_count": 53,
      "outputs": [
        {
          "output_type": "stream",
          "text": [
            "0 T-shirt/top\n"
          ],
          "name": "stdout"
        }
      ]
    },
    {
      "cell_type": "code",
      "metadata": {
        "colab": {
          "base_uri": "https://localhost:8080/"
        },
        "id": "hZnfRX5WNxcO",
        "outputId": "233ed149-e42a-4bcc-eb2f-25c01d7791a9"
      },
      "source": [
        "# Comparing with the test_labels:\r\n",
        "\r\n",
        "test_labels[19], class_names[test_labels[19]]"
      ],
      "execution_count": 54,
      "outputs": [
        {
          "output_type": "execute_result",
          "data": {
            "text/plain": [
              "(0, 'T-shirt/top')"
            ]
          },
          "metadata": {
            "tags": []
          },
          "execution_count": 54
        }
      ]
    },
    {
      "cell_type": "markdown",
      "metadata": {
        "id": "C13r_SkHSi5B"
      },
      "source": [
        "Plot a confusion matrix"
      ]
    },
    {
      "cell_type": "code",
      "metadata": {
        "id": "_VBM48NlQQMA"
      },
      "source": [
        "# Defining function for Confusion Martix and Classification Report:\r\n",
        "\r\n",
        "def print_classification_report(true_y, pred_y, lab_names):\r\n",
        "  cm = confusion_matrix(true_y, pred_y)\r\n",
        "  print('Confusion matrix')\r\n",
        "  print(cm)\r\n",
        "  cr = classification_report(true_y, pred_y, target_names = lab_names)\r\n",
        "  print()\r\n",
        "  print(cr)"
      ],
      "execution_count": 55,
      "outputs": []
    },
    {
      "cell_type": "code",
      "metadata": {
        "colab": {
          "base_uri": "https://localhost:8080/"
        },
        "id": "5vbIzdWaVIPL",
        "outputId": "eff548fa-2c54-4cf5-e9ae-5a699306a0b5"
      },
      "source": [
        "# Evaluating 'best_model_second.pt':\r\n",
        "\r\n",
        "print('=====Evaluation Best_Model_Second.pt=====')\r\n",
        "print_classification_report(test_labels, np.argmax(predictions2, axis = 1), class_names)"
      ],
      "execution_count": 56,
      "outputs": [
        {
          "output_type": "stream",
          "text": [
            "=====Evaluation Best_Model_Second.pt=====\n",
            "Confusion matrix\n",
            "[[843   1  16  26   3   1 100   0  10   0]\n",
            " [  1 977   0  15   3   0   2   0   2   0]\n",
            " [ 14   1 849  10  66   0  60   0   0   0]\n",
            " [ 12   5   7 918  27   0  28   0   3   0]\n",
            " [  0   1  62  29 842   0  65   0   1   0]\n",
            " [  0   0   0   0   0 973   0  20   0   7]\n",
            " [114   3  72  35  69   0 700   0   7   0]\n",
            " [  0   0   0   0   0   6   0 966   1  27]\n",
            " [  1   1   1   4   5   1   2   4 981   0]\n",
            " [  0   0   0   0   0   4   1  34   0 961]]\n",
            "\n",
            "              precision    recall  f1-score   support\n",
            "\n",
            " T-shirt/top       0.86      0.84      0.85      1000\n",
            "     Trouser       0.99      0.98      0.98      1000\n",
            "    Pullover       0.84      0.85      0.85      1000\n",
            "       Dress       0.89      0.92      0.90      1000\n",
            "        Coat       0.83      0.84      0.84      1000\n",
            "      Sandal       0.99      0.97      0.98      1000\n",
            "       Shirt       0.73      0.70      0.72      1000\n",
            "     Sneaker       0.94      0.97      0.95      1000\n",
            "         Bag       0.98      0.98      0.98      1000\n",
            "  Ankle boot       0.97      0.96      0.96      1000\n",
            "\n",
            "    accuracy                           0.90     10000\n",
            "   macro avg       0.90      0.90      0.90     10000\n",
            "weighted avg       0.90      0.90      0.90     10000\n",
            "\n"
          ],
          "name": "stdout"
        }
      ]
    },
    {
      "cell_type": "markdown",
      "metadata": {
        "id": "zxvYXFLgSpTd"
      },
      "source": [
        "Plot a train vs validation accuracy graph along the epochs"
      ]
    },
    {
      "cell_type": "code",
      "metadata": {
        "id": "u7YrFGbESov_",
        "colab": {
          "base_uri": "https://localhost:8080/",
          "height": 803
        },
        "outputId": "36cf32c6-b4f8-4723-c098-512ad96bf6d8"
      },
      "source": [
        "# Visualizing the learning curves on both models:\r\n",
        "\r\n",
        "plt.plot(train_history.history['accuracy'], label = 'best_model_first train')\r\n",
        "plt.plot(train_history.history['val_accuracy'], label = 'best_model_first validation')\r\n",
        "\r\n",
        "plt.legend()\r\n",
        "plt.grid()\r\n",
        "plt.ylabel('accuracy')\r\n",
        "plt.xlabel('epoch')\r\n",
        "plt.show()\r\n",
        "\r\n",
        "plt.plot(train_history2.history['accuracy'], label = 'best_model_second train')\r\n",
        "plt.plot(train_history2.history['val_accuracy'], label = 'best_model_second validation')\r\n",
        "\r\n",
        "plt.legend()\r\n",
        "plt.grid()\r\n",
        "plt.ylabel('accuracy')\r\n",
        "plt.xlabel('epoch')\r\n",
        "plt.show()\r\n",
        "\r\n",
        "plt.plot(train_history.history['val_accuracy'], label = 'best_model_first validation')\r\n",
        "plt.plot(train_history2.history['val_accuracy'], label = 'best_model_second validation')\r\n",
        "\r\n",
        "plt.legend()\r\n",
        "plt.grid()\r\n",
        "plt.ylabel('accuracy')\r\n",
        "plt.xlabel('epoch')\r\n",
        "plt.show()"
      ],
      "execution_count": 57,
      "outputs": [
        {
          "output_type": "display_data",
          "data": {
            "image/png": "[encoded data removed]",
            "text/plain": [
              "<Figure size 432x288 with 1 Axes>"
            ]
          },
          "metadata": {
            "tags": [],
            "needs_background": "light"
          }
        },
        {
          "output_type": "display_data",
          "data": {
            "image/png": "[encoded data removed]",
            "text/plain": [
              "<Figure size 432x288 with 1 Axes>"
            ]
          },
          "metadata": {
            "tags": [],
            "needs_background": "light"
          }
        },
        {
          "output_type": "display_data",
          "data": {
            "image/png": "[encoded data removed]",
            "text/plain": [
              "<Figure size 432x288 with 1 Axes>"
            ]
          },
          "metadata": {
            "tags": [],
            "needs_background": "light"
          }
        }
      ]
    },
    {
      "cell_type": "markdown",
      "metadata": {
        "id": "LpDq7zh_QQ6k"
      },
      "source": [
        "# Optional - The Best model:\n",
        "\n",
        "Try different networks and parameters and create the most accurate model."
      ]
    },
    {
      "cell_type": "code",
      "metadata": {
        "id": "Io5EV5QPQZcb"
      },
      "source": [
        "# Reloading the Fashion Mnist dataset:\r\n",
        "\r\n",
        "(X_train, X_test), (y_train, y_test) = fashion_mnist.load_data()"
      ],
      "execution_count": 58,
      "outputs": []
    },
    {
      "cell_type": "code",
      "metadata": {
        "colab": {
          "base_uri": "https://localhost:8080/"
        },
        "id": "3jiu_E1rbbw2",
        "outputId": "5634ecac-5fea-468f-b4ac-b2548e09da50"
      },
      "source": [
        "# Checking the shape of the train and test segments:\r\n",
        "\r\n",
        "X_train.shape, X_test.shape, y_train.shape, y_test.shape"
      ],
      "execution_count": 59,
      "outputs": [
        {
          "output_type": "execute_result",
          "data": {
            "text/plain": [
              "((60000, 28, 28), (60000,), (10000, 28, 28), (10000,))"
            ]
          },
          "metadata": {
            "tags": []
          },
          "execution_count": 59
        }
      ]
    },
    {
      "cell_type": "code",
      "metadata": {
        "colab": {
          "base_uri": "https://localhost:8080/"
        },
        "id": "tdoBom6dcNE6",
        "outputId": "e85d1d5f-e798-42e4-95c7-54fe6bd13f37"
      },
      "source": [
        "# Reshape the dataset to a one dimensional representation:\r\n",
        "\r\n",
        "n_instances = X_train.shape[0]\r\n",
        "n_row = X_train.shape[1]\r\n",
        "n_col = X_train.shape[2]\r\n",
        "\r\n",
        "n_instances, n_row, n_col"
      ],
      "execution_count": 60,
      "outputs": [
        {
          "output_type": "execute_result",
          "data": {
            "text/plain": [
              "(60000, 28, 28)"
            ]
          },
          "metadata": {
            "tags": []
          },
          "execution_count": 60
        }
      ]
    },
    {
      "cell_type": "code",
      "metadata": {
        "id": "WYOv1W2cc0gc"
      },
      "source": [
        "# Reshape the dataset:\r\n",
        "\r\n",
        "X_train = X_train.reshape(n_instances, -1)\r\n",
        "\r\n",
        "n_instances = y_train.shape[0]\r\n",
        "y_train = y_train.reshape(n_instances, -1)"
      ],
      "execution_count": 61,
      "outputs": []
    },
    {
      "cell_type": "code",
      "metadata": {
        "colab": {
          "base_uri": "https://localhost:8080/"
        },
        "id": "fYxRTLamc7Oq",
        "outputId": "4a221ad2-9a41-4e6f-c8da-508258336f4c"
      },
      "source": [
        "# Print the new shape:\r\n",
        "\r\n",
        "X_train.shape, X_test.shape, y_train.shape, y_test.shape"
      ],
      "execution_count": 62,
      "outputs": [
        {
          "output_type": "execute_result",
          "data": {
            "text/plain": [
              "((60000, 784), (60000,), (10000, 784), (10000,))"
            ]
          },
          "metadata": {
            "tags": []
          },
          "execution_count": 62
        }
      ]
    },
    {
      "cell_type": "code",
      "metadata": {
        "id": "fi2lXlufc9he"
      },
      "source": [
        "# Artificially inserting RGB element on the dataset images:\r\n",
        "\r\n",
        "X_train = np.dstack([X_train] * 3)\r\n",
        "y_train = np.dstack([y_train] * 3)"
      ],
      "execution_count": 63,
      "outputs": []
    },
    {
      "cell_type": "code",
      "metadata": {
        "colab": {
          "base_uri": "https://localhost:8080/"
        },
        "id": "WvDT1cKZfNZB",
        "outputId": "ef576608-417a-4f33-fef3-c290700ba852"
      },
      "source": [
        "# Checking the result from the np.dstack function:\r\n",
        "\r\n",
        "X_train.shape, y_train.shape"
      ],
      "execution_count": 64,
      "outputs": [
        {
          "output_type": "execute_result",
          "data": {
            "text/plain": [
              "((60000, 784, 3), (10000, 784, 3))"
            ]
          },
          "metadata": {
            "tags": []
          },
          "execution_count": 64
        }
      ]
    },
    {
      "cell_type": "code",
      "metadata": {
        "id": "uiphivJUfbyr"
      },
      "source": [
        "# Returning the dimensionality of images to the initial state:\r\n",
        "\r\n",
        "X_train = X_train.reshape(-1, 28, 28, 3)\r\n",
        "y_train = y_train.reshape(-1, 28, 28, 3)"
      ],
      "execution_count": 65,
      "outputs": []
    },
    {
      "cell_type": "code",
      "metadata": {
        "colab": {
          "base_uri": "https://localhost:8080/"
        },
        "id": "w-R6bkEAf0CS",
        "outputId": "f4282080-1968-429e-838e-023b56f50615"
      },
      "source": [
        "# Checking the shape of the newest dataset segments:\r\n",
        "\r\n",
        "X_train.shape, y_train.shape"
      ],
      "execution_count": 66,
      "outputs": [
        {
          "output_type": "execute_result",
          "data": {
            "text/plain": [
              "((60000, 28, 28, 3), (10000, 28, 28, 3))"
            ]
          },
          "metadata": {
            "tags": []
          },
          "execution_count": 66
        }
      ]
    },
    {
      "cell_type": "code",
      "metadata": {
        "id": "bnshFXV6gAnL"
      },
      "source": [
        "# Changing the size of the images with, from keras_preprocessing.image import img_to_array, array_to_img:\r\n",
        "\r\n",
        "X_train = np.asarray([img_to_array(array_to_img(im, scale = False).resize((32, 32))) for im in X_train])\r\n",
        "y_train = np.asarray([img_to_array(array_to_img(im, scale = False).resize((32, 32))) for im in y_train])"
      ],
      "execution_count": 67,
      "outputs": []
    },
    {
      "cell_type": "code",
      "metadata": {
        "colab": {
          "base_uri": "https://localhost:8080/"
        },
        "id": "NI-p1bzdg9GL",
        "outputId": "f454af31-8875-4abc-ffe0-bcea213b8b15"
      },
      "source": [
        "# Checking the final shape of the re-engineered dataset:\r\n",
        "\r\n",
        "X_train.shape, y_train.shape"
      ],
      "execution_count": 68,
      "outputs": [
        {
          "output_type": "execute_result",
          "data": {
            "text/plain": [
              "((60000, 32, 32, 3), (10000, 32, 32, 3))"
            ]
          },
          "metadata": {
            "tags": []
          },
          "execution_count": 68
        }
      ]
    },
    {
      "cell_type": "code",
      "metadata": {
        "id": "gihh8Okchr72"
      },
      "source": [
        "# Normalize the dataset as preparation for CNN model:\r\n",
        "\r\n",
        "# Changing the type of the instances:\r\n",
        "X_train = X_train.astype('float32')\r\n",
        "y_train = y_train.astype('float32')\r\n",
        "\r\n",
        "# Dividing in order to obtain range of values between 0 and 1:\r\n",
        "X_train = X_train / 255.0\r\n",
        "y_train = y_train/ 255.0"
      ],
      "execution_count": 69,
      "outputs": []
    },
    {
      "cell_type": "code",
      "metadata": {
        "id": "pdy9noZ6j2UP"
      },
      "source": [
        "# Create VGG16 pretrained model object:\r\n",
        "\r\n",
        "conv_base = VGG16(weights = 'imagenet', include_top = False, input_shape = (32, 32, 3))"
      ],
      "execution_count": 70,
      "outputs": []
    },
    {
      "cell_type": "code",
      "metadata": {
        "colab": {
          "base_uri": "https://localhost:8080/"
        },
        "id": "cuIxnqSplw76",
        "outputId": "b687acee-9de7-4c38-f905-f4cfeb3bc01a"
      },
      "source": [
        "# Print the summary of VGG16:\r\n",
        "\r\n",
        "conv_base.summary()"
      ],
      "execution_count": 71,
      "outputs": [
        {
          "output_type": "stream",
          "text": [
            "Model: \"vgg16\"\n",
            "_________________________________________________________________\n",
            "Layer (type)                 Output Shape              Param #   \n",
            "=================================================================\n",
            "input_1 (InputLayer)         [(None, 32, 32, 3)]       0         \n",
            "_________________________________________________________________\n",
            "block1_conv1 (Conv2D)        (None, 32, 32, 64)        1792      \n",
            "_________________________________________________________________\n",
            "block1_conv2 (Conv2D)        (None, 32, 32, 64)        36928     \n",
            "_________________________________________________________________\n",
            "block1_pool (MaxPooling2D)   (None, 16, 16, 64)        0         \n",
            "_________________________________________________________________\n",
            "block2_conv1 (Conv2D)        (None, 16, 16, 128)       73856     \n",
            "_________________________________________________________________\n",
            "block2_conv2 (Conv2D)        (None, 16, 16, 128)       147584    \n",
            "_________________________________________________________________\n",
            "block2_pool (MaxPooling2D)   (None, 8, 8, 128)         0         \n",
            "_________________________________________________________________\n",
            "block3_conv1 (Conv2D)        (None, 8, 8, 256)         295168    \n",
            "_________________________________________________________________\n",
            "block3_conv2 (Conv2D)        (None, 8, 8, 256)         590080    \n",
            "_________________________________________________________________\n",
            "block3_conv3 (Conv2D)        (None, 8, 8, 256)         590080    \n",
            "_________________________________________________________________\n",
            "block3_pool (MaxPooling2D)   (None, 4, 4, 256)         0         \n",
            "_________________________________________________________________\n",
            "block4_conv1 (Conv2D)        (None, 4, 4, 512)         1180160   \n",
            "_________________________________________________________________\n",
            "block4_conv2 (Conv2D)        (None, 4, 4, 512)         2359808   \n",
            "_________________________________________________________________\n",
            "block4_conv3 (Conv2D)        (None, 4, 4, 512)         2359808   \n",
            "_________________________________________________________________\n",
            "block4_pool (MaxPooling2D)   (None, 2, 2, 512)         0         \n",
            "_________________________________________________________________\n",
            "block5_conv1 (Conv2D)        (None, 2, 2, 512)         2359808   \n",
            "_________________________________________________________________\n",
            "block5_conv2 (Conv2D)        (None, 2, 2, 512)         2359808   \n",
            "_________________________________________________________________\n",
            "block5_conv3 (Conv2D)        (None, 2, 2, 512)         2359808   \n",
            "_________________________________________________________________\n",
            "block5_pool (MaxPooling2D)   (None, 1, 1, 512)         0         \n",
            "=================================================================\n",
            "Total params: 14,714,688\n",
            "Trainable params: 14,714,688\n",
            "Non-trainable params: 0\n",
            "_________________________________________________________________\n"
          ],
          "name": "stdout"
        }
      ]
    },
    {
      "cell_type": "code",
      "metadata": {
        "colab": {
          "base_uri": "https://localhost:8080/"
        },
        "id": "DVrewgxwVfv_",
        "outputId": "6568fac7-4795-408a-9d9e-c5476cd096cb"
      },
      "source": [
        "# Before we compile and train our model, a very important thing to do is to freeze the convolutional base:\r\n",
        "\r\n",
        "# Freeze four convolution blocks: \r\n",
        "for layer in conv_base.layers[:11]:\r\n",
        "    layer.trainable = False\r\n",
        "\r\n",
        "# Make sure you have frozen the correct layers:\r\n",
        "for i, layer in enumerate(conv_base.layers):\r\n",
        "    print(i, layer.name, layer.trainable)"
      ],
      "execution_count": 72,
      "outputs": [
        {
          "output_type": "stream",
          "text": [
            "0 input_1 False\n",
            "1 block1_conv1 False\n",
            "2 block1_conv2 False\n",
            "3 block1_pool False\n",
            "4 block2_conv1 False\n",
            "5 block2_conv2 False\n",
            "6 block2_pool False\n",
            "7 block3_conv1 False\n",
            "8 block3_conv2 False\n",
            "9 block3_conv3 False\n",
            "10 block3_pool False\n",
            "11 block4_conv1 True\n",
            "12 block4_conv2 True\n",
            "13 block4_conv3 True\n",
            "14 block4_pool True\n",
            "15 block5_conv1 True\n",
            "16 block5_conv2 True\n",
            "17 block5_conv3 True\n",
            "18 block5_pool True\n"
          ],
          "name": "stdout"
        }
      ]
    },
    {
      "cell_type": "code",
      "metadata": {
        "colab": {
          "base_uri": "https://localhost:8080/"
        },
        "id": "7Ph5XY0Ul3Vu",
        "outputId": "c4722a61-d027-4af9-d469-7dd8920d9b74"
      },
      "source": [
        "# Create CNN model object with inserted VGG16 trained network:\r\n",
        "\r\n",
        "# Creating the Sequential model:\r\n",
        "model3 = models.Sequential()\r\n",
        "\r\n",
        "# Inserting the VGG16 trained network:\r\n",
        "model3.add(conv_base)\r\n",
        "\r\n",
        "# Inserting flatten layer:\r\n",
        "model3.add(layers.Flatten())\r\n",
        "\r\n",
        "# Inserting dense layer:\r\n",
        "model3.add(layers.Dense(256, activation='relu'))\r\n",
        "\r\n",
        "# Final layer:\r\n",
        "model3.add(layers.Dense(10, activation='softmax'))\r\n",
        "model3.summary()"
      ],
      "execution_count": 73,
      "outputs": [
        {
          "output_type": "stream",
          "text": [
            "Model: \"sequential_2\"\n",
            "_________________________________________________________________\n",
            "Layer (type)                 Output Shape              Param #   \n",
            "=================================================================\n",
            "vgg16 (Functional)           (None, 1, 1, 512)         14714688  \n",
            "_________________________________________________________________\n",
            "flatten_2 (Flatten)          (None, 512)               0         \n",
            "_________________________________________________________________\n",
            "dense_4 (Dense)              (None, 256)               131328    \n",
            "_________________________________________________________________\n",
            "dense_5 (Dense)              (None, 10)                2570      \n",
            "=================================================================\n",
            "Total params: 14,848,586\n",
            "Trainable params: 13,113,098\n",
            "Non-trainable params: 1,735,488\n",
            "_________________________________________________________________\n"
          ],
          "name": "stdout"
        }
      ]
    },
    {
      "cell_type": "code",
      "metadata": {
        "id": "TReT-2rkm2-V"
      },
      "source": [
        "# Compiling the CNN model object with inserted VGG16 trained network:\r\n",
        "\r\n",
        "model3.compile(loss = 'sparse_categorical_crossentropy', optimizer = 'Adamax', metrics = ['accuracy'])"
      ],
      "execution_count": 74,
      "outputs": []
    },
    {
      "cell_type": "code",
      "metadata": {
        "id": "B0knQSa-nyQn"
      },
      "source": [
        "# Setting the model:\r\n",
        "\r\n",
        "path = 'best_model_third.pt'\r\n",
        "\r\n",
        "# ModelCheckpoint monitoring:\r\n",
        "callback_1 = ModelCheckpoint(path, monitor = 'val_accuracy', save_best_only = True, mode = 'max', verbose = 1)"
      ],
      "execution_count": 75,
      "outputs": []
    },
    {
      "cell_type": "code",
      "metadata": {
        "colab": {
          "base_uri": "https://localhost:8080/"
        },
        "id": "NaCk_5OsoCPF",
        "outputId": "cef9b21f-fa72-4f10-d55f-058c0262141f"
      },
      "source": [
        "# Training the model:\r\n",
        "\r\n",
        "val_data = (y_train, y_test)\r\n",
        "\r\n",
        "train_history3 = model3.fit(X_train, \r\n",
        "                            X_test, \r\n",
        "                            validation_data = val_data, \r\n",
        "                            epochs = 16, \r\n",
        "                            batch_size = 64,\r\n",
        "                            callbacks = callback_1)\r\n",
        "\r\n",
        "print('Training Finished')"
      ],
      "execution_count": 76,
      "outputs": [
        {
          "output_type": "stream",
          "text": [
            "Epoch 1/16\n",
            "938/938 [==============================] - 18s 18ms/step - loss: 0.7356 - accuracy: 0.7207 - val_loss: 0.3188 - val_accuracy: 0.8856\n",
            "\n",
            "Epoch 00001: val_accuracy improved from -inf to 0.88560, saving model to best_model_third.pt\n",
            "INFO:tensorflow:Assets written to: best_model_third.pt/assets\n",
            "Epoch 2/16\n",
            "938/938 [==============================] - 16s 18ms/step - loss: 0.2926 - accuracy: 0.8953 - val_loss: 0.3212 - val_accuracy: 0.8921\n",
            "\n",
            "Epoch 00002: val_accuracy improved from 0.88560 to 0.89210, saving model to best_model_third.pt\n",
            "INFO:tensorflow:Assets written to: best_model_third.pt/assets\n",
            "Epoch 3/16\n",
            "938/938 [==============================] - 16s 18ms/step - loss: 0.2477 - accuracy: 0.9114 - val_loss: 0.2977 - val_accuracy: 0.8920\n",
            "\n",
            "Epoch 00003: val_accuracy did not improve from 0.89210\n",
            "Epoch 4/16\n",
            "938/938 [==============================] - 16s 18ms/step - loss: 0.2187 - accuracy: 0.9203 - val_loss: 0.2752 - val_accuracy: 0.9029\n",
            "\n",
            "Epoch 00004: val_accuracy improved from 0.89210 to 0.90290, saving model to best_model_third.pt\n",
            "INFO:tensorflow:Assets written to: best_model_third.pt/assets\n",
            "Epoch 5/16\n",
            "938/938 [==============================] - 16s 18ms/step - loss: 0.1994 - accuracy: 0.9304 - val_loss: 0.2414 - val_accuracy: 0.9160\n",
            "\n",
            "Epoch 00005: val_accuracy improved from 0.90290 to 0.91600, saving model to best_model_third.pt\n",
            "INFO:tensorflow:Assets written to: best_model_third.pt/assets\n",
            "Epoch 6/16\n",
            "938/938 [==============================] - 17s 18ms/step - loss: 0.1808 - accuracy: 0.9346 - val_loss: 0.2330 - val_accuracy: 0.9231\n",
            "\n",
            "Epoch 00006: val_accuracy improved from 0.91600 to 0.92310, saving model to best_model_third.pt\n",
            "INFO:tensorflow:Assets written to: best_model_third.pt/assets\n",
            "Epoch 7/16\n",
            "938/938 [==============================] - 17s 18ms/step - loss: 0.1629 - accuracy: 0.9418 - val_loss: 0.2336 - val_accuracy: 0.9183\n",
            "\n",
            "Epoch 00007: val_accuracy did not improve from 0.92310\n",
            "Epoch 8/16\n",
            "938/938 [==============================] - 17s 18ms/step - loss: 0.1430 - accuracy: 0.9471 - val_loss: 0.2442 - val_accuracy: 0.9237\n",
            "\n",
            "Epoch 00008: val_accuracy improved from 0.92310 to 0.92370, saving model to best_model_third.pt\n",
            "INFO:tensorflow:Assets written to: best_model_third.pt/assets\n",
            "Epoch 9/16\n",
            "938/938 [==============================] - 17s 18ms/step - loss: 0.1316 - accuracy: 0.9501 - val_loss: 0.2570 - val_accuracy: 0.9152\n",
            "\n",
            "Epoch 00009: val_accuracy did not improve from 0.92370\n",
            "Epoch 10/16\n",
            "938/938 [==============================] - 17s 18ms/step - loss: 0.1163 - accuracy: 0.9575 - val_loss: 0.3181 - val_accuracy: 0.9247\n",
            "\n",
            "Epoch 00010: val_accuracy improved from 0.92370 to 0.92470, saving model to best_model_third.pt\n",
            "INFO:tensorflow:Assets written to: best_model_third.pt/assets\n",
            "Epoch 11/16\n",
            "938/938 [==============================] - 17s 18ms/step - loss: 0.1021 - accuracy: 0.9626 - val_loss: 0.2851 - val_accuracy: 0.9223\n",
            "\n",
            "Epoch 00011: val_accuracy did not improve from 0.92470\n",
            "Epoch 12/16\n",
            "938/938 [==============================] - 17s 18ms/step - loss: 0.0896 - accuracy: 0.9665 - val_loss: 0.2985 - val_accuracy: 0.9238\n",
            "\n",
            "Epoch 00012: val_accuracy did not improve from 0.92470\n",
            "Epoch 13/16\n",
            "938/938 [==============================] - 17s 18ms/step - loss: 0.0762 - accuracy: 0.9712 - val_loss: 0.3198 - val_accuracy: 0.9202\n",
            "\n",
            "Epoch 00013: val_accuracy did not improve from 0.92470\n",
            "Epoch 14/16\n",
            "938/938 [==============================] - 17s 18ms/step - loss: 0.0722 - accuracy: 0.9734 - val_loss: 0.3196 - val_accuracy: 0.9222\n",
            "\n",
            "Epoch 00014: val_accuracy did not improve from 0.92470\n",
            "Epoch 15/16\n",
            "938/938 [==============================] - 17s 18ms/step - loss: 0.0607 - accuracy: 0.9779 - val_loss: 0.3552 - val_accuracy: 0.9183\n",
            "\n",
            "Epoch 00015: val_accuracy did not improve from 0.92470\n",
            "Epoch 16/16\n",
            "938/938 [==============================] - 16s 18ms/step - loss: 0.0546 - accuracy: 0.9794 - val_loss: 0.3434 - val_accuracy: 0.9259\n",
            "\n",
            "Epoch 00016: val_accuracy improved from 0.92470 to 0.92590, saving model to best_model_third.pt\n",
            "INFO:tensorflow:Assets written to: best_model_third.pt/assets\n",
            "Training Finished\n"
          ],
          "name": "stdout"
        }
      ]
    },
    {
      "cell_type": "code",
      "metadata": {
        "id": "1x-Mp5y-oV2Y"
      },
      "source": [
        "# Loading the best model 'best_model_second.pt':\r\n",
        "\r\n",
        "m3 = load_model('/content/best_model_third.pt')"
      ],
      "execution_count": 77,
      "outputs": []
    },
    {
      "cell_type": "code",
      "metadata": {
        "colab": {
          "base_uri": "https://localhost:8080/"
        },
        "id": "O6jLUURzwKvT",
        "outputId": "26d6b3c2-7097-4c1d-c40f-9e5f167c2974"
      },
      "source": [
        "# Final evaluation of the model:\r\n",
        "\r\n",
        "score = m3.evaluate(y_train, y_test, verbose = 0)\r\n",
        "\r\n",
        "print('Accuracy: %.2f%%' % (score[1]*100))"
      ],
      "execution_count": 78,
      "outputs": [
        {
          "output_type": "stream",
          "text": [
            "Accuracy: 92.59%\n"
          ],
          "name": "stdout"
        }
      ]
    },
    {
      "cell_type": "code",
      "metadata": {
        "id": "GfSh7iawwTBY"
      },
      "source": [
        "# Making predictions with the model:\r\n",
        "\r\n",
        "predictions3 = m3.predict(y_train)"
      ],
      "execution_count": 79,
      "outputs": []
    },
    {
      "cell_type": "code",
      "metadata": {
        "colab": {
          "base_uri": "https://localhost:8080/"
        },
        "id": "esFVgfTtxLAv",
        "outputId": "0f212584-7dde-40a7-ef69-8b83691e00f1"
      },
      "source": [
        "print('Prediction for 10th image is: ', np.argmax(predictions3[9]))"
      ],
      "execution_count": 80,
      "outputs": [
        {
          "output_type": "stream",
          "text": [
            "Prediction for 10th image is:  7\n"
          ],
          "name": "stdout"
        }
      ]
    },
    {
      "cell_type": "code",
      "metadata": {
        "colab": {
          "base_uri": "https://localhost:8080/"
        },
        "id": "6ITazpKjxSMB",
        "outputId": "cc100a4d-e6f8-46d8-d631-40795682472f"
      },
      "source": [
        "print('Actual label for 10th image is: ', y_test[9])"
      ],
      "execution_count": 81,
      "outputs": [
        {
          "output_type": "stream",
          "text": [
            "Actual label for 10th image is:  7\n"
          ],
          "name": "stdout"
        }
      ]
    },
    {
      "cell_type": "code",
      "metadata": {
        "colab": {
          "base_uri": "https://localhost:8080/"
        },
        "id": "UrkJkJP1x2WD",
        "outputId": "5c314672-16a9-40ab-ea40-cb7c41346915"
      },
      "source": [
        "# Evaluating 'best_model_third.pt':\r\n",
        "\r\n",
        "print('=====Evaluation Best_Model_Third.pt=====')\r\n",
        "print_classification_report(y_test, np.argmax(predictions3, axis = 1), class_names)"
      ],
      "execution_count": 82,
      "outputs": [
        {
          "output_type": "stream",
          "text": [
            "=====Evaluation Best_Model_Third.pt=====\n",
            "Confusion matrix\n",
            "[[868   1  16  18   3   1  87   0   6   0]\n",
            " [  1 985   0  10   0   0   3   0   1   0]\n",
            " [ 13   0 888   7  41   0  51   0   0   0]\n",
            " [ 11   1  11 929  27   0  19   0   1   1]\n",
            " [  1   1  47  30 886   0  35   0   0   0]\n",
            " [  0   0   0   0   0 992   0   5   0   3]\n",
            " [ 95   1  45  20  59   0 774   0   6   0]\n",
            " [  0   0   0   0   0   9   0 982   0   9]\n",
            " [  2   0   0   3   1   1   1   1 990   1]\n",
            " [  0   0   0   0   0   3   1  31   0 965]]\n",
            "\n",
            "              precision    recall  f1-score   support\n",
            "\n",
            " T-shirt/top       0.88      0.87      0.87      1000\n",
            "     Trouser       1.00      0.98      0.99      1000\n",
            "    Pullover       0.88      0.89      0.88      1000\n",
            "       Dress       0.91      0.93      0.92      1000\n",
            "        Coat       0.87      0.89      0.88      1000\n",
            "      Sandal       0.99      0.99      0.99      1000\n",
            "       Shirt       0.80      0.77      0.79      1000\n",
            "     Sneaker       0.96      0.98      0.97      1000\n",
            "         Bag       0.99      0.99      0.99      1000\n",
            "  Ankle boot       0.99      0.96      0.98      1000\n",
            "\n",
            "    accuracy                           0.93     10000\n",
            "   macro avg       0.93      0.93      0.93     10000\n",
            "weighted avg       0.93      0.93      0.93     10000\n",
            "\n"
          ],
          "name": "stdout"
        }
      ]
    },
    {
      "cell_type": "code",
      "metadata": {
        "colab": {
          "base_uri": "https://localhost:8080/",
          "height": 279
        },
        "id": "XqsNXKJ6yLMx",
        "outputId": "e968fdb2-7820-4d26-fd31-6cc07b5725ea"
      },
      "source": [
        "# Visualizing the learning curves of CNN model with transfer learning object nested:\r\n",
        "\r\n",
        "plt.plot(train_history3.history['accuracy'], label = 'best_model_third train')\r\n",
        "plt.plot(train_history3.history['val_accuracy'], label = 'best_model_third validation')\r\n",
        "\r\n",
        "plt.legend()\r\n",
        "plt.grid()\r\n",
        "plt.ylabel('accuracy')\r\n",
        "plt.xlabel('epoch')\r\n",
        "plt.show()"
      ],
      "execution_count": 83,
      "outputs": [
        {
          "output_type": "display_data",
          "data": {
            "image/png": "[encoded data removed]",
            "text/plain": [
              "<Figure size 432x288 with 1 Axes>"
            ]
          },
          "metadata": {
            "tags": [],
            "needs_background": "light"
          }
        }
      ]
    },
    {
      "cell_type": "markdown",
      "metadata": {
        "id": "SAt-AqOHEjJV"
      },
      "source": [
        "## Summary on Transfer Learning:\r\n",
        "\r\n",
        "In our best model we tried to use VGG16 pretrained neural network as nested object in our CNN model. What we expected from this action was increase in accuracy of our model predictions based on the fact that VGG16 is already highly trained neural network. \r\n",
        "\r\n",
        "- First, that was not the case, with all our attempts to achieve our goal (greater accuracy) we had little success in doing so. To explain, we traid to start as convencional as possible with completely freezes conv_base model, yet we did not manage to increase our accuracy, moreover the model loss on accuracy by 1,5 % taking in consideration our less accurate model.\r\n",
        "\r\n",
        "- Next, we unfreeze layer No. 5 from our conv_base model in order to try and train this segment on our training dataset in order to intervene in summarization stage of conv base model. But our accuracy moved a nich up that is 1%, again far from where we expected to be with this setting.\r\n",
        "\r\n",
        "- Finally, we unfreeze layer No. 4 and 5 from our conv_base model and we increase the number of epochs to 16 and what we manage to get is 93% accuracy which we have already achieved with our first model.\r\n",
        "\r\n",
        "Overall, that are more options to be explore here with this setting of VGG16, but safest bet is to change the transfer learning model with different pretrained neural network, although that is not the goal of this workshop.  "
      ]
    },
    {
      "cell_type": "code",
      "metadata": {
        "id": "oB81n7EhFVIC"
      },
      "source": [
        ""
      ],
      "execution_count": null,
      "outputs": []
    }
  ]
}